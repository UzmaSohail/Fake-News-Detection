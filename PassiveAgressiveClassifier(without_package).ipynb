{
  "nbformat": 4,
  "nbformat_minor": 0,
  "metadata": {
    "colab": {
      "provenance": []
    },
    "kernelspec": {
      "name": "python3",
      "display_name": "Python 3"
    },
    "language_info": {
      "name": "python"
    }
  },
  "cells": [
    {
      "cell_type": "code",
      "source": [
        "\n",
        "# Mount Google Drive\n",
        "from google.colab import drive\n",
        "drive.mount('/content/drive')\n",
        "\n",
        "# Load dataset from Google Drive\n",
        "data_path = '/content/drive/My Drive/train.csv'  # Update this path if needed\n",
        "data = pd.read_csv(data_path)"
      ],
      "metadata": {
        "id": "13ffhHww9hsE"
      },
      "execution_count": null,
      "outputs": []
    },
    {
      "cell_type": "code",
      "execution_count": 11,
      "metadata": {
        "id": "dpXxtiTP5NNA"
      },
      "outputs": [],
      "source": [
        "import numpy as np\n",
        "import pandas as pd\n",
        "from sklearn.model_selection import train_test_split\n",
        "from sklearn.feature_extraction.text import TfidfVectorizer\n",
        "from sklearn.metrics import confusion_matrix\n",
        "class PassiveAggressiveClassifier:\n",
        "    def __init__(self, max_iter=1000):\n",
        "        self.max_iter = max_iter\n",
        "        self.weights = None\n",
        "        self.bias = 0\n",
        "\n",
        "    def fit(self, X, y):\n",
        "        n_samples, n_features = X.shape\n",
        "        self.weights = np.zeros(n_features)\n",
        "\n",
        "        for _ in range(self.max_iter):\n",
        "            for idx, x_i in enumerate(X):\n",
        "                # Calculate the margin\n",
        "                margin = y[idx] * (np.dot(x_i, self.weights) + self.bias)\n",
        "\n",
        "                # Compute the hinge loss\n",
        "                loss = max(0, 1 - margin)\n",
        "\n",
        "                if loss > 0:\n",
        "                    # Update step size\n",
        "                    tau = loss / (np.linalg.norm(x_i) ** 2)\n",
        "\n",
        "                    # Update weights and bias\n",
        "                    self.weights += tau * y[idx] * x_i\n",
        "                    self.bias += tau * y[idx]\n",
        "\n",
        "    def predict(self, X):\n",
        "        return np.sign(np.dot(X, self.weights) + self.bias)\n",
        "\n",
        "\n",
        "# Handle NaN values in the 'text' column by filling them with empty strings\n",
        "data['text'].fillna('', inplace=True)\n",
        "\n",
        "# Reduce dataset to 500 samples\n",
        "data = data.sample(n=500, random_state=42)\n",
        "\n",
        "# Using 'text' as features and 'label' as target\n",
        "X = data['text'].values\n",
        "y = data['label'].values\n",
        "\n",
        "# Convert labels to +1 and -1 (assuming binary classification with labels 1 and 0)\n",
        "y = np.where(y == 1, 1, -1)\n",
        "\n",
        "# Vectorize the text data\n",
        "vectorizer = TfidfVectorizer()\n",
        "X_vect = vectorizer.fit_transform(X).toarray()\n",
        "\n",
        "# Split the data into training and testing sets\n",
        "X_train, X_test, y_train, y_test = train_test_split(X_vect, y, test_size=0.2, random_state=42)\n",
        "\n",
        "# Initialize and train the classifier\n",
        "pa = PassiveAggressiveClassifier(max_iter=1000)\n",
        "pa.fit(X_train, y_train)\n",
        "\n"
      ]
    },
    {
      "cell_type": "code",
      "source": [
        "\n",
        "import seaborn as sns\n",
        "import matplotlib.pyplot as plt\n",
        "# Test the classifier\n",
        "predictions = pa.predict(X_test)\n",
        "# Calculate accuracy\n",
        "accuracy = np.mean(predictions == y_test)\n",
        "print(\"Accuracy:\", accuracy)\n",
        "\n",
        "cm = confusion_matrix(y_test, predictions)\n",
        "\n",
        "# Plot confusion matrix\n",
        "plt.figure(figsize=(8, 6))\n",
        "sns.heatmap(cm, annot=True, fmt='d', cmap='Blues', xticklabels=['Negative', 'Positive'], yticklabels=['Negative', 'Positive'])\n",
        "plt.xlabel('Predicted')\n",
        "plt.ylabel('Actual')\n",
        "plt.title('Confusion Matrix')\n",
        "plt.show()\n"
      ],
      "metadata": {
        "colab": {
          "base_uri": "https://localhost:8080/",
          "height": 581
        },
        "id": "fktb0wRY-P3x",
        "outputId": "92de4261-ac0d-4fcf-94fe-793453f9b6dd"
      },
      "execution_count": 18,
      "outputs": [
        {
          "output_type": "stream",
          "name": "stdout",
          "text": [
            "Accuracy: 0.82\n"
          ]
        },
        {
          "output_type": "display_data",
          "data": {
            "text/plain": [
              "<Figure size 800x600 with 2 Axes>"
            ],
            "image/png": "[encoded data removed]"
          },
          "metadata": {}
        }
      ]
    },
    {
      "cell_type": "code",
      "source": [
        "# Example usage for new input\n",
        "new_input = [\"Sample news text for prediction\"]  # Replace with your new input text\n",
        "new_input_vect = vectorizer.transform(new_input).toarray()\n",
        "new_predictions = pa.predict(new_input_vect)\n",
        "if (new_predictions[0]==0):\n",
        "     print('The news is Real')\n",
        "else:\n",
        "     print('The news is Fake')\n",
        "\n"
      ],
      "metadata": {
        "colab": {
          "base_uri": "https://localhost:8080/"
        },
        "id": "QhQh9qbu6Jr5",
        "outputId": "7202c070-b592-43a5-e424-26dd4d965e90"
      },
      "execution_count": 8,
      "outputs": [
        {
          "output_type": "stream",
          "name": "stdout",
          "text": [
            "The news is Fake\n"
          ]
        }
      ]
    }
  ]
}