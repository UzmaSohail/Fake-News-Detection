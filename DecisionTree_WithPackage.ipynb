{
 "cells": [
  {
   "cell_type": "code",
   "execution_count": 3,
   "metadata": {},
   "outputs": [
    {
     "name": "stdout",
     "output_type": "stream",
     "text": [
      "Defaulting to user installation because normal site-packages is not writeable\n",
      "Requirement already satisfied: numpy in c:\\users\\hp\\appdata\\roaming\\python\\python312\\site-packages (2.0.0)\n",
      "Note: you may need to restart the kernel to use updated packages.\n"
     ]
    }
   ],
   "source": [
    "pip install numpy\n"
   ]
  },
  {
   "cell_type": "code",
   "execution_count": 4,
   "metadata": {},
   "outputs": [
    {
     "name": "stdout",
     "output_type": "stream",
     "text": [
      "Defaulting to user installation because normal site-packages is not writeable\n",
      "Requirement already satisfied: pandas in c:\\users\\hp\\appdata\\roaming\\python\\python312\\site-packages (2.2.2)\n",
      "Requirement already satisfied: numpy>=1.26.0 in c:\\users\\hp\\appdata\\roaming\\python\\python312\\site-packages (from pandas) (2.0.0)\n",
      "Requirement already satisfied: python-dateutil>=2.8.2 in c:\\users\\hp\\appdata\\roaming\\python\\python312\\site-packages (from pandas) (2.9.0.post0)\n",
      "Requirement already satisfied: pytz>=2020.1 in c:\\users\\hp\\appdata\\roaming\\python\\python312\\site-packages (from pandas) (2024.1)\n",
      "Requirement already satisfied: tzdata>=2022.7 in c:\\users\\hp\\appdata\\roaming\\python\\python312\\site-packages (from pandas) (2024.1)\n",
      "Requirement already satisfied: six>=1.5 in c:\\users\\hp\\appdata\\roaming\\python\\python312\\site-packages (from python-dateutil>=2.8.2->pandas) (1.16.0)\n",
      "Note: you may need to restart the kernel to use updated packages.\n"
     ]
    }
   ],
   "source": [
    "pip install pandas"
   ]
  },
  {
   "cell_type": "code",
   "execution_count": 5,
   "metadata": {},
   "outputs": [
    {
     "name": "stdout",
     "output_type": "stream",
     "text": [
      "Defaulting to user installation because normal site-packages is not writeable\n",
      "Requirement already satisfied: matplotlib in c:\\users\\hp\\appdata\\roaming\\python\\python312\\site-packages (3.9.0)\n",
      "Requirement already satisfied: contourpy>=1.0.1 in c:\\users\\hp\\appdata\\roaming\\python\\python312\\site-packages (from matplotlib) (1.2.1)\n",
      "Requirement already satisfied: cycler>=0.10 in c:\\users\\hp\\appdata\\roaming\\python\\python312\\site-packages (from matplotlib) (0.12.1)\n",
      "Requirement already satisfied: fonttools>=4.22.0 in c:\\users\\hp\\appdata\\roaming\\python\\python312\\site-packages (from matplotlib) (4.53.0)\n",
      "Requirement already satisfied: kiwisolver>=1.3.1 in c:\\users\\hp\\appdata\\roaming\\python\\python312\\site-packages (from matplotlib) (1.4.5)\n",
      "Requirement already satisfied: numpy>=1.23 in c:\\users\\hp\\appdata\\roaming\\python\\python312\\site-packages (from matplotlib) (2.0.0)\n",
      "Requirement already satisfied: packaging>=20.0 in c:\\users\\hp\\appdata\\roaming\\python\\python312\\site-packages (from matplotlib) (24.1)\n",
      "Requirement already satisfied: pillow>=8 in c:\\users\\hp\\appdata\\roaming\\python\\python312\\site-packages (from matplotlib) (10.3.0)\n",
      "Requirement already satisfied: pyparsing>=2.3.1 in c:\\users\\hp\\appdata\\roaming\\python\\python312\\site-packages (from matplotlib) (3.1.2)\n",
      "Requirement already satisfied: python-dateutil>=2.7 in c:\\users\\hp\\appdata\\roaming\\python\\python312\\site-packages (from matplotlib) (2.9.0.post0)\n",
      "Requirement already satisfied: six>=1.5 in c:\\users\\hp\\appdata\\roaming\\python\\python312\\site-packages (from python-dateutil>=2.7->matplotlib) (1.16.0)\n",
      "Note: you may need to restart the kernel to use updated packages.\n"
     ]
    }
   ],
   "source": [
    "pip install matplotlib"
   ]
  },
  {
   "cell_type": "code",
   "execution_count": 6,
   "metadata": {},
   "outputs": [
    {
     "name": "stdout",
     "output_type": "stream",
     "text": [
      "Defaulting to user installation because normal site-packages is not writeable\n",
      "Requirement already satisfied: nltk in c:\\users\\hp\\appdata\\roaming\\python\\python312\\site-packages (3.8.1)\n",
      "Requirement already satisfied: click in c:\\users\\hp\\appdata\\roaming\\python\\python312\\site-packages (from nltk) (8.1.7)\n",
      "Requirement already satisfied: joblib in c:\\users\\hp\\appdata\\roaming\\python\\python312\\site-packages (from nltk) (1.4.2)\n",
      "Requirement already satisfied: regex>=2021.8.3 in c:\\users\\hp\\appdata\\roaming\\python\\python312\\site-packages (from nltk) (2024.5.15)\n",
      "Requirement already satisfied: tqdm in c:\\users\\hp\\appdata\\roaming\\python\\python312\\site-packages (from nltk) (4.66.4)\n",
      "Requirement already satisfied: colorama in c:\\users\\hp\\appdata\\roaming\\python\\python312\\site-packages (from click->nltk) (0.4.6)\n",
      "Note: you may need to restart the kernel to use updated packages.\n"
     ]
    }
   ],
   "source": [
    "\n",
    "pip install nltk\n"
   ]
  },
  {
   "cell_type": "code",
   "execution_count": 7,
   "metadata": {},
   "outputs": [
    {
     "name": "stdout",
     "output_type": "stream",
     "text": [
      "Defaulting to user installation because normal site-packages is not writeable\n",
      "Requirement already satisfied: nltk in c:\\users\\hp\\appdata\\roaming\\python\\python312\\site-packages (3.8.1)\n",
      "Requirement already satisfied: click in c:\\users\\hp\\appdata\\roaming\\python\\python312\\site-packages (from nltk) (8.1.7)\n",
      "Requirement already satisfied: joblib in c:\\users\\hp\\appdata\\roaming\\python\\python312\\site-packages (from nltk) (1.4.2)\n",
      "Requirement already satisfied: regex>=2021.8.3 in c:\\users\\hp\\appdata\\roaming\\python\\python312\\site-packages (from nltk) (2024.5.15)\n",
      "Requirement already satisfied: tqdm in c:\\users\\hp\\appdata\\roaming\\python\\python312\\site-packages (from nltk) (4.66.4)\n",
      "Requirement already satisfied: colorama in c:\\users\\hp\\appdata\\roaming\\python\\python312\\site-packages (from click->nltk) (0.4.6)\n",
      "Note: you may need to restart the kernel to use updated packages.\n"
     ]
    }
   ],
   "source": [
    "\n",
    "pip install nltk\n"
   ]
  },
  {
   "cell_type": "code",
   "execution_count": 8,
   "metadata": {},
   "outputs": [
    {
     "name": "stdout",
     "output_type": "stream",
     "text": [
      "Defaulting to user installation because normal site-packages is not writeable\n",
      "Requirement already satisfied: scikit-learn in c:\\users\\hp\\appdata\\roaming\\python\\python312\\site-packages (1.5.0)\n",
      "Requirement already satisfied: numpy>=1.19.5 in c:\\users\\hp\\appdata\\roaming\\python\\python312\\site-packages (from scikit-learn) (2.0.0)\n",
      "Requirement already satisfied: scipy>=1.6.0 in c:\\users\\hp\\appdata\\roaming\\python\\python312\\site-packages (from scikit-learn) (1.13.1)\n",
      "Requirement already satisfied: joblib>=1.2.0 in c:\\users\\hp\\appdata\\roaming\\python\\python312\\site-packages (from scikit-learn) (1.4.2)\n",
      "Requirement already satisfied: threadpoolctl>=3.1.0 in c:\\users\\hp\\appdata\\roaming\\python\\python312\\site-packages (from scikit-learn) (3.5.0)\n",
      "Note: you may need to restart the kernel to use updated packages.\n"
     ]
    }
   ],
   "source": [
    "pip install scikit-learn\n"
   ]
  },
  {
   "cell_type": "code",
   "execution_count": 9,
   "metadata": {},
   "outputs": [
    {
     "name": "stdout",
     "output_type": "stream",
     "text": [
      "Defaulting to user installation because normal site-packages is not writeable\n",
      "Requirement already satisfied: seaborn in c:\\users\\hp\\appdata\\roaming\\python\\python312\\site-packages (0.13.2)\n",
      "Requirement already satisfied: numpy!=1.24.0,>=1.20 in c:\\users\\hp\\appdata\\roaming\\python\\python312\\site-packages (from seaborn) (2.0.0)\n",
      "Requirement already satisfied: pandas>=1.2 in c:\\users\\hp\\appdata\\roaming\\python\\python312\\site-packages (from seaborn) (2.2.2)\n",
      "Requirement already satisfied: matplotlib!=3.6.1,>=3.4 in c:\\users\\hp\\appdata\\roaming\\python\\python312\\site-packages (from seaborn) (3.9.0)\n",
      "Requirement already satisfied: contourpy>=1.0.1 in c:\\users\\hp\\appdata\\roaming\\python\\python312\\site-packages (from matplotlib!=3.6.1,>=3.4->seaborn) (1.2.1)\n",
      "Requirement already satisfied: cycler>=0.10 in c:\\users\\hp\\appdata\\roaming\\python\\python312\\site-packages (from matplotlib!=3.6.1,>=3.4->seaborn) (0.12.1)\n",
      "Requirement already satisfied: fonttools>=4.22.0 in c:\\users\\hp\\appdata\\roaming\\python\\python312\\site-packages (from matplotlib!=3.6.1,>=3.4->seaborn) (4.53.0)\n",
      "Requirement already satisfied: kiwisolver>=1.3.1 in c:\\users\\hp\\appdata\\roaming\\python\\python312\\site-packages (from matplotlib!=3.6.1,>=3.4->seaborn) (1.4.5)\n",
      "Requirement already satisfied: packaging>=20.0 in c:\\users\\hp\\appdata\\roaming\\python\\python312\\site-packages (from matplotlib!=3.6.1,>=3.4->seaborn) (24.1)\n",
      "Requirement already satisfied: pillow>=8 in c:\\users\\hp\\appdata\\roaming\\python\\python312\\site-packages (from matplotlib!=3.6.1,>=3.4->seaborn) (10.3.0)\n",
      "Requirement already satisfied: pyparsing>=2.3.1 in c:\\users\\hp\\appdata\\roaming\\python\\python312\\site-packages (from matplotlib!=3.6.1,>=3.4->seaborn) (3.1.2)\n",
      "Requirement already satisfied: python-dateutil>=2.7 in c:\\users\\hp\\appdata\\roaming\\python\\python312\\site-packages (from matplotlib!=3.6.1,>=3.4->seaborn) (2.9.0.post0)\n",
      "Requirement already satisfied: pytz>=2020.1 in c:\\users\\hp\\appdata\\roaming\\python\\python312\\site-packages (from pandas>=1.2->seaborn) (2024.1)\n",
      "Requirement already satisfied: tzdata>=2022.7 in c:\\users\\hp\\appdata\\roaming\\python\\python312\\site-packages (from pandas>=1.2->seaborn) (2024.1)\n",
      "Requirement already satisfied: six>=1.5 in c:\\users\\hp\\appdata\\roaming\\python\\python312\\site-packages (from python-dateutil>=2.7->matplotlib!=3.6.1,>=3.4->seaborn) (1.16.0)\n",
      "Note: you may need to restart the kernel to use updated packages.\n"
     ]
    }
   ],
   "source": [
    "pip install seaborn"
   ]
  },
  {
   "cell_type": "code",
   "execution_count": 10,
   "metadata": {},
   "outputs": [],
   "source": [
    "import numpy as np\n",
    "import pandas as pd\n",
    "import re\n",
    "import matplotlib.pyplot as plt\n",
    "import seaborn as sns\n",
    "from nltk.corpus import stopwords\n",
    "from nltk.stem.porter import PorterStemmer\n",
    "from sklearn.feature_extraction.text import TfidfVectorizer\n",
    "from sklearn.model_selection import train_test_split\n",
    "from sklearn.tree import DecisionTreeClassifier\n",
    "from sklearn.metrics import accuracy_score, classification_report, confusion_matrix"
   ]
  },
  {
   "cell_type": "code",
   "execution_count": 11,
   "metadata": {},
   "outputs": [
    {
     "name": "stderr",
     "output_type": "stream",
     "text": [
      "[nltk_data] Downloading package stopwords to\n",
      "[nltk_data]     C:\\Users\\hp\\AppData\\Roaming\\nltk_data...\n",
      "[nltk_data]   Package stopwords is already up-to-date!\n"
     ]
    },
    {
     "data": {
      "text/plain": [
       "True"
      ]
     },
     "execution_count": 11,
     "metadata": {},
     "output_type": "execute_result"
    }
   ],
   "source": [
    "import nltk\n",
    "nltk.download('stopwords')"
   ]
  },
  {
   "cell_type": "code",
   "execution_count": 12,
   "metadata": {},
   "outputs": [
    {
     "name": "stdout",
     "output_type": "stream",
     "text": [
      "['i', 'me', 'my', 'myself', 'we', 'our', 'ours', 'ourselves', 'you', \"you're\", \"you've\", \"you'll\", \"you'd\", 'your', 'yours', 'yourself', 'yourselves', 'he', 'him', 'his', 'himself', 'she', \"she's\", 'her', 'hers', 'herself', 'it', \"it's\", 'its', 'itself', 'they', 'them', 'their', 'theirs', 'themselves', 'what', 'which', 'who', 'whom', 'this', 'that', \"that'll\", 'these', 'those', 'am', 'is', 'are', 'was', 'were', 'be', 'been', 'being', 'have', 'has', 'had', 'having', 'do', 'does', 'did', 'doing', 'a', 'an', 'the', 'and', 'but', 'if', 'or', 'because', 'as', 'until', 'while', 'of', 'at', 'by', 'for', 'with', 'about', 'against', 'between', 'into', 'through', 'during', 'before', 'after', 'above', 'below', 'to', 'from', 'up', 'down', 'in', 'out', 'on', 'off', 'over', 'under', 'again', 'further', 'then', 'once', 'here', 'there', 'when', 'where', 'why', 'how', 'all', 'any', 'both', 'each', 'few', 'more', 'most', 'other', 'some', 'such', 'no', 'nor', 'not', 'only', 'own', 'same', 'so', 'than', 'too', 'very', 's', 't', 'can', 'will', 'just', 'don', \"don't\", 'should', \"should've\", 'now', 'd', 'll', 'm', 'o', 're', 've', 'y', 'ain', 'aren', \"aren't\", 'couldn', \"couldn't\", 'didn', \"didn't\", 'doesn', \"doesn't\", 'hadn', \"hadn't\", 'hasn', \"hasn't\", 'haven', \"haven't\", 'isn', \"isn't\", 'ma', 'mightn', \"mightn't\", 'mustn', \"mustn't\", 'needn', \"needn't\", 'shan', \"shan't\", 'shouldn', \"shouldn't\", 'wasn', \"wasn't\", 'weren', \"weren't\", 'won', \"won't\", 'wouldn', \"wouldn't\"]\n"
     ]
    }
   ],
   "source": [
    "# printing the stopwords in English\n",
    "print(stopwords.words('english'))"
   ]
  },
  {
   "cell_type": "code",
   "execution_count": 13,
   "metadata": {},
   "outputs": [],
   "source": [
    "# loading the dataset to a pandas DataFrame\n",
    "news_dataset = pd.read_csv('train.csv')"
   ]
  },
  {
   "cell_type": "code",
   "execution_count": 14,
   "metadata": {},
   "outputs": [
    {
     "data": {
      "text/plain": [
       "(20800, 5)"
      ]
     },
     "execution_count": 14,
     "metadata": {},
     "output_type": "execute_result"
    }
   ],
   "source": [
    "news_dataset.shape\n"
   ]
  },
  {
   "cell_type": "code",
   "execution_count": 15,
   "metadata": {},
   "outputs": [
    {
     "data": {
      "text/html": [
       "<div>\n",
       "<style scoped>\n",
       "    .dataframe tbody tr th:only-of-type {\n",
       "        vertical-align: middle;\n",
       "    }\n",
       "\n",
       "    .dataframe tbody tr th {\n",
       "        vertical-align: top;\n",
       "    }\n",
       "\n",
       "    .dataframe thead th {\n",
       "        text-align: right;\n",
       "    }\n",
       "</style>\n",
       "<table border=\"1\" class=\"dataframe\">\n",
       "  <thead>\n",
       "    <tr style=\"text-align: right;\">\n",
       "      <th></th>\n",
       "      <th>id</th>\n",
       "      <th>title</th>\n",
       "      <th>author</th>\n",
       "      <th>text</th>\n",
       "      <th>label</th>\n",
       "    </tr>\n",
       "  </thead>\n",
       "  <tbody>\n",
       "    <tr>\n",
       "      <th>0</th>\n",
       "      <td>0</td>\n",
       "      <td>House Dem Aide: We Didn’t Even See Comey’s Let...</td>\n",
       "      <td>Darrell Lucus</td>\n",
       "      <td>House Dem Aide: We Didn’t Even See Comey’s Let...</td>\n",
       "      <td>1</td>\n",
       "    </tr>\n",
       "    <tr>\n",
       "      <th>1</th>\n",
       "      <td>1</td>\n",
       "      <td>FLYNN: Hillary Clinton, Big Woman on Campus - ...</td>\n",
       "      <td>Daniel J. Flynn</td>\n",
       "      <td>Ever get the feeling your life circles the rou...</td>\n",
       "      <td>0</td>\n",
       "    </tr>\n",
       "    <tr>\n",
       "      <th>2</th>\n",
       "      <td>2</td>\n",
       "      <td>Why the Truth Might Get You Fired</td>\n",
       "      <td>Consortiumnews.com</td>\n",
       "      <td>Why the Truth Might Get You Fired October 29, ...</td>\n",
       "      <td>1</td>\n",
       "    </tr>\n",
       "    <tr>\n",
       "      <th>3</th>\n",
       "      <td>3</td>\n",
       "      <td>15 Civilians Killed In Single US Airstrike Hav...</td>\n",
       "      <td>Jessica Purkiss</td>\n",
       "      <td>Videos 15 Civilians Killed In Single US Airstr...</td>\n",
       "      <td>1</td>\n",
       "    </tr>\n",
       "    <tr>\n",
       "      <th>4</th>\n",
       "      <td>4</td>\n",
       "      <td>Iranian woman jailed for fictional unpublished...</td>\n",
       "      <td>Howard Portnoy</td>\n",
       "      <td>Print \\nAn Iranian woman has been sentenced to...</td>\n",
       "      <td>1</td>\n",
       "    </tr>\n",
       "  </tbody>\n",
       "</table>\n",
       "</div>"
      ],
      "text/plain": [
       "   id                                              title              author  \\\n",
       "0   0  House Dem Aide: We Didn’t Even See Comey’s Let...       Darrell Lucus   \n",
       "1   1  FLYNN: Hillary Clinton, Big Woman on Campus - ...     Daniel J. Flynn   \n",
       "2   2                  Why the Truth Might Get You Fired  Consortiumnews.com   \n",
       "3   3  15 Civilians Killed In Single US Airstrike Hav...     Jessica Purkiss   \n",
       "4   4  Iranian woman jailed for fictional unpublished...      Howard Portnoy   \n",
       "\n",
       "                                                text  label  \n",
       "0  House Dem Aide: We Didn’t Even See Comey’s Let...      1  \n",
       "1  Ever get the feeling your life circles the rou...      0  \n",
       "2  Why the Truth Might Get You Fired October 29, ...      1  \n",
       "3  Videos 15 Civilians Killed In Single US Airstr...      1  \n",
       "4  Print \\nAn Iranian woman has been sentenced to...      1  "
      ]
     },
     "execution_count": 15,
     "metadata": {},
     "output_type": "execute_result"
    }
   ],
   "source": [
    "news_dataset.head()"
   ]
  },
  {
   "cell_type": "code",
   "execution_count": 16,
   "metadata": {},
   "outputs": [
    {
     "name": "stderr",
     "output_type": "stream",
     "text": [
      "C:\\Users\\hp\\AppData\\Local\\Temp\\ipykernel_6260\\1529447720.py:2: FutureWarning: \n",
      "\n",
      "Passing `palette` without assigning `hue` is deprecated and will be removed in v0.14.0. Assign the `x` variable to `hue` and set `legend=False` for the same effect.\n",
      "\n",
      "  sns.countplot(x='label', data = news_dataset, palette = 'mako',saturation = 1)\n"
     ]
    },
    {
     "data": {
      "image/png": "[encoded data removed]",
      "text/plain": [
       "<Figure size 600x400 with 1 Axes>"
      ]
     },
     "metadata": {},
     "output_type": "display_data"
    }
   ],
   "source": [
    "plt.figure(figsize = (6,4))\n",
    "sns.countplot(x='label', data = news_dataset, palette = 'mako',saturation = 1)\n",
    "plt.title(\"Real Vs. Fake News count\", fontsize = 12)\n",
    "plt.show()"
   ]
  },
  {
   "cell_type": "code",
   "execution_count": 17,
   "metadata": {},
   "outputs": [
    {
     "data": {
      "text/plain": [
       "id           0\n",
       "title      558\n",
       "author    1957\n",
       "text        39\n",
       "label        0\n",
       "dtype: int64"
      ]
     },
     "execution_count": 17,
     "metadata": {},
     "output_type": "execute_result"
    }
   ],
   "source": [
    "# counting the number of missing values in the dataset\n",
    "news_dataset.isnull().sum()\n"
   ]
  },
  {
   "cell_type": "code",
   "execution_count": 18,
   "metadata": {},
   "outputs": [],
   "source": [
    "# replacing the null values with empty string\n",
    "news_dataset = news_dataset.fillna('')\n"
   ]
  },
  {
   "cell_type": "code",
   "execution_count": 19,
   "metadata": {},
   "outputs": [
    {
     "name": "stdout",
     "output_type": "stream",
     "text": [
      "0        Darrell Lucus House Dem Aide: We Didn’t Even S...\n",
      "1        Daniel J. Flynn FLYNN: Hillary Clinton, Big Wo...\n",
      "2        Consortiumnews.com Why the Truth Might Get You...\n",
      "3        Jessica Purkiss 15 Civilians Killed In Single ...\n",
      "4        Howard Portnoy Iranian woman jailed for fictio...\n",
      "                               ...                        \n",
      "20795    Jerome Hudson Rapper T.I.: Trump a ’Poster Chi...\n",
      "20796    Benjamin Hoffman N.F.L. Playoffs: Schedule, Ma...\n",
      "20797    Michael J. de la Merced and Rachel Abrams Macy...\n",
      "20798    Alex Ansary NATO, Russia To Hold Parallel Exer...\n",
      "20799              David Swanson What Keeps the F-35 Alive\n",
      "Name: content, Length: 20800, dtype: object\n"
     ]
    }
   ],
   "source": [
    "# merging the author name and news title\n",
    "news_dataset['content'] = news_dataset['author']+' '+news_dataset['title']\n",
    "print(news_dataset['content'])"
   ]
  },
  {
   "cell_type": "code",
   "execution_count": 20,
   "metadata": {},
   "outputs": [
    {
     "name": "stdout",
     "output_type": "stream",
     "text": [
      "          id                                              title  \\\n",
      "2239    2239  U.S. Presidential Race, North Dakota, NASA: Yo...   \n",
      "18124  18124  Gambia’s President, in Power 22 Years, Loses E...   \n",
      "15452  15452      The Bundy Verdict is Another Defeat for Obama   \n",
      "3455    3455  Kareem Abdul-Jabbar: ’La La Land’ Sends ’Bigot...   \n",
      "12413  12413                  Trump’s Slim Chance for Greatness   \n",
      "...      ...                                                ...   \n",
      "555      555                                                      \n",
      "1358    1358  Mike Lee: Health Care Bill ’Is Going to Fail’ ...   \n",
      "15392  15392  A Letter to the Doctors and Nurses Who Cared f...   \n",
      "12806  12806  Watch: Kenny G Performs for Delta Passengers o...   \n",
      "5211    5211  They Said What?!: Find Out What Magnus Carlsen...   \n",
      "\n",
      "                                      author  \\\n",
      "2239   Andrea Kannapell and Sandra Stevenson   \n",
      "18124    Jaime Yaya Barry and Dionne Searcey   \n",
      "15452                      Daniel Greenfield   \n",
      "3455                          Breitbart News   \n",
      "12413                     Consortiumnews.com   \n",
      "...                                      ...   \n",
      "555                       Don Anthony Dillon   \n",
      "1358                               Jeff Poor   \n",
      "15392                          Peter DeMarco   \n",
      "12806                           Breitbart TV   \n",
      "5211                                           \n",
      "\n",
      "                                                    text  \\\n",
      "2239   (Want to get this briefing by email? Here’s th...   \n",
      "18124  BANJUL, Gambia  —   Yahya Jammeh, the presiden...   \n",
      "15452  The Bundy Verdict is Another Defeat for Obama ...   \n",
      "3455   NBA great and cultural commentator Kareem   wr...   \n",
      "12413  Trump’s Slim Chance for Greatness November 15,...   \n",
      "...                                                  ...   \n",
      "555    These SCUMBAGS want to try and CLAIM the e-mai...   \n",
      "1358   Wednesday on Fox News Channel’s “Your World,” ...   \n",
      "15392  After his    wife suffered a devastating asthm...   \n",
      "12806  A group on a Delta flight going from Tampa to ...   \n",
      "5211   Ever wonder what’s on the mind of today’s most...   \n",
      "\n",
      "                                                 content  \n",
      "2239   Andrea Kannapell and Sandra Stevenson U.S. Pre...  \n",
      "18124  Jaime Yaya Barry and Dionne Searcey Gambia’s P...  \n",
      "15452  Daniel Greenfield The Bundy Verdict is Another...  \n",
      "3455   Breitbart News Kareem Abdul-Jabbar: ’La La Lan...  \n",
      "12413  Consortiumnews.com Trump’s Slim Chance for Gre...  \n",
      "...                                                  ...  \n",
      "555                                  Don Anthony Dillon   \n",
      "1358   Jeff Poor Mike Lee: Health Care Bill ’Is Going...  \n",
      "15392  Peter DeMarco A Letter to the Doctors and Nurs...  \n",
      "12806  Breitbart TV Watch: Kenny G Performs for Delta...  \n",
      "5211    They Said What?!: Find Out What Magnus Carlse...  \n",
      "\n",
      "[500 rows x 5 columns]\n",
      "2239     0\n",
      "18124    0\n",
      "15452    1\n",
      "3455     0\n",
      "12413    1\n",
      "        ..\n",
      "555      1\n",
      "1358     0\n",
      "15392    0\n",
      "12806    0\n",
      "5211     1\n",
      "Name: label, Length: 500, dtype: int64\n"
     ]
    }
   ],
   "source": [
    "# separating the data & label\n",
    "news_dataset = news_dataset.sample(n=500)\n",
    "X = news_dataset.drop(columns='label', axis=1)\n",
    "Y = news_dataset['label']\n",
    "print(X)\n",
    "print(Y)"
   ]
  },
  {
   "cell_type": "code",
   "execution_count": 21,
   "metadata": {},
   "outputs": [],
   "source": [
    "port_stem = PorterStemmer()\n"
   ]
  },
  {
   "cell_type": "code",
   "execution_count": 22,
   "metadata": {},
   "outputs": [],
   "source": [
    "def stemming(content):\n",
    "    stemmed_content = re.sub('[^a-zA-Z]',' ',content)\n",
    "    stemmed_content = stemmed_content.lower()\n",
    "    stemmed_content = stemmed_content.split()\n",
    "    stemmed_content = [port_stem.stem(word) for word in stemmed_content if not word in stopwords.words('english')]\n",
    "    stemmed_content = ' '.join(stemmed_content)\n",
    "    return stemmed_content\n"
   ]
  },
  {
   "cell_type": "code",
   "execution_count": 23,
   "metadata": {},
   "outputs": [
    {
     "name": "stdout",
     "output_type": "stream",
     "text": [
      "2239     andrea kannapel sandra stevenson u presidenti ...\n",
      "18124    jaim yaya barri dionn searcey gambia presid po...\n",
      "15452    daniel greenfield bundi verdict anoth defeat o...\n",
      "3455     breitbart news kareem abdul jabbar la la land ...\n",
      "12413             consortiumnew com trump slim chanc great\n",
      "                               ...                        \n",
      "555                                         anthoni dillon\n",
      "1358     jeff poor mike lee health care bill go fail br...\n",
      "15392    peter demarco letter doctor nurs care wife new...\n",
      "12806    breitbart tv watch kenni g perform delta passe...\n",
      "5211      said find magnu carlsen kate hudson tom hank say\n",
      "Name: content, Length: 500, dtype: object\n"
     ]
    }
   ],
   "source": [
    "news_dataset['content'] = news_dataset['content'].apply(stemming)\n",
    "print(news_dataset['content'])"
   ]
  },
  {
   "cell_type": "code",
   "execution_count": 24,
   "metadata": {},
   "outputs": [
    {
     "name": "stdout",
     "output_type": "stream",
     "text": [
      "['andrea kannapel sandra stevenson u presidenti race north dakota nasa friday even brief new york time'\n",
      " 'jaim yaya barri dionn searcey gambia presid power year lose elect new york time'\n",
      " 'daniel greenfield bundi verdict anoth defeat obama'\n",
      " 'breitbart news kareem abdul jabbar la la land send bigot messag mislead race jazz breitbart'\n",
      " 'consortiumnew com trump slim chanc great' 'rhonda gilmor'\n",
      " 'howard portnoy drunk co attempt take topless selfi drive plow polic cruiser'\n",
      " 'nichola kulish ski alp make new york time'\n",
      " 'anna dubenko right left partisan write miss new york time'\n",
      " 'joel b pollak huffington post drop articl claim jew poison muhammad'\n",
      " 'adam shaw john mccain say putin bigger threat islam state admit evid russia chang elect outcom'\n",
      " 'lisa smith smoke gun wikileak podesta mill go dump email'\n",
      " 'amanda shea two go jail terrifi thing insid vote place'\n",
      " 'jame risen tortur ex detaine still captiv dark new york time'\n",
      " 'theresa may seek return witchcraft act'\n",
      " 'somini sengupta nikki haley call unit nation human right council corrupt new york time'\n",
      " 'toni lee ex sf mayor willi brown warn dem push trump impeach could backfir breitbart'\n",
      " 'edjenn vote sign point trump victori florida'\n",
      " 'brian x chen nintendo switch blast home go new york time'\n",
      " 'alissa j rubin karam shoumali eric schmitt american kill first casualti u forc syria combat new york time'\n",
      " 'jenna leigh richardson offici state new clinton email discov part anthoni weiner sext investig'\n",
      " 'london coupl need car want lift'\n",
      " 'john hayward trump promis white hous longer obscur iraq syria troop deploy'\n",
      " 'robert barsocchini help send washington blog stand rock'\n",
      " 'pam key fmr mormon tabernacl choir member feel hyster compar trump hitler breitbart'\n",
      " 'smoke mirror come wing come wing prayer'\n",
      " 'jerom hudson usatoday kellogg could lay breitbart'\n",
      " 'doc internet attack sinc transfer un washington prepar emp'\n",
      " 'p pe plorabl'\n",
      " 'patrick heali yamich alcindor jeremi w peter berni sander eye convent will harm hillari clinton homestretch new york time'\n",
      " 'jason horowitz bill clinton evok past peripheri wife campaign new york time'\n",
      " 'dane wigington climat engin cryospher collaps'\n",
      " 'ian fisher add salt make bacon pancetta home new york time'\n",
      " 'tom jovanovich'\n",
      " 'sean moran cbo full repeal obamacar insur american ryan obamacar lite plan breitbart'\n",
      " 'megan twohey scott shane back channel plan ukrain russia courtesi trump associ new york time'\n",
      " 'ami moreno fox news martha maccallum shred hillari russian theori one tweet truthfe'\n",
      " 'melissa hoppert two hors die preak undercard new york time'\n",
      " 'isi lose grip mosul special forc surround jihadist'\n",
      " 'kike garc donald trump construir un muro alrededor de cada mexicano'\n",
      " 'john binder school district demand safe zone migrant student'\n",
      " 'richard c paddock choe sang hun use nerv agent kim jong nam kill condemn malaysia new york time'\n",
      " 'yve smith lawbreak airbnb send spam violat spam act'\n",
      " 'liam stack j f k comput glitch wreak havoc air passeng new york time'\n",
      " 'jafe arnoldski norepli blogger com greek donbass cypru russia nato'\n",
      " 'jean batav poquelich reason creat fat control law obes free zone'\n",
      " 'ami chozick hillari clinton say donald trump qualifi presid new york time'\n",
      " 'sabrina tavernis seek improv tie russia turkey apolog down warplan new york time'\n",
      " 'john koblin nbc bring back amp grace new york time'\n",
      " 'european union time hillari email reveal knowingli delay benghazi rescu'\n",
      " 'dave hodg mass casualti drill carolina first fals flag'\n",
      " 'sausag machin read jilli cooper elast waist sex scene'\n",
      " 'penni starr mark levin first day measur stick congress breitbart'\n",
      " 'raheem kassam victoria friedman seen terror attack attempt europ everi day'\n",
      " 'jerom hudson aclu telethon tina fey say trump gave assault women lent'\n",
      " 'ap ag session suggest open review obama doj action'\n",
      " 'us elect claim russia expos clinton analyst'\n",
      " 'manni fernandez erik eckholm feder court rule texa id law violat vote right act new york time'\n",
      " 'rich hult n' 'michael greger faclm spin doctor media report medicin'\n",
      " 'putin french presidenti hope fillon tough decent real profession russia news'\n",
      " 'daniel nussbaum melania trump rip kathi griffin behead photo make wonder mental health'\n",
      " 'king world news danger gold oil ratio level last seen great depress'\n",
      " 'matt flegenheim democrat convent day takeaway start new york time'\n",
      " 'editor podesta wikileak ufo updat new name drag ufo rabbit hole'\n",
      " 'trump success shock global market'\n",
      " 'yemeni forc fire ballist missil saudi arabia jeddah airport'\n",
      " 'steven erlang u k tighten vote rule critic say labour poor suffer new york time'\n",
      " 'franc robl juli turkewitz orlando gunman gay answer continu elud f b new york time'\n",
      " 'dionn searcey jaim yaya barri troop enter gambia new presid sworn new york time'\n",
      " 'georg blecher coffe new york vanish diner cultur new york time'\n",
      " 'dave itzkoff kati rich n l suspend tweet mock barron trump new york time'\n",
      " 'pam key pelosi hard say presid trump respect job breitbart'\n",
      " 'jeff poor trump jr father proven right terror everi time breitbart'\n",
      " 'alan blinder serg f kovaleski adam goldman threat vandal leav american jew edg trump era new york time'\n",
      " 'kyle becker latest abc wapo poll hillari campaign sound alarm'\n",
      " 'trump tsunami incom trump florida today make presid'\n",
      " 'voltairenet org nota conceptu para la presidencia de rusia'\n",
      " 'breitbart tech tom ciccotta shut feminist bucknel professor interrupt guest speaker breitbart'\n",
      " 'michael r gordon u probabl role mosul death command say new york time'\n",
      " 'admin waitress accident break ancient roman statu british museum'\n",
      " 'cypriot leader continu talk novemb un'\n",
      " 'sheri fink jame risen lawsuit aim hold contractor account c tortur new york time'\n",
      " 'wakingtim real elit authent men women'\n",
      " 'jonathan martin coverag peril obama gone health law critic go quiet new york time'\n",
      " 'katharin q seely hillari clinton lead donald trump new hampshir florida poll show new york time'\n",
      " 'desper obama rip comey oper innuendo daili wire'\n",
      " 'adam nagourney jennif medina citi latino face new california new york time'\n",
      " 'maren'\n",
      " 'steve watson watch cnn call clinton news network air fieri british conserv'\n",
      " 'tonya parnel comment u gener admir endors trump command chief tonya parnel'\n",
      " 'patrick boehler mosul ceta trump tuesday brief new york time'\n",
      " 'aaron klein klein new york time lobbi muslim brotherhood'\n",
      " 'michaelangelo mato princ old band resurrect song new york time'\n",
      " 'breitbart london finsburi park attack suspect name cardiff resid darren osborn'\n",
      " 'john binder extrem vet may includ ideolog test'\n",
      " 'michael shear patrick heali hillari clinton reli presid obama help new york time'\n",
      " 'andrea kannapel sandra stevenson hillari clinton donald trump iraq inquiri wednesday even brief new york time'\n",
      " 'thoma erdbrink death iran rafsanjani remov influenti voic hard liner new york time'\n",
      " 'steven erlang letter jacquelin kennedi man marri new york time'\n",
      " 'hillari bill clinton bonni clyde american polit'\n",
      " 'ian hanchett todd trump still asterisk breitbart'\n",
      " 'penni starr presid trump call immedi investig chuck schumer tie russia vladimir putin breitbart'\n",
      " 'jennif steinhauer evan bayh long popular indiana find comeback unexpectedli rocki new york time'\n",
      " 'modern histori rig us elect'\n",
      " 'daniel victor rogu one review critic say new york time'\n",
      " 'milan schreuer man antwerp belgium tri drive crowd new york time'\n",
      " 'american dream revisit'\n",
      " 'beforeitsnew com time hillari clinton duck go video altern'\n",
      " 'frank wander phd island happi sea suffer'\n",
      " 'daniel redmond round rori mcilroy st patrick day weekend breitbart'\n",
      " 'pakalert arriv bosanski prijevod thetempleofsolomon'\n",
      " 'thoma william ph islamist rebel slay christian pastor central african republ'\n",
      " 'matthew boyl silent fear parti davo founder plan emerg c meet discuss handl donald trump breitbart'\n",
      " 'kati roger easi santa new york time'\n",
      " 'expos work washington spi american year'\n",
      " 'catherin shakdam yemeni forc fire ballist missil deep insid saudi arabia jeddah airport'\n",
      " 'tokyowashi norepli blogger com clinton pride pig farm bridg serco zulu server snuff soro patent voter key'\n",
      " 'dikran arakelian norepli blogger com polic left stand rock refus return'\n",
      " 'max fisher amanda taub turkey unlik victim equal unlik coup new york time'\n",
      " 'jame delingpol delingpol come join us say franc new presid u climat scientist'\n",
      " 'ian hanchett maher trump want kim jong un foreshadow tri sh breitbart'\n",
      " 'matthew schneier fashion world obsess rupaul drag race new york time'\n",
      " 'jame devinn trump support held six children gunpoint dumbest reason ever'\n",
      " 'jerom hudson rapper snoop dogg legend trump diarrhea face ass man'\n",
      " 'alexandra stevenson matthew goldstein bridgewat associ world biggest hedg fund shake leadership new york time'\n",
      " 'mike mcphate california today berkeley turn comedian advic new york time'\n",
      " 'news great news ketchup polit scientist say outcom presidenti elect way affect ketchup'\n",
      " 'kati mchugh angel mom trump administr support program help american hurt illeg alien crime breitbart'\n",
      " 'michael cbd infus cannabi milk sooth anxieti hit store soon'\n",
      " 'iwb hillari fan sleep ralli snoozi smurf steal show abc news coconut creek fla'\n",
      " 'liz spayd want know america think tri ask new york time'\n",
      " 'michael barbaro know hidden mean trump word new york time'\n",
      " 'hrafnkel haraldsson donald trump destroy fact checker reveal trump lie time per day'\n",
      " 'paul sullivan world wealthiest invest billion new york time'\n",
      " 'mac slavo trump need two three state win command lead poll show neighbor vote trump'\n",
      " 'jerom hudson drunk lemon cnn cut mic new year eve show'\n",
      " 'jame devinn trump ex manag even know gold star famili' 'thezeitgeist'\n",
      " 'breitbart news live updat shot fort lauderdal airport breitbart'\n",
      " 'robert j marlow social media happi shot eleph crush hunter death breitbart'\n",
      " 'doc hillari escap time'\n",
      " 'aroamingcatholicni comment death parti system gop bigwig formal endors hillari clinton aroamingcatholicni'\n",
      " 'tom engelhardt one veteran war islamophobia' 'groucho marxist hous rise'\n",
      " 'ben marqui obama doj make move jail sheriff joe'\n",
      " 'mark landler michael shear donald trump fit start focus foreign polici new york time'\n",
      " 'richard p rez pe washington transit offic charg help isi new york time'\n",
      " 'franc martel nigeria thousand women protest boko haram suicid bomb rape abduct breitbart'\n",
      " 'geoffrey grider differ pretribul raptur second come jesu christ'\n",
      " 'nick wingfield kati benner hampton creek maker mayo said inquiri new york time'\n",
      " 'kliguy'\n",
      " 'barenakedislam go girl jayda fransen britain first rais hell halal butcher shop'\n",
      " 'simon romero suprem court justic remov brazil senat leader amid graft case new york time'\n",
      " 'neil munro poll public overwhelmingli support trump push limit migrat breitbart'\n",
      " 'alex ansari mark ruffalo reportedli place u terrorist watch list'\n",
      " 'truth broadcast network hillari clinton elect concess speech new york full stream live'\n",
      " 'ian mason trump time put ohio michigan pennsylvania pari breitbart'\n",
      " 'william f jasper new e mail classifi malfeas clinton aid jeopard nation secur'\n",
      " 'ariana arctic fox grow garden den'\n",
      " 'horst frohlich vereinigt k nigreich nimmt die dschihadisten ausbildung syrien wieder auf'\n",
      " 'liz spayd evan gershkovich friday mailbag taunt hoax anonym stealth new york time'\n",
      " 'pakalert hundr rescu refuge arriv italian port catania'\n",
      " 'charli spier john podesta donald trump existenti threat entir planet breitbart'\n",
      " 'charli spier donald trump nato terror must stop track breitbart'\n",
      " 'barenakedislam germani syrian muslim invad shout allahu akbar disrupt church wed grope statu virgin mari'\n",
      " 'admin gold silver care win' 'eddi lavin secur cellphon'\n",
      " 'alic sall us militari lie thousand soldier veteran pay'\n",
      " 'kit eaton recip home bartend scroll tap pour new york time'\n",
      " 'breitbart news nyt dissect bannon worldview fourth turn'\n",
      " 'author turkey oper euphrat shield shield new eastern outlook' 'besnook'\n",
      " 'nikol hannah jone trump inconveni racial truth new york time'\n",
      " 'eric lichtblau c evid russian effort help trump earlier believ new york time'\n",
      " 'bob price report ice failur obama leav million supervis alien street'\n",
      " 'nick wingfield forget beanbag chair amazon give worker treehous new york time'\n",
      " 'peter lee dutert met abe'\n",
      " 'truth broadcast network raw rocket carri himarari satellit launch space center japan'\n",
      " 'trent baker bolton obama vindict abstain un vote isra settlement breitbart'\n",
      " 'paul craig robert stake elect'\n",
      " 'ben kew russia consid send edward snowden back u gift trump breitbart'\n",
      " 'lizett alvarez jess bidgood mitch smith sabrina tavernis today act like politician voter reaction trump speech new york time'\n",
      " 'howard portnoy donald trump chang world date'\n",
      " 'activist post regardless win elect confid washington dc alreadi shatter'\n",
      " 'christina sarich spiritu alchemi everi day stuff'\n",
      " 'gortex trump hollywood walk fame star destroy sledgehamm pick'\n",
      " 'allan wall mexico wall southern border trump win might build one'\n",
      " 'thoma erdbrink get back home iranian turn away flight u new york time'\n",
      " 'karen zraick sandra stevenson berlin russia donald trump wednesday even brief new york time'\n",
      " 'richard fausset alan blinder alabama slow burn scandal engulf governor new york time'\n",
      " 'elain glusac valentin day mean save travel new york time'\n",
      " 'catherin shakdam messeng muslim develop technolog promot religi uniti radic'\n",
      " 'dr susan berri plan parenthood lamborghini exec haggl price babi part'\n",
      " 'michael forsyth china interven hong kong legislatur new york time'\n",
      " 'alex william hard make friend new york time'\n",
      " 'abinico u lose global reserv statu expect devalu u dollar'\n",
      " 'breitbart news report tamron hall leav nbc news megyn kelli breitbart'\n",
      " 'awr hawkin mark kelli renew vow fight nation reciproc shoot unarm congressman breitbart'\n",
      " 'margalit fox roberta peter soprano dramat entranc die new york time'\n",
      " 'charli spier egyptian presid sisi thank trump allianc satan ideolog terror breitbart'\n",
      " 'karen crous jordan spieth feet firmli ground put sensibl shoe forward new york time'\n",
      " 'thing know elector colleg onion america finest news sourc' 'anonym'\n",
      " 'john carney fed hike interest rate fourth time sinc financi crisi breitbart'\n",
      " 'european union time black mob vicious beat white trump voter'\n",
      " 'starkman anonym donor pay million releas everyon arrest dakota access pipelin'\n",
      " 'ben kew safeti student speaker offic could guarante say uc davi polic breitbart'\n",
      " 'nick corasan take drug test debat donald trump say new york time'\n",
      " 'jeremi w peter trump side conserv see hope lengthi abort fight new york time'\n",
      " 'edjenn dnc head conscienc clear send cnn townhal question hillari'\n",
      " 'vanessa friedman riccardo tisci leav givenchi mean new york time'\n",
      " 'brisban dad take backyard wicket frighten return form'\n",
      " 'nelson schwartz trump save job carrier midwest job jeopardi new york time'\n",
      " 'april hamlin obama meet boy deplor trump fan attack wheelchair remov ralli'\n",
      " 'daili sheepl new biometr id system implement us airport'\n",
      " 'kim velsey think place small new york time'\n",
      " 'pam key conway merit execut order prevail court breitbart'\n",
      " 'j hey georg soro tape trump win popular vote landslid hillari clinton elector victori alreadi done deal'\n",
      " 'kati mchugh dh unveil voic offic victim illeg alien crime breitbart'\n",
      " 'thecountess de plorabl bundi brother other found guilti charg malheur wildlif occup'\n",
      " 'breitbart news photo top moment donald trump inaugur breitbart'\n",
      " 'winni hu old sex nurs home new york time'\n",
      " 'daniel victor mistakenli put email chain hit repli ask remov new york time'\n",
      " 'jacey fortin flight attend fight human traffick eye sky new york time'\n",
      " 'rt' 'shivani vora luxuri vacat less new york time'\n",
      " 'clay risen jack daniel embrac hidden ingredi help slave new york time'\n",
      " 'sam sifton caramel cabbag casserol get spring new york time'\n",
      " 'joel b pollak eureka everi california republican vote replac obamacar breitbart'\n",
      " 'tom fitton fitton obama ir scandal continu judici watch forc ir disclos new document'\n",
      " 'king world news alert former soro associ warn go send world total chao'\n",
      " 'amanda hess empathi realli nation need new york time'\n",
      " 'glen ford none ever presid'\n",
      " 'clinton croni steer million foundat bill wallet' 'angel cast earth'\n",
      " 'breitbart news cnn democrat face powerless breitbart'\n",
      " 'european union time nyc democrat elect commission bu peopl around vote'\n",
      " 'admin europ eve bank armageddon dwarf global crash warn expert affect'\n",
      " 'kevin ryan rememb frank legg'\n",
      " 'kate kelli stock percent trump long ralli last new york time'\n",
      " 'christin hauser victim new hampshir prep school senior salut case speak new york time'\n",
      " 'jack montgomeri colleg lectur punch face knock freez canal white'\n",
      " 'jafe arnoldski norepli blogger com break syrian air forc strike turkish forc'\n",
      " 'ctwatcher' 'sartr globalist plan human control'\n",
      " 'ami chozick megan thee brenan poll find voter parti unhappi candid new york time'\n",
      " 'scott cacciola north carolina vindic roy william trust last second win new york time'\n",
      " 'consortiumnew com phoni corrupt excus ukrain coup'\n",
      " 'daniel greenfield hillari clinton seek even unfit secretari state'\n",
      " 'ben kew hillari clinton blame misogyni elect defeat breitbart'\n",
      " 'gillian usa journalist dinner hrc team john podesta'\n",
      " 'robert gehl awesom video show real donald trump presidenti candid'\n",
      " 'lloyd lisco comment watch hillari aid rush side help climb one step lloyd lisco'\n",
      " 'paul joseph watson obamacar architect gruber demand larger mandat penalti'\n",
      " 'jason easley hous republican plan secret meet discuss overthrow paul ryan'\n",
      " 'mac slavo happen shut fake news websit punish alt media hillari oppon'\n",
      " 'peter goodman dubai skylin add trophi architect call stolen new york time'\n",
      " 'jack montgomeri le pen pope ask state go peopl open border'\n",
      " 'anoth strang sound slovakia'\n",
      " 'manlio dinucci c mo decir la arma nuclear por manlio dinucci'\n",
      " 'oxbridg turkey face deep divis thanksgiv vote'\n",
      " 'hiroko tabuchi cheaper airbag takata road deadli crisi new york time'\n",
      " 'michel moon mike penc need everi republican congress everi american healthcar battl'\n",
      " 'dr patrick slatteri dr david duke farren shoaf countdown day left trump presid critic first primari send dr duke u senat'\n",
      " 'maggi haberman ashley parker donald trump lash media detail gift veteran new york time'\n",
      " 'denni overby telescop ate astronomi track surpass hubbl new york time'\n",
      " 'ian mason session resign narr get anoth blow white hous vow confid breitbart'\n",
      " 'benjamin weiser maggi haberman turk iran sanction case add rudi giuliani legal team new york time'\n",
      " 'pam key msnbc anchor ask trump tri provok domest terror attack gain breitbart'\n",
      " 'pam key durbin trump outlandish border wall polit stunt breitbart'\n",
      " 'tim arango rick gladston turkey unrest see extrem version post america new york time'\n",
      " 'dana goldstein obama educ rule swept asid congress new york time'\n",
      " 'penelop green ariel levi written thoroughli modern memoir new york time'\n",
      " 'break fbi order agent report c mass arrest warrant clinton camp endingf news network'\n",
      " 'barenakedislam shocker left wing msnbc comment chri mathew endors donald trump presid'\n",
      " 'daniel greenfield colleg forc mandatori microaggress session faculti prof accus student plagiar'\n",
      " 'clinton campaign paid beyonc jay z million cleveland concert secur black vote empir herald'\n",
      " 'kaitlyn stegal venezuela crisi enter danger phase maduro foe go milit'\n",
      " 'blog countri becom worryingli desensit violenc hot sauc name'\n",
      " 'activist post global media fail strike forc'\n",
      " 'kevin deutsch fentanyl outpac heroin deadliest drug long island new york time'\n",
      " 'dr susan berri six thing betsi devo show certainli support common core'\n",
      " 'scott cacciola golden state warrior slip fell despit record season new york time'\n",
      " 'helen cooper matthew rosenberg yamich alcindor key moment thursday trump nomine hear new york time'\n",
      " 'franc martel obama deliv privat letter trump clinton bush letter made public'\n",
      " 'tfpp writer brutal meme expos govern realli work'\n",
      " 'nathaniel mauka distract elect one resist deep state patriot act'\n",
      " 'jason ditz mi chief present russia grow threat british interest'\n",
      " 'sarah maslin nir mysteri buyer trump childhood home said china new york time'\n",
      " 'neil macfarquhar big red stamp russia singl call fake news new york time'\n",
      " 'richard p rez pe case test polic liabil shoot suprem court show divid new york time'\n",
      " 'kristina wong hous intel dem slam comey poor judgment last week question fire breitbart'\n",
      " 'kantzveldt moon fell heaven'\n",
      " 'v saxena yesterday stun acquitt bundi remain jail'\n",
      " 'alexand burn nichola confessor bomb hillari clinton donald trump clash terror new york time'\n",
      " '' 'henri wolff pew million illeg immigr worker u'\n",
      " 'ann barnard rebel held aleppo resid report increas desper new york time'\n",
      " 'jennif schuessler lit dynam duo jane share path pop stardom new york time'\n",
      " 'maggi haberman evan mcmullin anti trump republican mount independ presidenti bid new york time'\n",
      " 'nichola fando trump weigh cut coast guard fema bolster border plan new york time'\n",
      " 'author bellweth trump kippa outsel hillari yarmulk'\n",
      " 'public vs media war'\n",
      " 'mr wendal new video destroy democrat obamacar lie nail'\n",
      " 'norepli blogger com alexand light fake rice made plastic everywher recogn real fake'\n",
      " 'jameson parker one photo sum differ america treat peopl color white bundi militiamen'\n",
      " 'jimbeau comment democrat contamin cliven bundi juri pool mailer fals connect la vega cop killer jimbeau'\n",
      " 'ami moreno sourc say weiner readi sail huma hillari river truthfe'\n",
      " 'vnn support honor veteran veteran day'\n",
      " 'kike garc multan un ultrasur por lanzar un jugador del bar al campo durant el partido madrid legia'\n",
      " 'jane perlez tribun reject beij claim south china sea new york time'\n",
      " 'jennif steinhauer financi vet goe slowli trump wealthi cabinet pick new york time'\n",
      " 'nathaniel popper year goldman sach hang shingl main street new york time'\n",
      " 'sam sifton cook week new york time'\n",
      " 'mark landler intrud get within step white hous new york time'\n",
      " 'max fisher email inquiri say washington secret new york time'\n",
      " 'chri tomlinson facebook livestream alleg rapist prosecut sweden'\n",
      " 'alan blinder orlando gunman shot least time autopsi find new york time'\n",
      " 'alessandra stanley curiou case susan estrich new york time'\n",
      " 'jeanni ralston surviv airbnb host new york time'\n",
      " 'jack heali health insur hard phone unthink new york time'\n",
      " 'melissa eddi germani gleefulli lead list world top recycl new york time'\n",
      " 'eddi lavin donald trump win year month day old first full day offic'\n",
      " 'paul craig robert offici homepag'\n",
      " 'jennif steinhauer new congress pois conven obama polici peril new york time'\n",
      " 'staff writer massiv hillari prison sign held world seri game infuri liber'\n",
      " 'katrin bennhold scotland trump built wall sent resid bill new york time'\n",
      " 'juli hirschfeld davi voic shake michel obama call trump comment women intoler new york time'\n",
      " 'adel nazarian uniti divis tom perez name dnc chair select keith ellison deputi chair'\n",
      " 'erik eckholm south carolina law disrupt school face legal challeng new york time'\n",
      " 'glen ford hillari big tent obama grand bargain steroid'\n",
      " 'wmw admin trump win real deal' 'daniel mcadam donald vladimir'\n",
      " 'heureux et souriant il la chanc de toujour ignor que donald trump lu le gorafi'\n",
      " 'eric lichtblau justic depart track use forc polic across u new york time'\n",
      " 'ian hanchett nbc tur trump go danger path putin kill journalist trump critic breitbart'\n",
      " 'sean adl tabatabai brazil releas million mutant gm mosquito'\n",
      " 'charli nash uc berkeley investig alleg employe assault milo fan riot breitbart'\n",
      " 'israel shamir congratul folk'\n",
      " 'king world news presid trump realli go revalu gold jaw drop price'\n",
      " 'steve bya obama administr mandat order sex chang surgeri challeng' ''\n",
      " 'steve knopper ice total lost tast rage new york time'\n",
      " 'breitbart news breitbart news daili london breitbart'\n",
      " 'alan blinder timothi william dalla gunman plan wider attack polic say new york time'\n",
      " 'admin patholog dissent'\n",
      " 'charl hugh smith blast point hillari campaign deep state precis'\n",
      " 'admin orissa dr squier win appeal ban tell truth court shaken babi syndrom'\n",
      " 'ari lieberman battl unesco'\n",
      " 'c e dyer syrian refuge support wive children nut'\n",
      " 'dr susan berri rep mike kelli introduc bill repeal obamacar cadillac tax breitbart'\n",
      " 'sausag machin anti trump advert side bu realli visual clever see motion'\n",
      " 'roosh valizadeh podcast travel give man'\n",
      " 'dikran arakelian norepli blogger com truth u govern want know war syria'\n",
      " 'jonathan katz u n admit role cholera epidem haiti new york time'\n",
      " 'ken belson jim dwyer muhammad ali fan pay homag local hero new york time'\n",
      " 'john hayward japanes pm shinzo abe prepar tweetabl figur trump'\n",
      " 'dare restrain laugh trump hillari stronger hot show'\n",
      " 'trent baker ufc pre dana white slam uppiti meryl streep mma dig stupid uneduc breitbart'\n",
      " 'christina anderson sewel chan clash stockholm suburb draw attent trump remark new york time'\n",
      " 'jonathan martin alexand burn offici fight donald trump claim rig vote new york time'\n",
      " 'john hayward steven mnuchin regul kill commun bank breitbart'\n",
      " 'iron sheik fda found manipul media favor big pharma'\n",
      " 'dikran arakelian norepli blogger com scientist baffl find melanesian carri dna unknown human speci'\n",
      " 'redacci n la frase destacada del debat de investidura'\n",
      " 'norepli blogger com der postillon mann bucht maa und nahl f r euro damit sie beim dachdecken helfen'\n",
      " 'john w whitehead path total dictatorship america shadow govern silent coup'\n",
      " 'erdo us founder isi'\n",
      " 'trip gabriel david e sanger hillari clinton support call vote recount battleground state new york time'\n",
      " 'jonathan sobl okinawa murder case heighten outcri u militari presenc new york time'\n",
      " 'trent baker matti war north korea would catastroph breitbart'\n",
      " 'kaitlyn stegal clinton trump offer divers scenario'\n",
      " 'madelin flash mob medit occur vote station elect'\n",
      " 'onan coca facebook censor strike liber fascism rear ugli head'\n",
      " 'kati mchugh exclus immigr expert urg congress declar nation border control day breitbart'\n",
      " 'pam key cnn lemon effort tar feather susan rice breitbart'\n",
      " 'oliv jj lane tori dup govern deal expect wednesday good discuss breitbart'\n",
      " 'kati benner sui lee wee appl remov new york time app store china new york time'\n",
      " 'canadian prime minist skip summit ceta deal eu'\n",
      " 'shame wast corbyn snap elect say may'\n",
      " 'scott shane richard p rez pe aurelien breeden between part rich recruit pool jihadist new york time'\n",
      " 'obsolet' 'peopl cube news'\n",
      " 'nypd cop kill eric garner indict civil right violat'\n",
      " 'peter lee dutert america'\n",
      " 'lindsay crous ultra runner karl meltzer set appalachian trail record fuel beer candi new york time'\n",
      " 'geoffrey grider shock proof mainstream media give fake news satir site ever'\n",
      " 'neil munro cnn trump push congress quickli fund wall breitbart'\n",
      " 'lisa blake bilinski'\n",
      " 'breitbart tv watch steve bannon sworn presid trump chief strategist breitbart'\n",
      " 'mike mcphate california today top newspap line elect new york time'\n",
      " 'walter e block snl ridicul barack obama'\n",
      " 'penni starr ann coulter obama testifi oath trump campaign surveil breitbart'\n",
      " 'russel goldman mount etna europ activ volcano put show new york time'\n",
      " 'madelin podesta part wikileak releas anoth email total'\n",
      " 'tass putin call observ militari safeti measur avoid incid'\n",
      " 'arnold monteverd norepli blogger com spanish mod releas thousand page declassifi ufo file'\n",
      " 'pam key georg takei trump foolish ignor troll breitbart'\n",
      " 'european union time trump win israel vote vs clinton'\n",
      " 'ezra duli cb scott pelley lose fight rig favor'\n",
      " 'peter baker declan walsh trump shift cours egypt prais authoritarian leader new york time'\n",
      " 'john binder immigr accus child rape disappear post bond'\n",
      " 'moira weigel feminist complic legaci helen gurley brown new york time'\n",
      " 'dan bilefski isi destroy part roman theater palmyra syria new york time'\n",
      " 'tokyowashi norepli blogger com hillari clinton campaign collaps true news'\n",
      " 'alissa j rubin franc let worker turn tune live life new york time'\n",
      " 'colin taylor pimp reveal trump also rape year old girl threat kill wit'\n",
      " 'jason horowitz itali premier matteo renzi say resign reform reject new york time'\n",
      " 'juliu hubri ask fuck problem'\n",
      " 'jason howerton megyn kelli handl hillari support goe incred length avoid leak email'\n",
      " 'neil munro vaniti fair nation polit donald trump wall breitbart'\n",
      " 'iwb brace happen week bad elit drop paramount elect secret'\n",
      " 'mitch smith erik eckholm feder judg block indiana abort law new york time'\n",
      " 'joe wolverton ii j black commun earli vote count clinton camp concern'\n",
      " 'john podesta best friend doj charg doj probe huma abedin email'\n",
      " 'us armi upgrad stryker vehicl missil crush laser weapon'\n",
      " 'mike rivero fix nbc affili accident post elect result week earli hillari win presid trump'\n",
      " 'roosh valizadeh elect result discuss presidenti elect open thread'\n",
      " 'ben kew unrepent chang clinton would make run win breitbart'\n",
      " 'warner todd huston outdoor cloth giant patagonia pledg lead resist presid donald trump'\n",
      " 'norimitsu onishi oscar pistoriu sentenc year reeva steenkamp murder new york time'\n",
      " 'eric margoli isi paper tiger'\n",
      " 'adam liptak michael shear suprem court tie block obama immigr plan new york time'\n",
      " 'peter goodman neil gough sui lee wee jack ewe trump tough trade talk could damag american factori new york time'\n",
      " 'nuclear war break korean peninsula'\n",
      " 'luca nolan bill maher milo remind young gay aliv christoph hitchen breitbart'\n",
      " 'sarah jone number accus grow former miss finland accus trump sexual assault'\n",
      " 'king world news destini world'\n",
      " 'patriotris fix nbc affili accident post elect result week earli hillari win presid trump'\n",
      " 'toni blair consid return polit happen'\n",
      " 'allan wall mexico wall southern border trump win might build one'\n",
      " 'becki aker hitlari hallow en mask'\n",
      " 'john william kurt andersen alec baldwin satir part trump cottag book industri new york time'\n",
      " 'de ricain assur qu il continueront fair confianc aux sondag le gorafi'\n",
      " 'henri wolff colleg student think america invent slaveri professor find'\n",
      " 'beforeitsnew com break ivanka trump make tragic announc donald trump support shock video propheci'\n",
      " 'damir marinovich ri youtub channel top thousand subscrib million view damir marinovich'\n",
      " 'dave itzkoff bill maher invit milo yiannopoulo anoth guest cancel new york time'\n",
      " 'jason easley comey bia expos fbi boss refus call russian hack elect'\n",
      " 'jacob g hornberg anoth u massacr afghanistan'\n",
      " 'toxic cloud continu spread iraq six day isi set fire sulfur mine'\n",
      " 'ashley southal sean piccoli teenag pellet gun kill polic robberi brooklyn new york time'\n",
      " 'rt un fail organ evacu civilian rebel held aleppo russian envoy' ''\n",
      " 'jack montgomeri wall work migrat fall eu countri border fenc'\n",
      " 'jerom hudson report beach boy play black tie boot inaugur ball'\n",
      " 'nichola casey colombia sign peac agreement farc decad war new york time'\n",
      " 'scott shane panama paper may inspir big leak reform new york time'\n",
      " 'daili bell staff db feedback claim b fire bomb hiroshima nagasaki'\n",
      " 'nelli bailey glen ford black agenda radio week nov'\n",
      " 'ami chozick hillari clinton seiz tax return say donald trump embodi rig system new york time'\n",
      " 'european union time day elect blacklivesmatt protest heckl bill clinton'\n",
      " 'voltairenet org'\n",
      " 'john eligon patrick mcgee famili fellow offic honor victim dalla sniper new york time'\n",
      " 'daniel nussbaum funni die psa trump work altern constitut'\n",
      " 'megan twohey rudolph giuliani lash black live matter new york time'\n",
      " 'betti' 'j hey contamin food china enter u organ label'\n",
      " 'ann coulter ann coulter poster child obamacar' 'employedmilleni'\n",
      " 'chri tomlinson erdogan soon european walk safe street'\n",
      " 'david stockman chart day trend growth rate real gdp slump year'\n",
      " 'thoma fuller free speech battl birthplac movement berkeley new york time'\n",
      " 'norepli blogger com der postillon autobahn privatisierung link spur bald nur noch f r premium maut zahler'\n",
      " 'brianna acuesta paypal co founder major trump support said rape accus belat regret'\n",
      " 'nichola fando trump link c report russia democrat shame elect new york time'\n",
      " 'newsguy five fbi field offic probe clinton chariti ad fuel fire'\n",
      " 'john hayward islam state moral polic behead two elderli sorcer egypt'\n",
      " 'andrea kannapel sandra stevenson louisiana u presidenti race zika tuesday even brief new york time'\n",
      " 'ginia bellafant brooklyn stifl higher learn among hasid women new york time'\n",
      " 'michael patrick leahi trump budget includ signific fund refuge program breitbart'\n",
      " 'bradle dean american want hillari jail rightli video'\n",
      " 'corey kilgannon barber day wili coyot whisper night new york time'\n",
      " 'jane perlez press asia agenda obama tread lightli human right new york time'\n",
      " 'pam key caitlyn jenner look run offic bring gop around lgbt issu breitbart'\n",
      " 'charli spier trump celebr epic press confer thank rush limbaugh'\n",
      " 'breitbart jerusalem report syrian student damascu chant death america death israel'\n",
      " 'j e dyer silli republican fbi reopen hillari investig sinc never offici close'\n",
      " 'harri hibb dolli parton step smack hillari bare fist way could usa'\n",
      " 'daisi luther clinton goe loretta lynch go'\n",
      " 'pcr western world respect law longer exist'\n",
      " 'chriss w street orovil dam hold evacu ahead day rain'\n",
      " 'contribut author riot flag burn open threat kill trump follow hillari elect loss'\n",
      " 'adrian bamforth guy fawk effigi industri collaps'\n",
      " 'rt en espa ol la ni afgana de nation geograph es arrestada en pakist n'\n",
      " 'gordon duff senior editor press tv duff un condemn moder terrorist'\n",
      " 'hqanon us coalit airstrik kill least civilian syria'\n",
      " 'assang purpos hold email back elect day cannot time replac hillari usa suprem'\n",
      " 'la oposici n mexicana denuncia una posibl simulaci n en el caso de javier duart'\n",
      " 'john hayward islam state caliph cub video show children execut prison breitbart'\n",
      " 'thoma dilorenzo hillari first impuls alway lie lie lie'\n",
      " 'chri tomlinson islam state german magazin tell fighter kill apost imam'\n",
      " 'karen zraick sandra stevenson gorsuch russia n c final monday even brief new york time'\n",
      " 'insid bill clinton inc hack memo show intersect clinton profit chariti'\n",
      " 'anthoni dillon' 'jeff poor mike lee health care bill go fail breitbart'\n",
      " 'peter demarco letter doctor nurs care wife new york time'\n",
      " 'breitbart tv watch kenni g perform delta passeng flight lo angel breitbart'\n",
      " 'said find magnu carlsen kate hudson tom hank say']\n"
     ]
    }
   ],
   "source": [
    "#separating the data and label\n",
    "X = news_dataset['content'].values\n",
    "Y = news_dataset['label'].values\n",
    "print(X)"
   ]
  },
  {
   "cell_type": "code",
   "execution_count": 25,
   "metadata": {},
   "outputs": [
    {
     "name": "stdout",
     "output_type": "stream",
     "text": [
      "[0 0 1 0 1 1 1 0 0 0 0 1 1 0 1 0 0 1 0 0 1 1 0 1 0 1 0 1 1 0 0 1 0 1 0 0 1\n",
      " 0 1 1 0 0 1 0 1 1 0 0 0 1 1 1 0 0 0 0 1 0 1 1 1 0 1 0 1 1 1 0 0 0 0 0 0 0\n",
      " 0 1 1 1 0 0 1 1 0 1 0 0 1 0 1 1 1 0 0 0 0 0 0 0 0 0 1 0 0 0 1 0 0 1 1 1 0\n",
      " 1 0 0 0 1 1 1 1 0 0 0 0 1 0 0 0 1 0 1 1 0 0 1 0 1 0 1 1 0 0 1 1 1 1 1 0 0\n",
      " 0 1 0 1 1 0 0 1 1 0 1 1 1 0 1 0 0 1 1 1 1 0 0 1 1 0 0 0 0 1 1 0 1 0 0 1 1\n",
      " 1 1 1 0 0 0 0 1 0 0 0 1 0 0 0 0 0 1 1 0 1 1 0 0 0 1 0 1 0 1 1 0 0 1 0 1 0\n",
      " 0 0 0 1 0 0 0 0 0 1 0 1 1 1 0 1 1 1 0 0 0 1 1 1 0 0 1 1 0 1 1 1 1 1 1 0 0\n",
      " 1 1 1 0 0 1 0 0 0 0 0 0 0 0 0 1 1 1 1 1 1 1 0 0 0 0 0 1 1 1 0 0 0 0 1 1 0\n",
      " 1 1 0 0 0 0 1 1 1 1 1 1 1 1 1 0 0 0 0 0 0 0 0 0 0 0 0 1 1 0 1 0 0 0 0 1 1\n",
      " 1 1 0 0 1 0 1 1 1 1 0 0 0 1 1 1 1 1 0 1 1 1 0 0 0 1 0 0 0 0 1 1 1 1 1 1 0\n",
      " 0 0 1 1 1 0 0 0 0 1 1 0 1 1 1 1 0 1 0 1 0 0 1 0 0 1 1 1 0 1 0 0 0 0 0 1 0\n",
      " 1 0 1 1 0 1 0 1 1 1 1 1 0 0 0 1 0 0 1 0 1 1 1 1 1 1 0 1 1 1 1 0 1 1 1 0 1\n",
      " 1 0 0 0 0 1 1 0 1 1 0 0 0 1 1 0 1 0 1 0 1 1 0 1 0 0 0 0 1 0 0 0 0 0 1 1 1\n",
      " 1 0 1 1 1 1 1 1 1 0 1 0 0 1 1 0 0 0 1]\n"
     ]
    }
   ],
   "source": [
    "print(Y)\n"
   ]
  },
  {
   "cell_type": "code",
   "execution_count": 26,
   "metadata": {},
   "outputs": [
    {
     "data": {
      "text/plain": [
       "(500,)"
      ]
     },
     "execution_count": 26,
     "metadata": {},
     "output_type": "execute_result"
    }
   ],
   "source": [
    "Y.shape\n"
   ]
  },
  {
   "cell_type": "code",
   "execution_count": 27,
   "metadata": {},
   "outputs": [
    {
     "name": "stdout",
     "output_type": "stream",
     "text": [
      "  (np.int32(0), np.int32(95))\t0.2907888722894147\n",
      "  (np.int32(0), np.int32(284))\t0.262877835770796\n",
      "  (np.int32(0), np.int32(510))\t0.30513711800202525\n",
      "  (np.int32(0), np.int32(722))\t0.25621791005698624\n",
      "  (np.int32(0), np.int32(846))\t0.30513711800202525\n",
      "  (np.int32(0), np.int32(1170))\t0.2907888722894147\n",
      "  (np.int32(0), np.int32(1487))\t0.32535983452184325\n",
      "  (np.int32(0), np.int32(1502))\t0.10466903452373089\n",
      "  (np.int32(0), np.int32(1523))\t0.2907888722894147\n",
      "  (np.int32(0), np.int32(1705))\t0.25621791005698624\n",
      "  (np.int32(0), np.int32(1749))\t0.27965950827950603\n",
      "  (np.int32(0), np.int32(1891))\t0.2705661557695967\n",
      "  (np.int32(0), np.int32(2094))\t0.262877835770796\n",
      "  (np.int32(0), np.int32(2204))\t0.1040752732758034\n",
      "  (np.int32(0), np.int32(2420))\t0.10743206835510255\n",
      "  (np.int32(1), np.int32(190))\t0.3171206831253853\n",
      "  (np.int32(1), np.int32(591))\t0.3171206831253853\n",
      "  (np.int32(1), np.int32(671))\t0.20933470908950744\n",
      "  (np.int32(1), np.int32(859))\t0.3171206831253853\n",
      "  (np.int32(1), np.int32(1115))\t0.3171206831253853\n",
      "  (np.int32(1), np.int32(1305))\t0.2906424983260073\n",
      "  (np.int32(1), np.int32(1502))\t0.10877967238983943\n",
      "  (np.int32(1), np.int32(1690))\t0.3381376007636162\n",
      "  (np.int32(1), np.int32(1703))\t0.2242464494632358\n",
      "  (np.int32(1), np.int32(1923))\t0.3171206831253853\n",
      "  :\t:\n",
      "  (np.int32(497), np.int32(1502))\t0.1300563976797448\n",
      "  (np.int32(497), np.int32(1530))\t0.3791478018909699\n",
      "  (np.int32(497), np.int32(1639))\t0.3045345125852124\n",
      "  (np.int32(497), np.int32(2204))\t0.12931862027175914\n",
      "  (np.int32(497), np.int32(2379))\t0.3791478018909699\n",
      "  (np.int32(497), np.int32(2420))\t0.1334896024323308\n",
      "  (np.int32(498), np.int32(96))\t0.3013050279014812\n",
      "  (np.int32(498), np.int32(278))\t0.3144380165920215\n",
      "  (np.int32(498), np.int32(552))\t0.33712622235783496\n",
      "  (np.int32(498), np.int32(813))\t0.3013050279014812\n",
      "  (np.int32(498), np.int32(1188))\t0.33712622235783496\n",
      "  (np.int32(498), np.int32(1297))\t0.33712622235783496\n",
      "  (np.int32(498), np.int32(1605))\t0.3161721668698275\n",
      "  (np.int32(498), np.int32(1635))\t0.33712622235783496\n",
      "  (np.int32(498), np.int32(2257))\t0.3013050279014812\n",
      "  (np.int32(498), np.int32(2354))\t0.2723846102431615\n",
      "  (np.int32(499), np.int32(331))\t0.37781215702261706\n",
      "  (np.int32(499), np.int32(795))\t0.3052572310038285\n",
      "  (np.int32(499), np.int32(950))\t0.37781215702261706\n",
      "  (np.int32(499), np.int32(1027))\t0.3052572310038285\n",
      "  (np.int32(499), np.int32(1177))\t0.35432927026605765\n",
      "  (np.int32(499), np.int32(1325))\t0.37781215702261706\n",
      "  (np.int32(499), np.int32(1883))\t0.324744331795728\n",
      "  (np.int32(499), np.int32(1906))\t0.24742651025435244\n",
      "  (np.int32(499), np.int32(2211))\t0.3052572310038285\n"
     ]
    },
    {
     "data": {
      "text/plain": [
       "(500, 6)"
      ]
     },
     "execution_count": 27,
     "metadata": {},
     "output_type": "execute_result"
    }
   ],
   "source": [
    "# converting the textual data to numerical data\n",
    "vectorizer = TfidfVectorizer()\n",
    "vectorizer.fit(X)\n",
    "\n",
    "X = vectorizer.transform(X)\n",
    "print(X)\n",
    "news_dataset.shape"
   ]
  },
  {
   "cell_type": "code",
   "execution_count": 28,
   "metadata": {},
   "outputs": [
    {
     "name": "stdout",
     "output_type": "stream",
     "text": [
      "[1 0 1 1 1 1 0 1 0 1 1 1 0 0 1 1 1 0 0 1 1 1 0 0 0 0 1 0 0 0 1 1 0 0 1 1 0\n",
      " 1 1 1 0 0 1 0 0 1 0 1 0 1 0 1 1 0 0 0 1 0 0 0 0 0 0 0 0 0 0 0 1 0 1 1 0 0\n",
      " 1 1 0 1 0 0 0 0 0 1 1 1 1 1 0 0 0 1 1 0 1 1 1 1 1 1]\n"
     ]
    }
   ],
   "source": [
    "X_train, X_test, Y_train, Y_test = train_test_split(X, Y, test_size = 0.2, stratify=Y, random_state=2)\n",
    "print(Y_test)"
   ]
  },
  {
   "cell_type": "markdown",
   "metadata": {},
   "source": [
    "DECISION TREE CLASSIFICATION"
   ]
  },
  {
   "cell_type": "code",
   "execution_count": 29,
   "metadata": {},
   "outputs": [],
   "source": [
    "decision_tree = DecisionTreeClassifier()"
   ]
  },
  {
   "cell_type": "code",
   "execution_count": 30,
   "metadata": {},
   "outputs": [
    {
     "name": "stdout",
     "output_type": "stream",
     "text": [
      "Accuracy Score: 0.94\n",
      "Classification Report:\n",
      "               precision    recall  f1-score   support\n",
      "\n",
      "           0    0.97872   0.90196   0.93878        51\n",
      "           1    0.90566   0.97959   0.94118        49\n",
      "\n",
      "    accuracy                        0.94000       100\n",
      "   macro avg    0.94219   0.94078   0.93998       100\n",
      "weighted avg    0.94292   0.94000   0.93995       100\n",
      "\n"
     ]
    }
   ],
   "source": [
    "dt=decision_tree.fit(X_train,Y_train)\n",
    "y_pred = dt.predict(X_test)\n",
    "accuracy = accuracy_score(Y_test, y_pred)\n",
    "print(\"Accuracy Score: {}\".format(accuracy))\n",
    "print('Classification Report:\\n', classification_report(Y_test,y_pred,digits=5))"
   ]
  },
  {
   "cell_type": "markdown",
   "metadata": {},
   "source": [
    "Prediction System on Testing Data"
   ]
  },
  {
   "cell_type": "markdown",
   "metadata": {},
   "source": [
    "Confusion Matrix"
   ]
  },
  {
   "cell_type": "code",
   "execution_count": 31,
   "metadata": {},
   "outputs": [
    {
     "name": "stdout",
     "output_type": "stream",
     "text": [
      "Confusion Matrix:\n",
      " [[46  5]\n",
      " [ 1 48]]\n"
     ]
    },
    {
     "data": {
      "image/png": "[encoded data removed]",
      "text/plain": [
       "<Figure size 800x600 with 2 Axes>"
      ]
     },
     "metadata": {},
     "output_type": "display_data"
    }
   ],
   "source": [
    "ConfusionMetrix = confusion_matrix(Y_test,y_pred)\n",
    "print(\"Confusion Matrix:\\n\", ConfusionMetrix)\n",
    "\n",
    "# Plot confusion matrix\n",
    "plt.figure(figsize=(8, 6))\n",
    "sns.heatmap(ConfusionMetrix, annot=True, fmt='d', cmap='Blues', xticklabels=['Fake', 'Real'], yticklabels=['Fake', 'Real'])\n",
    "plt.xlabel('Predicted')\n",
    "plt.ylabel('Actual')\n",
    "plt.title('Confusion Matrix')\n",
    "plt.show()"
   ]
  },
  {
   "cell_type": "markdown",
   "metadata": {},
   "source": [
    "Prediction Oon TestingData"
   ]
  },
  {
   "cell_type": "code",
   "execution_count": 32,
   "metadata": {},
   "outputs": [
    {
     "name": "stdout",
     "output_type": "stream",
     "text": [
      "[0]\n",
      "The news is Real\n"
     ]
    }
   ],
   "source": [
    "X_new = X_test[1]\n",
    "\n",
    "prediction = dt.predict(X_new)\n",
    "print(prediction)\n",
    "\n",
    "if (prediction[0]==0):\n",
    "  print('The news is Real')\n",
    "else:\n",
    "  print('The news is Fake')"
   ]
  },
  {
   "cell_type": "markdown",
   "metadata": {},
   "source": [
    "Manual Testing"
   ]
  },
  {
   "cell_type": "code",
   "execution_count": 33,
   "metadata": {},
   "outputs": [
    {
     "name": "stdout",
     "output_type": "stream",
     "text": [
      "The news is Fake [1]\n"
     ]
    }
   ],
   "source": [
    "def manual_DT_prediction():\n",
    "    # Taking input of any news in form of text\n",
    "    X = input(\"ENTER A NEWS FOR PREDICTION: \")\n",
    "    # Apply stemming to the input text\n",
    "    X_new = stemming(X)\n",
    "\n",
    "    # Vectorize the stemmed textvectorizer.fit(X)\n",
    "    X = vectorizer.transform([X_new])\n",
    "    X = X.toarray()\n",
    "    \n",
    "    # Make the prediction\n",
    "    prediction = dt.predict(X)\n",
    "    if (prediction==0):\n",
    "     print('The news is Real '+prediction)\n",
    "    else:\n",
    "     print('The news is Fake',prediction)\n",
    "\n",
    "# Example usage\n",
    "manual_DT_prediction()"
   ]
  }
 ],
 "metadata": {
  "kernelspec": {
   "display_name": "Python 3",
   "language": "python",
   "name": "python3"
  },
  "language_info": {
   "codemirror_mode": {
    "name": "ipython",
    "version": 3
   },
   "file_extension": ".py",
   "mimetype": "text/x-python",
   "name": "python",
   "nbconvert_exporter": "python",
   "pygments_lexer": "ipython3",
   "version": "3.12.4"
  }
 },
 "nbformat": 4,
 "nbformat_minor": 2
}
