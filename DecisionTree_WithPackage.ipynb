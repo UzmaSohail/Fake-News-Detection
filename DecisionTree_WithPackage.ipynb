{
 "cells": [
  {
   "cell_type": "code",
   "execution_count": null,
   "metadata": {},
   "outputs": [],
   "source": [
    "pip install numpy\n"
   ]
  },
  {
   "cell_type": "code",
   "execution_count": null,
   "metadata": {},
   "outputs": [],
   "source": [
    "pip install pandas"
   ]
  },
  {
   "cell_type": "code",
   "execution_count": null,
   "metadata": {},
   "outputs": [],
   "source": [
    "pip install matplotlib"
   ]
  },
  {
   "cell_type": "code",
   "execution_count": null,
   "metadata": {},
   "outputs": [],
   "source": [
    "\n",
    "pip install nltk\n"
   ]
  },
  {
   "cell_type": "code",
   "execution_count": null,
   "metadata": {},
   "outputs": [],
   "source": [
    "\n",
    "pip install nltk\n"
   ]
  },
  {
   "cell_type": "code",
   "execution_count": null,
   "metadata": {},
   "outputs": [],
   "source": [
    "pip install scikit-learn\n"
   ]
  },
  {
   "cell_type": "code",
   "execution_count": null,
   "metadata": {},
   "outputs": [],
   "source": [
    "pip install seaborn"
   ]
  },
  {
   "cell_type": "code",
   "execution_count": 40,
   "metadata": {},
   "outputs": [],
   "source": [
    "import numpy as np\n",
    "import pandas as pd\n",
    "import re\n",
    "import matplotlib.pyplot as plt\n",
    "import seaborn as sns\n",
    "from nltk.corpus import stopwords\n",
    "from nltk.stem.porter import PorterStemmer\n",
    "from sklearn.feature_extraction.text import TfidfVectorizer\n",
    "from sklearn.model_selection import train_test_split\n",
    "from sklearn.tree import DecisionTreeClassifier\n",
    "from sklearn.metrics import accuracy_score, classification_report"
   ]
  },
  {
   "cell_type": "code",
   "execution_count": 41,
   "metadata": {},
   "outputs": [
    {
     "name": "stderr",
     "output_type": "stream",
     "text": [
      "[nltk_data] Downloading package stopwords to\n",
      "[nltk_data]     C:\\Users\\hp\\AppData\\Roaming\\nltk_data...\n",
      "[nltk_data]   Package stopwords is already up-to-date!\n"
     ]
    },
    {
     "data": {
      "text/plain": [
       "True"
      ]
     },
     "execution_count": 41,
     "metadata": {},
     "output_type": "execute_result"
    }
   ],
   "source": [
    "import nltk\n",
    "nltk.download('stopwords')"
   ]
  },
  {
   "cell_type": "code",
   "execution_count": 42,
   "metadata": {},
   "outputs": [
    {
     "name": "stdout",
     "output_type": "stream",
     "text": [
      "['i', 'me', 'my', 'myself', 'we', 'our', 'ours', 'ourselves', 'you', \"you're\", \"you've\", \"you'll\", \"you'd\", 'your', 'yours', 'yourself', 'yourselves', 'he', 'him', 'his', 'himself', 'she', \"she's\", 'her', 'hers', 'herself', 'it', \"it's\", 'its', 'itself', 'they', 'them', 'their', 'theirs', 'themselves', 'what', 'which', 'who', 'whom', 'this', 'that', \"that'll\", 'these', 'those', 'am', 'is', 'are', 'was', 'were', 'be', 'been', 'being', 'have', 'has', 'had', 'having', 'do', 'does', 'did', 'doing', 'a', 'an', 'the', 'and', 'but', 'if', 'or', 'because', 'as', 'until', 'while', 'of', 'at', 'by', 'for', 'with', 'about', 'against', 'between', 'into', 'through', 'during', 'before', 'after', 'above', 'below', 'to', 'from', 'up', 'down', 'in', 'out', 'on', 'off', 'over', 'under', 'again', 'further', 'then', 'once', 'here', 'there', 'when', 'where', 'why', 'how', 'all', 'any', 'both', 'each', 'few', 'more', 'most', 'other', 'some', 'such', 'no', 'nor', 'not', 'only', 'own', 'same', 'so', 'than', 'too', 'very', 's', 't', 'can', 'will', 'just', 'don', \"don't\", 'should', \"should've\", 'now', 'd', 'll', 'm', 'o', 're', 've', 'y', 'ain', 'aren', \"aren't\", 'couldn', \"couldn't\", 'didn', \"didn't\", 'doesn', \"doesn't\", 'hadn', \"hadn't\", 'hasn', \"hasn't\", 'haven', \"haven't\", 'isn', \"isn't\", 'ma', 'mightn', \"mightn't\", 'mustn', \"mustn't\", 'needn', \"needn't\", 'shan', \"shan't\", 'shouldn', \"shouldn't\", 'wasn', \"wasn't\", 'weren', \"weren't\", 'won', \"won't\", 'wouldn', \"wouldn't\"]\n"
     ]
    }
   ],
   "source": [
    "# printing the stopwords in English\n",
    "print(stopwords.words('english'))"
   ]
  },
  {
   "cell_type": "code",
   "execution_count": 43,
   "metadata": {},
   "outputs": [],
   "source": [
    "# loading the dataset to a pandas DataFrame\n",
    "news_dataset = pd.read_csv('train.csv')"
   ]
  },
  {
   "cell_type": "code",
   "execution_count": 44,
   "metadata": {},
   "outputs": [
    {
     "data": {
      "text/plain": [
       "(20800, 5)"
      ]
     },
     "execution_count": 44,
     "metadata": {},
     "output_type": "execute_result"
    }
   ],
   "source": [
    "news_dataset.shape\n"
   ]
  },
  {
   "cell_type": "code",
   "execution_count": 45,
   "metadata": {},
   "outputs": [
    {
     "data": {
      "text/html": [
       "<div>\n",
       "<style scoped>\n",
       "    .dataframe tbody tr th:only-of-type {\n",
       "        vertical-align: middle;\n",
       "    }\n",
       "\n",
       "    .dataframe tbody tr th {\n",
       "        vertical-align: top;\n",
       "    }\n",
       "\n",
       "    .dataframe thead th {\n",
       "        text-align: right;\n",
       "    }\n",
       "</style>\n",
       "<table border=\"1\" class=\"dataframe\">\n",
       "  <thead>\n",
       "    <tr style=\"text-align: right;\">\n",
       "      <th></th>\n",
       "      <th>id</th>\n",
       "      <th>title</th>\n",
       "      <th>author</th>\n",
       "      <th>text</th>\n",
       "      <th>label</th>\n",
       "    </tr>\n",
       "  </thead>\n",
       "  <tbody>\n",
       "    <tr>\n",
       "      <th>0</th>\n",
       "      <td>0</td>\n",
       "      <td>House Dem Aide: We Didn’t Even See Comey’s Let...</td>\n",
       "      <td>Darrell Lucus</td>\n",
       "      <td>House Dem Aide: We Didn’t Even See Comey’s Let...</td>\n",
       "      <td>1</td>\n",
       "    </tr>\n",
       "    <tr>\n",
       "      <th>1</th>\n",
       "      <td>1</td>\n",
       "      <td>FLYNN: Hillary Clinton, Big Woman on Campus - ...</td>\n",
       "      <td>Daniel J. Flynn</td>\n",
       "      <td>Ever get the feeling your life circles the rou...</td>\n",
       "      <td>0</td>\n",
       "    </tr>\n",
       "    <tr>\n",
       "      <th>2</th>\n",
       "      <td>2</td>\n",
       "      <td>Why the Truth Might Get You Fired</td>\n",
       "      <td>Consortiumnews.com</td>\n",
       "      <td>Why the Truth Might Get You Fired October 29, ...</td>\n",
       "      <td>1</td>\n",
       "    </tr>\n",
       "    <tr>\n",
       "      <th>3</th>\n",
       "      <td>3</td>\n",
       "      <td>15 Civilians Killed In Single US Airstrike Hav...</td>\n",
       "      <td>Jessica Purkiss</td>\n",
       "      <td>Videos 15 Civilians Killed In Single US Airstr...</td>\n",
       "      <td>1</td>\n",
       "    </tr>\n",
       "    <tr>\n",
       "      <th>4</th>\n",
       "      <td>4</td>\n",
       "      <td>Iranian woman jailed for fictional unpublished...</td>\n",
       "      <td>Howard Portnoy</td>\n",
       "      <td>Print \\nAn Iranian woman has been sentenced to...</td>\n",
       "      <td>1</td>\n",
       "    </tr>\n",
       "  </tbody>\n",
       "</table>\n",
       "</div>"
      ],
      "text/plain": [
       "   id                                              title              author  \\\n",
       "0   0  House Dem Aide: We Didn’t Even See Comey’s Let...       Darrell Lucus   \n",
       "1   1  FLYNN: Hillary Clinton, Big Woman on Campus - ...     Daniel J. Flynn   \n",
       "2   2                  Why the Truth Might Get You Fired  Consortiumnews.com   \n",
       "3   3  15 Civilians Killed In Single US Airstrike Hav...     Jessica Purkiss   \n",
       "4   4  Iranian woman jailed for fictional unpublished...      Howard Portnoy   \n",
       "\n",
       "                                                text  label  \n",
       "0  House Dem Aide: We Didn’t Even See Comey’s Let...      1  \n",
       "1  Ever get the feeling your life circles the rou...      0  \n",
       "2  Why the Truth Might Get You Fired October 29, ...      1  \n",
       "3  Videos 15 Civilians Killed In Single US Airstr...      1  \n",
       "4  Print \\nAn Iranian woman has been sentenced to...      1  "
      ]
     },
     "execution_count": 45,
     "metadata": {},
     "output_type": "execute_result"
    }
   ],
   "source": [
    "news_dataset.head()"
   ]
  },
  {
   "cell_type": "code",
   "execution_count": 46,
   "metadata": {},
   "outputs": [
    {
     "name": "stderr",
     "output_type": "stream",
     "text": [
      "C:\\Users\\hp\\AppData\\Local\\Temp\\ipykernel_2932\\1529447720.py:2: FutureWarning: \n",
      "\n",
      "Passing `palette` without assigning `hue` is deprecated and will be removed in v0.14.0. Assign the `x` variable to `hue` and set `legend=False` for the same effect.\n",
      "\n",
      "  sns.countplot(x='label', data = news_dataset, palette = 'mako',saturation = 1)\n"
     ]
    },
    {
     "data": {
      "image/png": "[encoded data removed]",
      "text/plain": [
       "<Figure size 600x400 with 1 Axes>"
      ]
     },
     "metadata": {},
     "output_type": "display_data"
    }
   ],
   "source": [
    "plt.figure(figsize = (6,4))\n",
    "sns.countplot(x='label', data = news_dataset, palette = 'mako',saturation = 1)\n",
    "plt.title(\"Real Vs. Fake News count\", fontsize = 12)\n",
    "plt.show()"
   ]
  },
  {
   "cell_type": "code",
   "execution_count": 47,
   "metadata": {},
   "outputs": [
    {
     "data": {
      "text/plain": [
       "id           0\n",
       "title      558\n",
       "author    1957\n",
       "text        39\n",
       "label        0\n",
       "dtype: int64"
      ]
     },
     "execution_count": 47,
     "metadata": {},
     "output_type": "execute_result"
    }
   ],
   "source": [
    "# counting the number of missing values in the dataset\n",
    "news_dataset.isnull().sum()\n"
   ]
  },
  {
   "cell_type": "code",
   "execution_count": 48,
   "metadata": {},
   "outputs": [],
   "source": [
    "# replacing the null values with empty string\n",
    "news_dataset = news_dataset.fillna('')\n"
   ]
  },
  {
   "cell_type": "code",
   "execution_count": 49,
   "metadata": {},
   "outputs": [
    {
     "name": "stdout",
     "output_type": "stream",
     "text": [
      "0        Darrell Lucus House Dem Aide: We Didn’t Even S...\n",
      "1        Daniel J. Flynn FLYNN: Hillary Clinton, Big Wo...\n",
      "2        Consortiumnews.com Why the Truth Might Get You...\n",
      "3        Jessica Purkiss 15 Civilians Killed In Single ...\n",
      "4        Howard Portnoy Iranian woman jailed for fictio...\n",
      "                               ...                        \n",
      "20795    Jerome Hudson Rapper T.I.: Trump a ’Poster Chi...\n",
      "20796    Benjamin Hoffman N.F.L. Playoffs: Schedule, Ma...\n",
      "20797    Michael J. de la Merced and Rachel Abrams Macy...\n",
      "20798    Alex Ansary NATO, Russia To Hold Parallel Exer...\n",
      "20799              David Swanson What Keeps the F-35 Alive\n",
      "Name: content, Length: 20800, dtype: object\n"
     ]
    }
   ],
   "source": [
    "# merging the author name and news title\n",
    "news_dataset['content'] = news_dataset['author']+' '+news_dataset['title']\n",
    "print(news_dataset['content'])"
   ]
  },
  {
   "cell_type": "code",
   "execution_count": 50,
   "metadata": {},
   "outputs": [
    {
     "name": "stdout",
     "output_type": "stream",
     "text": [
      "          id                                              title  \\\n",
      "7007    7007  Poll: 56 Percent of Democrats Want All of Trum...   \n",
      "10115  10115  FBI reopens Hillary investigation – with evide...   \n",
      "20709  20709  Car Thief Leads Police on Slow-Speed Chase Bec...   \n",
      "10271  10271  Homeless Man Allegedly Broke into 4 Houses of ...   \n",
      "7389    7389           Hillary’s Silent Plan to Destroy America   \n",
      "...      ...                                                ...   \n",
      "3639    3639  California State Senate Leader: ’Half My Famil...   \n",
      "5273    5273  Republican Leader Now Proposes Taking Away Sen...   \n",
      "1892    1892  Shocking! Nostradamus Predicted Donald Trump's...   \n",
      "4238    4238  Peter Thiel: Globalization is Over, ’It Feels ...   \n",
      "10819  10819  UKIP urge government to ‘do something’ about t...   \n",
      "\n",
      "                                        author  \\\n",
      "7007                              Katie McHugh   \n",
      "10115                                J.E. Dyer   \n",
      "20709                       Warner Todd Huston   \n",
      "10271                      Katherine Rodriguez   \n",
      "7389                               Dave Hodges   \n",
      "...                                        ...   \n",
      "3639                  Assemblyman Tim Donnelly   \n",
      "5273                                             \n",
      "1892   Arnold Monteverde (noreply@blogger.com)   \n",
      "4238                              Charlie Nash   \n",
      "10819                               throngsman   \n",
      "\n",
      "                                                    text  \\\n",
      "7007   A majority of Democrats and liberal voters wan...   \n",
      "10115  Print \\n[Ed. – Hollywood wouldn’t dare dream t...   \n",
      "20709  A car thief in Birmingham, Alabama, who led po...   \n",
      "10271  A homeless man allegedly broke into four house...   \n",
      "7389   PLEASE SUBSCRIBE TO OUR YOUTUBE CHANNEL AND DO...   \n",
      "...                                                  ...   \n",
      "3639   California State Senate President Pro Tem Kevi...   \n",
      "5273   Share on Facebook \\nPresident Obama is just we...   \n",
      "1892   There have been many prophets and seers throug...   \n",
      "4238   Billionaire tech entrepreneur and adviser to P...   \n",
      "10819  November 14, 2016 \\n‘It’s clear the moon is ma...   \n",
      "\n",
      "                                                 content  \n",
      "7007   Katie McHugh Poll: 56 Percent of Democrats Wan...  \n",
      "10115  J.E. Dyer FBI reopens Hillary investigation – ...  \n",
      "20709  Warner Todd Huston Car Thief Leads Police on S...  \n",
      "10271  Katherine Rodriguez Homeless Man Allegedly Bro...  \n",
      "7389   Dave Hodges Hillary’s Silent Plan to Destroy A...  \n",
      "...                                                  ...  \n",
      "3639   Assemblyman Tim Donnelly California State Sena...  \n",
      "5273    Republican Leader Now Proposes Taking Away Se...  \n",
      "1892   Arnold Monteverde (noreply@blogger.com) Shocki...  \n",
      "4238   Charlie Nash Peter Thiel: Globalization is Ove...  \n",
      "10819  throngsman UKIP urge government to ‘do somethi...  \n",
      "\n",
      "[500 rows x 5 columns]\n",
      "7007     0\n",
      "10115    1\n",
      "20709    0\n",
      "10271    0\n",
      "7389     1\n",
      "        ..\n",
      "3639     0\n",
      "5273     1\n",
      "1892     1\n",
      "4238     0\n",
      "10819    1\n",
      "Name: label, Length: 500, dtype: int64\n"
     ]
    }
   ],
   "source": [
    "# separating the data & label\n",
    "news_dataset = news_dataset.sample(n=500)\n",
    "X = news_dataset.drop(columns='label', axis=1)\n",
    "Y = news_dataset['label']\n",
    "print(X)\n",
    "print(Y)"
   ]
  },
  {
   "cell_type": "code",
   "execution_count": 51,
   "metadata": {},
   "outputs": [],
   "source": [
    "port_stem = PorterStemmer()\n"
   ]
  },
  {
   "cell_type": "code",
   "execution_count": 52,
   "metadata": {},
   "outputs": [],
   "source": [
    "def stemming(content):\n",
    "    stemmed_content = re.sub('[^a-zA-Z]',' ',content)\n",
    "    stemmed_content = stemmed_content.lower()\n",
    "    stemmed_content = stemmed_content.split()\n",
    "    stemmed_content = [port_stem.stem(word) for word in stemmed_content if not word in stopwords.words('english')]\n",
    "    stemmed_content = ' '.join(stemmed_content)\n",
    "    return stemmed_content\n"
   ]
  },
  {
   "cell_type": "code",
   "execution_count": 53,
   "metadata": {},
   "outputs": [
    {
     "name": "stdout",
     "output_type": "stream",
     "text": [
      "7007     kati mchugh poll percent democrat want trump n...\n",
      "10115    j e dyer fbi reopen hillari investig evid anth...\n",
      "20709    warner todd huston car thief lead polic slow s...\n",
      "10271    katherin rodriguez homeless man allegedli brok...\n",
      "7389         dave hodg hillari silent plan destroy america\n",
      "                               ...                        \n",
      "3639     assemblyman tim donnelli california state sena...\n",
      "5273     republican leader propos take away senior heal...\n",
      "1892     arnold monteverd norepli blogger com shock nos...\n",
      "4238     charli nash peter thiel global feel date breit...\n",
      "10819          throngsman ukip urg govern someth supermoon\n",
      "Name: content, Length: 500, dtype: object\n"
     ]
    }
   ],
   "source": [
    "news_dataset['content'] = news_dataset['content'].apply(stemming)\n",
    "print(news_dataset['content'])"
   ]
  },
  {
   "cell_type": "code",
   "execution_count": 54,
   "metadata": {},
   "outputs": [
    {
     "name": "stdout",
     "output_type": "stream",
     "text": [
      "['kati mchugh poll percent democrat want trump nomine block breitbart'\n",
      " 'j e dyer fbi reopen hillari investig evid anthoni weiner sext scandal'\n",
      " 'warner todd huston car thief lead polic slow speed chase drive stick shift'\n",
      " 'katherin rodriguez homeless man allegedli broke hous worship get back god breitbart'\n",
      " 'dave hodg hillari silent plan destroy america'\n",
      " 'joe nocera navi open back door come athlet victori new york time'\n",
      " 'virgil virgil donald trump vs main stream media presid elect beat press combat come'\n",
      " 'alan blinder orlando gunman shot least time autopsi find new york time'\n",
      " 'activist post cop fire tear ga water protector attempt reclaim sacr land'\n",
      " 'katherin rodriguez joy villa design grammi support presid'\n",
      " 'john schwartz jennif steinhauer eric lipton ron nixon trump meet al gore climat chang hous g p rebuff tariff plan new york time'\n",
      " 'doug p insan watch care architect jonathan gruber explain cost freedom'\n",
      " 'hillari plan escap trump win billion money transfer qatar'\n",
      " 'tim arango effort defeat isi u iran imped one anoth new york time'\n",
      " 'breitbart jerusalem least u jewish center get bomb threat'\n",
      " 'christoph mele denni byrd former jet player kill car crash oklahoma new york time'\n",
      " 'cop accident discharg weapon send bullet wall daycar center'\n",
      " 'henri wolff illinoi senat draw fire racial charg attack oppon famili'\n",
      " 'ian greenhalgh rock star roger water said lose anti israel activ'\n",
      " 'liam stack bar girl leg unit airlin defend decis new york time'\n",
      " 'mitch smith f b treat minnesota mall stab attack potenti act terror new york time'\n",
      " 'warner todd huston california ban travel state less friendli lgbt law could stop ucla play ncaa breitbart'\n",
      " 'clinton campaign paid beyonc jay z million cleveland concert secur black vote empir herald'\n",
      " 'norepli blogger com alexand light soro fund anarcho terrorist plot overthrow us govern'\n",
      " 'dave hodg scandal video footag anonym expos huma hillari'\n",
      " 'boryana dzhambazova support e u flag elsewher bulgaria see benefit new york time'\n",
      " 'breitbart news cnn op ed saudi love melania trump repres submiss men breitbart'\n",
      " 'aaron e carrol doctor drop food kitchen floor still eat new york time'\n",
      " 'cliff kincaid spi scandal global betray america'\n",
      " 'timmi comment pm water cooler timmi'\n",
      " 'admin swedish mp quit disgust jewish ownership media includ short video red ice radio'\n",
      " 'lee adler insuffici liquid sustain ralli stock'\n",
      " 'poke staff make home feel welcom'\n",
      " 'whether trump clinton win us elect follow us' 'hillari polit scientist'\n",
      " 'shorti global expressway univers slaveri'\n",
      " 'jeremi w peter ted cruz support soften among deleg court new york time'\n",
      " ''\n",
      " 'alan blinder kevin sack dylann roof found guilti charleston church massacr new york time'\n",
      " 'breitbart jerusalem syrian report isra drone strike kill pro assad militia member breitbart'\n",
      " 'b next step clean democrat parti oppos trump'\n",
      " 'denni overby particl new york time' 'anonym'\n",
      " 'genoss dummkopf trump see today final killer blunder'\n",
      " 'amanda froelich polic turn badg rather incit violenc stand rock protestor'\n",
      " 'jerri lynn scofield non opec produc expect cut'\n",
      " 'karen workman sandra stevenson taiwan itali joe mcknight friday even brief new york time'\n",
      " 'liam stack jess bidgood heavi snowfal forecast across northeastern u new york time'\n",
      " 'zaphod nasa test flight fold wing'\n",
      " 'john koblin emmi nomin game throne rule new york time'\n",
      " 'edmondo burr french politician blame uk welfar system calai jungl crisi'\n",
      " 'stronghors sourc say grand juri conven coverup lavoy finicum murder fbi hrt team member may indict'\n",
      " 'wmw admin russian navi move guid missil ship baltic'\n",
      " 'alan rappeport donald trump long benefit trade practic scorn new york time'\n",
      " 'pavel tarasenko la presion de ee uu la otan han influido en espa noticia de rusia rbth'\n",
      " 'brisban dad take backyard wicket frighten return form'\n",
      " 'nick wingfield mike isaac kati benner googl facebook take aim fake news site new york time'\n",
      " 'breitbart news breitbart news daili dutch elect result breitbart'\n",
      " 'eric lipton g p hurri slash oil ga rule end industri year wait new york time'\n",
      " 'mike rivero color rev agit prop georg soro moveon agit march america billionair instig su'\n",
      " 'ildefonso ortiz border patrol union trump border plan give us tool need'\n",
      " 'steve watson germani student forc chant allahu akbar punish refus trip mosqu'\n",
      " 'b unprincipl wapo editor damn comey critic join'\n",
      " 'russia today rusia rusia china arabia saudita ponen en jaqu la hegemon del lar por ariel noyola rodr guez'\n",
      " 'dyann weiss u health care lag behind cost countri'\n",
      " 'lindsay crous mari keitani kenya win rd straight new york citi marathon new york time'\n",
      " 'daesh returne syria could launch chemic attack watchdog russia news'\n",
      " 'everyon get hammer tonight bad reason'\n",
      " 'madelin solar erupt watch satellit glitch news oct video'\n",
      " 'robin g kelley trump say go back say fight back'\n",
      " 'dylan gwinn new york post nfl writer send delet tweet compar trump inaugur pearl harbor breitbart'\n",
      " 'michael shear emmari huetteman trump insist mexico pay wall u begin work new york time'\n",
      " 'thoma dilorenzo weinerg'\n",
      " 'john binder big busi lobbi prais h b expans plan'\n",
      " 'charli spier donald trump attack bring team obama retir'\n",
      " 'hiroko tabuchi stake trump propos e p cut new york time'\n",
      " 'aaron klein ali wake exclus islam state support vow shake west follow manchest terrorist massacr breitbart'\n",
      " 'jona e alexi former c specialist philip giraldi narr need revis'\n",
      " 'daisi luther thing learn hillari clinton wikileak msm share'\n",
      " 'anemona hartocolli colleg student protest alumni fond fade check shrink new york time'\n",
      " 'jennif steinhauer steve king hurl insult immigr rebuk parti new york time'\n",
      " 'pay play hillari two big favor morocco net million truthfe'\n",
      " 'lesli picker mondelez abandon effort combin hershey new york time'\n",
      " 'letsber'\n",
      " 'alan rappeport democrat turn hint shutdown border wall fund new york time'\n",
      " 'adam shaw republican face violenc death threat left wing activist'\n",
      " 'jonathan mahler donald trump call profil stop terrorist new york time'\n",
      " 'henri wolff obsess europ refuge crisi ignor africa white privileg work'\n",
      " 'german want breath russian natur ga without ukrain'\n",
      " 'richard fausset end specul black colleg say band play inaugur parad new york time'\n",
      " 'ildefonso ortiz illeg immigr caught border child porn year old phone'\n",
      " 'jerom hudson alan colm dead'\n",
      " 'jame devinn fox news admit made stori hillari indict foundat'\n",
      " 'damien cave darci eveleigh resurrect citi tent erect fight poverti new york time'\n",
      " 'alex ansari russia china look autonom financi system'\n",
      " 'gillian bondag expect'\n",
      " 'seth kugel get visit world famou site new york time'\n",
      " 'mikael thalen email got john podesta hack'\n",
      " 'john wight raqqa key us strategi syria wider region'\n",
      " 'sheryl gay stolberg jess bidgood prosecutor say baltimor polic mishandl freddi gray case new york time'\n",
      " '' 'jimq civil war ii fourth turn intensifi part'\n",
      " 'sarah jone media got sucker buy gop bogu clinton fbi email tale'\n",
      " 'oleg jegorow schlacht um mossul steht ein zweit aleppo bevor'\n",
      " 'colin todhunt lower yield agropoison point gm mustard india'\n",
      " 'ian mason senat judiciari committe send gorsuch vote breitbart'\n",
      " 'warner todd huston suburban chicago school teach blackenom tran right white genocid black breitbart'\n",
      " 'current concern switzerland great nuclear war prevent'\n",
      " 'norepli blogger com alexand light russel brand brilliantli explain trump elect'\n",
      " 'theolin isaacson' 'vanessa friedman hillari wore white new york time'\n",
      " 'jame delingpol delingpol total hate big oil'\n",
      " 'jame glanz rami nazzal smuggler west bank open door job israel violenc new york time'\n",
      " 'toddler becom spheric winter' 'joachim hagopian anoth us fals flag'\n",
      " 'sheryl gay stolberg still lot peopl die new york time'\n",
      " 'barenakedislam rig crook hillari crook vote machin'\n",
      " 'john binder tech exec indict h b visa fraud'\n",
      " 'life thing happen everi jane austen stori ever'\n",
      " 'denis gradi har immun system fight cancer new york time'\n",
      " 'john carney public employe shadow world american carnag'\n",
      " 'eric asimov beer outdoor around clock new york time'\n",
      " 'jerom hudson teen vogu call march sharia hate speech breitbart'\n",
      " 'hurrican matthew near u resid get warn prepar new york time'\n",
      " 'banana republ elect unit state'\n",
      " 'barenakedislam go muslim tri claim hebrew languag dead sea scroll arab muslim origin'\n",
      " 'rt'\n",
      " 'adel nazarian massiv pillow fight downtown lo angel april fool day breitbart'\n",
      " 'robert j marlow mexican soccer fan boo star spangl banner world cup qualifi breitbart'\n",
      " 'goal neomasculin movement trump first term comment pace reach goal goal neomasculin movement trump first term'\n",
      " 'michael shear colin powel hack email show scorn trump irrit clinton new york time'\n",
      " 'jeff poor fnc geraldo rivera withdraw opposit wall breitbart'\n",
      " 'debbi menon comment work class elect paul craig robert debbi menon'\n",
      " 'charli nash youtub restor conserv legal insurrect channel follow backlash breitbart'\n",
      " 'trump make last minut push appeal white onion america finest news sourc'\n",
      " 'wesley morri beyonc unearth pain let flow lemonad new york time'\n",
      " 'global expressway univers slaveri'\n",
      " 'carol adl british pm refus withdraw support saudi arabia'\n",
      " 'donald trump hillari clinton rap song oligarchi'\n",
      " 'sam j tweet lot jame keef blast joy reid say real journalist'\n",
      " 'matt flegenheim earthquak aftershock elect new york time'\n",
      " 'doc fbi close hillari'\n",
      " 'ronda kaysen tip doorman tip holiday tradit new york time'\n",
      " 'jack montgomeri fake news rig media misrepres hungarian pm racist'\n",
      " 'luca nolan facebook add suicid prevent tool live stream breitbart'\n",
      " 'sausag machin sun realli darken imag brexit legal challeng winner gina miller'\n",
      " 'shaila dewan andrew w lehren crime price second chanc new york time'\n",
      " 'gretchen reynold carb workout may fend cold new york time'\n",
      " 'selwyn duke say fed michigan town tell obama muslim migrant us'\n",
      " 'admin orissa leak email show govern corrupt approv aspartam'\n",
      " 'pam key hillari clinton email scandal biggest noth burger ever breitbart'\n",
      " 'scar mart nez efren lemu carlo mart nez deborah sontag killer shoestr insid gang el salvador new york time'\n",
      " 'selwyn duke clinton fixer spike damag stori sexual deprav moral corrupt hillari'\n",
      " 'kimberli bradley far right parti austria challeng result presidenti vote new york time'\n",
      " 'fcc pass sweep internet privaci rule big win civil right'\n",
      " 'allum bokhari cnnleak cnn editor claim debat climat chang call fox news unbear'\n",
      " 'bloodsh predict us elect'\n",
      " 'luz marina forniel nchez el turismo un fil n que florec pese al bloqueo imperi por luz marina forniel nchez'\n",
      " 'john hayward asra nomani alt left wage propaganda war cyber jihad claim america'\n",
      " 'jason howerton break vp candid mike penc plane skid runway tear tarmac nyc airport'\n",
      " 'ryan saavedra alleg mexican cartel oper charg colorado'\n",
      " 'kati mchugh rasmussen percent support temporari ban refuge terror export countri breitbart'\n",
      " 'juliu hubri obama buri nuclear code white hous back garden'\n",
      " 'juli hirschfeld davi obama tax return hint post presid plan new york time'\n",
      " 'ian hanchett trump terror one gravest threat religi freedom breitbart'\n",
      " 'luca nolan porn star bitten shark underwat shoot'\n",
      " 'eric odom time repeal replac mainstream media'\n",
      " 'melena ryzik billi joe armstrong punk seek seren insid chao new york time'\n",
      " 'lesli picker wall street bonus expect sink rd straight year new york time'\n",
      " 'death million yemeni forgotten war'\n",
      " 'alex ansari report fbi clinton foundat probe like lead indict'\n",
      " 'edmondo burr fbi scour k email link privat server use hillari clinton'\n",
      " 'christoph david go guava hair need guava leav'\n",
      " 'nelson schwartz michael j de la merc trump take credit sprint plan add job u new york time'\n",
      " 'minsk meet held determin statu donetsk lugansk expect much russia news'\n",
      " 'redacci n la frase destacada del debat de investidura'\n",
      " 'ice agent commit suicid nyc leav note reveal gov plan round disarm american econom bank collaps endingf news network'\n",
      " 'colm williamson russia could invad fridg within hour' 'flood'\n",
      " 'ian hanchett az sheriff illeg immigr goe hand hand almost alway drug human traffick breitbart'\n",
      " 'henri fountain global temperatur cours anoth record year new york time'\n",
      " 'juli hirschfeld davi trump obama hold cordial minut meet oval offic new york time'\n",
      " 'starkman hillari clinton campaign use green screen today low turnout ralli'\n",
      " 'michael snyder halloween evil witch occultist satanist celebr halloween'\n",
      " 'peter van buren help want appli'\n",
      " 'tom cahil someon made guid see hate crime'\n",
      " 'voltairenet org john kerri remark chicago council global affair john f kerri'\n",
      " 'ami moreno break new poll trump lead new hampshir truthfe'\n",
      " 'jeff poor kellyann conway gener flynn enjoy full confid presid breitbart'\n",
      " 'declan walsh hijack end peac libyan airlin land malta new york time'\n",
      " 'sui lee wee though awash fake china rethink counterfeit hunter new york time'\n",
      " 'peter baker glenn thrush maggi haberman rocki first weekend trump troubl even top aid new york time'\n",
      " 'jonah engel bromwich queen elizabeth ii make first public appear sinc dec new york time'\n",
      " 'heather callaghan easi gourmet recip hearti autumn dinner'\n",
      " 'nate church facebook close hundr oculu vr demo station breitbart'\n",
      " 'staci cowley andrew hinderak trump cabinet refuge ban grammi weekend brief new york time'\n",
      " 'nichola st fleur prey reason turtl first came shell new york time'\n",
      " 'clair bernish brother clinton campaign chair activ foreign agent saudi arabian payrol'\n",
      " 'steven erlang theresa may grill u k missil test failur new york time'\n",
      " 'sean adl tabatabai brazil releas million mutant gm mosquito'\n",
      " 'jerom hudson watch mandi moor shark bait meter trailer breitbart'\n",
      " 'hillari clinton name attorney gener'\n",
      " 'sarah lyall luck run leader brexit campaign new york time'\n",
      " 'lanc schuttler thank recreat marijuana pass californian former charg downgrad'\n",
      " 'jane chastain elect crossroad social capit'\n",
      " 'le gard fronti re se mettent en alert pour repouss le premi re vagu de migrant ricain le gorafi'\n",
      " 'jaim yaya barri dionn searcey gambia presid power year lose elect new york time'\n",
      " 'voltairenet org la crisi de twitter nada es para siempr'\n",
      " 'dr susan berri aft presid weingarten trump budget take meat cleaver public educ'\n",
      " 'jason ditz turkey rivalri kurd like complic raqqa invas'\n",
      " 'howard portnoy colin kaepernick host know right camp oakland area youth'\n",
      " 'charli spier sean spicer scold media lack interest susan rice stori'\n",
      " 'elijah johnson come unpreced us bond dump jim willi'\n",
      " 'adam nossit french elect near le pen target voter parti repel new york time'\n",
      " 'daniel brook daniel brook first time saw billboard new york time'\n",
      " 'jo becker adam goldman michael schmidt matt apuzzo n contractor arrest possibl new theft secret new york time'\n",
      " 'andrea kannapel david scull zika olymp u presidenti race weekend brief new york time'\n",
      " 'come ice age conscious afterlif'\n",
      " 'jenna wortham amanda hess margaret lyon girl final us show get better new york time'\n",
      " 'matt flegenheim mike pompeo confirm lead c rex tillerson advanc new york time'\n",
      " 'robert frank talk radic pragmat economi'\n",
      " 'lindsay crous ultra runner karl meltzer set appalachian trail record fuel beer candi new york time'\n",
      " 'michel moon report trump tell alli plan remov u pari climat agreement breitbart'\n",
      " 'landon thoma jr central bank worri engag world market brexit new york time'\n",
      " 'tom winter norepli blogger com putin trump phone view better relat progress syria'\n",
      " 'bob reinhard earthquak strike japan tsunami alert issu guardian liberti voic'\n",
      " 'mutini fbi comey warn agent indict clinton'\n",
      " 'breitbart news bruce springsteen stone cold draft dodger'\n",
      " 'jason ditz un yemen peac plan would sidelin former presid hadi'\n",
      " 'warner todd huston ex flotu michel obama trump want feed crap kid'\n",
      " 'michael paulson broadway break multipl record new year weekend new york time'\n",
      " 'martin'\n",
      " 'scott osborn colin kaepernick start black panther inspir youth camp wow'\n",
      " 'charli spier donald trump return bash fake media'\n",
      " 'howard portnoy trump win mock elect young peopl'\n",
      " 'admin philadelphia prison guard arrest alleg assault handcuf inmat'\n",
      " 'david e sanger charli savag u say russia direct hack influenc elect new york time'\n",
      " 'patrick mcgeehan de blasio million ferri push ride borough subway price new york time'\n",
      " 'adel nazarian democrat react presid trump retaliatori strike syria use chemic weapon breitbart'\n",
      " 'natali dickinson reveal trump financi backer paid playmat hush money hide affair'\n",
      " 'guest author pope franci communist think like christian'\n",
      " 'jack ewe e c b chart econom cours polit complic pictur new york time'\n",
      " 'washingtonsblog hillari clinton charg obstruct justic could go prison year'\n",
      " 'starkman physicist explain seen extraterrestri yet good'\n",
      " 'iron sheik georg soro trump win popular vote landslid hillari elector victori alreadi done deal'\n",
      " 'eli rosenberg kevin meaney veteran stand comedian die new york time'\n",
      " 'grant stern trump fan put hillari electr chair front lawn'\n",
      " 'bob price border patrol agent tell speaker ryan wall must get done'\n",
      " 'thamiel rosenkreuz distrub new video show donald trump sexual assault miss univers stage'\n",
      " 'geoffrey grider desper preserv legaci barack obama releas page new regul one day'\n",
      " 'debbi menon comment clinton campaign memo let troll reddit debbi menon'\n",
      " 'isabel kershner israel buri soldier mourn mar discord new york time'\n",
      " 'john eligon patrick mcgee famili fellow offic honor victim dalla sniper new york time'\n",
      " 'melissa eddi gardin harri obama e u leader agre keep sanction russia new york time'\n",
      " 'melissa eddi germani react merkel trump visit could lot wors new york time'\n",
      " 'jeremi w peter maggi haberman trump fire warn shot battl bannon kushner new york time'\n",
      " 'admin video rude cnn report ask trump take time open hotel'\n",
      " 'norepli blogger com der postillon flitzer auf dem spielfeld schach wm muss kurzzeitig unterbrochen werden'\n",
      " 'hiroko tabuchi u warn honda acura owner replac airbag new york time'\n",
      " 'matt richtel andrew pollack har u taxpay fight cancer make profit new york time'\n",
      " 'usapoliticsnow admin break terrorist strike thanksgiv day bad usapoliticsnow'\n",
      " 'jeffrey st clair roam charg comfort dumb'\n",
      " 'jeff poor cnn smerconish meryl streep energ trump base breitbart'\n",
      " 'bob price chicago alderman call flyer urg black report illeg immigr ice race bait'\n",
      " 'brandon turbevil kindest peopl ever met american journalist describ lebanon syrian attitud trip'\n",
      " 'matt flegenheim hillari clinton backer thought lose go new york time'\n",
      " 'polit soul age bifurc world esoter metaphys spiritu databas'\n",
      " 'daisi luther clinton goe loretta lynch go'\n",
      " 'andrea kannapel sandra stevenson jo cox donald trump golden state warrior friday even brief new york time'\n",
      " 'mm dollar declin wild card play'\n",
      " 'breitbart news wapo jare kushner focu russia investig breitbart'\n",
      " 'govern ask els meant f king stadium'\n",
      " 'pakalert hundr rescu refuge arriv italian port catania' 'jtlow'\n",
      " 'breitbart news cbo releas score paul ryan american health care act breitbart'\n",
      " 'kalli fbi clinton email investig shift poll number significantli trump favor'\n",
      " 'jack cashil hillari scandal earli year'\n",
      " 'pakalert joel skousen scenario world war nwo come'\n",
      " 'michael schmidt quit handcuf man say video fatal encount georgia polic new york time'\n",
      " 'ken klukowski sever state sue trump new immigr execut order breitbart'\n",
      " 'trump quier que eeuu toma part de acuerdo de par us viewer'\n",
      " 'nicol higman dolli parton simpl two step ritual goe stage classic dolli doozi'\n",
      " 'matthew boyl broken democrat parti new messag donald trump establish realli populist'\n",
      " 'ian hanchett gop sen cotton dem filibust republican must confirm gorsuch breitbart'\n",
      " 'liam deacon support brexit five month high articl trigger'\n",
      " 'tim arango ceylan yeginsu turkey releas ten thousand prison make room coup suspect new york time'\n",
      " 'raven clabough va governor grant vote right enough felon swing elect'\n",
      " 'thoma c mountain prevent cultur genocid mother tongu polici eritrea'\n",
      " 'said find anthoni rizzo jame franco kacey musgrav say'\n",
      " 'scott shane andrew e kramer trump team link russia crisscross washington new york time'\n",
      " 'graywolf video pacif crest trail associ lavoy finicim murder' ''\n",
      " 'madelin secret spi program unveil project hemispher'\n",
      " 'hope amid chao yazidi wait reunit hostag mosul liber'\n",
      " 'david swanson keep f aliv' 'yemeni stage ralli condemn saudi war crime'\n",
      " 'neil macfarquhar david e sanger russia send bomber syria use base iran new york time'\n",
      " 'jonah engel bromwich serena william announc engag alexi ohanian reddit co founder new york time'\n",
      " 'irina aleksand edward snowden long strang journey hollywood new york time'\n",
      " 'joel b pollak jerusalem much els trump vs deep state breitbart'\n",
      " 'efl cup liverpool beat tottenham reach quarter'\n",
      " 'jame wagner met overcom season advers claim wild card berth new york time'\n",
      " 'agent p' 'cartel chronicl cartel radio network found near texa border'\n",
      " 'breitbart news tillerson russia must choos assad u breitbart'\n",
      " 'jimbob navi petit reach signatur forc white hous review gender neutral job titl chang'\n",
      " 'david stockman chart day bond vigilant back ust yield bp sinc elect'\n",
      " 'andrew anglin ultim white knight destroy trump walk fame star help lie slut hoaxer'\n",
      " 'dave hodg fugit justic clinton prepar run qatar billion'\n",
      " 'american dream revisit'\n",
      " 'joseph goldstein fifth avenu front trump tower stay open de blasio say new york time'\n",
      " 'raheem kassam victoria friedman seen terror attack attempt europ everi day'\n",
      " 'starkman incred discoveri fruit extract kill cancer hour'\n",
      " 'thoma erdbrink u wrestler find passion fan iran new york time'\n",
      " 'le visibl shine brightli consum fire divin love'\n",
      " 'news inspir woman feel lazi vote ovari burst bodi drag poll place'\n",
      " 'jan hoffman dose hallucinogen magic mushroom last peac new york time'\n",
      " 'rt arab'\n",
      " 'croni kleptocraci huma abedin email probe head john podesta best friend'\n",
      " 'jean batav poquelich reason creat fat control law obes free zone'\n",
      " 'u nation bird drone'\n",
      " 'liam deacon london bridg terror ringlead may plot attack wimbledon'\n",
      " 'penni starr watch secretari state ride roll thunder honor u militari'\n",
      " 'admin orissa american consum percent world pain pill treat pain without drug'\n",
      " 'tennesse dan' 'bob price sheriff give sex offend ice damag commun trust'\n",
      " 'sam wenkert mike penc remov lobbyist transit team regat'\n",
      " 'toni aranda cuban strand border hope trump welcom'\n",
      " 'conserv millenni texa student crash cop tri send boyfriend topless photo'\n",
      " ''\n",
      " 'ian greenhalgh victoria gotti king con donald trump take pig self back dump tower'\n",
      " 'nwo hatr like concentr camp polic mark dapl protest number lock dog kennel'\n",
      " 'michel moon trump budget new foundat american great breitbart'\n",
      " 'tim brown wikileak director gavin macfadyen dead'\n",
      " 'michael shear thoma kaplan obama may jump fray democrat counter trump new york time'\n",
      " 'jonathan martin alexand burn donald trump incit feud g p candid flee shadow new york time'\n",
      " 'free thought project shot fire arrest made militar polic remov pipelin protest'\n",
      " 'j e dyer african migrant venic reject pasta demand design cloth'\n",
      " 'iron sheik classifi malfeas clinton aid jeopard nation secur'\n",
      " 'c sar rea rea lo grand cambio en el transport mar timo negocio portuario por c sar rea rea'\n",
      " 'tragic hip gord downi true canadian hero new earth media comment tragic hip gord downi true canadian hero tragic hip gord downi true canadian hero new earth media'\n",
      " 'hacker guccif say elect could rig promis monitor insid'\n",
      " 'jerom hudson termin b tch extrem prejudic paramount chang end fatal attract'\n",
      " 'theresa crous senior prepared type food store'\n",
      " 'peter baker shimon pere former prime minist israel suffer stroke new york time'\n",
      " 'hipster dog like dog food get'\n",
      " 'giovanni russonello fed interest rate increas affect new york time'\n",
      " 'kate zernik noah remnick fort lee offici recal chao turmoil lane bridg close new york time'\n",
      " 'nelson schwartz age privileg everyon boat new york time'\n",
      " 'simon romero dilma rousseff brazil say silenc impeach trial new york time'\n",
      " 'michel moon white hous heinou syria chemic attack result obama admin weak irresolut breitbart'\n",
      " 'nichola casey mar eugenia az colombia report first case microcephali link zika viru new york time'\n",
      " 'kd one' 'biden trump agre fight pistol duel final arrang pend'\n",
      " 'katherin rodriguez ny attorney gener file lawsuit protect abort ahca pass senat breitbart'\n",
      " 'liu cixin robot revolut quietest one new york time'\n",
      " 'pete well momofuku nishi david chang magic show littl wear new york time'\n",
      " 'bill feder man spoke softli carri big stick'\n",
      " 'ian johnson china seek tighter grip wake religi reviv new york time'\n",
      " 'saker dmitri orlov trump financi crisi new cold war'\n",
      " 'bob price session strip billion sanctuari citi'\n",
      " 'pakalert scari truth world war illuminati plan predict russia islam'\n",
      " 'warner todd huston melania trump win libel suit call high end escort'\n",
      " 'luca nolan facebook work brain comput interfac translat thought text breitbart'\n",
      " 'charli savag eric schmitt trump administr said work loosen counterterror rule new york time'\n",
      " 'stake elect'\n",
      " 'beforeitsnew com doorway moon found bancroft crater googl map oct photo paranorm'\n",
      " 'hey mildli adequ wow josh earnest admit obamacar stun true'\n",
      " 'tyler durden bitcoin soar china launch crackdown wealth manag product'\n",
      " 'joseph sobran debt paula jone'\n",
      " 'liam stack debunk myth irish slave new york time'\n",
      " 'neil irwin major potenti impact corpor tax overhaul new york time'\n",
      " 'carri macdonald watch embattl gop senat kill campaign racist remark'\n",
      " 'norepli blogger com alexand light u n vote ban nuclear weapon'\n",
      " 'contact chri hedg medea benjamin u saudi allianc'\n",
      " 'helen cooper liberian women deliv africa first femal presid new york time'\n",
      " 'katherin rodriguez bangladesh pm clinton person pressur aid foundat donor despit ethic law breitbart'\n",
      " 'norepli blogger com alexand light sacrif chicken moloch clinton podesta email scandal satan'\n",
      " 'norepli blogger com der postillon krankenhau f hrt operationen nur noch nacht durch um narkosemittel zu sparen'\n",
      " 'mari william walsh dalla stare texa size threat bankruptci new york time'\n",
      " 'tokyowashi norepli blogger com doj loretta lynch tri squash comey letter congress'\n",
      " 'katherin rodriguez u armi test high energi laser destroy drone'\n",
      " 'video trump voter drag car brutal beaten rob gang hillari support daili wire'\n",
      " 'stevew light languag activ lightstar arcturu arcturian starse video'\n",
      " 'shorti elect polit system crisi'\n",
      " 'charli nash cnn leak vp griffith journalist aid afflict afflict comfort breitbart'\n",
      " 'pam key spicer report go rais hand like big boy girl breitbart'\n",
      " 'shock video hillari need help climb one singl step florida truthfe'\n",
      " 'alex ansari donald trump kick final campaign day fla ralli'\n",
      " 'daniel nussbaum chelsea handler lead anti trump women march sundanc'\n",
      " 'paul mozur showdown loom u question chines deal german chip design new york time'\n",
      " 'assang purpos hold email back elect day cannot time replac hillari usa suprem'\n",
      " 'cecilia kang cabl industri mobil lobbi armi block f c c move new york time'\n",
      " 'jason horowitz itali premier matteo renzi say resign reform reject new york time'\n",
      " 'kashai hyperloop one'\n",
      " 'charli spier donald trump put iran notic destabil action middl east breitbart'\n",
      " 'richard p rez pe lauri goodstein muslim american speak escal worri new york time'\n",
      " 'somini sengupta michael r gordon ann barnard john kerri urg ground militari aircraft key area syria new york time'\n",
      " 'michael cooper pittsburgh symphoni orchestra strike resolv new york time'\n",
      " 'activist post financi whistleblow explain happen economi'\n",
      " 'thierri meyssan hillari clinton e mail und die muslimbruderschaft von thierri meyssan'\n",
      " 'kenneth r rosen u court rule infring suit trader joe proceed pirat joe new york time'\n",
      " 'eli rosenberg megan jula trump tower climber snatch polic internet watch new york time'\n",
      " 'admin big chill kill fat cell instantli freez never believ work'\n",
      " 'victor mather n f l bet patriot closest sure thing new york time'\n",
      " 'juliet macur penn state celebr joe paterno new york time'\n",
      " 'alex ansari comput read mind convert thought'\n",
      " 'juliu hubri long overdu presidenti assassin anyway'\n",
      " 'dare restrain laugh trump hillari stronger hot show'\n",
      " 'daisi luther go lose novemb th get prep post elect chao checklist video'\n",
      " 'life anim right win san diego zoo tape telescop anim head look planet'\n",
      " 'alan feuer ken thompson brooklyn district attorney say cancer take leav new york time'\n",
      " 'gretchen reynold deep breath may keep us calm new york time'\n",
      " 'bob price ice bust ms member new york oper'\n",
      " 'admin next us presid psycho lesbian plu break news video'\n",
      " 'dylan gwinn prison time white footbal player accus rape mental disabl black teen coat hanger breitbart'\n",
      " 'aurelien breeden brexit bat asid younger gener european ident new york time'\n",
      " 'peter baker travel strand protest swell trump order new york time'\n",
      " 'nick corasan maggi haberman donald trump unveil plan famili bid women vote new york time'\n",
      " 'mark landler mark mazzetti u press truce syria larger polici paus new york time'\n",
      " 'jeanni ralston surviv airbnb host new york time'\n",
      " 'b top five clinton donor jewish anti semit fact'\n",
      " 'dailouk new song michael heseltin snuf dog'\n",
      " 'robert mcfadden john bradema indiana congressman n u presid die new york time'\n",
      " 'europa leagu matchday zenit rule'\n",
      " 'mac slavo stock market collaps anticip trump win dow jone futur point'\n",
      " 'jonah engel bromwich ikea reach million settlement deadli furnitur accid new york time'\n",
      " 'pam key dan savag melania trump ugli insid breitbart'\n",
      " 'jerom hudson gunshot caus cancel shia labeouf anti trump exhibit'\n",
      " 'christin hauser terri jone monti python dementia famili say new york time'\n",
      " 'muckrak marin card cannabi shere geo truth frequenc radio'\n",
      " 'london coupl need car want lift'\n",
      " 'hiroko tabuchi america heartland discuss climat chang without say climat chang new york time'\n",
      " 'dan riehl squatti potti ceo griffin imag divis disturb decis realli'\n",
      " 'michael patrick leahi elizabeth warren fail disclos million line credit breitbart'\n",
      " 'iron sheik proof obamacar design fail'\n",
      " 'anonym coward uid ballot stuf fat obes feminazi'\n",
      " 'michael barbaro jonathan mahler quiet fixer donald trump campaign son law jare kushner new york time'\n",
      " 'henri shivley word trench octob'\n",
      " 'gillian devast wiki leak show scope clinton cover video'\n",
      " 'mr randi dougla miller american ever lose religion'\n",
      " 'julfikar ali manik geeta anand bangladeshi assault kill milit fail end standoff new york time'\n",
      " 'jame wagner met extend qualifi offer yoeni cesped neil walker new york time'\n",
      " 'david barstow susann craig russ buettner megan twohey donald trump tax record show could avoid tax nearli two decad time found new york time'\n",
      " 'robert pear health cost keep rise peopl know new york time'\n",
      " 'colin taylor ex miss finland accus trump sexual assault'\n",
      " 'eddi lavin natur medicin substanc ban dea'\n",
      " 'breitbart tech reuter homeland secur employe lock comput network breitbart'\n",
      " 'michael snyder vote warmong hillari clinton vote world war'\n",
      " 'adrienn ross exclus excerpt adrienn ross push way purpos get meant'\n",
      " 'mark landler obama say keep troop afghanistan plan new york time'\n",
      " 'liz spayd evan gershkovich friday mailbag taunt hoax anonym stealth new york time'\n",
      " 'ann barnard spate deadli attack syria ahead ceas fire new york time'\n",
      " 'curriec' 'new email clinton case came devic use anthoni weiner'\n",
      " 'jon parel ladi gaga super bowl controversi lot glitter new york time'\n",
      " 'felip villamor ex offic philippin say led death squad dutert behest new york time'\n",
      " 'jason chaffetz expos hillari clinton plan bribe fbi agent let go'\n",
      " 'karen zraick karen workman sandra stevenson bob dylan donald trump michel obama thursday even brief new york time'\n",
      " 'jame hall dement imbecil want killari reign terror'\n",
      " 'breitbart london watch syrian march london chemic attack'\n",
      " 'debbi menon comment donald trump tell veteran financi brave debbi menon'\n",
      " 'brook barn logan box offic hit million fox bet pay new york time'\n",
      " 'lizett alvarez corner everglad way life ebb new york time'\n",
      " 'trump effect jack box obama chang'\n",
      " 'charl scalig take back presidenti power'\n",
      " 'mark landler hillari clinton john kerri diverg path iran nuclear talk new york time'\n",
      " 'jennif medina travel ban dampen persian new year celebr new york time'\n",
      " 'marc traci power confer vie nation titl sorri pac new york time'\n",
      " 'kati roger roommat want trump support need appli new york time'\n",
      " 'bob price texa sheriff releas crimin alien first two day sanctuari polici'\n",
      " 'mitch moxley american accident becam chines movi star new york time'\n",
      " 'jekaterina sinelschtschikowa linkedin russland kommt die sperr'\n",
      " 'andrew meyer leak document reveal expans soro fund manipul feder elect'\n",
      " 'ian mason session come swing dismiss russian meet controversi breitbart'\n",
      " 'aaron kesel wikileak email show clinton collus state depart doj'\n",
      " 'pakalert documentari illuminati real expos jesuit order'\n",
      " 'carl huls hous republican fret win health care suit new york time'\n",
      " 'sean moran death spiral aetna exit obamacar exchang cite million loss breitbart'\n",
      " 'charli spier ethic offic releas page donald trump financi disclosur report'\n",
      " 'john j xenaki canada receiv record number mexican asylum seeker trudeau welcom tweet'\n",
      " 'joe martino constip bodi' 'sartr globalist plan human control'\n",
      " 'franc martel whitehous gov take climat page put america first energi plan breitbart'\n",
      " 'hallow en day ao si' 'otherword trump nation abus chief'\n",
      " 'charl duhigg trump nomine billionair guid run govern new york time'\n",
      " 'ian hanchett trump vital nation secur interest us prevent use chemic weapon breitbart'\n",
      " 'aaron kesel wikileak suggest sander possibl plant threaten mook'\n",
      " 'dylan gwinn american airlin suspend charter servic sever nfl team airlin may follow breitbart'\n",
      " 'protest bahraini king visit down street squash polic'\n",
      " 'stanley l cohen israel everlast'\n",
      " 'sean adl tabatabai proof past life teen wake coma speak fluent spanish'\n",
      " 'jonathan martin uncertainti top ticket republican back state new york time'\n",
      " 'aid epidem russia crocodil addict blame'\n",
      " 'assemblyman tim donnelli california state senat leader half famili illeg'\n",
      " 'republican leader propos take away senior healthcar blame obama new centuri time'\n",
      " 'arnold monteverd norepli blogger com shock nostradamu predict donald trump rise power'\n",
      " 'charli nash peter thiel global feel date breitbart'\n",
      " 'throngsman ukip urg govern someth supermoon']\n"
     ]
    }
   ],
   "source": [
    "#separating the data and label\n",
    "X = news_dataset['content'].values\n",
    "Y = news_dataset['label'].values\n",
    "print(X)"
   ]
  },
  {
   "cell_type": "code",
   "execution_count": 55,
   "metadata": {},
   "outputs": [
    {
     "name": "stdout",
     "output_type": "stream",
     "text": [
      "[0 1 0 0 1 0 0 0 1 0 0 1 1 0 0 0 1 1 1 0 0 0 1 1 1 0 0 0 1 1 1 1 1 1 1 1 0\n",
      " 1 0 0 1 0 1 1 1 1 0 0 1 0 1 1 1 0 1 1 0 0 0 1 0 1 1 1 1 0 1 1 1 1 0 0 1 0\n",
      " 0 0 0 1 1 0 0 1 0 1 0 0 0 1 1 0 0 0 1 0 1 1 0 1 1 0 1 1 1 1 1 0 0 1 1 1 0\n",
      " 0 0 1 1 0 1 0 1 0 0 0 0 0 1 1 1 0 0 1 0 0 1 0 1 0 1 1 1 1 0 1 0 0 0 1 0 0\n",
      " 1 1 0 0 1 0 1 0 1 1 0 1 0 0 1 0 0 0 1 0 0 1 1 1 1 0 1 1 1 1 1 0 0 0 1 1 1\n",
      " 1 1 1 0 0 0 0 0 1 0 0 0 1 0 1 0 1 0 1 1 1 0 1 0 1 1 0 1 0 0 0 0 1 0 0 1 0\n",
      " 0 0 1 1 1 0 1 0 0 1 1 0 1 1 0 0 0 1 1 0 1 1 1 0 1 0 1 1 1 0 0 0 0 0 1 1 0\n",
      " 0 1 1 0 0 1 0 1 1 0 1 0 1 1 1 0 1 1 1 0 0 1 1 0 0 0 0 1 1 1 0 1 1 1 1 1 1\n",
      " 0 0 0 0 1 0 1 0 0 1 1 1 1 1 0 0 1 0 1 1 0 1 1 1 1 0 0 1 1 0 1 0 1 1 1 1 0\n",
      " 1 0 0 1 1 1 1 1 1 0 1 0 1 0 0 0 0 0 0 1 1 0 0 0 1 0 1 0 1 0 0 0 1 1 1 1 1\n",
      " 0 0 1 1 1 0 0 1 1 0 1 0 1 1 1 0 0 1 1 0 0 1 0 0 1 0 0 0 0 1 1 0 0 1 0 0 1\n",
      " 1 1 1 1 0 0 0 1 0 0 0 0 0 0 1 1 0 1 1 0 0 0 0 1 1 0 0 0 1 1 0 1 1 1 0 0 0\n",
      " 0 1 1 0 1 0 0 0 0 1 1 0 0 1 0 1 0 1 0 0 1 1 0 0 0 0 0 0 1 1 0 1 1 0 0 0 0\n",
      " 1 1 0 1 1 0 0 1 0 1 1 1 0 1 0 1 1 0 1]\n"
     ]
    }
   ],
   "source": [
    "print(Y)\n"
   ]
  },
  {
   "cell_type": "code",
   "execution_count": 56,
   "metadata": {},
   "outputs": [
    {
     "data": {
      "text/plain": [
       "(500,)"
      ]
     },
     "execution_count": 56,
     "metadata": {},
     "output_type": "execute_result"
    }
   ],
   "source": [
    "Y.shape\n"
   ]
  },
  {
   "cell_type": "code",
   "execution_count": 57,
   "metadata": {},
   "outputs": [
    {
     "name": "stdout",
     "output_type": "stream",
     "text": [
      "  (np.int32(0), np.int32(237))\t0.36463711925421977\n",
      "  (np.int32(0), np.int32(272))\t0.19236874767888432\n",
      "  (np.int32(0), np.int32(571))\t0.3141375175163407\n",
      "  (np.int32(0), np.int32(1206))\t0.33419152064749424\n",
      "  (np.int32(0), np.int32(1403))\t0.36463711925421977\n",
      "  (np.int32(0), np.int32(1556))\t0.36463711925421977\n",
      "  (np.int32(0), np.int32(1674))\t0.347491047293996\n",
      "  (np.int32(0), np.int32(1715))\t0.33419152064749424\n",
      "  (np.int32(0), np.int32(2338))\t0.1660351770799382\n",
      "  (np.int32(0), np.int32(2427))\t0.3061789441948395\n",
      "  (np.int32(1), np.int32(97))\t0.317716432311322\n",
      "  (np.int32(1), np.int32(662))\t0.33339335076368876\n",
      "  (np.int32(1), np.int32(742))\t0.3554887263319983\n",
      "  (np.int32(1), np.int32(780))\t0.26778417563704415\n",
      "  (np.int32(1), np.int32(1022))\t0.206129660680592\n",
      "  (np.int32(1), np.int32(1115))\t0.317716432311322\n",
      "  (np.int32(1), np.int32(1860))\t0.3554887263319983\n",
      "  (np.int32(1), np.int32(1974))\t0.287220784816322\n",
      "  (np.int32(1), np.int32(2027))\t0.3554887263319983\n",
      "  (np.int32(1), np.int32(2448))\t0.33339335076368876\n",
      "  (np.int32(2), np.int32(328))\t0.2608725606135216\n",
      "  (np.int32(2), np.int32(372))\t0.30350283340866796\n",
      "  (np.int32(2), np.int32(647))\t0.30350283340866796\n",
      "  (np.int32(2), np.int32(1066))\t0.2523900807278367\n",
      "  (np.int32(2), np.int32(1272))\t0.2523900807278367\n",
      "  :\t:\n",
      "  (np.int32(497), np.int32(238))\t0.25733813020860496\n",
      "  (np.int32(497), np.int32(430))\t0.25234691356132005\n",
      "  (np.int32(497), np.int32(625))\t0.21848425296423923\n",
      "  (np.int32(497), np.int32(1470))\t0.34162139688384124\n",
      "  (np.int32(497), np.int32(1558))\t0.25733813020860496\n",
      "  (np.int32(497), np.int32(1561))\t0.34162139688384124\n",
      "  (np.int32(497), np.int32(1738))\t0.2936369574034776\n",
      "  (np.int32(497), np.int32(1742))\t0.30532256968896854\n",
      "  (np.int32(497), np.int32(1903))\t0.3203879441546834\n",
      "  (np.int32(497), np.int32(2049))\t0.3203879441546834\n",
      "  (np.int32(497), np.int32(2338))\t0.14588659857449388\n",
      "  (np.int32(498), np.int32(272))\t0.20795069861843163\n",
      "  (np.int32(498), np.int32(369))\t0.3104620882667802\n",
      "  (np.int32(498), np.int32(535))\t0.42029637207113796\n",
      "  (np.int32(498), np.int32(785))\t0.3756379709299775\n",
      "  (np.int32(498), np.int32(914))\t0.33958279095743876\n",
      "  (np.int32(498), np.int32(1519))\t0.3756379709299775\n",
      "  (np.int32(498), np.int32(1680))\t0.3309795697888172\n",
      "  (np.int32(498), np.int32(2270))\t0.42029637207113796\n",
      "  (np.int32(499), np.int32(937))\t0.35490372372174617\n",
      "  (np.int32(499), np.int32(2100))\t0.4267770168550724\n",
      "  (np.int32(499), np.int32(2204))\t0.4267770168550724\n",
      "  (np.int32(499), np.int32(2282))\t0.4267770168550724\n",
      "  (np.int32(499), np.int32(2360))\t0.4267770168550724\n",
      "  (np.int32(499), np.int32(2378))\t0.3814300177300937\n"
     ]
    },
    {
     "data": {
      "text/plain": [
       "(500, 6)"
      ]
     },
     "execution_count": 57,
     "metadata": {},
     "output_type": "execute_result"
    }
   ],
   "source": [
    "# converting the textual data to numerical data\n",
    "vectorizer = TfidfVectorizer()\n",
    "vectorizer.fit(X)\n",
    "\n",
    "X = vectorizer.transform(X)\n",
    "print(X)\n",
    "news_dataset.shape"
   ]
  },
  {
   "cell_type": "code",
   "execution_count": 58,
   "metadata": {},
   "outputs": [
    {
     "name": "stdout",
     "output_type": "stream",
     "text": [
      "[1 0 1 1 1 1 1 1 0 1 1 1 0 0 1 1 1 0 0 1 1 1 0 0 0 0 1 0 0 0 1 1 0 0 1 1 0\n",
      " 1 1 1 0 0 1 0 0 1 0 1 0 1 0 1 1 0 0 0 1 0 0 0 0 1 0 0 0 0 0 0 1 0 1 1 0 0\n",
      " 1 1 0 1 0 0 0 0 0 1 1 1 1 1 0 0 0 1 1 0 1 1 1 1 1 1]\n"
     ]
    }
   ],
   "source": [
    "X_train, X_test, Y_train, Y_test = train_test_split(X, Y, test_size = 0.2, stratify=Y, random_state=2)\n",
    "print(Y_test)"
   ]
  },
  {
   "cell_type": "code",
   "execution_count": 59,
   "metadata": {},
   "outputs": [],
   "source": [
    "decision_tree = DecisionTreeClassifier()"
   ]
  },
  {
   "cell_type": "code",
   "execution_count": 60,
   "metadata": {},
   "outputs": [
    {
     "name": "stdout",
     "output_type": "stream",
     "text": [
      "Accuracy Score: 0.91\n",
      "Classification Report:\n",
      "               precision    recall  f1-score   support\n",
      "\n",
      "           0    0.95455   0.85714   0.90323        49\n",
      "           1    0.87500   0.96078   0.91589        51\n",
      "\n",
      "    accuracy                        0.91000       100\n",
      "   macro avg    0.91477   0.90896   0.90956       100\n",
      "weighted avg    0.91398   0.91000   0.90968       100\n",
      "\n"
     ]
    }
   ],
   "source": [
    "dt=decision_tree.fit(X_train,Y_train)\n",
    "y_pred = dt.predict(X_test)\n",
    "accuracy = accuracy_score(Y_test, y_pred)\n",
    "print(\"Accuracy Score: {}\".format(accuracy))\n",
    "print('Classification Report:\\n', classification_report(Y_test,y_pred,digits=5))"
   ]
  },
  {
   "cell_type": "markdown",
   "metadata": {},
   "source": [
    "Prediction System on Testing Data"
   ]
  },
  {
   "cell_type": "code",
   "execution_count": 64,
   "metadata": {},
   "outputs": [
    {
     "name": "stdout",
     "output_type": "stream",
     "text": [
      "[0]\n",
      "The news is Real\n"
     ]
    }
   ],
   "source": [
    "X_new = X_test[1]\n",
    "\n",
    "prediction = dt.predict(X_new)\n",
    "print(prediction)\n",
    "\n",
    "if (prediction[0]==0):\n",
    "  print('The news is Real')\n",
    "else:\n",
    "  print('The news is Fake')"
   ]
  },
  {
   "cell_type": "markdown",
   "metadata": {},
   "source": [
    "Manual Testing"
   ]
  },
  {
   "cell_type": "code",
   "execution_count": 62,
   "metadata": {},
   "outputs": [
    {
     "name": "stdout",
     "output_type": "stream",
     "text": [
      "The news is Fake [1]\n"
     ]
    }
   ],
   "source": [
    "def manual_DT_prediction():\n",
    "    # Taking input of any news in form of text\n",
    "    X = input(\"ENTER A NEWS FOR PREDICTION: \")\n",
    "    # Apply stemming to the input text\n",
    "    X_new = stemming(X)\n",
    "\n",
    "    # Vectorize the stemmed textvectorizer.fit(X)\n",
    "    X = vectorizer.transform([X_new])\n",
    "    X = X.toarray()\n",
    "    \n",
    "    # Make the prediction\n",
    "    prediction = dt.predict(X)\n",
    "    if (prediction==0):\n",
    "     print('The news is Real '+prediction)\n",
    "    else:\n",
    "     print('The news is Fake',prediction)\n",
    "\n",
    "# Example usage\n",
    "manual_DT_prediction()"
   ]
  }
 ],
 "metadata": {
  "kernelspec": {
   "display_name": "Python 3",
   "language": "python",
   "name": "python3"
  },
  "language_info": {
   "codemirror_mode": {
    "name": "ipython",
    "version": 3
   },
   "file_extension": ".py",
   "mimetype": "text/x-python",
   "name": "python",
   "nbconvert_exporter": "python",
   "pygments_lexer": "ipython3",
   "version": "3.12.4"
  }
 },
 "nbformat": 4,
 "nbformat_minor": 2
}
