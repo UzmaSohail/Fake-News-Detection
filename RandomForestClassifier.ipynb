{
  "nbformat": 4,
  "nbformat_minor": 0,
  "metadata": {
    "colab": {
      "provenance": []
    },
    "kernelspec": {
      "name": "python3",
      "display_name": "Python 3"
    },
    "language_info": {
      "name": "python"
    }
  },
  "cells": [
    {
      "cell_type": "markdown",
      "source": [
        "# ***RANDOM FOREST CLASSIFIER***"
      ],
      "metadata": {
        "id": "8dU3gZ387TNS"
      }
    },
    {
      "cell_type": "markdown",
      "source": [
        "# **Importing Required Python Libraries**"
      ],
      "metadata": {
        "id": "ixcZr9fQlpM2"
      }
    },
    {
      "cell_type": "code",
      "source": [
        "import numpy as np\n",
        "import pandas as pd\n",
        "import re\n",
        "import matplotlib.pyplot as plt\n",
        "import seaborn as sns\n",
        "from nltk.corpus import stopwords\n",
        "from nltk.stem.porter import PorterStemmer\n",
        "from sklearn.feature_extraction.text import TfidfVectorizer\n",
        "from sklearn.model_selection import train_test_split\n",
        "from sklearn.linear_model import LogisticRegression\n",
        "from sklearn.metrics import accuracy_score\n"
      ],
      "metadata": {
        "id": "iN8PNjWq-mZl"
      },
      "execution_count": 1,
      "outputs": []
    },
    {
      "cell_type": "code",
      "source": [
        "import nltk\n",
        "nltk.download('stopwords')"
      ],
      "metadata": {
        "colab": {
          "base_uri": "https://localhost:8080/"
        },
        "id": "khCq6njZ-yL1",
        "outputId": "97604fcb-fac3-48cb-ee12-28be664d6c93"
      },
      "execution_count": 2,
      "outputs": [
        {
          "output_type": "stream",
          "name": "stderr",
          "text": [
            "[nltk_data] Downloading package stopwords to /root/nltk_data...\n",
            "[nltk_data]   Unzipping corpora/stopwords.zip.\n"
          ]
        },
        {
          "output_type": "execute_result",
          "data": {
            "text/plain": [
              "True"
            ]
          },
          "metadata": {},
          "execution_count": 2
        }
      ]
    },
    {
      "cell_type": "code",
      "source": [
        "# printing the stopwords in English\n",
        "print(stopwords.words('english'))"
      ],
      "metadata": {
        "colab": {
          "base_uri": "https://localhost:8080/"
        },
        "id": "cPNVqFTs-6m1",
        "outputId": "7009f5c1-0552-4c30-eb6c-d6246072fe08"
      },
      "execution_count": 3,
      "outputs": [
        {
          "output_type": "stream",
          "name": "stdout",
          "text": [
            "['i', 'me', 'my', 'myself', 'we', 'our', 'ours', 'ourselves', 'you', \"you're\", \"you've\", \"you'll\", \"you'd\", 'your', 'yours', 'yourself', 'yourselves', 'he', 'him', 'his', 'himself', 'she', \"she's\", 'her', 'hers', 'herself', 'it', \"it's\", 'its', 'itself', 'they', 'them', 'their', 'theirs', 'themselves', 'what', 'which', 'who', 'whom', 'this', 'that', \"that'll\", 'these', 'those', 'am', 'is', 'are', 'was', 'were', 'be', 'been', 'being', 'have', 'has', 'had', 'having', 'do', 'does', 'did', 'doing', 'a', 'an', 'the', 'and', 'but', 'if', 'or', 'because', 'as', 'until', 'while', 'of', 'at', 'by', 'for', 'with', 'about', 'against', 'between', 'into', 'through', 'during', 'before', 'after', 'above', 'below', 'to', 'from', 'up', 'down', 'in', 'out', 'on', 'off', 'over', 'under', 'again', 'further', 'then', 'once', 'here', 'there', 'when', 'where', 'why', 'how', 'all', 'any', 'both', 'each', 'few', 'more', 'most', 'other', 'some', 'such', 'no', 'nor', 'not', 'only', 'own', 'same', 'so', 'than', 'too', 'very', 's', 't', 'can', 'will', 'just', 'don', \"don't\", 'should', \"should've\", 'now', 'd', 'll', 'm', 'o', 're', 've', 'y', 'ain', 'aren', \"aren't\", 'couldn', \"couldn't\", 'didn', \"didn't\", 'doesn', \"doesn't\", 'hadn', \"hadn't\", 'hasn', \"hasn't\", 'haven', \"haven't\", 'isn', \"isn't\", 'ma', 'mightn', \"mightn't\", 'mustn', \"mustn't\", 'needn', \"needn't\", 'shan', \"shan't\", 'shouldn', \"shouldn't\", 'wasn', \"wasn't\", 'weren', \"weren't\", 'won', \"won't\", 'wouldn', \"wouldn't\"]\n"
          ]
        }
      ]
    },
    {
      "cell_type": "markdown",
      "source": [
        "# **Loading Dataset**"
      ],
      "metadata": {
        "id": "QBkPVHF8lz_k"
      }
    },
    {
      "cell_type": "code",
      "source": [
        "#from google.colab import files"
      ],
      "metadata": {
        "id": "5an54hleLUTj"
      },
      "execution_count": null,
      "outputs": []
    },
    {
      "cell_type": "code",
      "source": [
        "#uploaded=files.upload()"
      ],
      "metadata": {
        "colab": {
          "base_uri": "https://localhost:8080/",
          "height": 73
        },
        "id": "Dk30rq4PLX3h",
        "outputId": "cfd94745-7c49-47dd-dbe0-0bcb3f6f7528"
      },
      "execution_count": null,
      "outputs": [
        {
          "output_type": "display_data",
          "data": {
            "text/plain": [
              "<IPython.core.display.HTML object>"
            ],
            "text/html": [
              "\n",
              "     <input type=\"file\" id=\"files-0e184b11-0294-41fa-9fdc-d524d93aba9f\" name=\"files[]\" multiple disabled\n",
              "        style=\"border:none\" />\n",
              "     <output id=\"result-0e184b11-0294-41fa-9fdc-d524d93aba9f\">\n",
              "      Upload widget is only available when the cell has been executed in the\n",
              "      current browser session. Please rerun this cell to enable.\n",
              "      </output>\n",
              "      <script>// Copyright 2017 Google LLC\n",
              "//\n",
              "// Licensed under the Apache License, Version 2.0 (the \"License\");\n",
              "// you may not use this file except in compliance with the License.\n",
              "// You may obtain a copy of the License at\n",
              "//\n",
              "//      http://www.apache.org/licenses/LICENSE-2.0\n",
              "//\n",
              "// Unless required by applicable law or agreed to in writing, software\n",
              "// distributed under the License is distributed on an \"AS IS\" BASIS,\n",
              "// WITHOUT WARRANTIES OR CONDITIONS OF ANY KIND, either express or implied.\n",
              "// See the License for the specific language governing permissions and\n",
              "// limitations under the License.\n",
              "\n",
              "/**\n",
              " * @fileoverview Helpers for google.colab Python module.\n",
              " */\n",
              "(function(scope) {\n",
              "function span(text, styleAttributes = {}) {\n",
              "  const element = document.createElement('span');\n",
              "  element.textContent = text;\n",
              "  for (const key of Object.keys(styleAttributes)) {\n",
              "    element.style[key] = styleAttributes[key];\n",
              "  }\n",
              "  return element;\n",
              "}\n",
              "\n",
              "// Max number of bytes which will be uploaded at a time.\n",
              "const MAX_PAYLOAD_SIZE = 100 * 1024;\n",
              "\n",
              "function _uploadFiles(inputId, outputId) {\n",
              "  const steps = uploadFilesStep(inputId, outputId);\n",
              "  const outputElement = document.getElementById(outputId);\n",
              "  // Cache steps on the outputElement to make it available for the next call\n",
              "  // to uploadFilesContinue from Python.\n",
              "  outputElement.steps = steps;\n",
              "\n",
              "  return _uploadFilesContinue(outputId);\n",
              "}\n",
              "\n",
              "// This is roughly an async generator (not supported in the browser yet),\n",
              "// where there are multiple asynchronous steps and the Python side is going\n",
              "// to poll for completion of each step.\n",
              "// This uses a Promise to block the python side on completion of each step,\n",
              "// then passes the result of the previous step as the input to the next step.\n",
              "function _uploadFilesContinue(outputId) {\n",
              "  const outputElement = document.getElementById(outputId);\n",
              "  const steps = outputElement.steps;\n",
              "\n",
              "  const next = steps.next(outputElement.lastPromiseValue);\n",
              "  return Promise.resolve(next.value.promise).then((value) => {\n",
              "    // Cache the last promise value to make it available to the next\n",
              "    // step of the generator.\n",
              "    outputElement.lastPromiseValue = value;\n",
              "    return next.value.response;\n",
              "  });\n",
              "}\n",
              "\n",
              "/**\n",
              " * Generator function which is called between each async step of the upload\n",
              " * process.\n",
              " * @param {string} inputId Element ID of the input file picker element.\n",
              " * @param {string} outputId Element ID of the output display.\n",
              " * @return {!Iterable<!Object>} Iterable of next steps.\n",
              " */\n",
              "function* uploadFilesStep(inputId, outputId) {\n",
              "  const inputElement = document.getElementById(inputId);\n",
              "  inputElement.disabled = false;\n",
              "\n",
              "  const outputElement = document.getElementById(outputId);\n",
              "  outputElement.innerHTML = '';\n",
              "\n",
              "  const pickedPromise = new Promise((resolve) => {\n",
              "    inputElement.addEventListener('change', (e) => {\n",
              "      resolve(e.target.files);\n",
              "    });\n",
              "  });\n",
              "\n",
              "  const cancel = document.createElement('button');\n",
              "  inputElement.parentElement.appendChild(cancel);\n",
              "  cancel.textContent = 'Cancel upload';\n",
              "  const cancelPromise = new Promise((resolve) => {\n",
              "    cancel.onclick = () => {\n",
              "      resolve(null);\n",
              "    };\n",
              "  });\n",
              "\n",
              "  // Wait for the user to pick the files.\n",
              "  const files = yield {\n",
              "    promise: Promise.race([pickedPromise, cancelPromise]),\n",
              "    response: {\n",
              "      action: 'starting',\n",
              "    }\n",
              "  };\n",
              "\n",
              "  cancel.remove();\n",
              "\n",
              "  // Disable the input element since further picks are not allowed.\n",
              "  inputElement.disabled = true;\n",
              "\n",
              "  if (!files) {\n",
              "    return {\n",
              "      response: {\n",
              "        action: 'complete',\n",
              "      }\n",
              "    };\n",
              "  }\n",
              "\n",
              "  for (const file of files) {\n",
              "    const li = document.createElement('li');\n",
              "    li.append(span(file.name, {fontWeight: 'bold'}));\n",
              "    li.append(span(\n",
              "        `(${file.type || 'n/a'}) - ${file.size} bytes, ` +\n",
              "        `last modified: ${\n",
              "            file.lastModifiedDate ? file.lastModifiedDate.toLocaleDateString() :\n",
              "                                    'n/a'} - `));\n",
              "    const percent = span('0% done');\n",
              "    li.appendChild(percent);\n",
              "\n",
              "    outputElement.appendChild(li);\n",
              "\n",
              "    const fileDataPromise = new Promise((resolve) => {\n",
              "      const reader = new FileReader();\n",
              "      reader.onload = (e) => {\n",
              "        resolve(e.target.result);\n",
              "      };\n",
              "      reader.readAsArrayBuffer(file);\n",
              "    });\n",
              "    // Wait for the data to be ready.\n",
              "    let fileData = yield {\n",
              "      promise: fileDataPromise,\n",
              "      response: {\n",
              "        action: 'continue',\n",
              "      }\n",
              "    };\n",
              "\n",
              "    // Use a chunked sending to avoid message size limits. See b/62115660.\n",
              "    let position = 0;\n",
              "    do {\n",
              "      const length = Math.min(fileData.byteLength - position, MAX_PAYLOAD_SIZE);\n",
              "      const chunk = new Uint8Array(fileData, position, length);\n",
              "      position += length;\n",
              "\n",
              "      const base64 = btoa(String.fromCharCode.apply(null, chunk));\n",
              "      yield {\n",
              "        response: {\n",
              "          action: 'append',\n",
              "          file: file.name,\n",
              "          data: base64,\n",
              "        },\n",
              "      };\n",
              "\n",
              "      let percentDone = fileData.byteLength === 0 ?\n",
              "          100 :\n",
              "          Math.round((position / fileData.byteLength) * 100);\n",
              "      percent.textContent = `${percentDone}% done`;\n",
              "\n",
              "    } while (position < fileData.byteLength);\n",
              "  }\n",
              "\n",
              "  // All done.\n",
              "  yield {\n",
              "    response: {\n",
              "      action: 'complete',\n",
              "    }\n",
              "  };\n",
              "}\n",
              "\n",
              "scope.google = scope.google || {};\n",
              "scope.google.colab = scope.google.colab || {};\n",
              "scope.google.colab._files = {\n",
              "  _uploadFiles,\n",
              "  _uploadFilesContinue,\n",
              "};\n",
              "})(self);\n",
              "</script> "
            ]
          },
          "metadata": {}
        },
        {
          "output_type": "stream",
          "name": "stdout",
          "text": [
            "Saving train.csv to train.csv\n"
          ]
        }
      ]
    },
    {
      "cell_type": "code",
      "source": [
        "news_dataset=pd.read_csv('Data.csv')"
      ],
      "metadata": {
        "id": "6GqEf5TuQVOz"
      },
      "execution_count": 4,
      "outputs": []
    },
    {
      "cell_type": "markdown",
      "source": [
        "# **Data Pre-Processing**"
      ],
      "metadata": {
        "id": "3MCDuDKxl8Mt"
      }
    },
    {
      "cell_type": "code",
      "source": [
        "news_dataset.shape"
      ],
      "metadata": {
        "id": "1LOkuQJt_cFk",
        "colab": {
          "base_uri": "https://localhost:8080/"
        },
        "outputId": "6387d2f9-4ca4-4e23-dd55-c6295df8040e"
      },
      "execution_count": 5,
      "outputs": [
        {
          "output_type": "execute_result",
          "data": {
            "text/plain": [
              "(500, 5)"
            ]
          },
          "metadata": {},
          "execution_count": 5
        }
      ]
    },
    {
      "cell_type": "code",
      "source": [
        "# print the first 5 rows of the dataframe\n",
        "news_dataset.head()"
      ],
      "metadata": {
        "id": "rESctz3Q_fWt",
        "colab": {
          "base_uri": "https://localhost:8080/",
          "height": 206
        },
        "outputId": "a43c2541-5425-4064-e47c-1879f0dd3d3a"
      },
      "execution_count": 6,
      "outputs": [
        {
          "output_type": "execute_result",
          "data": {
            "text/plain": [
              "   id                                              title              author  \\\n",
              "0   0  House Dem Aide: We Didn’t Even See Comey’s Let...       Darrell Lucus   \n",
              "1   1  FLYNN: Hillary Clinton, Big Woman on Campus - ...     Daniel J. Flynn   \n",
              "2   2                  Why the Truth Might Get You Fired  Consortiumnews.com   \n",
              "3   3  15 Civilians Killed In Single US Airstrike Hav...     Jessica Purkiss   \n",
              "4   4  Iranian woman jailed for fictional unpublished...      Howard Portnoy   \n",
              "\n",
              "                                                text  label  \n",
              "0  House Dem Aide: We Didn’t Even See Comey’s Let...      1  \n",
              "1  Ever get the feeling your life circles the rou...      0  \n",
              "2  Why the Truth Might Get You Fired October 29, ...      1  \n",
              "3  Videos 15 Civilians Killed In Single US Airstr...      1  \n",
              "4  Print \\nAn Iranian woman has been sentenced to...      1  "
            ],
            "text/html": [
              "\n",
              "  <div id=\"df-2708fbf5-1bf4-4dac-a469-347bc46badb8\" class=\"colab-df-container\">\n",
              "    <div>\n",
              "<style scoped>\n",
              "    .dataframe tbody tr th:only-of-type {\n",
              "        vertical-align: middle;\n",
              "    }\n",
              "\n",
              "    .dataframe tbody tr th {\n",
              "        vertical-align: top;\n",
              "    }\n",
              "\n",
              "    .dataframe thead th {\n",
              "        text-align: right;\n",
              "    }\n",
              "</style>\n",
              "<table border=\"1\" class=\"dataframe\">\n",
              "  <thead>\n",
              "    <tr style=\"text-align: right;\">\n",
              "      <th></th>\n",
              "      <th>id</th>\n",
              "      <th>title</th>\n",
              "      <th>author</th>\n",
              "      <th>text</th>\n",
              "      <th>label</th>\n",
              "    </tr>\n",
              "  </thead>\n",
              "  <tbody>\n",
              "    <tr>\n",
              "      <th>0</th>\n",
              "      <td>0</td>\n",
              "      <td>House Dem Aide: We Didn’t Even See Comey’s Let...</td>\n",
              "      <td>Darrell Lucus</td>\n",
              "      <td>House Dem Aide: We Didn’t Even See Comey’s Let...</td>\n",
              "      <td>1</td>\n",
              "    </tr>\n",
              "    <tr>\n",
              "      <th>1</th>\n",
              "      <td>1</td>\n",
              "      <td>FLYNN: Hillary Clinton, Big Woman on Campus - ...</td>\n",
              "      <td>Daniel J. Flynn</td>\n",
              "      <td>Ever get the feeling your life circles the rou...</td>\n",
              "      <td>0</td>\n",
              "    </tr>\n",
              "    <tr>\n",
              "      <th>2</th>\n",
              "      <td>2</td>\n",
              "      <td>Why the Truth Might Get You Fired</td>\n",
              "      <td>Consortiumnews.com</td>\n",
              "      <td>Why the Truth Might Get You Fired October 29, ...</td>\n",
              "      <td>1</td>\n",
              "    </tr>\n",
              "    <tr>\n",
              "      <th>3</th>\n",
              "      <td>3</td>\n",
              "      <td>15 Civilians Killed In Single US Airstrike Hav...</td>\n",
              "      <td>Jessica Purkiss</td>\n",
              "      <td>Videos 15 Civilians Killed In Single US Airstr...</td>\n",
              "      <td>1</td>\n",
              "    </tr>\n",
              "    <tr>\n",
              "      <th>4</th>\n",
              "      <td>4</td>\n",
              "      <td>Iranian woman jailed for fictional unpublished...</td>\n",
              "      <td>Howard Portnoy</td>\n",
              "      <td>Print \\nAn Iranian woman has been sentenced to...</td>\n",
              "      <td>1</td>\n",
              "    </tr>\n",
              "  </tbody>\n",
              "</table>\n",
              "</div>\n",
              "    <div class=\"colab-df-buttons\">\n",
              "\n",
              "  <div class=\"colab-df-container\">\n",
              "    <button class=\"colab-df-convert\" onclick=\"convertToInteractive('df-2708fbf5-1bf4-4dac-a469-347bc46badb8')\"\n",
              "            title=\"Convert this dataframe to an interactive table.\"\n",
              "            style=\"display:none;\">\n",
              "\n",
              "  <svg xmlns=\"http://www.w3.org/2000/svg\" height=\"24px\" viewBox=\"0 -960 960 960\">\n",
              "    <path d=\"M120-120v-720h720v720H120Zm60-500h600v-160H180v160Zm220 220h160v-160H400v160Zm0 220h160v-160H400v160ZM180-400h160v-160H180v160Zm440 0h160v-160H620v160ZM180-180h160v-160H180v160Zm440 0h160v-160H620v160Z\"/>\n",
              "  </svg>\n",
              "    </button>\n",
              "\n",
              "  <style>\n",
              "    .colab-df-container {\n",
              "      display:flex;\n",
              "      gap: 12px;\n",
              "    }\n",
              "\n",
              "    .colab-df-convert {\n",
              "      background-color: #E8F0FE;\n",
              "      border: none;\n",
              "      border-radius: 50%;\n",
              "      cursor: pointer;\n",
              "      display: none;\n",
              "      fill: #1967D2;\n",
              "      height: 32px;\n",
              "      padding: 0 0 0 0;\n",
              "      width: 32px;\n",
              "    }\n",
              "\n",
              "    .colab-df-convert:hover {\n",
              "      background-color: #E2EBFA;\n",
              "      box-shadow: 0px 1px 2px rgba(60, 64, 67, 0.3), 0px 1px 3px 1px rgba(60, 64, 67, 0.15);\n",
              "      fill: #174EA6;\n",
              "    }\n",
              "\n",
              "    .colab-df-buttons div {\n",
              "      margin-bottom: 4px;\n",
              "    }\n",
              "\n",
              "    [theme=dark] .colab-df-convert {\n",
              "      background-color: #3B4455;\n",
              "      fill: #D2E3FC;\n",
              "    }\n",
              "\n",
              "    [theme=dark] .colab-df-convert:hover {\n",
              "      background-color: #434B5C;\n",
              "      box-shadow: 0px 1px 3px 1px rgba(0, 0, 0, 0.15);\n",
              "      filter: drop-shadow(0px 1px 2px rgba(0, 0, 0, 0.3));\n",
              "      fill: #FFFFFF;\n",
              "    }\n",
              "  </style>\n",
              "\n",
              "    <script>\n",
              "      const buttonEl =\n",
              "        document.querySelector('#df-2708fbf5-1bf4-4dac-a469-347bc46badb8 button.colab-df-convert');\n",
              "      buttonEl.style.display =\n",
              "        google.colab.kernel.accessAllowed ? 'block' : 'none';\n",
              "\n",
              "      async function convertToInteractive(key) {\n",
              "        const element = document.querySelector('#df-2708fbf5-1bf4-4dac-a469-347bc46badb8');\n",
              "        const dataTable =\n",
              "          await google.colab.kernel.invokeFunction('convertToInteractive',\n",
              "                                                    [key], {});\n",
              "        if (!dataTable) return;\n",
              "\n",
              "        const docLinkHtml = 'Like what you see? Visit the ' +\n",
              "          '<a target=\"_blank\" href=https://colab.research.google.com/notebooks/data_table.ipynb>data table notebook</a>'\n",
              "          + ' to learn more about interactive tables.';\n",
              "        element.innerHTML = '';\n",
              "        dataTable['output_type'] = 'display_data';\n",
              "        await google.colab.output.renderOutput(dataTable, element);\n",
              "        const docLink = document.createElement('div');\n",
              "        docLink.innerHTML = docLinkHtml;\n",
              "        element.appendChild(docLink);\n",
              "      }\n",
              "    </script>\n",
              "  </div>\n",
              "\n",
              "\n",
              "<div id=\"df-37a692f9-aea8-4ab2-a681-dd3b096a0aca\">\n",
              "  <button class=\"colab-df-quickchart\" onclick=\"quickchart('df-37a692f9-aea8-4ab2-a681-dd3b096a0aca')\"\n",
              "            title=\"Suggest charts\"\n",
              "            style=\"display:none;\">\n",
              "\n",
              "<svg xmlns=\"http://www.w3.org/2000/svg\" height=\"24px\"viewBox=\"0 0 24 24\"\n",
              "     width=\"24px\">\n",
              "    <g>\n",
              "        <path d=\"M19 3H5c-1.1 0-2 .9-2 2v14c0 1.1.9 2 2 2h14c1.1 0 2-.9 2-2V5c0-1.1-.9-2-2-2zM9 17H7v-7h2v7zm4 0h-2V7h2v10zm4 0h-2v-4h2v4z\"/>\n",
              "    </g>\n",
              "</svg>\n",
              "  </button>\n",
              "\n",
              "<style>\n",
              "  .colab-df-quickchart {\n",
              "      --bg-color: #E8F0FE;\n",
              "      --fill-color: #1967D2;\n",
              "      --hover-bg-color: #E2EBFA;\n",
              "      --hover-fill-color: #174EA6;\n",
              "      --disabled-fill-color: #AAA;\n",
              "      --disabled-bg-color: #DDD;\n",
              "  }\n",
              "\n",
              "  [theme=dark] .colab-df-quickchart {\n",
              "      --bg-color: #3B4455;\n",
              "      --fill-color: #D2E3FC;\n",
              "      --hover-bg-color: #434B5C;\n",
              "      --hover-fill-color: #FFFFFF;\n",
              "      --disabled-bg-color: #3B4455;\n",
              "      --disabled-fill-color: #666;\n",
              "  }\n",
              "\n",
              "  .colab-df-quickchart {\n",
              "    background-color: var(--bg-color);\n",
              "    border: none;\n",
              "    border-radius: 50%;\n",
              "    cursor: pointer;\n",
              "    display: none;\n",
              "    fill: var(--fill-color);\n",
              "    height: 32px;\n",
              "    padding: 0;\n",
              "    width: 32px;\n",
              "  }\n",
              "\n",
              "  .colab-df-quickchart:hover {\n",
              "    background-color: var(--hover-bg-color);\n",
              "    box-shadow: 0 1px 2px rgba(60, 64, 67, 0.3), 0 1px 3px 1px rgba(60, 64, 67, 0.15);\n",
              "    fill: var(--button-hover-fill-color);\n",
              "  }\n",
              "\n",
              "  .colab-df-quickchart-complete:disabled,\n",
              "  .colab-df-quickchart-complete:disabled:hover {\n",
              "    background-color: var(--disabled-bg-color);\n",
              "    fill: var(--disabled-fill-color);\n",
              "    box-shadow: none;\n",
              "  }\n",
              "\n",
              "  .colab-df-spinner {\n",
              "    border: 2px solid var(--fill-color);\n",
              "    border-color: transparent;\n",
              "    border-bottom-color: var(--fill-color);\n",
              "    animation:\n",
              "      spin 1s steps(1) infinite;\n",
              "  }\n",
              "\n",
              "  @keyframes spin {\n",
              "    0% {\n",
              "      border-color: transparent;\n",
              "      border-bottom-color: var(--fill-color);\n",
              "      border-left-color: var(--fill-color);\n",
              "    }\n",
              "    20% {\n",
              "      border-color: transparent;\n",
              "      border-left-color: var(--fill-color);\n",
              "      border-top-color: var(--fill-color);\n",
              "    }\n",
              "    30% {\n",
              "      border-color: transparent;\n",
              "      border-left-color: var(--fill-color);\n",
              "      border-top-color: var(--fill-color);\n",
              "      border-right-color: var(--fill-color);\n",
              "    }\n",
              "    40% {\n",
              "      border-color: transparent;\n",
              "      border-right-color: var(--fill-color);\n",
              "      border-top-color: var(--fill-color);\n",
              "    }\n",
              "    60% {\n",
              "      border-color: transparent;\n",
              "      border-right-color: var(--fill-color);\n",
              "    }\n",
              "    80% {\n",
              "      border-color: transparent;\n",
              "      border-right-color: var(--fill-color);\n",
              "      border-bottom-color: var(--fill-color);\n",
              "    }\n",
              "    90% {\n",
              "      border-color: transparent;\n",
              "      border-bottom-color: var(--fill-color);\n",
              "    }\n",
              "  }\n",
              "</style>\n",
              "\n",
              "  <script>\n",
              "    async function quickchart(key) {\n",
              "      const quickchartButtonEl =\n",
              "        document.querySelector('#' + key + ' button');\n",
              "      quickchartButtonEl.disabled = true;  // To prevent multiple clicks.\n",
              "      quickchartButtonEl.classList.add('colab-df-spinner');\n",
              "      try {\n",
              "        const charts = await google.colab.kernel.invokeFunction(\n",
              "            'suggestCharts', [key], {});\n",
              "      } catch (error) {\n",
              "        console.error('Error during call to suggestCharts:', error);\n",
              "      }\n",
              "      quickchartButtonEl.classList.remove('colab-df-spinner');\n",
              "      quickchartButtonEl.classList.add('colab-df-quickchart-complete');\n",
              "    }\n",
              "    (() => {\n",
              "      let quickchartButtonEl =\n",
              "        document.querySelector('#df-37a692f9-aea8-4ab2-a681-dd3b096a0aca button');\n",
              "      quickchartButtonEl.style.display =\n",
              "        google.colab.kernel.accessAllowed ? 'block' : 'none';\n",
              "    })();\n",
              "  </script>\n",
              "</div>\n",
              "\n",
              "    </div>\n",
              "  </div>\n"
            ],
            "application/vnd.google.colaboratory.intrinsic+json": {
              "type": "dataframe",
              "variable_name": "news_dataset",
              "summary": "{\n  \"name\": \"news_dataset\",\n  \"rows\": 500,\n  \"fields\": [\n    {\n      \"column\": \"id\",\n      \"properties\": {\n        \"dtype\": \"number\",\n        \"std\": 144,\n        \"min\": 0,\n        \"max\": 499,\n        \"num_unique_values\": 500,\n        \"samples\": [\n          361,\n          73,\n          374\n        ],\n        \"semantic_type\": \"\",\n        \"description\": \"\"\n      }\n    },\n    {\n      \"column\": \"title\",\n      \"properties\": {\n        \"dtype\": \"string\",\n        \"num_unique_values\": 492,\n        \"samples\": [\n          \"Franken Calls for \\u2019Independent Investigation\\u2019 Into Trump\\u2019s \\u2019Putin Crush\\u2019 - Breitbart\",\n          \"Ep. 544 FADE to BLACK Jimmy Church w/ Laura Eisenhower : Restoring the Balance [VIDEO]\",\n          \"Hillary Campaign Now in Bed with PAC Staff That Donated $500K to FBI Agent's Wife After Investigation\"\n        ],\n        \"semantic_type\": \"\",\n        \"description\": \"\"\n      }\n    },\n    {\n      \"column\": \"author\",\n      \"properties\": {\n        \"dtype\": \"string\",\n        \"num_unique_values\": 329,\n        \"samples\": [\n          \"Chris Tomlinson\",\n          \"John Hayward\",\n          \"Carl Zimmer\"\n        ],\n        \"semantic_type\": \"\",\n        \"description\": \"\"\n      }\n    },\n    {\n      \"column\": \"text\",\n      \"properties\": {\n        \"dtype\": \"string\",\n        \"num_unique_values\": 493,\n        \"samples\": [\n          \"Images reveal crashed Schiaparelli Mars lander page: 1 link We knew as time passed that Schiaparelli had failed in its mission to become ESA's first working lab on mars , now the efforts of ESA to locate their missing lander have provided the proof that Schiaparelli crashed on Mars , as suggested by the data returned before the event. If at first you don't succeed Looks like an impact crater to me. Mars succ\\u00e8s rate is all told about 50%? originally posted by: gortex the efforts of ESA to locate their missing lander have provided the proof that Schiaparelli crashed on Mars R.I.P Schiaparelli, you never even got a chance to reveal some of the secrets of Mars. Okay, we're on a conspiracy site, i'll say it... Looks like an impact crater to me. Schiaparelli's impact. NASA have a good success rate landing on Mars probably due to them being well funded , in comparison ESA don't seem to have all of their ducks in a line to be able to take the next step. Shame really as we are going looking for life where NASA seems content to look for the conditions that would have allowed life to start. originally posted by: gortex NASA have a good success rate landing on Mars probably due to them being well funded , Shame really as we are going looking for life where NASA seems content to look for the conditions that would have allowed life to start. Nasa does have a good success rate, Curiosity's wacky landing putting the cream on the cake, since it obviously worked. Ihave to say though it's kind of weird that there were two failed events. The chute, then the rocket in the next sequence one aiding the other sort of, (I'm assuming that the rockets would have fired in a controlled fashion but then cut off prematurely) edit on 27-10-2016 by smurfy because: Text.\",\n          \"NEW ORLEANS  \\u2014   A typical evening for Ella Brennan begins with cocktails. They are delivered from Commander\\u2019s Palace, her family\\u2019s restaurant next door to her mansion in this city\\u2019s historic Garden District. Drinks are often followed by dinner, also from Commander\\u2019s, and wine. Ms. Brennan favors Champagne and distinguished whites from the C\\u00f4te de Beaune because, as she puts it, \\u201cI\\u2019m too damn old to drink cheap wine\\u201d and \\u201cbecause I can. \\u201d In New Orleans, there is little question that Miss Ella, as Ms. Brennan is widely known here, has earned her sense of entitlement. Her hometown\\u2019s civic pride is tightly linked to its reputation for culinary excellence Ms. Brennan helped create that reputation, and has made maintaining it a personal responsibility for more than 60 years. At 91, she is the matriarch of an extended family of restaurateurs that employs nearly 1, 400 people, both full and part time, and she has mentored countless talents, including the celebrity chefs Paul Prudhomme and Emeril Lagasse. \\u201cShe was there to embrace and elevate, not just me but the entire staff,\\u201d said Mr. Lagasse, whom Ms. Brennan plucked from obscurity and installed, at age 23, as Commander\\u2019s chef in the early 1980s. \\u201cThe list of people she has impacted in the hospitality industry in America is endless. \\u201d Ms. Brennan\\u2019s family has recently set out to ensure that her legacy is appreciated beyond New Orleans. Those efforts culminated last year with the release of a memoir, \\u201cMiss Ella of Commander\\u2019s Palace,\\u201d written with Ti Martin, her daughter. It was followed by the documentary \\u201cElla Brennan: Commanding the Table,\\u201d directed by Leslie Iwerks. The film, which has been screening at festivals, will be available on Netflix in May. The book and film tell the story of a     businesswoman  \\u2014   her other nickname is Hurricane Ella  \\u2014   who excelled in a   profession decades before gender imbalance in the restaurant industry became a hot issue. \\u201cWhen I first started, you would hardly ever see another woman in the kitchen, much less running the show,\\u201d said Sue Zemanick, the former chef at Gautreau\\u2019s, a \\u201cTop Chef Masters\\u201d contestant and a line cook at Commander\\u2019s early in her career. \\u201cWorking at a restaurant with such strong women in charge gave me hope that I could make it. \\u201d While Ms. Brennan is, as Ms. Martin put it, \\u201cas retired as Mom is capable of being,\\u201d her New Orleans restaurants, which include Caf\\u00e9 Adelaide and SoBou, remain an obsession for her they are managed by Ms. Martin and Lally Brennan, a niece of Ms. Brennan. On a recent afternoon, Ms. Brennan sat next to the unlit fireplace in her living room. As she moved a sore leg back and forth between an ottoman and the floor, she suggested that her impulse to empower employees was a rejection of restaurant industry norms she confronted as a young woman. \\u201cIn those days, no one was paying attention to developing people,\\u201d she said. \\u201cA restaurateur has to be part of a team to make something everyone can be proud of. \\u201d Her decision to tap Mr. Prudhomme, a Cajun, to run Commander\\u2019s kitchen in the 1970s loosened the grip that   chefs had on American fine dining. Alongside Ms. Brennan, and later on his own, the   Mr. Prudhomme helped set the table for a renaissance in American regional cooking that has yet to abate. \\u201cNew Orleans was really the centerpiece of the whole American food movement,\\u201d the New York restaurateur Drew Nieporent said. \\u201cAnd Ella put New Orleans on the map. \\u201d Ms. Brennan entered the hospitality business as a teenager working at the Old Absinthe House, a Bourbon Street bar owned by her brother Owen, 15 years her senior. She had dropped out of a local business school after deciding, as she wrote in her book, that \\u201cI wasn\\u2019t going to type for any man. \\u201d In 1946, Mr. Brennan bought Vieux Carr\\u00e9, a French Quarter restaurant that Ms. Brennan described recently, with typical candor, as \\u201cterrible. \\u201d Mr. Brennan hired her to manage the business, looking to prove that an Irish family could operate a restaurant superior to established   restaurants like Arnaud\\u2019s, Antoine\\u2019s and Galatoire\\u2019s. \\u201cI didn\\u2019t know anything,\\u201d Ms. Brennan recalled. \\u201cBut Owen was a raconteur. He slept till noon. He got me to do all of the things he didn\\u2019t like. So I learned. \\u201d A voracious reader, she pored over books recommended by the restaurant\\u2019s two chefs, Jack Eames and Paul Blang\\u00e9, whose respect she sought and whom she frequently praised. \\u201cI was amazed at their talent,\\u201d she said. \\u201cThey were like surgeons. \\u201d The gregarious Brennan family  \\u2014   the other siblings were Dick, Adelaide, Dottie and John  \\u2014   cultivated a clientele of influential locals and visitors, including celebrities. All the while, Ms. Brennan worked with the chefs to elevate Vieux Carr\\u00e9\\u2019s food. For inspiration, she traveled frequently to New York City, where she became a regular at the \\u201c21\\u201d Club. Culinary pioneers like James Beard and Helen McCully, the food editor of McCall\\u2019s magazine, took the young visitor under their wings. \\u201cYou had to go to New York in those days,\\u201d Ms. Brennan said. \\u201cI was trying to get New Orleans to that level. \\u201d In 1955, the Brennans were preparing to relocate Vieux Carr\\u00e9 to a larger space on Royal Street when Owen died of a heart attack at 45. It fell to Ms. Brennan to carry out her brother\\u2019s vision for the new restaurant, which would be called Brennan\\u2019s. By all accounts, Brennan\\u2019s ushered in a new age for fine dining in the South. It became a grand showcase for New Orleans joie de vivre, replete with a wine cellar, antiques and food that stretched the boundaries of traditional   cuisine. The national press took notice, especially of its boozy, multicourse breakfasts. \\u201cAmerica was coming to appreciate dining as entertainment,\\u201d Ms. Brennan wrote, \\u201cand all of the newspapers were just beginning to have columns about food. \\u201d Ms. Brennan helped develop new dishes, including bananas Foster. She pushed to expand the family\\u2019s restaurant properties, with spotty success, aggravating a rift between Owen\\u2019s heirs and what came to be known as \\u201cElla\\u2019s side\\u201d of the family. In 1973, Ms. Brennan was dismissed from Brennan\\u2019s, initiating a bitter, litigious family split that has never fully healed. \\u201cIt was a tragedy,\\u201d Ms. Brennan said. \\u201cFamily is everything to us. \\u201d (Owen Brennan\\u2019s sons continued to run Brennan\\u2019s until 2013, when a group that includes Ralph Brennan, a son of John Brennan, purchased the   property at a sheriff\\u2019s auction. Brennan\\u2019s of Houston, overseen by Ms. Brennan\\u2019s son Alex, is part of her restaurant group.) Commander\\u2019s Palace, which Ms. Brennan acquired in 1969, was a sprawling property in need of repair. In partnership with her sisters and brothers, she set about turning it into a restaurant that would eclipse Brennan\\u2019s. Early reviews weren\\u2019t favorable. But over time, Commander\\u2019s became renowned for its sophisticated blending of south Louisiana and nouvelle cuisines  \\u2014   Ms. Brennan christened the style haute Creole  \\u2014   and its warm, celebratory approach to fine dining. \\u201cWe want people who eat here to feel important, and we want them to have fun,\\u201d Ms. Brennan said. Ms. Brennan never presumed that her management responsibilities ended at the kitchen door. Alex McCrery, a Commander\\u2019s line cook in the early 2000s, recalled that Ms. Brennan admonished another cook for proposing that the kitchen make mustard ice cream. \\u201cShe was the type who was like your mom is when she is disappointed in you,\\u201d Mr. McCrery said. \\u201cShe was stern, and you\\u2019d feel like you really messed up. \\u201d Ms. Brennan said she \\u201cgave up men for Lent\\u201d after her divorce in 1970 from Paul Martin. She also never learned to cook (\\u201cI don\\u2019t think she can boil water,\\u201d Mr. Lagasse said) but that doesn\\u2019t prevent her from giving lavish dinner parties in the home she shares with Dottie. \\u201cWe don\\u2019t carry on like we once did,\\u201d she said before a recent meal. \\u201cBut I do like to take advantage of living next door to my restaurant. \\u201d A waiter carried Ms. Brennan\\u2019s drink as she moved, with the aid of a walker, from her   parlor to her   dining room. She sat at the head of the table as Commander\\u2019s waiters delivered a series of courses from the restaurant\\u2019s kitchen. As she sank her spoon into a steaming sea urchin and stone crab souffl\\u00e9, Ms. Brennan explained that entertaining gives her an opportunity to weigh in on new ideas from Tory McPhail, Commander\\u2019s current and   chef. It also allows her to partake in the kind of pleasure she has provided others for so long. \\u201cWhat we\\u2019re doing here tonight is letting him experiment on us,\\u201d she said, referring to Mr. McPhail, who had just introduced a course of lamb osso buco. Ms. Brennan was as engaged and vivacious as when the evening began. As Mr. McPhail turned to leave, she called after him, \\u201cBring back a bottle of Champagne, will you?\\u201d Recipe: Bananas Foster\",\n          \"WASHINGTON  \\u2014   When President Trump told an audience of religious leaders on Thursday that he would \\u2018destroy\\u2019 the Johnson Amendment, he declared his intention to sign a bill that would fundamentally alter a major aspect of the   divide that has been a constant in American politics for generations. But what exactly is the Johnson Amendment? It is one of the brightest lines in the legal separation between religion and politics. Under the provision, which was made in 1954,   entities like churches and charitable organizations are unable to directly or indirectly participate in any political campaign on behalf of, or in opposition to, any candidate. Specifically, ministers are restricted from endorsing or opposing candidates from the pulpit. If they do, they risk losing their   status. Considered uncontroversial at the time, it was passed by a Republican Congress and signed into law by President Dwight D. Eisenhower, a Republican. Today, however, many Republicans want to repeal it. Back when Lyndon B. Johnson was a senator from Texas, he introduced the measure as an amendment to the tax code in 1954. Like many things Johnson did, the goal was to bludgeon a political opponent, in this case a rival in a primary who had the backing of nonprofit groups that were campaigning against him by suggesting he was a communist. Though there was no church involved, according to PolitiFact, churches were covered by the bill as well. Mr. Trump promised he would work to repeal the Johnson Amendment as part of his extensive outreach efforts to religious conservatives, a group that took a long time to warm to his candidacy. Eliminating the measure has been a goal of the right. Conservatives have argued that it violates the protections of free speech and free exercise that the First Amendment extends to houses of worship. Courts have not agreed. Speaking of the implications of a repeal last year, Jerry Falwell Jr. the prominent evangelical leader and Trump supporter, said it would \\u201ccreate a huge revolution for conservative Christians and for free speech. \\u201d\"\n        ],\n        \"semantic_type\": \"\",\n        \"description\": \"\"\n      }\n    },\n    {\n      \"column\": \"label\",\n      \"properties\": {\n        \"dtype\": \"number\",\n        \"std\": 0,\n        \"min\": 0,\n        \"max\": 1,\n        \"num_unique_values\": 2,\n        \"samples\": [\n          0,\n          1\n        ],\n        \"semantic_type\": \"\",\n        \"description\": \"\"\n      }\n    }\n  ]\n}"
            }
          },
          "metadata": {},
          "execution_count": 6
        }
      ]
    },
    {
      "cell_type": "code",
      "source": [
        "# counting the number of missing values in the dataset\n",
        "news_dataset.isnull().sum()"
      ],
      "metadata": {
        "id": "lEw5J5U0_oIN",
        "colab": {
          "base_uri": "https://localhost:8080/"
        },
        "outputId": "c0ac3f5b-7f1b-42dc-f3a6-2856b802a79a"
      },
      "execution_count": 7,
      "outputs": [
        {
          "output_type": "execute_result",
          "data": {
            "text/plain": [
              "id         0\n",
              "title      8\n",
              "author    60\n",
              "text       6\n",
              "label      0\n",
              "dtype: int64"
            ]
          },
          "metadata": {},
          "execution_count": 7
        }
      ]
    },
    {
      "cell_type": "code",
      "source": [
        "# replacing the null values with empty string\n",
        "news_dataset = news_dataset.fillna('')"
      ],
      "metadata": {
        "id": "ig1jonvy_2PU"
      },
      "execution_count": 8,
      "outputs": []
    },
    {
      "cell_type": "code",
      "source": [
        "# separating the data & label\n",
        "news_dataset = news_dataset.sample(n=500)\n",
        "X = news_dataset.drop(columns='label', axis=1)\n",
        "Y = news_dataset['label']\n",
        "print(X)\n",
        "print(Y)"
      ],
      "metadata": {
        "id": "N7lu06AIAAuU"
      },
      "execution_count": null,
      "outputs": []
    },
    {
      "cell_type": "code",
      "source": [
        "port_stem = PorterStemmer()\n",
        "def stemming(content):\n",
        "    stemmed_content = re.sub('[^a-zA-Z]',' ',content)\n",
        "    stemmed_content = stemmed_content.lower()\n",
        "    stemmed_content = stemmed_content.split()\n",
        "    stemmed_content = [port_stem.stem(word) for word in stemmed_content if not word in stopwords.words('english')]\n",
        "    stemmed_content = ' '.join(stemmed_content)\n",
        "    return stemmed_content\n",
        "news_dataset['text'] = news_dataset['text'].apply(stemming)\n",
        "print(news_dataset['text'])"
      ],
      "metadata": {
        "id": "6nuPK8_HAB6z"
      },
      "execution_count": null,
      "outputs": []
    },
    {
      "cell_type": "code",
      "source": [
        "#separating the data and label\n",
        "X = news_dataset['text'].values\n",
        "Y = news_dataset['label'].values\n",
        "print(X)\n",
        "print(Y)"
      ],
      "metadata": {
        "id": "NqzuPHsuAGfW"
      },
      "execution_count": null,
      "outputs": []
    },
    {
      "cell_type": "code",
      "source": [
        "Y.shape"
      ],
      "metadata": {
        "id": "rw6sMoExAQm8",
        "colab": {
          "base_uri": "https://localhost:8080/"
        },
        "outputId": "24788128-c5f8-4604-be9e-2788a01f79b2"
      },
      "execution_count": 24,
      "outputs": [
        {
          "output_type": "execute_result",
          "data": {
            "text/plain": [
              "(500,)"
            ]
          },
          "metadata": {},
          "execution_count": 24
        }
      ]
    },
    {
      "cell_type": "markdown",
      "source": [
        "# **Feature Engineering(Vectorizing)**"
      ],
      "metadata": {
        "id": "eqyFAv8vmKON"
      }
    },
    {
      "cell_type": "code",
      "source": [
        "# converting the textual data to numerical data\n",
        "vectorizer = TfidfVectorizer()\n",
        "vectorizer.fit(X)\n",
        "\n",
        "X = vectorizer.transform(X)\n",
        "print(X)"
      ],
      "metadata": {
        "id": "KsVX4JE1AYAw"
      },
      "execution_count": null,
      "outputs": []
    },
    {
      "cell_type": "markdown",
      "source": [
        "**Splitting the dataset into testing and trainig samples**"
      ],
      "metadata": {
        "id": "oe3FAcVXW_aB"
      }
    },
    {
      "cell_type": "code",
      "source": [
        "X_train, X_test, Y_train, Y_test = train_test_split(X, Y, test_size = 0.2, stratify=Y, random_state=2)\n",
        "print(Y_test)"
      ],
      "metadata": {
        "id": "eZ7UGziCAere"
      },
      "execution_count": null,
      "outputs": []
    },
    {
      "cell_type": "markdown",
      "source": [
        "# **Model Building**"
      ],
      "metadata": {
        "id": "VaYwkqDijnMJ"
      }
    },
    {
      "cell_type": "markdown",
      "source": [
        "# **With Package Implementation**"
      ],
      "metadata": {
        "id": "cakW2Aimk3sG"
      }
    },
    {
      "cell_type": "code",
      "source": [
        "from sklearn.ensemble import RandomForestClassifier\n",
        "rfc=RandomForestClassifier()\n",
        "rfc.fit(X_train,Y_train)\n",
        "rfc_pred=rfc.predict(X_test)"
      ],
      "metadata": {
        "id": "6v1ahQFUGshH"
      },
      "execution_count": 29,
      "outputs": []
    },
    {
      "cell_type": "markdown",
      "source": [
        "# **Without Package Implementation**"
      ],
      "metadata": {
        "id": "buSIzh2QlGEk"
      }
    },
    {
      "cell_type": "code",
      "source": [
        "import numpy as np\n",
        "from collections import Counter\n",
        "\n",
        "class Node:\n",
        "    def __init__(self, feature=None, threshold=None, left=None, right=None,*,value=None):\n",
        "        self.feature = feature\n",
        "        self.threshold = threshold\n",
        "        self.left = left\n",
        "        self.right = right\n",
        "        self.value = value\n",
        "\n",
        "    def is_leaf_node(self):\n",
        "        return self.value is not None\n",
        "\n",
        "\n",
        "class DecisionTree:\n",
        "    def __init__(self, min_samples_split=2, max_depth=100, n_features=None):\n",
        "        self.min_samples_split=min_samples_split\n",
        "        self.max_depth=max_depth\n",
        "        self.n_features=n_features\n",
        "        self.root=None\n",
        "\n",
        "    def fit(self, X, y):\n",
        "        self.n_features = X.shape[1] if not self.n_features else min(X.shape[1],self.n_features)\n",
        "        self.root = self._grow_tree(X, y)\n",
        "\n",
        "    def _grow_tree(self, X, y, depth=0):\n",
        "        n_samples, n_feats = X.shape\n",
        "        n_labels = len(np.unique(y))\n",
        "\n",
        "        # check the stopping criteria\n",
        "        if (depth>=self.max_depth or n_labels==1 or n_samples<self.min_samples_split):\n",
        "            leaf_value = self._most_common_label(y)\n",
        "            return Node(value=leaf_value)\n",
        "\n",
        "        feat_idxs = np.random.choice(n_feats, self.n_features, replace=False)\n",
        "\n",
        "        # find the best split\n",
        "        best_feature, best_thresh = self._best_split(X, y, feat_idxs)\n",
        "\n",
        "        # create child nodes\n",
        "        left_idxs, right_idxs = self._split(X[:, best_feature], best_thresh)\n",
        "        left = self._grow_tree(X[left_idxs, :], y[left_idxs], depth+1)\n",
        "        right = self._grow_tree(X[right_idxs, :], y[right_idxs], depth+1)\n",
        "        return Node(best_feature, best_thresh, left, right)\n",
        "\n",
        "\n",
        "    def _best_split(self, X, y, feat_idxs):\n",
        "        best_gain = -1\n",
        "        split_idx, split_threshold = None, None\n",
        "\n",
        "        for feat_idx in feat_idxs:\n",
        "            X_column = X[:, feat_idx]\n",
        "            thresholds = np.unique(X_column)\n",
        "\n",
        "            for thr in thresholds:\n",
        "                # calculate the information gain\n",
        "                gain = self._information_gain(y, X_column, thr)\n",
        "\n",
        "                if gain > best_gain:\n",
        "                    best_gain = gain\n",
        "                    split_idx = feat_idx\n",
        "                    split_threshold = thr\n",
        "\n",
        "        return split_idx, split_threshold\n",
        "\n",
        "\n",
        "    def _information_gain(self, y, X_column, threshold):\n",
        "        # parent entropy\n",
        "        parent_entropy = self._entropy(y)\n",
        "\n",
        "        # create children\n",
        "        left_idxs, right_idxs = self._split(X_column, threshold)\n",
        "\n",
        "        if len(left_idxs) == 0 or len(right_idxs) == 0:\n",
        "            return 0\n",
        "\n",
        "        # calculate the weighted avg. entropy of children\n",
        "        n = len(y)\n",
        "        n_l, n_r = len(left_idxs), len(right_idxs)\n",
        "        e_l, e_r = self._entropy(y[left_idxs]), self._entropy(y[right_idxs])\n",
        "        child_entropy = (n_l/n) * e_l + (n_r/n) * e_r\n",
        "\n",
        "        # calculate the IG\n",
        "        information_gain = parent_entropy - child_entropy\n",
        "        return information_gain\n",
        "\n",
        "    def _split(self, X_column, split_thresh):\n",
        "        left_idxs = np.argwhere(X_column <= split_thresh).flatten()\n",
        "        right_idxs = np.argwhere(X_column > split_thresh).flatten()\n",
        "        return left_idxs, right_idxs\n",
        "\n",
        "    def _entropy(self, y):\n",
        "        hist = np.bincount(y)\n",
        "        ps = hist / len(y)\n",
        "        return -np.sum([p * np.log(p) for p in ps if p>0])\n",
        "\n",
        "\n",
        "    def _most_common_label(self, y):\n",
        "        counter = Counter(y)\n",
        "        value = counter.most_common(1)[0][0]\n",
        "        return value\n",
        "\n",
        "    def predict(self, X):\n",
        "        return np.array([self._traverse_tree(x, self.root) for x in X])\n",
        "\n",
        "    def _traverse_tree(self, x, node):\n",
        "        if node.is_leaf_node():\n",
        "            return node.value\n",
        "\n",
        "        if x[node.feature] <= node.threshold:\n",
        "            return self._traverse_tree(x, node.left)\n",
        "        return self._traverse_tree(x, node.right)\n",
        "\n",
        "\n"
      ],
      "metadata": {
        "id": "B5e_5UXKSdil"
      },
      "execution_count": 34,
      "outputs": []
    },
    {
      "cell_type": "code",
      "source": [
        "# from DecisionTree import DecisionTree\n",
        "# import numpy as np\n",
        "# from collections import Counter\n",
        "\n",
        "class RandomForest:\n",
        "    def __init__(self, n_trees=10, max_depth=10, min_samples_split=2, n_feature=None):\n",
        "        self.n_trees = n_trees\n",
        "        self.max_depth=max_depth\n",
        "        self.min_samples_split=min_samples_split\n",
        "        self.n_features=n_feature\n",
        "        self.trees = []\n",
        "\n",
        "    def fit(self, X, y):\n",
        "        self.trees = []\n",
        "        for _ in range(self.n_trees):\n",
        "            tree = DecisionTree(max_depth=self.max_depth,\n",
        "                            min_samples_split=self.min_samples_split,\n",
        "                            n_features=self.n_features)\n",
        "            X_sample, y_sample = self._bootstrap_samples(X, y)\n",
        "            tree.fit(X_sample, y_sample)\n",
        "            self.trees.append(tree)\n",
        "\n",
        "    def _bootstrap_samples(self, X, y):\n",
        "        n_samples = X.shape[0]\n",
        "        idxs = np.random.choice(n_samples, n_samples, replace=True)\n",
        "        return X[idxs], y[idxs]\n",
        "\n",
        "    def _most_common_label(self, y):\n",
        "        counter = Counter(y)\n",
        "        most_common = counter.most_common(1)[0][0]\n",
        "        return most_common\n",
        "\n",
        "    def predict(self, X):\n",
        "        predictions = np.array([tree.predict(X) for tree in self.trees])\n",
        "        tree_preds = np.swapaxes(predictions, 0, 1)\n",
        "        predictions = np.array([self._most_common_label(pred) for pred in tree_preds])\n",
        "        return predictions"
      ],
      "metadata": {
        "id": "02FqFCEzVL5v"
      },
      "execution_count": 35,
      "outputs": []
    },
    {
      "cell_type": "code",
      "source": [
        "X1_train, X1_test, y1_train, y1_test = train_test_split(X, Y, test_size=0.2, random_state=1234)\n",
        "#print(X1_train)\n",
        "#converting sparse matrix (csr_matrix) to array\n",
        "X1_train = X1_train.toarray()\n",
        "X1_test = X1_test.toarray()\n",
        "print(X1_train)"
      ],
      "metadata": {
        "colab": {
          "base_uri": "https://localhost:8080/"
        },
        "id": "ugmBpZHzYz1C",
        "outputId": "b35be5f2-87c0-4133-ea8c-df9986fc6954"
      },
      "execution_count": 36,
      "outputs": [
        {
          "output_type": "stream",
          "name": "stdout",
          "text": [
            "[[0. 0. 0. ... 0. 0. 0.]\n",
            " [0. 0. 0. ... 0. 0. 0.]\n",
            " [0. 0. 0. ... 0. 0. 0.]\n",
            " ...\n",
            " [0. 0. 0. ... 0. 0. 0.]\n",
            " [0. 0. 0. ... 0. 0. 0.]\n",
            " [0. 0. 0. ... 0. 0. 0.]]\n"
          ]
        }
      ]
    },
    {
      "cell_type": "code",
      "source": [
        "import numpy as np\n",
        "from sklearn.model_selection import train_test_split\n",
        "from sklearn import datasets\n",
        "import matplotlib.pyplot as plt\n",
        "def accuracy(y_true, y_pred):\n",
        "    accuracy = np.sum(y_true == y_pred) / len(y_true)\n",
        "    return accuracy\n",
        "\n",
        "clf = RandomForest(n_trees=20)\n",
        "clf.fit(X1_train, y1_train)\n",
        "predictions = clf.predict(X1_test)\n",
        "\n",
        "acc =  accuracy(predictions,y1_test)\n",
        "print(\"Accuracy:\\n\",acc)"
      ],
      "metadata": {
        "colab": {
          "base_uri": "https://localhost:8080/"
        },
        "id": "ZC4v_vGtY2Ve",
        "outputId": "e787c802-3398-4122-ec61-606a39c0bb5a"
      },
      "execution_count": 43,
      "outputs": [
        {
          "output_type": "stream",
          "name": "stdout",
          "text": [
            "Accuracy:\n",
            " 0.79\n"
          ]
        }
      ]
    },
    {
      "cell_type": "markdown",
      "source": [
        "# **Model Evaluation**"
      ],
      "metadata": {
        "id": "RTcLk16rfIgI"
      }
    },
    {
      "cell_type": "code",
      "source": [
        "print(predictions)"
      ],
      "metadata": {
        "id": "svj1NntgZPkI"
      },
      "execution_count": null,
      "outputs": []
    },
    {
      "cell_type": "markdown",
      "source": [
        "**With Package**\n"
      ],
      "metadata": {
        "id": "YEosCJPxZHho"
      }
    },
    {
      "cell_type": "code",
      "source": [
        "from sklearn.metrics import classification_report\n",
        "print(\"Classification Report:\\n\",classification_report(Y_test,rfc_pred))\n"
      ],
      "metadata": {
        "colab": {
          "base_uri": "https://localhost:8080/"
        },
        "id": "I17UBY3gXRD5",
        "outputId": "bd862392-b5ae-4a56-9176-5207dff76b0b"
      },
      "execution_count": 31,
      "outputs": [
        {
          "output_type": "stream",
          "name": "stdout",
          "text": [
            "Classification Report:\n",
            "               precision    recall  f1-score   support\n",
            "\n",
            "           0       0.76      0.85      0.80        52\n",
            "           1       0.81      0.71      0.76        48\n",
            "\n",
            "    accuracy                           0.78       100\n",
            "   macro avg       0.78      0.78      0.78       100\n",
            "weighted avg       0.78      0.78      0.78       100\n",
            "\n"
          ]
        }
      ]
    },
    {
      "cell_type": "code",
      "source": [
        "from sklearn.metrics import confusion_matrix\n",
        "cm = confusion_matrix(Y_test,rfc_pred)\n",
        "print(\"Confusion Matrix:\\n\", cm)\n",
        "\n",
        "# Plot confusion matrix\n",
        "plt.figure(figsize=(8, 6))\n",
        "sns.heatmap(cm, annot=True, fmt='d', cmap='Blues', xticklabels=['Negative', 'Positive'], yticklabels=['Negative', 'Positive'])\n",
        "plt.xlabel('Predicted')\n",
        "plt.ylabel('Actual')\n",
        "plt.title('Confusion Matrix')\n",
        "plt.show()"
      ],
      "metadata": {
        "colab": {
          "base_uri": "https://localhost:8080/",
          "height": 621
        },
        "id": "ddlwtGIDeK_n",
        "outputId": "6c778619-30ef-402b-e612-4ae775071370"
      },
      "execution_count": 39,
      "outputs": [
        {
          "output_type": "stream",
          "name": "stdout",
          "text": [
            "Confusion Matrix:\n",
            " [[44  8]\n",
            " [14 34]]\n"
          ]
        },
        {
          "output_type": "display_data",
          "data": {
            "text/plain": [
              "<Figure size 800x600 with 2 Axes>"
            ],
            "image/png": "[encoded data removed]"
          },
          "metadata": {}
        }
      ]
    },
    {
      "cell_type": "markdown",
      "source": [
        "**Without Pakage**"
      ],
      "metadata": {
        "id": "5mE4UrbNamr_"
      }
    },
    {
      "cell_type": "code",
      "source": [
        "from sklearn.metrics import confusion_matrix\n",
        "print(\"Classification Report:\\n\",classification_report(y1_test,predictions))\n",
        "cm = confusion_matrix(y1_test, predictions)\n",
        "print(\"Confusion Matrix:\\n\", cm)\n",
        "\n",
        "# Plot confusion matrix\n",
        "plt.figure(figsize=(8, 6))\n",
        "sns.heatmap(cm, annot=True, fmt='d', cmap='Blues', xticklabels=['Negative', 'Positive'], yticklabels=['Negative', 'Positive'])\n",
        "plt.xlabel('Predicted')\n",
        "plt.ylabel('Actual')\n",
        "plt.title('Confusion Matrix')\n",
        "plt.show()"
      ],
      "metadata": {
        "colab": {
          "base_uri": "https://localhost:8080/",
          "height": 809
        },
        "id": "71eQMDfIeYog",
        "outputId": "3ae72e91-7604-4574-c102-55ff12620bdb"
      },
      "execution_count": 40,
      "outputs": [
        {
          "output_type": "stream",
          "name": "stdout",
          "text": [
            "Classification Report:\n",
            "               precision    recall  f1-score   support\n",
            "\n",
            "           0       0.93      0.78      0.85        54\n",
            "           1       0.78      0.93      0.85        46\n",
            "\n",
            "    accuracy                           0.85       100\n",
            "   macro avg       0.86      0.86      0.85       100\n",
            "weighted avg       0.86      0.85      0.85       100\n",
            "\n",
            "Confusion Matrix:\n",
            " [[42 12]\n",
            " [ 3 43]]\n"
          ]
        },
        {
          "output_type": "display_data",
          "data": {
            "text/plain": [
              "<Figure size 800x600 with 2 Axes>"
            ],
            "image/png": "[encoded data removed]"
          },
          "metadata": {}
        }
      ]
    },
    {
      "cell_type": "markdown",
      "source": [
        "# **Manual Testing**"
      ],
      "metadata": {
        "id": "wey7pS2rlRBr"
      }
    },
    {
      "cell_type": "code",
      "source": [
        "def manual_forest_prediction():\n",
        "    # Taking input of any news in form of text\n",
        "    X = input(\"ENTER A NEWS FOR PREDICTION: \")\n",
        "    # Apply stemming to the input text\n",
        "    X_new = stemming(X)\n",
        "\n",
        "    # Vectorize the stemmed textvectorizer.fit(X)\n",
        "    X = vectorizer.transform([X_new])\n",
        "    X = X.toarray()\n",
        "\n",
        "    # Make the prediction\n",
        "    prediction = clf.predict(X)\n",
        "    if (prediction==0):\n",
        "     print('The news is Real '+prediction)\n",
        "    else:\n",
        "     print('The news is Fake',prediction)\n",
        "\n",
        "# Example usage\n",
        "manual_forest_prediction()"
      ],
      "metadata": {
        "colab": {
          "base_uri": "https://localhost:8080/"
        },
        "id": "l3UiJHWsbMVM",
        "outputId": "86b9a027-8746-4be6-b4ae-8d2d4b3f7522"
      },
      "execution_count": 41,
      "outputs": [
        {
          "output_type": "stream",
          "name": "stdout",
          "text": [
            "ENTER A NEWS FOR PREDICTION:  13. Coffee: Research shows that drinking 2 cups of coffee a day can lower risk of heart disease by 20 percent. But excess consumption can increase blood pressure and cause anxiety. \n",
            "The news is Fake [1]\n"
          ]
        }
      ]
    }
  ]
}