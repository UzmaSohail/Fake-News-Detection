{
 "cells": [
  {
   "cell_type": "code",
   "execution_count": 1,
   "metadata": {},
   "outputs": [
    {
     "name": "stdout",
     "output_type": "stream",
     "text": [
      "Defaulting to user installation because normal site-packages is not writeable\n",
      "Requirement already satisfied: numpy in c:\\users\\hp\\appdata\\roaming\\python\\python312\\site-packages (2.0.0)\n",
      "Note: you may need to restart the kernel to use updated packages.\n"
     ]
    }
   ],
   "source": [
    "pip install numpy\n"
   ]
  },
  {
   "cell_type": "code",
   "execution_count": 2,
   "metadata": {},
   "outputs": [
    {
     "name": "stdout",
     "output_type": "stream",
     "text": [
      "Defaulting to user installation because normal site-packages is not writeable\n",
      "Requirement already satisfied: pandas in c:\\users\\hp\\appdata\\roaming\\python\\python312\\site-packages (2.2.2)\n",
      "Requirement already satisfied: numpy>=1.26.0 in c:\\users\\hp\\appdata\\roaming\\python\\python312\\site-packages (from pandas) (2.0.0)\n",
      "Requirement already satisfied: python-dateutil>=2.8.2 in c:\\users\\hp\\appdata\\roaming\\python\\python312\\site-packages (from pandas) (2.9.0.post0)\n",
      "Requirement already satisfied: pytz>=2020.1 in c:\\users\\hp\\appdata\\roaming\\python\\python312\\site-packages (from pandas) (2024.1)\n",
      "Requirement already satisfied: tzdata>=2022.7 in c:\\users\\hp\\appdata\\roaming\\python\\python312\\site-packages (from pandas) (2024.1)\n",
      "Requirement already satisfied: six>=1.5 in c:\\users\\hp\\appdata\\roaming\\python\\python312\\site-packages (from python-dateutil>=2.8.2->pandas) (1.16.0)\n",
      "Note: you may need to restart the kernel to use updated packages.\n"
     ]
    }
   ],
   "source": [
    "pip install pandas"
   ]
  },
  {
   "cell_type": "code",
   "execution_count": 3,
   "metadata": {},
   "outputs": [
    {
     "name": "stdout",
     "output_type": "stream",
     "text": [
      "Defaulting to user installation because normal site-packages is not writeable\n",
      "Requirement already satisfied: matplotlib in c:\\users\\hp\\appdata\\roaming\\python\\python312\\site-packages (3.9.0)\n",
      "Requirement already satisfied: contourpy>=1.0.1 in c:\\users\\hp\\appdata\\roaming\\python\\python312\\site-packages (from matplotlib) (1.2.1)\n",
      "Requirement already satisfied: cycler>=0.10 in c:\\users\\hp\\appdata\\roaming\\python\\python312\\site-packages (from matplotlib) (0.12.1)\n",
      "Requirement already satisfied: fonttools>=4.22.0 in c:\\users\\hp\\appdata\\roaming\\python\\python312\\site-packages (from matplotlib) (4.53.0)\n",
      "Requirement already satisfied: kiwisolver>=1.3.1 in c:\\users\\hp\\appdata\\roaming\\python\\python312\\site-packages (from matplotlib) (1.4.5)\n",
      "Requirement already satisfied: numpy>=1.23 in c:\\users\\hp\\appdata\\roaming\\python\\python312\\site-packages (from matplotlib) (2.0.0)\n",
      "Requirement already satisfied: packaging>=20.0 in c:\\users\\hp\\appdata\\roaming\\python\\python312\\site-packages (from matplotlib) (24.1)\n",
      "Requirement already satisfied: pillow>=8 in c:\\users\\hp\\appdata\\roaming\\python\\python312\\site-packages (from matplotlib) (10.3.0)\n",
      "Requirement already satisfied: pyparsing>=2.3.1 in c:\\users\\hp\\appdata\\roaming\\python\\python312\\site-packages (from matplotlib) (3.1.2)\n",
      "Requirement already satisfied: python-dateutil>=2.7 in c:\\users\\hp\\appdata\\roaming\\python\\python312\\site-packages (from matplotlib) (2.9.0.post0)\n",
      "Requirement already satisfied: six>=1.5 in c:\\users\\hp\\appdata\\roaming\\python\\python312\\site-packages (from python-dateutil>=2.7->matplotlib) (1.16.0)\n",
      "Note: you may need to restart the kernel to use updated packages.\n"
     ]
    }
   ],
   "source": [
    "pip install matplotlib"
   ]
  },
  {
   "cell_type": "code",
   "execution_count": 4,
   "metadata": {},
   "outputs": [
    {
     "name": "stdout",
     "output_type": "stream",
     "text": [
      "Defaulting to user installation because normal site-packages is not writeable\n",
      "Requirement already satisfied: nltk in c:\\users\\hp\\appdata\\roaming\\python\\python312\\site-packages (3.8.1)\n",
      "Requirement already satisfied: click in c:\\users\\hp\\appdata\\roaming\\python\\python312\\site-packages (from nltk) (8.1.7)\n",
      "Requirement already satisfied: joblib in c:\\users\\hp\\appdata\\roaming\\python\\python312\\site-packages (from nltk) (1.4.2)\n",
      "Requirement already satisfied: regex>=2021.8.3 in c:\\users\\hp\\appdata\\roaming\\python\\python312\\site-packages (from nltk) (2024.5.15)\n",
      "Requirement already satisfied: tqdm in c:\\users\\hp\\appdata\\roaming\\python\\python312\\site-packages (from nltk) (4.66.4)\n",
      "Requirement already satisfied: colorama in c:\\users\\hp\\appdata\\roaming\\python\\python312\\site-packages (from click->nltk) (0.4.6)\n",
      "Note: you may need to restart the kernel to use updated packages.\n"
     ]
    }
   ],
   "source": [
    "\n",
    "pip install nltk\n"
   ]
  },
  {
   "cell_type": "code",
   "execution_count": 5,
   "metadata": {},
   "outputs": [
    {
     "name": "stdout",
     "output_type": "stream",
     "text": [
      "Defaulting to user installation because normal site-packages is not writeable\n",
      "Requirement already satisfied: nltk in c:\\users\\hp\\appdata\\roaming\\python\\python312\\site-packages (3.8.1)\n",
      "Requirement already satisfied: click in c:\\users\\hp\\appdata\\roaming\\python\\python312\\site-packages (from nltk) (8.1.7)\n",
      "Requirement already satisfied: joblib in c:\\users\\hp\\appdata\\roaming\\python\\python312\\site-packages (from nltk) (1.4.2)\n",
      "Requirement already satisfied: regex>=2021.8.3 in c:\\users\\hp\\appdata\\roaming\\python\\python312\\site-packages (from nltk) (2024.5.15)\n",
      "Requirement already satisfied: tqdm in c:\\users\\hp\\appdata\\roaming\\python\\python312\\site-packages (from nltk) (4.66.4)\n",
      "Requirement already satisfied: colorama in c:\\users\\hp\\appdata\\roaming\\python\\python312\\site-packages (from click->nltk) (0.4.6)\n",
      "Note: you may need to restart the kernel to use updated packages.\n"
     ]
    }
   ],
   "source": [
    "\n",
    "pip install nltk\n"
   ]
  },
  {
   "cell_type": "code",
   "execution_count": 6,
   "metadata": {},
   "outputs": [
    {
     "name": "stdout",
     "output_type": "stream",
     "text": [
      "Defaulting to user installation because normal site-packages is not writeable\n",
      "Requirement already satisfied: scikit-learn in c:\\users\\hp\\appdata\\roaming\\python\\python312\\site-packages (1.5.0)\n",
      "Requirement already satisfied: numpy>=1.19.5 in c:\\users\\hp\\appdata\\roaming\\python\\python312\\site-packages (from scikit-learn) (2.0.0)\n",
      "Requirement already satisfied: scipy>=1.6.0 in c:\\users\\hp\\appdata\\roaming\\python\\python312\\site-packages (from scikit-learn) (1.13.1)\n",
      "Requirement already satisfied: joblib>=1.2.0 in c:\\users\\hp\\appdata\\roaming\\python\\python312\\site-packages (from scikit-learn) (1.4.2)\n",
      "Requirement already satisfied: threadpoolctl>=3.1.0 in c:\\users\\hp\\appdata\\roaming\\python\\python312\\site-packages (from scikit-learn) (3.5.0)\n",
      "Note: you may need to restart the kernel to use updated packages.\n"
     ]
    }
   ],
   "source": [
    "pip install scikit-learn\n"
   ]
  },
  {
   "cell_type": "code",
   "execution_count": 7,
   "metadata": {},
   "outputs": [
    {
     "name": "stdout",
     "output_type": "stream",
     "text": [
      "Defaulting to user installation because normal site-packages is not writeable\n",
      "Requirement already satisfied: seaborn in c:\\users\\hp\\appdata\\roaming\\python\\python312\\site-packages (0.13.2)\n",
      "Requirement already satisfied: numpy!=1.24.0,>=1.20 in c:\\users\\hp\\appdata\\roaming\\python\\python312\\site-packages (from seaborn) (2.0.0)\n",
      "Requirement already satisfied: pandas>=1.2 in c:\\users\\hp\\appdata\\roaming\\python\\python312\\site-packages (from seaborn) (2.2.2)\n",
      "Requirement already satisfied: matplotlib!=3.6.1,>=3.4 in c:\\users\\hp\\appdata\\roaming\\python\\python312\\site-packages (from seaborn) (3.9.0)\n",
      "Requirement already satisfied: contourpy>=1.0.1 in c:\\users\\hp\\appdata\\roaming\\python\\python312\\site-packages (from matplotlib!=3.6.1,>=3.4->seaborn) (1.2.1)\n",
      "Requirement already satisfied: cycler>=0.10 in c:\\users\\hp\\appdata\\roaming\\python\\python312\\site-packages (from matplotlib!=3.6.1,>=3.4->seaborn) (0.12.1)\n",
      "Requirement already satisfied: fonttools>=4.22.0 in c:\\users\\hp\\appdata\\roaming\\python\\python312\\site-packages (from matplotlib!=3.6.1,>=3.4->seaborn) (4.53.0)\n",
      "Requirement already satisfied: kiwisolver>=1.3.1 in c:\\users\\hp\\appdata\\roaming\\python\\python312\\site-packages (from matplotlib!=3.6.1,>=3.4->seaborn) (1.4.5)\n",
      "Requirement already satisfied: packaging>=20.0 in c:\\users\\hp\\appdata\\roaming\\python\\python312\\site-packages (from matplotlib!=3.6.1,>=3.4->seaborn) (24.1)\n",
      "Requirement already satisfied: pillow>=8 in c:\\users\\hp\\appdata\\roaming\\python\\python312\\site-packages (from matplotlib!=3.6.1,>=3.4->seaborn) (10.3.0)\n",
      "Requirement already satisfied: pyparsing>=2.3.1 in c:\\users\\hp\\appdata\\roaming\\python\\python312\\site-packages (from matplotlib!=3.6.1,>=3.4->seaborn) (3.1.2)\n",
      "Requirement already satisfied: python-dateutil>=2.7 in c:\\users\\hp\\appdata\\roaming\\python\\python312\\site-packages (from matplotlib!=3.6.1,>=3.4->seaborn) (2.9.0.post0)\n",
      "Requirement already satisfied: pytz>=2020.1 in c:\\users\\hp\\appdata\\roaming\\python\\python312\\site-packages (from pandas>=1.2->seaborn) (2024.1)\n",
      "Requirement already satisfied: tzdata>=2022.7 in c:\\users\\hp\\appdata\\roaming\\python\\python312\\site-packages (from pandas>=1.2->seaborn) (2024.1)\n",
      "Requirement already satisfied: six>=1.5 in c:\\users\\hp\\appdata\\roaming\\python\\python312\\site-packages (from python-dateutil>=2.7->matplotlib!=3.6.1,>=3.4->seaborn) (1.16.0)\n",
      "Note: you may need to restart the kernel to use updated packages.\n"
     ]
    }
   ],
   "source": [
    "pip install seaborn"
   ]
  },
  {
   "cell_type": "code",
   "execution_count": 8,
   "metadata": {},
   "outputs": [],
   "source": [
    "import numpy as np\n",
    "import pandas as pd\n",
    "import re\n",
    "import matplotlib.pyplot as plt\n",
    "import seaborn as sns\n",
    "from nltk.corpus import stopwords\n",
    "from nltk.stem.porter import PorterStemmer\n",
    "from sklearn.feature_extraction.text import TfidfVectorizer\n",
    "from sklearn.model_selection import train_test_split\n",
    "from sklearn.metrics import accuracy_score, classification_report\n"
   ]
  },
  {
   "cell_type": "code",
   "execution_count": 9,
   "metadata": {},
   "outputs": [
    {
     "name": "stderr",
     "output_type": "stream",
     "text": [
      "[nltk_data] Downloading package stopwords to\n",
      "[nltk_data]     C:\\Users\\hp\\AppData\\Roaming\\nltk_data...\n",
      "[nltk_data]   Package stopwords is already up-to-date!\n"
     ]
    },
    {
     "data": {
      "text/plain": [
       "True"
      ]
     },
     "execution_count": 9,
     "metadata": {},
     "output_type": "execute_result"
    }
   ],
   "source": [
    "import nltk\n",
    "nltk.download('stopwords')"
   ]
  },
  {
   "cell_type": "code",
   "execution_count": 10,
   "metadata": {},
   "outputs": [
    {
     "name": "stdout",
     "output_type": "stream",
     "text": [
      "['i', 'me', 'my', 'myself', 'we', 'our', 'ours', 'ourselves', 'you', \"you're\", \"you've\", \"you'll\", \"you'd\", 'your', 'yours', 'yourself', 'yourselves', 'he', 'him', 'his', 'himself', 'she', \"she's\", 'her', 'hers', 'herself', 'it', \"it's\", 'its', 'itself', 'they', 'them', 'their', 'theirs', 'themselves', 'what', 'which', 'who', 'whom', 'this', 'that', \"that'll\", 'these', 'those', 'am', 'is', 'are', 'was', 'were', 'be', 'been', 'being', 'have', 'has', 'had', 'having', 'do', 'does', 'did', 'doing', 'a', 'an', 'the', 'and', 'but', 'if', 'or', 'because', 'as', 'until', 'while', 'of', 'at', 'by', 'for', 'with', 'about', 'against', 'between', 'into', 'through', 'during', 'before', 'after', 'above', 'below', 'to', 'from', 'up', 'down', 'in', 'out', 'on', 'off', 'over', 'under', 'again', 'further', 'then', 'once', 'here', 'there', 'when', 'where', 'why', 'how', 'all', 'any', 'both', 'each', 'few', 'more', 'most', 'other', 'some', 'such', 'no', 'nor', 'not', 'only', 'own', 'same', 'so', 'than', 'too', 'very', 's', 't', 'can', 'will', 'just', 'don', \"don't\", 'should', \"should've\", 'now', 'd', 'll', 'm', 'o', 're', 've', 'y', 'ain', 'aren', \"aren't\", 'couldn', \"couldn't\", 'didn', \"didn't\", 'doesn', \"doesn't\", 'hadn', \"hadn't\", 'hasn', \"hasn't\", 'haven', \"haven't\", 'isn', \"isn't\", 'ma', 'mightn', \"mightn't\", 'mustn', \"mustn't\", 'needn', \"needn't\", 'shan', \"shan't\", 'shouldn', \"shouldn't\", 'wasn', \"wasn't\", 'weren', \"weren't\", 'won', \"won't\", 'wouldn', \"wouldn't\"]\n"
     ]
    }
   ],
   "source": [
    "# printing the stopwords in English\n",
    "print(stopwords.words('english'))"
   ]
  },
  {
   "cell_type": "code",
   "execution_count": 11,
   "metadata": {},
   "outputs": [],
   "source": [
    "# loading the dataset to a pandas DataFrame\n",
    "news_dataset = pd.read_csv('train.csv')"
   ]
  },
  {
   "cell_type": "code",
   "execution_count": 12,
   "metadata": {},
   "outputs": [
    {
     "data": {
      "text/plain": [
       "(20800, 5)"
      ]
     },
     "execution_count": 12,
     "metadata": {},
     "output_type": "execute_result"
    }
   ],
   "source": [
    "news_dataset.shape\n"
   ]
  },
  {
   "cell_type": "code",
   "execution_count": 13,
   "metadata": {},
   "outputs": [
    {
     "data": {
      "text/html": [
       "<div>\n",
       "<style scoped>\n",
       "    .dataframe tbody tr th:only-of-type {\n",
       "        vertical-align: middle;\n",
       "    }\n",
       "\n",
       "    .dataframe tbody tr th {\n",
       "        vertical-align: top;\n",
       "    }\n",
       "\n",
       "    .dataframe thead th {\n",
       "        text-align: right;\n",
       "    }\n",
       "</style>\n",
       "<table border=\"1\" class=\"dataframe\">\n",
       "  <thead>\n",
       "    <tr style=\"text-align: right;\">\n",
       "      <th></th>\n",
       "      <th>id</th>\n",
       "      <th>title</th>\n",
       "      <th>author</th>\n",
       "      <th>text</th>\n",
       "      <th>label</th>\n",
       "    </tr>\n",
       "  </thead>\n",
       "  <tbody>\n",
       "    <tr>\n",
       "      <th>0</th>\n",
       "      <td>0</td>\n",
       "      <td>House Dem Aide: We Didn’t Even See Comey’s Let...</td>\n",
       "      <td>Darrell Lucus</td>\n",
       "      <td>House Dem Aide: We Didn’t Even See Comey’s Let...</td>\n",
       "      <td>1</td>\n",
       "    </tr>\n",
       "    <tr>\n",
       "      <th>1</th>\n",
       "      <td>1</td>\n",
       "      <td>FLYNN: Hillary Clinton, Big Woman on Campus - ...</td>\n",
       "      <td>Daniel J. Flynn</td>\n",
       "      <td>Ever get the feeling your life circles the rou...</td>\n",
       "      <td>0</td>\n",
       "    </tr>\n",
       "    <tr>\n",
       "      <th>2</th>\n",
       "      <td>2</td>\n",
       "      <td>Why the Truth Might Get You Fired</td>\n",
       "      <td>Consortiumnews.com</td>\n",
       "      <td>Why the Truth Might Get You Fired October 29, ...</td>\n",
       "      <td>1</td>\n",
       "    </tr>\n",
       "    <tr>\n",
       "      <th>3</th>\n",
       "      <td>3</td>\n",
       "      <td>15 Civilians Killed In Single US Airstrike Hav...</td>\n",
       "      <td>Jessica Purkiss</td>\n",
       "      <td>Videos 15 Civilians Killed In Single US Airstr...</td>\n",
       "      <td>1</td>\n",
       "    </tr>\n",
       "    <tr>\n",
       "      <th>4</th>\n",
       "      <td>4</td>\n",
       "      <td>Iranian woman jailed for fictional unpublished...</td>\n",
       "      <td>Howard Portnoy</td>\n",
       "      <td>Print \\nAn Iranian woman has been sentenced to...</td>\n",
       "      <td>1</td>\n",
       "    </tr>\n",
       "  </tbody>\n",
       "</table>\n",
       "</div>"
      ],
      "text/plain": [
       "   id                                              title              author  \\\n",
       "0   0  House Dem Aide: We Didn’t Even See Comey’s Let...       Darrell Lucus   \n",
       "1   1  FLYNN: Hillary Clinton, Big Woman on Campus - ...     Daniel J. Flynn   \n",
       "2   2                  Why the Truth Might Get You Fired  Consortiumnews.com   \n",
       "3   3  15 Civilians Killed In Single US Airstrike Hav...     Jessica Purkiss   \n",
       "4   4  Iranian woman jailed for fictional unpublished...      Howard Portnoy   \n",
       "\n",
       "                                                text  label  \n",
       "0  House Dem Aide: We Didn’t Even See Comey’s Let...      1  \n",
       "1  Ever get the feeling your life circles the rou...      0  \n",
       "2  Why the Truth Might Get You Fired October 29, ...      1  \n",
       "3  Videos 15 Civilians Killed In Single US Airstr...      1  \n",
       "4  Print \\nAn Iranian woman has been sentenced to...      1  "
      ]
     },
     "execution_count": 13,
     "metadata": {},
     "output_type": "execute_result"
    }
   ],
   "source": [
    "news_dataset.head()"
   ]
  },
  {
   "cell_type": "code",
   "execution_count": 14,
   "metadata": {},
   "outputs": [
    {
     "name": "stderr",
     "output_type": "stream",
     "text": [
      "C:\\Users\\hp\\AppData\\Local\\Temp\\ipykernel_9208\\1529447720.py:2: FutureWarning: \n",
      "\n",
      "Passing `palette` without assigning `hue` is deprecated and will be removed in v0.14.0. Assign the `x` variable to `hue` and set `legend=False` for the same effect.\n",
      "\n",
      "  sns.countplot(x='label', data = news_dataset, palette = 'mako',saturation = 1)\n"
     ]
    },
    {
     "data": {
      "image/png": "[encoded data removed]",
      "text/plain": [
       "<Figure size 600x400 with 1 Axes>"
      ]
     },
     "metadata": {},
     "output_type": "display_data"
    }
   ],
   "source": [
    "plt.figure(figsize = (6,4))\n",
    "sns.countplot(x='label', data = news_dataset, palette = 'mako',saturation = 1)\n",
    "plt.title(\"Real Vs. Fake News count\", fontsize = 12)\n",
    "plt.show()"
   ]
  },
  {
   "cell_type": "code",
   "execution_count": 15,
   "metadata": {},
   "outputs": [
    {
     "data": {
      "text/plain": [
       "id           0\n",
       "title      558\n",
       "author    1957\n",
       "text        39\n",
       "label        0\n",
       "dtype: int64"
      ]
     },
     "execution_count": 15,
     "metadata": {},
     "output_type": "execute_result"
    }
   ],
   "source": [
    "# counting the number of missing values in the dataset\n",
    "news_dataset.isnull().sum()\n"
   ]
  },
  {
   "cell_type": "code",
   "execution_count": 16,
   "metadata": {},
   "outputs": [],
   "source": [
    "# replacing the null values with empty string\n",
    "news_dataset = news_dataset.fillna('')\n"
   ]
  },
  {
   "cell_type": "code",
   "execution_count": 17,
   "metadata": {},
   "outputs": [
    {
     "name": "stdout",
     "output_type": "stream",
     "text": [
      "0        Darrell Lucus House Dem Aide: We Didn’t Even S...\n",
      "1        Daniel J. Flynn FLYNN: Hillary Clinton, Big Wo...\n",
      "2        Consortiumnews.com Why the Truth Might Get You...\n",
      "3        Jessica Purkiss 15 Civilians Killed In Single ...\n",
      "4        Howard Portnoy Iranian woman jailed for fictio...\n",
      "                               ...                        \n",
      "20795    Jerome Hudson Rapper T.I.: Trump a ’Poster Chi...\n",
      "20796    Benjamin Hoffman N.F.L. Playoffs: Schedule, Ma...\n",
      "20797    Michael J. de la Merced and Rachel Abrams Macy...\n",
      "20798    Alex Ansary NATO, Russia To Hold Parallel Exer...\n",
      "20799              David Swanson What Keeps the F-35 Alive\n",
      "Name: content, Length: 20800, dtype: object\n"
     ]
    }
   ],
   "source": [
    "# merging the author name and news title\n",
    "news_dataset['content'] = news_dataset['author']+' '+news_dataset['title']\n",
    "print(news_dataset['content'])"
   ]
  },
  {
   "cell_type": "code",
   "execution_count": 18,
   "metadata": {},
   "outputs": [
    {
     "name": "stdout",
     "output_type": "stream",
     "text": [
      "          id                                              title  \\\n",
      "6635    6635  BREAKING: Oregon Standoff Leaders Acquitted Fo...   \n",
      "5960    5960  Chinese Military Enters Afghanistan Fray with ...   \n",
      "9275    9275  Silly Republicans, FBI didn’t ‘REOPEN’ Hillary...   \n",
      "9497    9497  His Tone Dark, Donald Trump Takes G.O.P. Mantl...   \n",
      "515      515  Bankrupt Puerto Rico Voting on U.S. Statehood ...   \n",
      "...      ...                                                ...   \n",
      "12605  12605  Is a ‘False Flag’ Alien Invasion in the Works?...   \n",
      "4312    4312  Remembrance Project Members Give Their Take on...   \n",
      "16159  16159  Dr. Duke & Farren Shoaf: We are the Republican...   \n",
      "322      322     Sparks Fly as Bikers for Trump Meet Protesters   \n",
      "19388  19388  Heureux et souriant, il a la chance de toujour...   \n",
      "\n",
      "                                  author  \\\n",
      "6635            The Free Thought Project   \n",
      "5960                          Edwin Mora   \n",
      "9275                           J.E. Dyer   \n",
      "9497   Patrick Healy and Jonathan Martin   \n",
      "515                     Chriss W. Street   \n",
      "...                                  ...   \n",
      "12605                        Arjun Walia   \n",
      "4312                           Ian Mason   \n",
      "16159               Dr. Patrick Slattery   \n",
      "322                                        \n",
      "19388                                      \n",
      "\n",
      "                                                    text  \\\n",
      "6635   \\nby Jay Syrmopoulos\\nPortland, OR – The group...   \n",
      "5960   The United States is aware of, but not openly ...   \n",
      "9275   Print \\n[Ed. – Suddenly, Newsweek cares that t...   \n",
      "9497   CLEVELAND  —   Donald John Trump accepted the ...   \n",
      "515    The 3. 4 million U. S. citizens on the Caribbe...   \n",
      "...                                                  ...   \n",
      "12605  As you’ve probably already heard, Wikileaks ha...   \n",
      "4312   Attorney General Jeff Sessions and Secretary o...   \n",
      "16159  http://mediaarchives.gsradio.net/dduke/112116....   \n",
      "322    Home / News / Sparks Fly as Bikers for Trump M...   \n",
      "19388                                                      \n",
      "\n",
      "                                                 content  \n",
      "6635   The Free Thought Project BREAKING: Oregon Stan...  \n",
      "5960   Edwin Mora Chinese Military Enters Afghanistan...  \n",
      "9275   J.E. Dyer Silly Republicans, FBI didn’t ‘REOPE...  \n",
      "9497   Patrick Healy and Jonathan Martin His Tone Dar...  \n",
      "515    Chriss W. Street Bankrupt Puerto Rico Voting o...  \n",
      "...                                                  ...  \n",
      "12605  Arjun Walia Is a ‘False Flag’ Alien Invasion i...  \n",
      "4312   Ian Mason Remembrance Project Members Give The...  \n",
      "16159  Dr. Patrick Slattery Dr. Duke & Farren Shoaf: ...  \n",
      "322       Sparks Fly as Bikers for Trump Meet Protesters  \n",
      "19388   Heureux et souriant, il a la chance de toujou...  \n",
      "\n",
      "[500 rows x 5 columns]\n",
      "6635     1\n",
      "5960     0\n",
      "9275     1\n",
      "9497     0\n",
      "515      0\n",
      "        ..\n",
      "12605    1\n",
      "4312     0\n",
      "16159    1\n",
      "322      1\n",
      "19388    1\n",
      "Name: label, Length: 500, dtype: int64\n"
     ]
    }
   ],
   "source": [
    "# separating the data & label\n",
    "news_dataset = news_dataset.sample(n=500)\n",
    "X = news_dataset.drop(columns='label', axis=1)\n",
    "Y = news_dataset['label']\n",
    "print(X)\n",
    "print(Y)"
   ]
  },
  {
   "cell_type": "code",
   "execution_count": 19,
   "metadata": {},
   "outputs": [],
   "source": [
    "port_stem = PorterStemmer()\n"
   ]
  },
  {
   "cell_type": "code",
   "execution_count": 20,
   "metadata": {},
   "outputs": [],
   "source": [
    "def stemming(content):\n",
    "    stemmed_content = re.sub('[^a-zA-Z]',' ',content)\n",
    "    stemmed_content = stemmed_content.lower()\n",
    "    stemmed_content = stemmed_content.split()\n",
    "    stemmed_content = [port_stem.stem(word) for word in stemmed_content if not word in stopwords.words('english')]\n",
    "    stemmed_content = ' '.join(stemmed_content)\n",
    "    return stemmed_content\n"
   ]
  },
  {
   "cell_type": "code",
   "execution_count": 21,
   "metadata": {},
   "outputs": [
    {
     "name": "stdout",
     "output_type": "stream",
     "text": [
      "6635     free thought project break oregon standoff lea...\n",
      "5960     edwin mora chines militari enter afghanistan f...\n",
      "9275     j e dyer silli republican fbi reopen hillari i...\n",
      "9497     patrick heali jonathan martin tone dark donald...\n",
      "515      chriss w street bankrupt puerto rico vote u st...\n",
      "                               ...                        \n",
      "12605    arjun walia fals flag alien invas work wernher...\n",
      "4312     ian mason remembr project member give take jef...\n",
      "16159    dr patrick slatteri dr duke farren shoaf repub...\n",
      "322                     spark fli biker trump meet protest\n",
      "19388    heureux et souriant il la chanc de toujour ign...\n",
      "Name: content, Length: 500, dtype: object\n"
     ]
    }
   ],
   "source": [
    "news_dataset['content'] = news_dataset['content'].apply(stemming)\n",
    "print(news_dataset['content'])"
   ]
  },
  {
   "cell_type": "code",
   "execution_count": 22,
   "metadata": {},
   "outputs": [
    {
     "name": "stdout",
     "output_type": "stream",
     "text": [
      "['free thought project break oregon standoff leader acquit malheur wildlif refug takeov'\n",
      " 'edwin mora chines militari enter afghanistan fray pentagon knowledg'\n",
      " 'j e dyer silli republican fbi reopen hillari investig sinc never offici close'\n",
      " 'patrick heali jonathan martin tone dark donald trump take g p mantl new york time'\n",
      " 'chriss w street bankrupt puerto rico vote u statehood breitbart' 'moron'\n",
      " 'richard c paddock philippin leader shift drug war offici meet resist approv new york time'\n",
      " 'michel moon donald trump london u help god bless breitbart'\n",
      " 'steve eder sheri fink ami chozick soul search clinton foundat trump era new york time'\n",
      " 'donald g mcneil jr new ebola vaccin give percent protect new york time'\n",
      " 'new york time reflect rio new york time'\n",
      " 'john oti maintain sunni spirit face hardship new york time'\n",
      " 'awr hawkin ami schumer use netflix special go gun nut'\n",
      " 'trent baker espn wilbon kaepernick blackbal question breitbart'\n",
      " 'jonathan mahler steve eder vacanc black donald trump got start first accus bia new york time'\n",
      " 'alison smale jame kanter austria far right present e u new test poll new york time'\n",
      " 'isabel kershner netanyahu promis retribut bias u n resolut new york time'\n",
      " 'chri menahan former us attorney dc new hillari email probe result revolt insid fbi'\n",
      " 'glenn thrush maggi haberman bannon given secur role usual held gener new york time'\n",
      " 'zach cartwright trump twitter privileg revok obama respons priceless'\n",
      " 'davidswanson veteran black mirror roach'\n",
      " 'european union time hillari clinton brain damag confirm abedin podesta'\n",
      " 'jim dwyer cricket snake crab mix fact fraud new york subway new york time'\n",
      " 'christoph mele first arrest made gang rape case brazil new york time'\n",
      " 'jess bidgood paul lepag governor main say quit new york time'\n",
      " 'davidswanson govern lie movi'\n",
      " 'llewellyn h rockwel jr hear roger stone ft worth'\n",
      " 'carol adl british pm refus withdraw support saudi arabia'\n",
      " 'john federico climat chang evid guardian liberti voic'\n",
      " 'mike rivero death john kennedi'\n",
      " 'tom ciccotta survey american women asham earn boyfriend husband breitbart'\n",
      " 'hari kumar gun battl kashmir protest turn violent new york time'\n",
      " 'michael kimmelman design mission mississippi new york time'\n",
      " 'queen elizabeth ii own everi dolphin britain need drive licenc pay tax incred power know monarchi'\n",
      " 'dailouk hook site tinder grindr good popul control'\n",
      " 'samuel g freedman rabbi endur sermon live last five minut new york time'\n",
      " 'grant stern harri reid accus fbi hide explos info trump putin'\n",
      " 'kati thoma doctor stump took new york time'\n",
      " 'pam key robert de niro trump bulli bulli back breitbart'\n",
      " 'carolyn ryan new york time fact check debat new york time'\n",
      " 'scott cinema dead tellurid say yet new york time'\n",
      " 'gillian bondag expect' 'doug shelp'\n",
      " 'tokyowashi norepli blogger com insid threaten expos hillari pedophil sex ring'\n",
      " 'norepli blogger com alexand light alien look skull peruvian desert await investig'\n",
      " 'dr patrick slatteri slatteri dankof'\n",
      " 'warner todd huston nc woman charg sexual misconduct dog creat child porn breitbart'\n",
      " 'breitbart news israel make rare overtur palestinian trump request breitbart'\n",
      " 'dan bilefski henri fountain itali quak sever new york time'\n",
      " 'charli spier republican senat hawk prais donald trump bomb syria'\n",
      " 'j e dyer migrant camp pari grow franc shut jungl calai'\n",
      " 'marisa martin paint almost one els seem'\n",
      " 'tokyowashi norepli blogger com serco zulu starnet blackmail clinton pig farm bridg soro patent vote'\n",
      " 'consortiumnew com carbon tax revers washington state'\n",
      " 'nigel farag fail incit mob'\n",
      " 'jame p pinkerton pinkerton plutocrat vs peopl trump pari climat decis expos latest battl class war'\n",
      " 'mark mazzetti michael schmidt two russian compound caught histori echo new york time'\n",
      " 'joel b pollak cohn trump becom smarter knowledg climat chang breitbart'\n",
      " 'breitbart news hillari clinton crash tribeca film festiv'\n",
      " 'j e dyer man punctuat high speed chase stop n burger drive thru'\n",
      " 'jerom hudson ariana grand set manchest benefit concert kati perri coldplay miley cyru'\n",
      " 'christoph mele nurs hangov head one new york time'\n",
      " 'john carney fed hike key interest rate signal econom strength breitbart'\n",
      " 'justin bergman south korea olympian winter moment new york time'\n",
      " 'unicorn riot tension rise pipelin construct near nodapl blockad'\n",
      " 'ian hanchett mccain rand work vladimir putin breitbart'\n",
      " 'joel b pollak lo angel time editori lose trump narcissist demagogu breitbart'\n",
      " 'karen zraick lisa iaboni republican parti c syria thursday even brief new york time'\n",
      " 'dan riehl noah wall year gop repeal bill obama back'\n",
      " 'rt bavarian neg attitud toward muslim germani poll'\n",
      " 'andrea kannapel sandra stevenson hillari clinton donald trump iraq inquiri wednesday even brief new york time'\n",
      " 'john hayward russian fighter make provoc errat approach within feet u recon plane breitbart'\n",
      " 'trump deport everyon nativ american'\n",
      " 'thoma william ph hungarian minist christianophobia last accept form discrimin'\n",
      " 'douglass price bret baier throw seriou shade melania trump'\n",
      " 'starkman wikileak expos hillari clinton daytim drink'\n",
      " 'eddi lavin scientist claim found alien civil'\n",
      " 'starkman end game close clinton massiv damn evid bring clinton crime famili forev'\n",
      " 'howard portnoy clinton palmieri express relief gop focus classifi email'\n",
      " 'jennif steinhauer type trump avers republican new york time'\n",
      " 'best magic trick ever reveal'\n",
      " 'emmari huetteman yamich alcindor betsi devo confirm educ secretari penc break tie new york time'\n",
      " 'ben bowl game changer trump support charg voter fraud case'\n",
      " 'terresa monro hamilton georg mason univ get fascism knew crime hang anti terror poster'\n",
      " 'norepli blogger com der postillon zu unseri auch lothar matth us sagt hsv al sportdirektor ab'\n",
      " 'tfpp writer poll show hillari lead useless mislead cartoon'\n",
      " 'manlio dinucci role us nato eu relat china manlio dinucci'\n",
      " 'kati thoma complex math behind spiral prescript drug price new york time'\n",
      " 'jennif senior richard nixon portrait thin skin media hate presid new york time'\n",
      " 'rick roja pride march jubil solemn tribut victim massacr new york time'\n",
      " '' 'ben kew democrat want rid david brock one want anyth breitbart'\n",
      " 'rowan wolf tear fabric america polit theater'\n",
      " 'andrew bradford trump spokesperson katrina pierson caught blatant lie threaten lawsuit video'\n",
      " 'pam key dnc chair perez dem retak chamber congress breitbart'\n",
      " 'steve bya could mcmullin throw presidenti race hous'\n",
      " 'choe sang hun south korean ralli largest protest decad demand presid ouster new york time'\n",
      " 'jame b stewart keep appear ruin former dalla banker new york time'\n",
      " 'ann coulter coulter resist goe live fire breitbart'\n",
      " 'jerom hudson obama dine bono nyc receiv stand ovat'\n",
      " 'bob price border patrol agent assault increasingli aggress illeg immigr'\n",
      " 'alex ansari trump break stump speech admir beauti trump mask'\n",
      " 'norepli blogger com der postillon immer mehr menschen geben al informationsquel nummer mario barth'\n",
      " 'tfpp writer brutal cartoon show exactli trump novemb'\n",
      " 'informationclearinghous info donald trump entir elect victori speech'\n",
      " 'jose mourinho motiv player arsen match punch face'\n",
      " 'juli hirschfeld davi jada f smith get know histor figur bill new york time'\n",
      " 'hurrican matthew avoid direct hit florida continu north new york time'\n",
      " 'michael cooper bird song siren saxophon stroll museum new york time'\n",
      " 'lyn leahz' 'kerri hannon women keep career track new york time'\n",
      " 'nato militar black sea peter korzun' 'best luck wall'\n",
      " 'consortiumnew com elector colleg cheat democraci' 'harper' 'doc chao'\n",
      " 'jack montgomeri brussel fear eu surviv marin le pen victori franc'\n",
      " 'pam key pelosi trump border wall insult hemispher breitbart'\n",
      " 'audrey lee suppress apolog reflex new york time'\n",
      " 'guest teenag cryogen frozen cool soon'\n",
      " 'life environment win poland spring fight plastic wast campaign highlight disgust flavor bottl water'\n",
      " 'charli spier donald trump ridicul cowardli leaker jame comey'\n",
      " 'colin taylor black trump man belong murder cult'\n",
      " 'charli savag white hous pull back bid reopen c black site prison new york time'\n",
      " 'leo hohmann wikileak bombshel hillari need know'\n",
      " 'consortiumnew com new york time apologist power'\n",
      " 'jason ditz un slam aleppo rebel amid accus poison ga attack'\n",
      " 'warner todd huston espn warn focu cabl tv reveal fail futur model breitbart'\n",
      " 'bob price border patrol agent arrest two illeg worker ben amp jerri protest'\n",
      " ''\n",
      " 'michael shear patrick heali hillari clinton reli presid obama help new york time'\n",
      " 'warner todd huston starbuck brand crash announc plan hire muslim refuge breitbart'\n",
      " 'vnn support honor veteran veteran day'\n",
      " 'stephani strom perdu aim make chicken happier comfort new york time'\n",
      " 'timelin elect cycl onion america finest news sourc'\n",
      " 'woman face jail dismal select offic birthday cake'\n",
      " 'mike rivero obama greec last flight lame duck'\n",
      " 'moscow work arrang israel palestin summit'\n",
      " 'dark agenda behind global open border'\n",
      " 'kati benner snapchat discov take hard line mislead explicit imag new york time'\n",
      " 'dave hodg abedin weiner testifi clinton'\n",
      " 'colin taylor celebr made anti trump video age'\n",
      " 'farhad manjoo high stake bet turn googl assist star trek comput new york time'\n",
      " 'eli rosenberg anthoni weiner face new scrutini report girl new york time'\n",
      " 'daniel nussbaum box offic mummi unravel wonder woman hold top spot'\n",
      " 'poke staff worker channel liam neeson lunch taken'\n",
      " 'logan churchwel dalla democrat fret threat voter fraud'\n",
      " 'heather callaghan brain concuss children adult know vaccin damag'\n",
      " 'neil munro gop senat hope sneak amnesti trump popular immigr reform breitbart'\n",
      " 'post pm octob backfir alert wh chief staff obamacar cheerlead get em fire reason hope twitchi com'\n",
      " 'iron sheik clinton comey e mail scandal rebellion fbi'\n",
      " 'charli spier dnc chair tom perez join protest defend jame comey white hous breitbart'\n",
      " 'jame richard tyrer' 'continu email flap derail clinton still danger'\n",
      " 'trump presid implic nato'\n",
      " 'david stockman chart day ratio household net worth dispos incom pre crisi high'\n",
      " 'informationclearinghous info putin derail west inform'\n",
      " 'stevew three way recharg energi use crystal'\n",
      " 'kati mchugh cnn lemon chicago tortur video think evil breitbart'\n",
      " 'deirdr fulton common dream despit widespread concern doj spread elect monitor thin'\n",
      " 'mark mazzetti ben hubbard matthew rosenberg yemen see u strike evid hidden hand behind saudi air war new york time'\n",
      " 'jason ditz shi ite militia enter mosul battl eye join syria war'\n",
      " 'susan chira vote highlight gender gap side feel lost ground new york time'\n",
      " 'poke staff koala get excit run head first tree'\n",
      " 'nick hallett church attend increas conserv poland'\n",
      " 'jerom hudson report caitlyn jenner plan nude photo shoot gender reassign surgeri'\n",
      " ''\n",
      " 'charli nash facebook appeal court rule impos austria hate speech ban global breitbart'\n",
      " 'dare restrain laugh trump hillari stronger hot show'\n",
      " 'mike mcphate california today trump rise return rebel state new york time'\n",
      " 'jack burn project verita releas fourth video expos illeg contribut high level polit corrupt'\n",
      " 'ami chozick hillari clinton call mani trump backer deplor g p pounc new york time'\n",
      " 'doc break anthoni weiner cooper fbi investig'\n",
      " 'mike mcphate california today top newspap line elect new york time'\n",
      " 'katherin rodriguez polic engag boston doctor murder penthous breitbart'\n",
      " 'daniel greenfield nigerian novelist wonder everyon love hillari'\n",
      " 'aaron kesel break activ shooter azusa ca poll station multpl injur dead live blog'\n",
      " 'breitbart news amanda hous livewir presid trump first address joint session congress'\n",
      " 'rt en espa ol descubren un nel para el tr fico de droga en la frontera entr xico ee uu'\n",
      " 'sean adl tabatabai british govern admit marijuana medicin valu'\n",
      " 'debbi menon comment morn joe destroy corrupt clinton foundat laughabl total corrupt debbi menon'\n",
      " 'admin theresa may refus withdraw support saudi arabia'\n",
      " 'jonathan sobl japanes boy left mountain parent found aliv new york time'\n",
      " 'juli hirschfeld davi trump say refuge flood u mislead allus new york time'\n",
      " 'karen zraick lisa iaboni immigr milo yiannopoulo tuesday even brief new york time'\n",
      " 'insid leak bill word nicknam hillari expos dirti bad habit'\n",
      " 'liam stack year war celebr find syrian group back new york time'\n",
      " 'pam key franken gop colleagu question trump mental health breitbart'\n",
      " 'bob price texa student skip school protest arrest violent crimin'\n",
      " 'hillari person order donald duck troll campaign'\n",
      " 'lorn manli julianna marguli close argument good wife new york time'\n",
      " 'paulina villega elisabeth malkin mexican report say investig botch search student new york time'\n",
      " 'michael kimmelman light detroit new york time'\n",
      " 'william grime bird jane eyr manuscript first trip america new york time'\n",
      " 'katherin rodriguez walmart creat retail job construct job'\n",
      " 'liz spayd gulf coast flood time late scene new york time'\n",
      " 'dom phillip death toll brazil prison riot reach decapit seen new york time'\n",
      " 'alex ansari elit secretli bank trump victori'\n",
      " 'pakalert braless jourdan dunn flaunt supermodel figur raci see dress'\n",
      " 'doc shock fbi surpris attack democrat leadership give hillari'\n",
      " 'melissa eddi german prosecutor side satir turkish presid new york time'\n",
      " 'wolf blitzer walk middl oliv garden commerci announc break elect result onion america finest news sourc'\n",
      " 'realdeal walnut drug say fda' 'otherword fight racism white worker hurt'\n",
      " 'jason easley billionair donald trump presidenti campaign flat broke'\n",
      " 'michael shear trump take gambl cut program base reli new york time'\n",
      " 'max fisher russia u elect know know new york time'\n",
      " 'jame b stewart donald trump turn tax code giant tax shelter new york time'\n",
      " 'mike isaac uber defi california regul self drive car servic new york time'\n",
      " 'geoffrey grider crook hillari campaign use green screen today low turnout ralli coconut creek fl'\n",
      " 'charli spier sean spicer trump famili made clear think kathi griffin'\n",
      " 'aaron klein latest establish talk point trump may guilti treason'\n",
      " 'guest post unpreced bond dump mean u dollar collaps ahead'\n",
      " 'charli nash elon musk warn deep could danger alreadi cyborg human race breitbart'\n",
      " 'eric lichtblau noah weiland hacker releas democrat parti document new york time'\n",
      " 'mike miller donald trump new deal black america point abl agre'\n",
      " 'breitbart tv watch steve bannon sworn presid trump chief strategist breitbart'\n",
      " 'trump victori new polit awaken'\n",
      " 'david e sanger week trump reshap decad percept america new york time'\n",
      " 'bill vlasic neal e boudett self drive tesla involv fatal crash u say new york time'\n",
      " '' 'ariana medicin plant surviv garden'\n",
      " 'sewel chan leav take lead britain await outcom e u referendum new york time'\n",
      " 'phonic monkey' 'hitleri dictat'\n",
      " 'warner todd huston boy identifi girl swamp oppon connecticut high school track meet'\n",
      " 'norepli blogger com alexand light crazi sick societi actual healthi'\n",
      " 'admin elizabeth warren defin sleazi hypocrisi'\n",
      " 'kathryn shattuck hollywood holiday habit big game small gift joy new york time'\n",
      " 'merril hope texa governor sign law crackdown teacher sex misconduct'\n",
      " 'andrew pollack astrazeneca push protect crestor gener competit new york time'\n",
      " 'assemblyman tim donnelli lo angel school district declar campus sanctuari school breitbart'\n",
      " 'juliu hubri world proud calm measur respons trump victori'\n",
      " 'robert j marlow rori mcilroy come back earli golf rehab tee presid trump breitbart'\n",
      " 'contribut author elit want global economi collaps'\n",
      " 'juliu hubri ask fuck problem'\n",
      " 'max rosco influenti french author alain soral becom red pill'\n",
      " 'iron sheik wall street journal begin layoff cut section'\n",
      " 'news divers win marvel creat white male superhero think bad got power instead latina woman'\n",
      " 'charli nash peter thiel global feel date breitbart'\n",
      " 'kristina wong u gener islam state chemic attack impact u forc'\n",
      " 'fundamentali flaw human'\n",
      " 'uk announc new troop deploy near russia border'\n",
      " 'ildefonso ortiz fbi texan tri take kidnap child iraq via mexico'\n",
      " 'breitbart london soldier open fire allahu akbar machett attack louvr pari'\n",
      " 'dr susan berri republican complain plan parenthood defund provis endang obamacar repeal breitbart'\n",
      " 'neil irwin trump improv messi u chines econom relationship new york time'\n",
      " 'breitbart news leftist attack melania trump invoc lord prayer breitbart'\n",
      " 'josh katz kevin queali new york time n f l playoff simul rd annual new york time'\n",
      " 'new report link russia donald trump campaign'\n",
      " 'jason howerton megyn kelli handl hillari support goe incred length avoid leak email'\n",
      " 'awr hawkin actress sarah wynter gop want allow conceal carri blind mental ill'\n",
      " 'susan lehman tri forgotten free servic person shopper new york time'\n",
      " 'liam deacon bbc claim great meme war could swing french elect le pen'\n",
      " 'michael krieger evid emerg prove shameless croni fraud evan bayh'\n",
      " 'world enjoy last day rel saniti'\n",
      " 'wh press secretari say obama denial clinton server entir factual'\n",
      " 'norepli blogger com alexand light militar polic stand rock work man'\n",
      " 'jon burbuli' 'video women street explain hate hillari daili wire'\n",
      " 'maggi haberman ashley parker jeremi w peter michael barbaro insid donald trump last stand anxiou nomine seek assur new york time'\n",
      " 'almost children franc medic adhd defin amp treat collect evolut comment h nation big pharma creat h epidem almost children franc medic adhd defin treat collect evolut'\n",
      " 'vessel male sexual gratif sad today onion america finest news sourc'\n",
      " 'charli spier donald trump welcom secretari state rex tillerson'\n",
      " 'fina suspend russian swimmer year dope web portal russia news'\n",
      " 'peter baker trump respond north korean missil launch uncharacterist restraint new york time'\n",
      " 'henri wolff black turnout soft earli vote bode ill hillari clinton'\n",
      " 'coral davenport trump lay plan revers obama climat chang legaci new york time'\n",
      " 'dikran arakelian norepli blogger com top place world allow visit'\n",
      " 'isabel z bewar could poison reheat five food'\n",
      " 'victoria burnett aquat paradis mexico push edg extinct new york time'\n",
      " 'clyde haberman difficult question much clinton trump debat matter new york time'\n",
      " 'erica good polic playbook conflict involv mental ill new york time'\n",
      " 'kaitlyn stegal israel recal unesco ambassador'\n",
      " 'kirk sempl migrant strain border town pressur build mexico act new york time'\n",
      " 'staci cowley ever want back start indiegogo open door small investor new york time'\n",
      " 'conserv millenni dem tri slander comey open hillari investig video surfac'\n",
      " 'awr hawkin site ft lauderdal airport shoot gun free zone breitbart'\n",
      " 'russia countersanct syria hit west belt'\n",
      " 'thamiel rosenkreuz liter elect fraud trump tell follow vote four five time ensur race rig'\n",
      " 'shorti western cultur wreck entir contin'\n",
      " 'awr hawkin neil gorsuch particip decid scotu gun right hear'\n",
      " 'jame poniewozik class divid dissect new one day time new york time'\n",
      " 'gilad atzmon octob boomerang'\n",
      " 'ali wake former fatah offici pa disappoint tepid arab respons possibl u embassi move jerusalem'\n",
      " 'mike rivero report voter fraud crash cours'\n",
      " 'charli nash ceo make potenti employe take snowflak test hire breitbart'\n",
      " 'karen crous muhammad ali first greatest love new york time'\n",
      " 'katherin rodriguez blackston saudi arabia announc billion invest u infrastructur breitbart'\n",
      " 'tom ciccotta phylli chesler disinvit academ confer middl east honor kill breitbart'\n",
      " 'india russia allianc go anywher underpin valu well interest nabarun roy'\n",
      " 'iwb get readi civil unrest survey find american concern elect violenc'\n",
      " 'dinah eng smaller bathroom plane pose challeng passeng new york time'\n",
      " 'american fascist realli realli like british fascist'\n",
      " 'brook barn ghostbust behind secret life pet soni giddi new york time'\n",
      " 'tom ciccotta univers georgia socialist group polic investig call behead republican breitbart'\n",
      " 'rick lyman joanna berendt poland step back stricter anti abort law new york time'\n",
      " 'theresa crous surviv pharmaci way use ginger health'\n",
      " 'john derbyshir radio derb air leonardo brazil miss bum bum pageant etc'\n",
      " 'john hayward trump well iraq u troop fight like never'\n",
      " 'charl isherwood must see show new york month new york time'\n",
      " 'c e dyer wikileak look clinton camp want pleas'\n",
      " 'carol adl sander ask obama interven dakota access pipelin disput'\n",
      " 'ashley parker maggi haberman high tower trump read tweet plan new york time'\n",
      " 'milo milo twitter hate say told breitbart'\n",
      " 'thoma kaplan senat vote rama primer case plan sleep tonight new york time'\n",
      " 'end polic clash pipelin protest'\n",
      " 'john hayward rep marsha blackburn fcc rule chang vote elimin obama admin internet tax regulatori power grab'\n",
      " 'trent baker fs cowherd tebow deserv play major leagu basebal breitbart'\n",
      " 'wrightman youtub censor video censorship'\n",
      " 'maggi haberman alexand burn gari johnson equat syria death caus assad west new york time'\n",
      " 'sleuth journal fbi reopen clinton investig new email found'\n",
      " 'iom say refuge die worldwid' 'curriec'\n",
      " 'brock robinson reason stop use facebook'\n",
      " 'jason horowitz critic israel berni sander highlight split among jewish democrat new york time'\n",
      " 'henri fountain global temperatur cours anoth record year new york time'\n",
      " 'anna dubenko michel l dozoi great read noth polit new york time'\n",
      " 'jim rutenberg elect hack julian assang year old vision becom realiti new york time'\n",
      " 'mac slavo alon video aim help adjust new trump realiti'\n",
      " 'jare taylor media hysteria dishonesti trump backfir'\n",
      " 'fernanda santo children feder lawyer immigr court new york time'\n",
      " 'vanessa friedman maggi haberman alan rappeport betsi devo educ trump tap michigan royalti new york time'\n",
      " 'iran carpet export us mn'\n",
      " 'michael barbaro michael grynbaum stephen bannon rooki campaign chief love fight new york time'\n",
      " 'jeremi w peter g p tell donald trump fire probabl new york time'\n",
      " 'farhad manjoo alt major social network empow mass protest trump new york time'\n",
      " ''\n",
      " 'ian hanchett nbc tur trump go danger path putin kill journalist trump critic breitbart'\n",
      " 'breitbart london million pledg europ anti trump pro abort campaign'\n",
      " 'john hayward faux pulist elizabeth warren condemn session suggest wealthi corpor hire american'\n",
      " 'awr hawkin reward facebook killer manhunt goe nation breitbart'\n",
      " 'matthew boyl silent fear parti davo founder plan emerg c meet discuss handl donald trump breitbart'\n",
      " 'aaron kesel break trump usher stage nv suspect detain'\n",
      " 'stephani kuklish speak evangel phd slam religi right leader support trump'\n",
      " 'adel nazarian democrat skip trump inaugur breitbart'\n",
      " 'blog countri becom worryingli desensit violenc hot sauc name'\n",
      " 'ben kew watch milo video produc push spat uc davi protest breitbart'\n",
      " 'vnn donald trump win bill mitchel stefan molyneux'\n",
      " 'richard c paddock thai leader link attack tourist site constitut chang new york time'\n",
      " 'pam key feinstein trump split america apart blizzard execut order breitbart'\n",
      " 'citizen satirist bangalor car driver drive km search u turn reach home'\n",
      " 'charli spier day donald trump still need big win congress'\n",
      " 'tom ciccotta berkeley colleg republican yaf threaten legal action ann coulter berkeley event breitbart'\n",
      " 'ethan huff staff writer california becom second state rais legal smoke age'\n",
      " 'juliu hubri chill compani mandatori fanci dress friday'\n",
      " 'margaret griffi kill iraq shi ite militia join mosul campaign'\n",
      " 'joseph goldstein merciless end long island cop killer new york time'\n",
      " 'joe coscarelli desert trip festiv woo classic rock fan emphasi classic new york time'\n",
      " 'christin hauser good samaritan help boy surviv intern decapit idaho car crash new york time'\n",
      " 'luca nolan russia deni build termin follow releas weapon robot test footag breitbart'\n",
      " 'ccblog hack email show donna brazil leak debat question hillari clinton crook cheater'\n",
      " 'jerom hudson zoe saldana trump hollywood got cocki becam arrog bulli'\n",
      " 'eddi lavin whiten face use one ingredi wrinkl disappear'\n",
      " 'pam key sander ryancar absolut disast disgrac breitbart'\n",
      " 'daniel nussbaum hope poster artist unveil new artwork trump inaugur'\n",
      " 'ismail khan pakistan passeng plane crash board new york time'\n",
      " 'margot sanger katz drop late obamacar enrol appear trump effect new york time'\n",
      " 'cypriot leader continu talk novemb un'\n",
      " 'european union time utah evan mcmullin endors hillari clinton say goal stop trump'\n",
      " 'ben hubbard turn point syria assad regain aleppo new york time'\n",
      " 'eric taub tesla autopilot trust alway new york time'\n",
      " 'joanna klein fall foliag turn red fieri depend new york time'\n",
      " 'uncommon sens' 'kimberli morin look donat doj employe went'\n",
      " 'scatter paedophil priest fine ash'\n",
      " 'ami chozick hillari clinton say donald trump qualifi presid new york time'\n",
      " 'u revolut underway hillari clinton coup stop'\n",
      " 'jeff poor coulter call beta male threaten rodney king riot berkeley speech breitbart'\n",
      " 'adam shaw republican face violenc death threat left wing activist'\n",
      " 'howard portnoy pa lawmak approv ban name offic shoot'\n",
      " 'javier c hern ndez china fan patriot add year war japan histori book new york time'\n",
      " 'breitbart news trump press lie inaugur crowd size breitbart'\n",
      " 'roni caryn rabin best snack bedtim new york time'\n",
      " 'ria novosti pavel gaikov filmmak maria ivanova peopl damascu fear eye'\n",
      " 'lizett alvarez corner everglad way life ebb new york time'\n",
      " 'hillari clinton wall street fundrais benefit loophol feder anti corrupt rule'\n",
      " 'carl richard financi benefit buy love new york time'\n",
      " 'andrea kannapel dolor morrison even brief egyptair hillari clinton donald trump new york time'\n",
      " 'breitbart london report manchest bomber father former al qaeda affili member claim second son arrest uk breitbart'\n",
      " 'azam ahm haiti citi race st centuri ruin hurrican new york time'\n",
      " 'thoma kaplan maggi haberman donald trump assail rig deleg system say choos exploit new york time'\n",
      " 'alan feuer william k rashbaum u prosecutor outlin case mexican drug lord el chapo new york time'\n",
      " 'luca nolan pictur milo defi protest administr march uc davi breitbart'\n",
      " 'shorti hillari admit creation mujahedin plagu'\n",
      " 'ian hanchett dem rep lewi see trump legitim presid conspiraci part russian breitbart'\n",
      " 'karen crous month ban ryan locht rio scandal larg symbol new york time'\n",
      " 'megan twohey hillari clinton grappl bill clinton infidel accus new york time'\n",
      " 'awr hawkin gun ownership lgbt commun continu surg trump'\n",
      " 'jason ditz un report around opposit fighter afghanistan'\n",
      " 'alex ansari oregon standoff acquitt spark fear new land disput'\n",
      " 'charl mcdermid brexit donald trump chelsea man morn brief new york time'\n",
      " 'pcr michel obama promot lewd rapper' 'way resist right wing popul'\n",
      " 'john koblin gretchen carlson took chief fox news new york time' ''\n",
      " 'mari william walsh puerto rico financi woe reviv call independ new york time'\n",
      " 'franc martel gunshot behind statu liberti china declar human right crisi u breitbart'\n",
      " 'john hayward total vet fail left wing snowden fan girl realiti winner get access nsa secret'\n",
      " 'martha c white avoid dread middl seat may cost new york time'\n",
      " 'reid mene raven symon latest host leav view disney happier welcom home'\n",
      " 'brandon turbevil fema open loan window red cross tri shut shelter'\n",
      " 'ami moreno break doj say help review k email truthfe'\n",
      " 'alex ansari man behind trump ralli disturb reno'\n",
      " 'pam key palin extrem thank trump elect breitbart' 'anonym'\n",
      " 'hope amid chao yazidi wait reunit hostag mosul liber'\n",
      " 'gillian rewrit past'\n",
      " 'we william republican threaten creat havoc poll root voter fraud'\n",
      " 'thoma william ph mob north african migrant caus riot aboard italian ferri'\n",
      " 'king world news greyerz histor shocker difficult road major short squeez unfold'\n",
      " 'pam key priebu republican parti reward fix health care breitbart'\n",
      " 'karen crous warrior face game situat steve kerr familiar new york time'\n",
      " 'lauri goodstein christian leader denounc trump plan favor christian refuge new york time'\n",
      " 'dutert want foreign troop philippin year'\n",
      " 'joel b pollak schwarzenegg kasich challeng trump gop primari breitbart'\n",
      " 'michael schmidt obama say would defeat trump third term new york time'\n",
      " 'rachel l swarn black son baltimor anxiou new parent era uneas new york time'\n",
      " 'putin migrat crisi european futur'\n",
      " 'scott shane saudi extrem arsonist firefight new york time'\n",
      " 'mike mcphate russian offici apolog dope problem say athlet bar new york time'\n",
      " 'dan riehl perkin trump shift power back peopl away hollywood media'\n",
      " 'christoph shea georg michael die heart condit coron say new york time'\n",
      " 'mari lyon describ'\n",
      " 'ezra duli cnn fact check sean spicer joke salad dress breitbart'\n",
      " 'henri wolff beneath close elect contest lie deep rift among group'\n",
      " 'ask holli miser git'\n",
      " 'sean adl tabatabai uk offici declar russia threat nation secur'\n",
      " 'dylan gwinn former raider qb todd marinovich plead guilti drug public nuditi breitbart'\n",
      " 'ami moreno break new poll trump lead new hampshir truthfe'\n",
      " 'u currenc hidden imag' 'iron sheik peter thiel nation press club speech'\n",
      " 'david counter current news polic offic turn badg support stand rock water protector'\n",
      " 'john binder h b expans directli counter buy american hire american say worker union'\n",
      " 'eric zuess hillari clinton emerg contracept ban hondura'\n",
      " 'scott reyburn artist discoveri make curat heart pound new york time'\n",
      " 'john koblin nick corasan one nation fox hour network shape america new york time'\n",
      " 'patrick heali donald trump safe choic free hillari clinton hand strategist say new york time'\n",
      " 'author hong kong riddl unrest new eastern outlook'\n",
      " 'ben shpigel gonzaga march first final four rout xavier new york time'\n",
      " 'jack hadfield teenag accident shoot instagram live breitbart'\n",
      " 'adam liptak avoid sidestep retreat justic advic confirm tactic new york time'\n",
      " 'us lost caus north korea polici review'\n",
      " 'admin netflix pill stream firm boss reveal futur tv could matrix style hallucinatori drug'\n",
      " 'nelli bailey glen ford black agenda radio week nov'\n",
      " 'jeff poor georg fox news shake feel mr reilli replac breitbart'\n",
      " 'david e sanger obama confront complex use mighti cyberarsen russia new york time'\n",
      " 'employedmilleni'\n",
      " 'neil w mccabe sen joe manchin trump administr get coal reg breitbart'\n",
      " 'paul craig robert american peopl defeat oligarchi rule'\n",
      " 'kimiko de freyta tamura pro brexit citi sunderland glad poke establish eye new york time'\n",
      " 'bryan k bullock black american anti imperi invis subject new york time'\n",
      " 'patrick boehler mosul brexit u presidenti race monday brief new york time'\n",
      " 'breitbart tech prostitut gave googl exec fatal drug shot deport breitbart'\n",
      " 'terresa monro hamilton state depart inform tip clinton campaign nyt email investig'\n",
      " 'guest author pope franci communist think like christian'\n",
      " 'karen workman eli rosenberg christoph mele chelsea bomb know know new york time'\n",
      " 'noam scheiber betsi devo trump educ pick play hardbal wealth new york time'\n",
      " 'stay night play comput game insomnia teenag told'\n",
      " 'calai jungl burn refuge tri storm way back'\n",
      " 'tyler kepner one season end anoth begin basebal playoff matchup set new york time'\n",
      " 'sheryl gay stolberg juli bosman manni fernandez juli hirschfeld davi push advanc bathroom right transgend american reach white hous new york time'\n",
      " 'katherin voter suppress illeg pure intimid'\n",
      " 'sydney ember gawker said sold univis million bid new york time'\n",
      " 'carol adl assad aid us may navig direct isi mosul syria'\n",
      " 'bob price ice round crimin alien texa capit'\n",
      " 'warner todd huston super bowl champion tom bradi skip white hous visit famili issu breitbart'\n",
      " 'samantha schmidt pigeon may predict lead contamin studi find new york time'\n",
      " 'ian hanchett cruz gorsuch principl constitutionalist home run breitbart'\n",
      " 'south front washington plan b syria realli mean'\n",
      " 'aaron klein ali wake exclus islam state support vow terror group retak mosul liber'\n",
      " 'miss marpl comment trip pari fall sure look love time year miss marpl'\n",
      " 'david stockman octob daili contrarian read'\n",
      " 'david e sanger maggi haberman donald trump give question explan event ukrain new york time'\n",
      " 'admin gold monetari popul oligarch mortal enemi peopl salvat'\n",
      " 'trent baker jason whitlock espn struggl cultur conserv moder afraid express opinion breitbart'\n",
      " 'brook barn boss babi best beast bare box offic new york time'\n",
      " 'jennif steinhauer republican russia hawk dilemma name rex tillerson new york time'\n",
      " 'wmw admin catcal polit correct'\n",
      " 'dr susan berri princip bar pregnant teen graduat best way love hold account immor breitbart'\n",
      " 'penni starr homeland secur secretari expect lot manchest style attack breitbart'\n",
      " 'uk train saudi pilot amid report war crime yemen'\n",
      " 'dionn searcey boko haram video appear show bodi kidnap girl new york time'\n",
      " 'chri buckley presid xi great chines soccer dream new york time'\n",
      " 'ryan burleson russel simmon hope scenario hip hop music mass appeal new york time'\n",
      " 'geert wilder geert wilder let stop cowardic tell truth islam'\n",
      " 'alan blinder hermin swirl east coast threat eas new york time'\n",
      " 'rt sold access custom data law enforc report'\n",
      " 'quest interview mike cernovich elect'\n",
      " 'john podesta sister law lobbi raytheon hillari secretari state'\n",
      " 'doug diamond west africa swallow sea'\n",
      " 'mm bang globalist unleash trump kill america'\n",
      " 'sean adl tabatabai turkey erdogan introduc death penalti polit dissid'\n",
      " 'jim'\n",
      " 'jacob bernstein sinist sibl great comet go fashion week new york time'\n",
      " 'arjun walia fals flag alien invas work wernher von bruan colleagu seem think'\n",
      " 'ian mason remembr project member give take jeff session john kelli address breitbart'\n",
      " 'dr patrick slatteri dr duke farren shoaf republican parti come zio commi'\n",
      " 'spark fli biker trump meet protest'\n",
      " 'heureux et souriant il la chanc de toujour ignor que donald trump lu le gorafi']\n"
     ]
    }
   ],
   "source": [
    "#separating the data and label\n",
    "X = news_dataset['content'].values\n",
    "Y = news_dataset['label'].values\n",
    "print(X)"
   ]
  },
  {
   "cell_type": "code",
   "execution_count": 23,
   "metadata": {},
   "outputs": [
    {
     "name": "stdout",
     "output_type": "stream",
     "text": [
      "[1 0 1 0 0 1 0 0 0 0 0 0 0 0 0 0 0 1 0 1 1 1 0 0 0 1 1 1 1 1 0 0 0 1 1 0 1\n",
      " 0 0 0 0 1 1 1 1 1 0 0 0 0 1 1 1 1 1 0 0 0 0 1 0 0 0 0 1 0 0 0 0 1 0 0 1 0\n",
      " 1 1 1 1 1 0 1 0 1 1 1 1 1 0 0 0 1 0 1 1 0 1 0 0 0 0 0 1 1 1 1 1 0 0 0 1 0\n",
      " 1 1 1 1 1 0 0 0 1 1 0 1 0 1 1 1 0 0 1 0 0 1 0 1 1 1 1 1 0 1 1 0 0 0 1 0 1\n",
      " 0 1 1 0 1 1 1 1 1 1 0 1 0 1 0 1 0 0 1 0 1 0 1 0 1 0 0 1 1 0 1 1 1 1 0 0 0\n",
      " 1 0 0 0 1 0 0 0 0 0 0 0 1 1 1 0 1 1 1 1 0 0 0 0 1 0 0 1 0 0 1 0 1 0 0 1 1\n",
      " 0 1 1 0 1 1 0 0 0 0 1 0 1 1 1 1 1 0 0 1 1 0 0 0 0 0 0 1 1 0 0 0 1 1 1 1 1\n",
      " 1 0 1 1 0 1 0 1 0 1 1 0 0 0 1 0 0 1 0 1 1 1 0 0 1 0 1 0 0 0 0 1 1 0 1 0 0\n",
      " 0 1 1 0 0 1 1 0 0 0 1 0 0 1 0 1 1 1 1 0 0 0 0 1 1 0 0 1 0 0 0 1 0 0 0 0 0\n",
      " 1 1 0 1 0 1 0 0 1 0 0 1 1 1 0 0 0 0 1 0 1 0 0 0 0 1 1 0 0 0 1 1 1 0 1 0 0\n",
      " 1 0 0 0 1 0 1 0 0 0 0 0 0 0 1 0 0 0 0 1 1 0 1 1 0 1 0 0 0 0 1 1 1 1 0 1 1\n",
      " 1 1 0 1 0 0 0 1 0 0 0 1 0 0 0 0 1 0 1 1 1 0 1 1 1 1 0 1 0 0 0 1 0 0 0 1 1\n",
      " 1 0 0 1 0 1 0 1 0 0 1 1 0 0 1 1 0 0 1 0 1 0 0 0 0 1 0 1 1 0 1 0 0 0 1 0 0\n",
      " 1 0 0 0 0 0 1 1 1 1 1 1 1 0 1 0 1 1 1]\n"
     ]
    }
   ],
   "source": [
    "print(Y)\n"
   ]
  },
  {
   "cell_type": "code",
   "execution_count": 24,
   "metadata": {},
   "outputs": [
    {
     "data": {
      "text/plain": [
       "(500,)"
      ]
     },
     "execution_count": 24,
     "metadata": {},
     "output_type": "execute_result"
    }
   ],
   "source": [
    "Y.shape\n"
   ]
  },
  {
   "cell_type": "code",
   "execution_count": 25,
   "metadata": {},
   "outputs": [
    {
     "name": "stdout",
     "output_type": "stream",
     "text": [
      "  (np.int32(0), np.int32(13))\t0.30835816438047214\n",
      "  (np.int32(0), np.int32(265))\t0.23228145010837795\n",
      "  (np.int32(0), np.int32(854))\t0.26504590756061647\n",
      "  (np.int32(0), np.int32(1246))\t0.2491411609356219\n",
      "  (np.int32(0), np.int32(1326))\t0.30835816438047214\n",
      "  (np.int32(0), np.int32(1552))\t0.2891921854144388\n",
      "  (np.int32(0), np.int32(1706))\t0.2755937069282336\n",
      "  (np.int32(0), np.int32(1779))\t0.30835816438047214\n",
      "  (np.int32(0), np.int32(2065))\t0.2891921854144388\n",
      "  (np.int32(0), np.int32(2147))\t0.30835816438047214\n",
      "  (np.int32(0), np.int32(2186))\t0.30835816438047214\n",
      "  (np.int32(0), np.int32(2355))\t0.30835816438047214\n",
      "  (np.int32(1), np.int32(36))\t0.32286853638528973\n",
      "  (np.int32(1), np.int32(361))\t0.3076865187950983\n",
      "  (np.int32(1), np.int32(668))\t0.34426638836488704\n",
      "  (np.int32(1), np.int32(705))\t0.32286853638528973\n",
      "  (np.int32(1), np.int32(853))\t0.34426638836488704\n",
      "  (np.int32(1), np.int32(1212))\t0.32286853638528973\n",
      "  (np.int32(1), np.int32(1416))\t0.34426638836488704\n",
      "  (np.int32(1), np.int32(1450))\t0.34426638836488704\n",
      "  (np.int32(1), np.int32(1603))\t0.34426638836488704\n",
      "  (np.int32(2), np.int32(388))\t0.30648571003212216\n",
      "  (np.int32(2), np.int32(650))\t0.30648571003212216\n",
      "  (np.int32(2), np.int32(781))\t0.2743575113979935\n",
      "  (np.int32(2), np.int32(1003))\t0.2033391908257979\n",
      "  :\t:\n",
      "  (np.int32(497), np.int32(1804))\t0.20966053168772245\n",
      "  (np.int32(497), np.int32(1970))\t0.29402682551656095\n",
      "  (np.int32(497), np.int32(2004))\t0.2757516098606954\n",
      "  (np.int32(497), np.int32(2401))\t0.29402682551656095\n",
      "  (np.int32(498), np.int32(210))\t0.48060809588613734\n",
      "  (np.int32(498), np.int32(825))\t0.48060809588613734\n",
      "  (np.int32(498), np.int32(1387))\t0.4131014633941959\n",
      "  (np.int32(498), np.int32(1713))\t0.3550128028739592\n",
      "  (np.int32(498), np.int32(2040))\t0.45073593513058974\n",
      "  (np.int32(498), np.int32(2234))\t0.19540195458721718\n",
      "  (np.int32(499), np.int32(336))\t0.2779528908139824\n",
      "  (np.int32(499), np.int32(530))\t0.23891138524871283\n",
      "  (np.int32(499), np.int32(623))\t0.16705694883374386\n",
      "  (np.int32(499), np.int32(719))\t0.2779528908139824\n",
      "  (np.int32(499), np.int32(920))\t0.2779528908139824\n",
      "  (np.int32(499), np.int32(997))\t0.2779528908139824\n",
      "  (np.int32(499), np.int32(1054))\t0.2779528908139824\n",
      "  (np.int32(499), np.int32(1056))\t0.2779528908139824\n",
      "  (np.int32(499), np.int32(1223))\t0.2606767493841228\n",
      "  (np.int32(499), np.int32(1244))\t0.24841913196865262\n",
      "  (np.int32(499), np.int32(1307))\t0.2779528908139824\n",
      "  (np.int32(499), np.int32(1731))\t0.2779528908139824\n",
      "  (np.int32(499), np.int32(2038))\t0.2779528908139824\n",
      "  (np.int32(499), np.int32(2213))\t0.2779528908139824\n",
      "  (np.int32(499), np.int32(2234))\t0.11300795515747389\n"
     ]
    },
    {
     "data": {
      "text/plain": [
       "(500, 6)"
      ]
     },
     "execution_count": 25,
     "metadata": {},
     "output_type": "execute_result"
    }
   ],
   "source": [
    "# converting the textual data to numerical data\n",
    "vectorizer = TfidfVectorizer()\n",
    "vectorizer.fit(X)\n",
    "\n",
    "X = vectorizer.transform(X)\n",
    "print(X)\n"
   ]
  },
  {
   "cell_type": "code",
   "execution_count": 28,
   "metadata": {},
   "outputs": [
    {
     "name": "stdout",
     "output_type": "stream",
     "text": [
      "[[0. 0. 0. ... 0. 0. 0.]\n",
      " [0. 0. 0. ... 0. 0. 0.]\n",
      " [0. 0. 0. ... 0. 0. 0.]\n",
      " ...\n",
      " [0. 0. 0. ... 0. 0. 0.]\n",
      " [0. 0. 0. ... 0. 0. 0.]\n",
      " [0. 0. 0. ... 0. 0. 0.]]\n",
      "[1 0 1 1 1 1 0 0 0 1 1 1 0 0 1 1 1 0 0 1 1 1 0 0 0 0 1 0 0 0 1 1 0 0 1 1 0\n",
      " 1 1 1 0 0 0 0 0 1 0 1 0 1 0 1 1 0 0 0 1 0 0 0 0 0 0 0 0 0 0 0 1 0 1 1 0 0\n",
      " 1 1 0 1 0 0 0 0 0 1 1 1 1 1 0 0 0 1 1 0 1 1 1 1 1 1]\n"
     ]
    }
   ],
   "source": [
    "X_train, X_test, Y_train, Y_test = train_test_split(X, Y, test_size = 0.2, stratify=Y, random_state=2)\n",
    "#converting sparse matrix (csr_matrix) to array\n",
    "X_train = X_train.toarray()\n",
    "X_test = X_test.toarray()\n",
    "print(X_train)\n",
    "print(Y_test)"
   ]
  },
  {
   "cell_type": "markdown",
   "metadata": {},
   "source": [
    "Decision Tree Without Python Package"
   ]
  },
  {
   "cell_type": "code",
   "execution_count": 40,
   "metadata": {},
   "outputs": [
    {
     "name": "stdout",
     "output_type": "stream",
     "text": [
      "Accuracy: 0.95\n",
      "Classification Report:\n",
      "               precision    recall  f1-score   support\n",
      "\n",
      "           0       0.98      0.92      0.95        53\n",
      "           1       0.92      0.98      0.95        47\n",
      "\n",
      "    accuracy                           0.95       100\n",
      "   macro avg       0.95      0.95      0.95       100\n",
      "weighted avg       0.95      0.95      0.95       100\n",
      "\n"
     ]
    }
   ],
   "source": [
    "import numpy as np\n",
    "\n",
    "class DecisionTree:\n",
    "    def __init__(self, min_samples_split=2, max_depth=100):\n",
    "        self.min_samples_split = min_samples_split\n",
    "        self.max_depth = max_depth\n",
    "        self.tree = None\n",
    "\n",
    "    def fit(self, X, y):\n",
    "        self.tree = self._grow_tree(X, y)\n",
    "\n",
    "    def predict(self, X):\n",
    "        return np.array([self._traverse_tree(x, self.tree) for x in X])\n",
    "\n",
    "    def _grow_tree(self, X, y, depth=0):\n",
    "        n_samples, n_features = X.shape\n",
    "        n_labels = len(np.unique(y))\n",
    "\n",
    "        if depth >= self.max_depth or n_labels == 1 or n_samples < self.min_samples_split:\n",
    "            leaf_value = self._most_common_label(y)\n",
    "            return Node(value=leaf_value)\n",
    "\n",
    "        feat_idxs = np.random.choice(n_features, n_features, replace=False)\n",
    "\n",
    "        best_feat, best_thresh = self._best_criteria(X, y, feat_idxs)\n",
    "        left_idxs, right_idxs = self._split(X[:, best_feat], best_thresh)\n",
    "\n",
    "        left = self._grow_tree(X[left_idxs, :], y[left_idxs], depth + 1)\n",
    "        right = self._grow_tree(X[right_idxs, :], y[right_idxs], depth + 1)\n",
    "        return Node(best_feat, best_thresh, left, right)\n",
    "\n",
    "    def _best_criteria(self, X, y, feat_idxs):\n",
    "        best_gain = -1\n",
    "        split_idx, split_thresh = None, None\n",
    "        for feat_idx in feat_idxs:\n",
    "            X_column = X[:, feat_idx]\n",
    "            thresholds = np.unique(X_column)\n",
    "            for threshold in thresholds:\n",
    "                gain = self._information_gain(y, X_column, threshold)\n",
    "                if gain > best_gain:\n",
    "                    best_gain = gain\n",
    "                    split_idx = feat_idx\n",
    "                    split_thresh = threshold\n",
    "        return split_idx, split_thresh\n",
    "\n",
    "    def _information_gain(self, y, X_column, split_thresh):\n",
    "        parent_entropy = self._entropy(y)\n",
    "\n",
    "        left_idxs, right_idxs = self._split(X_column, split_thresh)\n",
    "\n",
    "        if len(left_idxs) == 0 or len(right_idxs) == 0:\n",
    "            return 0\n",
    "\n",
    "        n = len(y)\n",
    "        n_left, n_right = len(left_idxs), len(right_idxs)\n",
    "        e_left, e_right = self._entropy(y[left_idxs]), self._entropy(y[right_idxs])\n",
    "        child_entropy = (n_left / n) * e_left + (n_right / n) * e_right\n",
    "\n",
    "        ig = parent_entropy - child_entropy\n",
    "        return ig\n",
    "\n",
    "    def _split(self, X_column, split_thresh):\n",
    "        left_idxs = np.argwhere(X_column <= split_thresh).flatten()\n",
    "        right_idxs = np.argwhere(X_column > split_thresh).flatten()\n",
    "        return left_idxs, right_idxs\n",
    "\n",
    "    def _entropy(self, y):\n",
    "        hist = np.bincount(y)\n",
    "        ps = hist / len(y)\n",
    "        return -np.sum([p * np.log2(p) for p in ps if p > 0])\n",
    "\n",
    "    def _most_common_label(self, y):\n",
    "        return np.bincount(y).argmax()\n",
    "\n",
    "    def _traverse_tree(self, x, node):\n",
    "        if node.is_leaf_node():\n",
    "            return node.value\n",
    "        if x[node.feature] <= node.threshold:\n",
    "            return self._traverse_tree(x, node.left)\n",
    "        return self._traverse_tree(x, node.right)\n",
    "\n",
    "class Node:\n",
    "    def __init__(self, feature=None, threshold=None, left=None, right=None, *, value=None):\n",
    "        self.feature = feature\n",
    "        self.threshold = threshold\n",
    "        self.left = left\n",
    "        self.right = right\n",
    "        self.value = value\n",
    "\n",
    "    def is_leaf_node(self):\n",
    "        return self.value is not None\n",
    "def evaluate_model(model, X_test, Y_test):\n",
    "    y_pred = model.predict(X_test)\n",
    "    accuracy = accuracy_score(Y_test, y_pred)\n",
    "    report = classification_report(Y_test, y_pred)\n",
    "    return accuracy, report\n",
    "\n",
    "\n",
    "# Train the Decision Tree model from scratch\n",
    "dt = DecisionTree(max_depth=4)\n",
    "dt.fit(X_train, Y_train)\n",
    "\n",
    "# Evaluate the model's performance\n",
    "accuracy, report = evaluate_model(dt, X_test, Y_test)\n",
    "print(\"Accuracy:\", accuracy)\n",
    "print(\"Classification Report:\\n\", report)\n",
    "\n"
   ]
  },
  {
   "cell_type": "markdown",
   "metadata": {},
   "source": [
    "Prediction on Testing data"
   ]
  },
  {
   "cell_type": "code",
   "execution_count": 47,
   "metadata": {},
   "outputs": [
    {
     "name": "stdout",
     "output_type": "stream",
     "text": [
      "actual output array:\n",
      " [1 0 1 1 1 1 0 0 0 1 1 1 0 0 1 1 1 0 0 1 1 1 0 0 0 0 1 0 0 0 1 1 0 0 1 1 0\n",
      " 1 1 1 0 0 0 0 0 1 0 1 0 1 0 1 1 0 0 0 1 0 0 0 0 0 0 0 0 0 0 0 1 0 1 1 0 0\n",
      " 1 1 0 1 0 0 0 0 0 1 1 1 1 1 0 0 0 1 1 0 1 1 1 1 1 1]\n",
      "predicted output array :\n",
      " [0 0 1 1 1 1 0 0 0 1 1 1 0 0 1 1 1 0 0 1 1 1 0 0 0 0 1 1 0 0 1 1 0 0 1 1 0\n",
      " 1 1 1 0 0 0 0 1 1 0 1 0 1 0 1 1 0 0 0 1 0 0 0 0 0 0 0 0 0 0 0 1 0 1 1 0 0\n",
      " 1 1 0 1 0 1 0 1 0 1 1 1 1 1 0 0 0 1 1 0 1 1 1 1 1 1]\n"
     ]
    }
   ],
   "source": [
    "print(\"actual output array:\\n\",Y_test)\n",
    "prediction = dt.predict(X_test)\n",
    "print(\"predicted output array :\\n\",prediction)\n",
    "\n"
   ]
  }
 ],
 "metadata": {
  "kernelspec": {
   "display_name": "Python 3",
   "language": "python",
   "name": "python3"
  },
  "language_info": {
   "codemirror_mode": {
    "name": "ipython",
    "version": 3
   },
   "file_extension": ".py",
   "mimetype": "text/x-python",
   "name": "python",
   "nbconvert_exporter": "python",
   "pygments_lexer": "ipython3",
   "version": "3.12.4"
  }
 },
 "nbformat": 4,
 "nbformat_minor": 2
}
