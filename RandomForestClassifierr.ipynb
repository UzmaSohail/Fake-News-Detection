{
  "nbformat": 4,
  "nbformat_minor": 0,
  "metadata": {
    "colab": {
      "provenance": []
    },
    "kernelspec": {
      "name": "python3",
      "display_name": "Python 3"
    },
    "language_info": {
      "name": "python"
    }
  },
  "cells": [
    {
      "cell_type": "markdown",
      "source": [
        "# **Importing Required Python Libraries**"
      ],
      "metadata": {
        "id": "ixcZr9fQlpM2"
      }
    },
    {
      "cell_type": "code",
      "source": [
        "import numpy as np\n",
        "import pandas as pd\n",
        "import re\n",
        "import matplotlib.pyplot as plt\n",
        "import seaborn as sns\n",
        "from nltk.corpus import stopwords\n",
        "from nltk.stem.porter import PorterStemmer\n",
        "from sklearn.feature_extraction.text import TfidfVectorizer\n",
        "from sklearn.model_selection import train_test_split\n",
        "from sklearn.linear_model import LogisticRegression\n",
        "from sklearn.metrics import accuracy_score\n"
      ],
      "metadata": {
        "id": "iN8PNjWq-mZl"
      },
      "execution_count": 1,
      "outputs": []
    },
    {
      "cell_type": "code",
      "source": [
        "import nltk\n",
        "nltk.download('stopwords')"
      ],
      "metadata": {
        "colab": {
          "base_uri": "https://localhost:8080/"
        },
        "id": "khCq6njZ-yL1",
        "outputId": "af770214-38fe-447f-92c6-a5550cee714f"
      },
      "execution_count": 6,
      "outputs": [
        {
          "output_type": "stream",
          "name": "stderr",
          "text": [
            "[nltk_data] Downloading package stopwords to /root/nltk_data...\n",
            "[nltk_data]   Unzipping corpora/stopwords.zip.\n"
          ]
        },
        {
          "output_type": "execute_result",
          "data": {
            "text/plain": [
              "True"
            ]
          },
          "metadata": {},
          "execution_count": 6
        }
      ]
    },
    {
      "cell_type": "code",
      "source": [
        "# printing the stopwords in English\n",
        "print(stopwords.words('english'))"
      ],
      "metadata": {
        "colab": {
          "base_uri": "https://localhost:8080/"
        },
        "id": "cPNVqFTs-6m1",
        "outputId": "9bd1611b-657d-4e41-dee0-d3ce37d36531"
      },
      "execution_count": null,
      "outputs": [
        {
          "output_type": "stream",
          "name": "stdout",
          "text": [
            "['i', 'me', 'my', 'myself', 'we', 'our', 'ours', 'ourselves', 'you', \"you're\", \"you've\", \"you'll\", \"you'd\", 'your', 'yours', 'yourself', 'yourselves', 'he', 'him', 'his', 'himself', 'she', \"she's\", 'her', 'hers', 'herself', 'it', \"it's\", 'its', 'itself', 'they', 'them', 'their', 'theirs', 'themselves', 'what', 'which', 'who', 'whom', 'this', 'that', \"that'll\", 'these', 'those', 'am', 'is', 'are', 'was', 'were', 'be', 'been', 'being', 'have', 'has', 'had', 'having', 'do', 'does', 'did', 'doing', 'a', 'an', 'the', 'and', 'but', 'if', 'or', 'because', 'as', 'until', 'while', 'of', 'at', 'by', 'for', 'with', 'about', 'against', 'between', 'into', 'through', 'during', 'before', 'after', 'above', 'below', 'to', 'from', 'up', 'down', 'in', 'out', 'on', 'off', 'over', 'under', 'again', 'further', 'then', 'once', 'here', 'there', 'when', 'where', 'why', 'how', 'all', 'any', 'both', 'each', 'few', 'more', 'most', 'other', 'some', 'such', 'no', 'nor', 'not', 'only', 'own', 'same', 'so', 'than', 'too', 'very', 's', 't', 'can', 'will', 'just', 'don', \"don't\", 'should', \"should've\", 'now', 'd', 'll', 'm', 'o', 're', 've', 'y', 'ain', 'aren', \"aren't\", 'couldn', \"couldn't\", 'didn', \"didn't\", 'doesn', \"doesn't\", 'hadn', \"hadn't\", 'hasn', \"hasn't\", 'haven', \"haven't\", 'isn', \"isn't\", 'ma', 'mightn', \"mightn't\", 'mustn', \"mustn't\", 'needn', \"needn't\", 'shan', \"shan't\", 'shouldn', \"shouldn't\", 'wasn', \"wasn't\", 'weren', \"weren't\", 'won', \"won't\", 'wouldn', \"wouldn't\"]\n"
          ]
        }
      ]
    },
    {
      "cell_type": "markdown",
      "source": [
        "# **Loading Dataset**"
      ],
      "metadata": {
        "id": "QBkPVHF8lz_k"
      }
    },
    {
      "cell_type": "code",
      "source": [
        "from google.colab import files"
      ],
      "metadata": {
        "id": "5an54hleLUTj"
      },
      "execution_count": 2,
      "outputs": []
    },
    {
      "cell_type": "code",
      "source": [
        "uploaded=files.upload()"
      ],
      "metadata": {
        "colab": {
          "base_uri": "https://localhost:8080/",
          "height": 73
        },
        "id": "Dk30rq4PLX3h",
        "outputId": "cfd94745-7c49-47dd-dbe0-0bcb3f6f7528"
      },
      "execution_count": 7,
      "outputs": [
        {
          "output_type": "display_data",
          "data": {
            "text/plain": [
              "<IPython.core.display.HTML object>"
            ],
            "text/html": [
              "\n",
              "     <input type=\"file\" id=\"files-0e184b11-0294-41fa-9fdc-d524d93aba9f\" name=\"files[]\" multiple disabled\n",
              "        style=\"border:none\" />\n",
              "     <output id=\"result-0e184b11-0294-41fa-9fdc-d524d93aba9f\">\n",
              "      Upload widget is only available when the cell has been executed in the\n",
              "      current browser session. Please rerun this cell to enable.\n",
              "      </output>\n",
              "      <script>// Copyright 2017 Google LLC\n",
              "//\n",
              "// Licensed under the Apache License, Version 2.0 (the \"License\");\n",
              "// you may not use this file except in compliance with the License.\n",
              "// You may obtain a copy of the License at\n",
              "//\n",
              "//      http://www.apache.org/licenses/LICENSE-2.0\n",
              "//\n",
              "// Unless required by applicable law or agreed to in writing, software\n",
              "// distributed under the License is distributed on an \"AS IS\" BASIS,\n",
              "// WITHOUT WARRANTIES OR CONDITIONS OF ANY KIND, either express or implied.\n",
              "// See the License for the specific language governing permissions and\n",
              "// limitations under the License.\n",
              "\n",
              "/**\n",
              " * @fileoverview Helpers for google.colab Python module.\n",
              " */\n",
              "(function(scope) {\n",
              "function span(text, styleAttributes = {}) {\n",
              "  const element = document.createElement('span');\n",
              "  element.textContent = text;\n",
              "  for (const key of Object.keys(styleAttributes)) {\n",
              "    element.style[key] = styleAttributes[key];\n",
              "  }\n",
              "  return element;\n",
              "}\n",
              "\n",
              "// Max number of bytes which will be uploaded at a time.\n",
              "const MAX_PAYLOAD_SIZE = 100 * 1024;\n",
              "\n",
              "function _uploadFiles(inputId, outputId) {\n",
              "  const steps = uploadFilesStep(inputId, outputId);\n",
              "  const outputElement = document.getElementById(outputId);\n",
              "  // Cache steps on the outputElement to make it available for the next call\n",
              "  // to uploadFilesContinue from Python.\n",
              "  outputElement.steps = steps;\n",
              "\n",
              "  return _uploadFilesContinue(outputId);\n",
              "}\n",
              "\n",
              "// This is roughly an async generator (not supported in the browser yet),\n",
              "// where there are multiple asynchronous steps and the Python side is going\n",
              "// to poll for completion of each step.\n",
              "// This uses a Promise to block the python side on completion of each step,\n",
              "// then passes the result of the previous step as the input to the next step.\n",
              "function _uploadFilesContinue(outputId) {\n",
              "  const outputElement = document.getElementById(outputId);\n",
              "  const steps = outputElement.steps;\n",
              "\n",
              "  const next = steps.next(outputElement.lastPromiseValue);\n",
              "  return Promise.resolve(next.value.promise).then((value) => {\n",
              "    // Cache the last promise value to make it available to the next\n",
              "    // step of the generator.\n",
              "    outputElement.lastPromiseValue = value;\n",
              "    return next.value.response;\n",
              "  });\n",
              "}\n",
              "\n",
              "/**\n",
              " * Generator function which is called between each async step of the upload\n",
              " * process.\n",
              " * @param {string} inputId Element ID of the input file picker element.\n",
              " * @param {string} outputId Element ID of the output display.\n",
              " * @return {!Iterable<!Object>} Iterable of next steps.\n",
              " */\n",
              "function* uploadFilesStep(inputId, outputId) {\n",
              "  const inputElement = document.getElementById(inputId);\n",
              "  inputElement.disabled = false;\n",
              "\n",
              "  const outputElement = document.getElementById(outputId);\n",
              "  outputElement.innerHTML = '';\n",
              "\n",
              "  const pickedPromise = new Promise((resolve) => {\n",
              "    inputElement.addEventListener('change', (e) => {\n",
              "      resolve(e.target.files);\n",
              "    });\n",
              "  });\n",
              "\n",
              "  const cancel = document.createElement('button');\n",
              "  inputElement.parentElement.appendChild(cancel);\n",
              "  cancel.textContent = 'Cancel upload';\n",
              "  const cancelPromise = new Promise((resolve) => {\n",
              "    cancel.onclick = () => {\n",
              "      resolve(null);\n",
              "    };\n",
              "  });\n",
              "\n",
              "  // Wait for the user to pick the files.\n",
              "  const files = yield {\n",
              "    promise: Promise.race([pickedPromise, cancelPromise]),\n",
              "    response: {\n",
              "      action: 'starting',\n",
              "    }\n",
              "  };\n",
              "\n",
              "  cancel.remove();\n",
              "\n",
              "  // Disable the input element since further picks are not allowed.\n",
              "  inputElement.disabled = true;\n",
              "\n",
              "  if (!files) {\n",
              "    return {\n",
              "      response: {\n",
              "        action: 'complete',\n",
              "      }\n",
              "    };\n",
              "  }\n",
              "\n",
              "  for (const file of files) {\n",
              "    const li = document.createElement('li');\n",
              "    li.append(span(file.name, {fontWeight: 'bold'}));\n",
              "    li.append(span(\n",
              "        `(${file.type || 'n/a'}) - ${file.size} bytes, ` +\n",
              "        `last modified: ${\n",
              "            file.lastModifiedDate ? file.lastModifiedDate.toLocaleDateString() :\n",
              "                                    'n/a'} - `));\n",
              "    const percent = span('0% done');\n",
              "    li.appendChild(percent);\n",
              "\n",
              "    outputElement.appendChild(li);\n",
              "\n",
              "    const fileDataPromise = new Promise((resolve) => {\n",
              "      const reader = new FileReader();\n",
              "      reader.onload = (e) => {\n",
              "        resolve(e.target.result);\n",
              "      };\n",
              "      reader.readAsArrayBuffer(file);\n",
              "    });\n",
              "    // Wait for the data to be ready.\n",
              "    let fileData = yield {\n",
              "      promise: fileDataPromise,\n",
              "      response: {\n",
              "        action: 'continue',\n",
              "      }\n",
              "    };\n",
              "\n",
              "    // Use a chunked sending to avoid message size limits. See b/62115660.\n",
              "    let position = 0;\n",
              "    do {\n",
              "      const length = Math.min(fileData.byteLength - position, MAX_PAYLOAD_SIZE);\n",
              "      const chunk = new Uint8Array(fileData, position, length);\n",
              "      position += length;\n",
              "\n",
              "      const base64 = btoa(String.fromCharCode.apply(null, chunk));\n",
              "      yield {\n",
              "        response: {\n",
              "          action: 'append',\n",
              "          file: file.name,\n",
              "          data: base64,\n",
              "        },\n",
              "      };\n",
              "\n",
              "      let percentDone = fileData.byteLength === 0 ?\n",
              "          100 :\n",
              "          Math.round((position / fileData.byteLength) * 100);\n",
              "      percent.textContent = `${percentDone}% done`;\n",
              "\n",
              "    } while (position < fileData.byteLength);\n",
              "  }\n",
              "\n",
              "  // All done.\n",
              "  yield {\n",
              "    response: {\n",
              "      action: 'complete',\n",
              "    }\n",
              "  };\n",
              "}\n",
              "\n",
              "scope.google = scope.google || {};\n",
              "scope.google.colab = scope.google.colab || {};\n",
              "scope.google.colab._files = {\n",
              "  _uploadFiles,\n",
              "  _uploadFilesContinue,\n",
              "};\n",
              "})(self);\n",
              "</script> "
            ]
          },
          "metadata": {}
        },
        {
          "output_type": "stream",
          "name": "stdout",
          "text": [
            "Saving train.csv to train.csv\n"
          ]
        }
      ]
    },
    {
      "cell_type": "code",
      "source": [
        "news_dataset=pd.read_csv('train.csv')"
      ],
      "metadata": {
        "id": "6GqEf5TuQVOz"
      },
      "execution_count": 8,
      "outputs": []
    },
    {
      "cell_type": "markdown",
      "source": [
        "# **Pre-Processing**"
      ],
      "metadata": {
        "id": "3MCDuDKxl8Mt"
      }
    },
    {
      "cell_type": "code",
      "source": [
        "news_dataset.shape"
      ],
      "metadata": {
        "id": "1LOkuQJt_cFk",
        "colab": {
          "base_uri": "https://localhost:8080/"
        },
        "outputId": "2ada5e19-97b3-4f3c-f454-50f2461b0588"
      },
      "execution_count": 9,
      "outputs": [
        {
          "output_type": "execute_result",
          "data": {
            "text/plain": [
              "(20800, 5)"
            ]
          },
          "metadata": {},
          "execution_count": 9
        }
      ]
    },
    {
      "cell_type": "code",
      "source": [
        "# print the first 5 rows of the dataframe\n",
        "news_dataset.head()"
      ],
      "metadata": {
        "id": "rESctz3Q_fWt",
        "colab": {
          "base_uri": "https://localhost:8080/",
          "height": 206
        },
        "outputId": "aff31cdb-6fd0-424c-80e8-52bc37e5cbc2"
      },
      "execution_count": null,
      "outputs": [
        {
          "output_type": "execute_result",
          "data": {
            "text/plain": [
              "   id                                              title              author  \\\n",
              "0   0  House Dem Aide: We Didn’t Even See Comey’s Let...       Darrell Lucus   \n",
              "1   1  FLYNN: Hillary Clinton, Big Woman on Campus - ...     Daniel J. Flynn   \n",
              "2   2                  Why the Truth Might Get You Fired  Consortiumnews.com   \n",
              "3   3  15 Civilians Killed In Single US Airstrike Hav...     Jessica Purkiss   \n",
              "4   4  Iranian woman jailed for fictional unpublished...      Howard Portnoy   \n",
              "\n",
              "                                                text  label  \n",
              "0  House Dem Aide: We Didn’t Even See Comey’s Let...      1  \n",
              "1  Ever get the feeling your life circles the rou...      0  \n",
              "2  Why the Truth Might Get You Fired October 29, ...      1  \n",
              "3  Videos 15 Civilians Killed In Single US Airstr...      1  \n",
              "4  Print \\nAn Iranian woman has been sentenced to...      1  "
            ],
            "text/html": [
              "\n",
              "  <div id=\"df-8715f0f1-f7b9-44b4-ad73-007b9ddbc013\" class=\"colab-df-container\">\n",
              "    <div>\n",
              "<style scoped>\n",
              "    .dataframe tbody tr th:only-of-type {\n",
              "        vertical-align: middle;\n",
              "    }\n",
              "\n",
              "    .dataframe tbody tr th {\n",
              "        vertical-align: top;\n",
              "    }\n",
              "\n",
              "    .dataframe thead th {\n",
              "        text-align: right;\n",
              "    }\n",
              "</style>\n",
              "<table border=\"1\" class=\"dataframe\">\n",
              "  <thead>\n",
              "    <tr style=\"text-align: right;\">\n",
              "      <th></th>\n",
              "      <th>id</th>\n",
              "      <th>title</th>\n",
              "      <th>author</th>\n",
              "      <th>text</th>\n",
              "      <th>label</th>\n",
              "    </tr>\n",
              "  </thead>\n",
              "  <tbody>\n",
              "    <tr>\n",
              "      <th>0</th>\n",
              "      <td>0</td>\n",
              "      <td>House Dem Aide: We Didn’t Even See Comey’s Let...</td>\n",
              "      <td>Darrell Lucus</td>\n",
              "      <td>House Dem Aide: We Didn’t Even See Comey’s Let...</td>\n",
              "      <td>1</td>\n",
              "    </tr>\n",
              "    <tr>\n",
              "      <th>1</th>\n",
              "      <td>1</td>\n",
              "      <td>FLYNN: Hillary Clinton, Big Woman on Campus - ...</td>\n",
              "      <td>Daniel J. Flynn</td>\n",
              "      <td>Ever get the feeling your life circles the rou...</td>\n",
              "      <td>0</td>\n",
              "    </tr>\n",
              "    <tr>\n",
              "      <th>2</th>\n",
              "      <td>2</td>\n",
              "      <td>Why the Truth Might Get You Fired</td>\n",
              "      <td>Consortiumnews.com</td>\n",
              "      <td>Why the Truth Might Get You Fired October 29, ...</td>\n",
              "      <td>1</td>\n",
              "    </tr>\n",
              "    <tr>\n",
              "      <th>3</th>\n",
              "      <td>3</td>\n",
              "      <td>15 Civilians Killed In Single US Airstrike Hav...</td>\n",
              "      <td>Jessica Purkiss</td>\n",
              "      <td>Videos 15 Civilians Killed In Single US Airstr...</td>\n",
              "      <td>1</td>\n",
              "    </tr>\n",
              "    <tr>\n",
              "      <th>4</th>\n",
              "      <td>4</td>\n",
              "      <td>Iranian woman jailed for fictional unpublished...</td>\n",
              "      <td>Howard Portnoy</td>\n",
              "      <td>Print \\nAn Iranian woman has been sentenced to...</td>\n",
              "      <td>1</td>\n",
              "    </tr>\n",
              "  </tbody>\n",
              "</table>\n",
              "</div>\n",
              "    <div class=\"colab-df-buttons\">\n",
              "\n",
              "  <div class=\"colab-df-container\">\n",
              "    <button class=\"colab-df-convert\" onclick=\"convertToInteractive('df-8715f0f1-f7b9-44b4-ad73-007b9ddbc013')\"\n",
              "            title=\"Convert this dataframe to an interactive table.\"\n",
              "            style=\"display:none;\">\n",
              "\n",
              "  <svg xmlns=\"http://www.w3.org/2000/svg\" height=\"24px\" viewBox=\"0 -960 960 960\">\n",
              "    <path d=\"M120-120v-720h720v720H120Zm60-500h600v-160H180v160Zm220 220h160v-160H400v160Zm0 220h160v-160H400v160ZM180-400h160v-160H180v160Zm440 0h160v-160H620v160ZM180-180h160v-160H180v160Zm440 0h160v-160H620v160Z\"/>\n",
              "  </svg>\n",
              "    </button>\n",
              "\n",
              "  <style>\n",
              "    .colab-df-container {\n",
              "      display:flex;\n",
              "      gap: 12px;\n",
              "    }\n",
              "\n",
              "    .colab-df-convert {\n",
              "      background-color: #E8F0FE;\n",
              "      border: none;\n",
              "      border-radius: 50%;\n",
              "      cursor: pointer;\n",
              "      display: none;\n",
              "      fill: #1967D2;\n",
              "      height: 32px;\n",
              "      padding: 0 0 0 0;\n",
              "      width: 32px;\n",
              "    }\n",
              "\n",
              "    .colab-df-convert:hover {\n",
              "      background-color: #E2EBFA;\n",
              "      box-shadow: 0px 1px 2px rgba(60, 64, 67, 0.3), 0px 1px 3px 1px rgba(60, 64, 67, 0.15);\n",
              "      fill: #174EA6;\n",
              "    }\n",
              "\n",
              "    .colab-df-buttons div {\n",
              "      margin-bottom: 4px;\n",
              "    }\n",
              "\n",
              "    [theme=dark] .colab-df-convert {\n",
              "      background-color: #3B4455;\n",
              "      fill: #D2E3FC;\n",
              "    }\n",
              "\n",
              "    [theme=dark] .colab-df-convert:hover {\n",
              "      background-color: #434B5C;\n",
              "      box-shadow: 0px 1px 3px 1px rgba(0, 0, 0, 0.15);\n",
              "      filter: drop-shadow(0px 1px 2px rgba(0, 0, 0, 0.3));\n",
              "      fill: #FFFFFF;\n",
              "    }\n",
              "  </style>\n",
              "\n",
              "    <script>\n",
              "      const buttonEl =\n",
              "        document.querySelector('#df-8715f0f1-f7b9-44b4-ad73-007b9ddbc013 button.colab-df-convert');\n",
              "      buttonEl.style.display =\n",
              "        google.colab.kernel.accessAllowed ? 'block' : 'none';\n",
              "\n",
              "      async function convertToInteractive(key) {\n",
              "        const element = document.querySelector('#df-8715f0f1-f7b9-44b4-ad73-007b9ddbc013');\n",
              "        const dataTable =\n",
              "          await google.colab.kernel.invokeFunction('convertToInteractive',\n",
              "                                                    [key], {});\n",
              "        if (!dataTable) return;\n",
              "\n",
              "        const docLinkHtml = 'Like what you see? Visit the ' +\n",
              "          '<a target=\"_blank\" href=https://colab.research.google.com/notebooks/data_table.ipynb>data table notebook</a>'\n",
              "          + ' to learn more about interactive tables.';\n",
              "        element.innerHTML = '';\n",
              "        dataTable['output_type'] = 'display_data';\n",
              "        await google.colab.output.renderOutput(dataTable, element);\n",
              "        const docLink = document.createElement('div');\n",
              "        docLink.innerHTML = docLinkHtml;\n",
              "        element.appendChild(docLink);\n",
              "      }\n",
              "    </script>\n",
              "  </div>\n",
              "\n",
              "\n",
              "<div id=\"df-f7f38bf8-1e84-43ab-9eb4-622b6819cf11\">\n",
              "  <button class=\"colab-df-quickchart\" onclick=\"quickchart('df-f7f38bf8-1e84-43ab-9eb4-622b6819cf11')\"\n",
              "            title=\"Suggest charts\"\n",
              "            style=\"display:none;\">\n",
              "\n",
              "<svg xmlns=\"http://www.w3.org/2000/svg\" height=\"24px\"viewBox=\"0 0 24 24\"\n",
              "     width=\"24px\">\n",
              "    <g>\n",
              "        <path d=\"M19 3H5c-1.1 0-2 .9-2 2v14c0 1.1.9 2 2 2h14c1.1 0 2-.9 2-2V5c0-1.1-.9-2-2-2zM9 17H7v-7h2v7zm4 0h-2V7h2v10zm4 0h-2v-4h2v4z\"/>\n",
              "    </g>\n",
              "</svg>\n",
              "  </button>\n",
              "\n",
              "<style>\n",
              "  .colab-df-quickchart {\n",
              "      --bg-color: #E8F0FE;\n",
              "      --fill-color: #1967D2;\n",
              "      --hover-bg-color: #E2EBFA;\n",
              "      --hover-fill-color: #174EA6;\n",
              "      --disabled-fill-color: #AAA;\n",
              "      --disabled-bg-color: #DDD;\n",
              "  }\n",
              "\n",
              "  [theme=dark] .colab-df-quickchart {\n",
              "      --bg-color: #3B4455;\n",
              "      --fill-color: #D2E3FC;\n",
              "      --hover-bg-color: #434B5C;\n",
              "      --hover-fill-color: #FFFFFF;\n",
              "      --disabled-bg-color: #3B4455;\n",
              "      --disabled-fill-color: #666;\n",
              "  }\n",
              "\n",
              "  .colab-df-quickchart {\n",
              "    background-color: var(--bg-color);\n",
              "    border: none;\n",
              "    border-radius: 50%;\n",
              "    cursor: pointer;\n",
              "    display: none;\n",
              "    fill: var(--fill-color);\n",
              "    height: 32px;\n",
              "    padding: 0;\n",
              "    width: 32px;\n",
              "  }\n",
              "\n",
              "  .colab-df-quickchart:hover {\n",
              "    background-color: var(--hover-bg-color);\n",
              "    box-shadow: 0 1px 2px rgba(60, 64, 67, 0.3), 0 1px 3px 1px rgba(60, 64, 67, 0.15);\n",
              "    fill: var(--button-hover-fill-color);\n",
              "  }\n",
              "\n",
              "  .colab-df-quickchart-complete:disabled,\n",
              "  .colab-df-quickchart-complete:disabled:hover {\n",
              "    background-color: var(--disabled-bg-color);\n",
              "    fill: var(--disabled-fill-color);\n",
              "    box-shadow: none;\n",
              "  }\n",
              "\n",
              "  .colab-df-spinner {\n",
              "    border: 2px solid var(--fill-color);\n",
              "    border-color: transparent;\n",
              "    border-bottom-color: var(--fill-color);\n",
              "    animation:\n",
              "      spin 1s steps(1) infinite;\n",
              "  }\n",
              "\n",
              "  @keyframes spin {\n",
              "    0% {\n",
              "      border-color: transparent;\n",
              "      border-bottom-color: var(--fill-color);\n",
              "      border-left-color: var(--fill-color);\n",
              "    }\n",
              "    20% {\n",
              "      border-color: transparent;\n",
              "      border-left-color: var(--fill-color);\n",
              "      border-top-color: var(--fill-color);\n",
              "    }\n",
              "    30% {\n",
              "      border-color: transparent;\n",
              "      border-left-color: var(--fill-color);\n",
              "      border-top-color: var(--fill-color);\n",
              "      border-right-color: var(--fill-color);\n",
              "    }\n",
              "    40% {\n",
              "      border-color: transparent;\n",
              "      border-right-color: var(--fill-color);\n",
              "      border-top-color: var(--fill-color);\n",
              "    }\n",
              "    60% {\n",
              "      border-color: transparent;\n",
              "      border-right-color: var(--fill-color);\n",
              "    }\n",
              "    80% {\n",
              "      border-color: transparent;\n",
              "      border-right-color: var(--fill-color);\n",
              "      border-bottom-color: var(--fill-color);\n",
              "    }\n",
              "    90% {\n",
              "      border-color: transparent;\n",
              "      border-bottom-color: var(--fill-color);\n",
              "    }\n",
              "  }\n",
              "</style>\n",
              "\n",
              "  <script>\n",
              "    async function quickchart(key) {\n",
              "      const quickchartButtonEl =\n",
              "        document.querySelector('#' + key + ' button');\n",
              "      quickchartButtonEl.disabled = true;  // To prevent multiple clicks.\n",
              "      quickchartButtonEl.classList.add('colab-df-spinner');\n",
              "      try {\n",
              "        const charts = await google.colab.kernel.invokeFunction(\n",
              "            'suggestCharts', [key], {});\n",
              "      } catch (error) {\n",
              "        console.error('Error during call to suggestCharts:', error);\n",
              "      }\n",
              "      quickchartButtonEl.classList.remove('colab-df-spinner');\n",
              "      quickchartButtonEl.classList.add('colab-df-quickchart-complete');\n",
              "    }\n",
              "    (() => {\n",
              "      let quickchartButtonEl =\n",
              "        document.querySelector('#df-f7f38bf8-1e84-43ab-9eb4-622b6819cf11 button');\n",
              "      quickchartButtonEl.style.display =\n",
              "        google.colab.kernel.accessAllowed ? 'block' : 'none';\n",
              "    })();\n",
              "  </script>\n",
              "</div>\n",
              "\n",
              "    </div>\n",
              "  </div>\n"
            ],
            "application/vnd.google.colaboratory.intrinsic+json": {
              "type": "dataframe",
              "variable_name": "news_dataset",
              "summary": "{\n  \"name\": \"news_dataset\",\n  \"rows\": 20800,\n  \"fields\": [\n    {\n      \"column\": \"id\",\n      \"properties\": {\n        \"dtype\": \"number\",\n        \"std\": 6004,\n        \"min\": 0,\n        \"max\": 20799,\n        \"num_unique_values\": 20800,\n        \"samples\": [\n          14649,\n          9231,\n          6473\n        ],\n        \"semantic_type\": \"\",\n        \"description\": \"\"\n      }\n    },\n    {\n      \"column\": \"title\",\n      \"properties\": {\n        \"dtype\": \"string\",\n        \"num_unique_values\": 19803,\n        \"samples\": [\n          \"Florida Republicans Voting for Hillary Clinton \\u00b7 Guardian Liberty Voice\",\n          \"\\u2018Weekend Warriors\\u2019 Show Survival Benefits - The New York Times\",\n          \"Part 6, Democratic Network Money: Commons Money that Works for Us, Instead of Us Working for It\"\n        ],\n        \"semantic_type\": \"\",\n        \"description\": \"\"\n      }\n    },\n    {\n      \"column\": \"author\",\n      \"properties\": {\n        \"dtype\": \"category\",\n        \"num_unique_values\": 4201,\n        \"samples\": [\n          \"AARGH63\",\n          \"Dave Kehr\",\n          \"Patrick Healy\"\n        ],\n        \"semantic_type\": \"\",\n        \"description\": \"\"\n      }\n    },\n    {\n      \"column\": \"text\",\n      \"properties\": {\n        \"dtype\": \"string\",\n        \"num_unique_values\": 20386,\n        \"samples\": [\n          \"Multan a un ultrasur por lanzar a un jugador del Bar\\u00e7a al campo durante el partido Madrid-Legia EL PARTIDO SE CONSIDERABA DE ALTO RIESGO PARA LOS JUGADORES DEL BARCELONA Real Madrid \\nUn jugador barcelonista golpe\\u00f3 a varios jugadores durante el encuentro de la Champions que tuvo lugar ayer entre el Real Madrid y el Legia Varsovia despu\\u00e9s de ser arrojado desde la grada por un hincha madridista. \\nEl portero del Legia, muy molesto, intent\\u00f3 devolver el jugador a las gradas de una patada y se encar\\u00f3 con los Ultrasur, que ya preparaban a otro jugador para echarlo al campo y entorpecer el encuentro. En esta ocasi\\u00f3n pretend\\u00edan prenderlo con un mechero antes de lanzarlo al c\\u00e9sped. \\nLas autoridades han vuelto a pedir a los aficionados que dejen de lanzar cosas al campo como botellas, monedas y jugadores del Barcelona. El dispositivo de seguridad no puedo hacer nada por evitar que algunos hinchas introdujeran a jugadores barcelonistas a la grada, pues los llevaban camuflados dentro de bocadillos de gran tama\\u00f1o. \\nEl partido pudo ser reanudado cuando el \\u00e1rbitro apart\\u00f3 a un rinc\\u00f3n del c\\u00e9sped al jugador barcelonista.\",\n          \"Written by Jacob G. Hornberger   As US officials continue to accuse Russia of meddling with the US presidential election, an accusation that they have provided no evidence whatsoever to support, let\\u2019s review some of the US government\\u2019s history of meddling with elections in others countries.1. In 1951, the democratically elected parliament of Iran elected a man named Mohammad Mossadegh to be Iran\\u2019s prime minister. Mossadegh angered British Empire officials by nationalizing British oil interests in the country.British officials then turned to the CIA for assistance. In 1953, the CIA secretly fomented a violent coup in Iran, which succeeded in ousting Mossadegh from power and making the Shah of Iran the supreme unelected dictator of the country.To fortify the Shah\\u2019s dictatorial hold on power, the CIA helped organize and train the his domestic police force, the Savak, which was essentially a combination of the CIA, the NSA, and the military. Part of the CIA\\u2019s training involved teaching Savak agents the art of torture.For the next 26 years, the Iranian people suffered under one of the most brutal and tyrannical dictatorships in the world, one that US officials fully supported and called an ally and friend of the United States.In 1979, Iranians successfully revolted against the Shah\\u2019s regime and ousted him from power. One result was not a restoration of the democratic system that had elected Mossadegh but rather another brutal dictatorship, this time a religious one. Another result is the bad relations between the Iran and US governments that continues to exist today.2. In 1951, the Guatemalan people democratically elected a man named Jacobo Arbenz to be their president. Arbenz, however, was not satisfactory to US officials, especially the national-security branch of the government, specifically the Pentagon and the CIA. The reason that US officials opposed Arbenz was that he was a socialist, and US officials considered a socialist president of Guatemala to be a threat to \\u201cnational security\\u201d here in the United States.In 1954 \\u2014 one year after the coup in Iran, the CIA fomented a violent military coup that succeeded in removing Arbenz from power and replacing him with one of the most brutal unelected military dictators in Latin American history, a man named Carlos Castillo Armas. The CIA had a kill list prepared for the coup, which Arbenz was able to escape by fleeing the country before Castillo was able to get him. The CIA\\u2019s destruction of Guatemala\\u2019s democratic system threw the nation into a 30-year civil war that ended up killing millions of Guatemalan people, especially many of the poor.3. In 1960 a man named Patrice Lamumba was elected Congo\\u2019s first prime minister after independence from Belgium. Lamumba spoke out against Western imperialism and refused to take sides in the Cold War, which caused the CIA to conclude that he was a threat to \\u201cnational security.\\u201d The CIA orchestrated the assassination of Lamumba, which ended up taking place on January 17, 1961, just three days before President Kennedy, who liked Lamumba and who would have ordered the CIA to stand down, was to be sworn into office.4. In 1970 a man named Salvador Allende received a plurality of votes in the presidential election in Chile. Pursuant to the Chilean constitution, the election was thrown into the national congress. President Richard Nixon, his national-security team, the Pentagon, and the CIA concluded that because Allende believed in communism and socialism, he posed a grave threat to \\u201cnational security\\u201d here in the United States. The CIA attempted to bribe members of the congress to vote against Allende. It also orchestrated the kidnapping of the head of Chile\\u2019s armed forces, Gen Rene Schneider, who opposed a US military coup in his country, especially since a coup would violate the country\\u2019s constitution. The kidnapping attempt on Schneider left him dead.The CIA then fomented a coup that took place on 9/11 1973 that violently ousted Allende from power and left him dead. Replacing him was army Gen. Augusto Pinochet, one of the most brutal unelected military dictators in history. By the time Pinochet\\u2019s 17-year reign of military terror came to an end in 1990, he and his CIA-supported goons had incarcerated, raped, tortured, or killed tens of thousands of innocent people \\u2014 that is, people whose only \\u201ccrime\\u201d was believing in socialism \\u2014 with the full support of the CIA, Pentagon, Nixon, and his \\u201cnational security\\u201d team.Of course, there are also the more recent support of regime-change operations that ousted democratically elected presidents that the US government disapproved of, such as in Ukraine and Egypt.And then there is the long list of countries where unelected dictators were targeted for regime change by the US national security state and, where successful, replaced with a brutal unelected pro-US dictator. Cuba, Indonesia, Iraq, Libya, and Syria all come to mind.US officials need to keep in mind that when they point their accusatory index finger at Russia for supposedly meddling in the US presidential election, US officials have, at the same time, three fingers pointing back at themselves. Reprinted with permission from the Future of Freedom Foundation . Related\",\n          \"When hearing of an establishment called the Black and Blue Steakhouse, one could reasonably surmise that some, or at the very least one, extremely tough person could be found somewhere in there. Well, the three terrorists who attacked London Bridge over the weekend found the Black and Blue Steakhouse, and they found the toughest man in the house. [Or, maybe more to the point, he found them.  Roy Larner, 47, is a huge fan of the South East London soccer team Millwall F. C. The team is known as the Lions, and when   terrorists entered the Black and Blue to kill innocent people, Larner let them know who is the true king of the jungle. After the terrorists entered, with obvious bad intentions, Larner sprang into action: \\u201cLike an idiot I shouted back at them. I thought, \\u2018I need to take the p*** out of these b*****s.\\u2019 \\u201cI took a few steps towards them and said, \\u2018F*** you, I\\u2019m Millwall.\\u2019 So they started attacking me. \\u201cI stood in front of them trying to fight them off. Everyone else ran to the back. I was on my own against all three of them, that\\u2019s why I got hurt so much. It was just me, trying to grab them with my bare hands and hold on. I was swinging. \\u201cI got stabbed and sliced eight times. They got me in my head, chest and both hands. There was blood everywhere. \\u201cThey were saying, \\u2018Islam, Islam!\\u2019 I said again, \\u2018F*** you, I\\u2019m Millwall!\\u2019 \\u201cIt was the worst thing I could have done as they carried on attacking me. \\u201cLuckily, none of the blows were straight at me or I\\u2019d be dead. \\u201d A petition has begun, with the aim of awarding Larner with the George Cross for bravery. The award is the second highest commendation granted by Great Britain. Looking at his scars, it\\u2019s really hard to imagine that he won\\u2019t get it. If Millwall is looking for a new slogan, they may have found it. \\u201cF*** you, I\\u2019m Millwall!\\u201d has a nice ring to it. Follow Dylan Gwinn on Twitter: @themightygwinn\"\n        ],\n        \"semantic_type\": \"\",\n        \"description\": \"\"\n      }\n    },\n    {\n      \"column\": \"label\",\n      \"properties\": {\n        \"dtype\": \"number\",\n        \"std\": 0,\n        \"min\": 0,\n        \"max\": 1,\n        \"num_unique_values\": 2,\n        \"samples\": [\n          0,\n          1\n        ],\n        \"semantic_type\": \"\",\n        \"description\": \"\"\n      }\n    }\n  ]\n}"
            }
          },
          "metadata": {},
          "execution_count": 48
        }
      ]
    },
    {
      "cell_type": "code",
      "source": [
        "plt.figure(figsize = (6,4))\n",
        "sns.countplot(x='label', data = news_dataset, palette = 'mako',saturation = 1)\n",
        "plt.title(\"Real Vs. Fake News count\", fontsize = 12)\n",
        "plt.show()"
      ],
      "metadata": {
        "id": "ZcPdCxcX_jrw",
        "colab": {
          "base_uri": "https://localhost:8080/",
          "height": 522
        },
        "outputId": "11dfcce0-4d17-4c4a-98e8-f656ca527f46"
      },
      "execution_count": null,
      "outputs": [
        {
          "output_type": "stream",
          "name": "stderr",
          "text": [
            "<ipython-input-49-a96cba65914d>:2: FutureWarning: \n",
            "\n",
            "Passing `palette` without assigning `hue` is deprecated and will be removed in v0.14.0. Assign the `x` variable to `hue` and set `legend=False` for the same effect.\n",
            "\n",
            "  sns.countplot(x='label', data = news_dataset, palette = 'mako',saturation = 1)\n"
          ]
        },
        {
          "output_type": "display_data",
          "data": {
            "text/plain": [
              "<Figure size 600x400 with 1 Axes>"
            ],
            "image/png": "[encoded data removed]"
          },
          "metadata": {}
        }
      ]
    },
    {
      "cell_type": "code",
      "source": [
        "# counting the number of missing values in the dataset\n",
        "news_dataset.isnull().sum()"
      ],
      "metadata": {
        "id": "lEw5J5U0_oIN",
        "colab": {
          "base_uri": "https://localhost:8080/"
        },
        "outputId": "867f08b9-ac8f-44db-fae1-a3efc3a25e0c"
      },
      "execution_count": 10,
      "outputs": [
        {
          "output_type": "execute_result",
          "data": {
            "text/plain": [
              "id           0\n",
              "title      558\n",
              "author    1957\n",
              "text        39\n",
              "label        0\n",
              "dtype: int64"
            ]
          },
          "metadata": {},
          "execution_count": 10
        }
      ]
    },
    {
      "cell_type": "code",
      "source": [
        "# replacing the null values with empty string\n",
        "news_dataset = news_dataset.fillna('')"
      ],
      "metadata": {
        "id": "ig1jonvy_2PU"
      },
      "execution_count": 11,
      "outputs": []
    },
    {
      "cell_type": "code",
      "source": [
        "# merging the author name and news title\n",
        "news_dataset['text'] = news_dataset['author']+' '+news_dataset['title']\n",
        "print(news_dataset['text'])"
      ],
      "metadata": {
        "id": "tpi83aNw_5at",
        "colab": {
          "base_uri": "https://localhost:8080/"
        },
        "outputId": "f2352980-a528-4abe-a82b-df00c4bd4dd4"
      },
      "execution_count": 12,
      "outputs": [
        {
          "output_type": "stream",
          "name": "stdout",
          "text": [
            "0        Darrell Lucus House Dem Aide: We Didn’t Even S...\n",
            "1        Daniel J. Flynn FLYNN: Hillary Clinton, Big Wo...\n",
            "2        Consortiumnews.com Why the Truth Might Get You...\n",
            "3        Jessica Purkiss 15 Civilians Killed In Single ...\n",
            "4        Howard Portnoy Iranian woman jailed for fictio...\n",
            "                               ...                        \n",
            "20795    Jerome Hudson Rapper T.I.: Trump a ’Poster Chi...\n",
            "20796    Benjamin Hoffman N.F.L. Playoffs: Schedule, Ma...\n",
            "20797    Michael J. de la Merced and Rachel Abrams Macy...\n",
            "20798    Alex Ansary NATO, Russia To Hold Parallel Exer...\n",
            "20799              David Swanson What Keeps the F-35 Alive\n",
            "Name: text, Length: 20800, dtype: object\n"
          ]
        }
      ]
    },
    {
      "cell_type": "code",
      "source": [
        "# separating the data & label\n",
        "news_dataset = news_dataset.sample(n=500)\n",
        "X = news_dataset.drop(columns='label', axis=1)\n",
        "Y = news_dataset['label']\n",
        "print(X)\n",
        "print(Y)"
      ],
      "metadata": {
        "id": "N7lu06AIAAuU",
        "colab": {
          "base_uri": "https://localhost:8080/"
        },
        "outputId": "719c03b9-2b10-4c76-aee6-2d7f09b553d2"
      },
      "execution_count": 13,
      "outputs": [
        {
          "output_type": "stream",
          "name": "stdout",
          "text": [
            "          id                                              title  \\\n",
            "921      921  Review: In ‘Warcraft,’ Orcs of a Different Dom...   \n",
            "9558    9558  Таиланд между ТТП и ЕАЭС | Новое восточное обо...   \n",
            "1999    1999  From Bad to Worse: Obama’s Ransom Payment to I...   \n",
            "15116  15116  Susan Rice, Ex-Obama Adviser, Is Back in Polit...   \n",
            "10462  10462  House to Vote on Heathcare Bill Thursday - Bre...   \n",
            "...      ...                                                ...   \n",
            "7637    7637  By Announcing New Jobs, Corporations Help Them...   \n",
            "3704    3704  Report: Manchester Bomber’s Father Former al-Q...   \n",
            "2688    2688  Gingrich: Mueller Hiring ’Bad People’ Who Are ...   \n",
            "10768  10768  Hans Rosling, Swedish Doctor and Pop-Star Stat...   \n",
            "5249    5249  Emboldened by Trump, Israel Approves a Wave of...   \n",
            "\n",
            "                                   author  \\\n",
            "921                        Manohla Dargis   \n",
            "9558                                        \n",
            "1999                        Ari Lieberman   \n",
            "15116                         Peter Baker   \n",
            "10462                          Sean Moran   \n",
            "...                                   ...   \n",
            "7637   Nelson D. Schwartz and Bill Vlasic   \n",
            "3704                     Breitbart London   \n",
            "2688                              Pam Key   \n",
            "10768                         Sam Roberts   \n",
            "5249                      Isabel Kershner   \n",
            "\n",
            "                                                    text  \n",
            "921    Manohla Dargis Review: In ‘Warcraft,’ Orcs of ...  \n",
            "9558    Таиланд между ТТП и ЕАЭС | Новое восточное об...  \n",
            "1999   Ari Lieberman From Bad to Worse: Obama’s Ranso...  \n",
            "15116  Peter Baker Susan Rice, Ex-Obama Adviser, Is B...  \n",
            "10462  Sean Moran House to Vote on Heathcare Bill Thu...  \n",
            "...                                                  ...  \n",
            "7637   Nelson D. Schwartz and Bill Vlasic By Announci...  \n",
            "3704   Breitbart London Report: Manchester Bomber’s F...  \n",
            "2688   Pam Key Gingrich: Mueller Hiring ’Bad People’ ...  \n",
            "10768  Sam Roberts Hans Rosling, Swedish Doctor and P...  \n",
            "5249   Isabel Kershner Emboldened by Trump, Israel Ap...  \n",
            "\n",
            "[500 rows x 4 columns]\n",
            "921      0\n",
            "9558     1\n",
            "1999     1\n",
            "15116    0\n",
            "10462    0\n",
            "        ..\n",
            "7637     0\n",
            "3704     0\n",
            "2688     0\n",
            "10768    0\n",
            "5249     0\n",
            "Name: label, Length: 500, dtype: int64\n"
          ]
        }
      ]
    },
    {
      "cell_type": "code",
      "source": [
        "port_stem = PorterStemmer()\n",
        "def stemming(content):\n",
        "    stemmed_content = re.sub('[^a-zA-Z]',' ',content)\n",
        "    stemmed_content = stemmed_content.lower()\n",
        "    stemmed_content = stemmed_content.split()\n",
        "    stemmed_content = [port_stem.stem(word) for word in stemmed_content if not word in stopwords.words('english')]\n",
        "    stemmed_content = ' '.join(stemmed_content)\n",
        "    return stemmed_content\n",
        "news_dataset['text'] = news_dataset['text'].apply(stemming)\n",
        "print(news_dataset['text'])"
      ],
      "metadata": {
        "id": "6nuPK8_HAB6z",
        "colab": {
          "base_uri": "https://localhost:8080/"
        },
        "outputId": "92576cb9-d05b-4002-8b7c-1d649df174e4"
      },
      "execution_count": 14,
      "outputs": [
        {
          "output_type": "stream",
          "name": "stdout",
          "text": [
            "921      manohla dargi review warcraft orc differ domai...\n",
            "9558                                                      \n",
            "1999     ari lieberman bad wors obama ransom payment ir...\n",
            "15116    peter baker susan rice ex obama advis back pol...\n",
            "10462    sean moran hous vote heathcar bill thursday br...\n",
            "                               ...                        \n",
            "7637     nelson schwartz bill vlasic announc new job co...\n",
            "3704     breitbart london report manchest bomber father...\n",
            "2688     pam key gingrich mueller hire bad peopl trump ...\n",
            "10768    sam robert han rosl swedish doctor pop star st...\n",
            "5249     isabel kershner embolden trump israel approv w...\n",
            "Name: text, Length: 500, dtype: object\n"
          ]
        }
      ]
    },
    {
      "cell_type": "code",
      "source": [
        "#separating the data and label\n",
        "X = news_dataset['text'].values\n",
        "Y = news_dataset['label'].values\n",
        "print(X)\n",
        "print(Y)"
      ],
      "metadata": {
        "id": "NqzuPHsuAGfW",
        "colab": {
          "base_uri": "https://localhost:8080/"
        },
        "outputId": "bbceba1a-ce6d-4235-bcca-b939a6746622"
      },
      "execution_count": 15,
      "outputs": [
        {
          "output_type": "stream",
          "name": "stdout",
          "text": [
            "['manohla dargi review warcraft orc differ domain fight heart new york time'\n",
            " '' 'ari lieberman bad wors obama ransom payment iran tip iceberg'\n",
            " 'peter baker susan rice ex obama advis back polit cross hair surveil new york time'\n",
            " 'sean moran hous vote heathcar bill thursday breitbart'\n",
            " 'awr hawkin report trump sign repeal obama social secur gun ban breitbart'\n",
            " 'sausag machin someon broke skype spam bot type emoji transcript happen robot go mad'\n",
            " 'tfpp writer predict dem next move meme'\n",
            " 'v saxena obamacar architect admit live tv obamacar design'\n",
            " 'zahra nader rod nordland mob kill elop lover storm afghan polic station new york time'\n",
            " 'jeff poor krauthamm trump tax return issu dead parrot breitbart'\n",
            " 'karen crous tee time trump pro golfer say absolut new york time'\n",
            " 'america trump support may lure florida wall us govern maintain peac transfer power elect'\n",
            " 'simon romero nichola casey chapecoens soccer team plane crash leav brazil devast new york time'\n",
            " 'brook barn gwyneth paltrow goop go fashion busi new york time'\n",
            " 'time channel go' 'martin fackler go bond girl normal life new york time'\n",
            " 'jason easley gop scandal fall apart new email come hillari clinton server'\n",
            " 'jeff poor trump push america first boe visit breitbart'\n",
            " 'henri alford tyranni peopl vacat photo new york time'\n",
            " 'isabel kershner rana f swei jordan free soldier kill isra schoolgirl rampag new york time'\n",
            " 'free thought project leak audio catch clinton red hand talk rig elect'\n",
            " 'ap er fire coach chip kelli gm trent baalk breitbart'\n",
            " 'pam key franken gop colleagu question trump mental health breitbart'\n",
            " 'timothi william monica davey u murder surg f b find new york time'\n",
            " 'editor gaiaport serrat torch cleav undesir' 'srvantcync'\n",
            " 'editor year old artifact ultim evid ancient astronaut technolog'\n",
            " 'charlieseattl notic anyth differ msm late'\n",
            " 'john eligon serg f kovaleski clue mysteri princ final day new york time'\n",
            " 'philip giraldi oh love war'\n",
            " 'charli nash report onlin date lower peopl standard breitbart'\n",
            " 'bob price cuban face deport imperson border patrol agent'\n",
            " 'david stockman chart day trend growth rate real gdp slump year'\n",
            " 'nick hallett austria want exit eu migrant redistribut scheme'\n",
            " 'whitney webb wikileak founder target clinton saudi connect scath interview'\n",
            " 'kristina wong trump warn comey better hope tape convers'\n",
            " 'michael barbaro alex burn maggi haberman kirk sempl highlight donald trump immigr speech mexico trip new york time'\n",
            " 'us welcom report coalit strike kill civilian syria'\n",
            " 'wmw admin explos assang pilger interview us elect expect riot hillari win'\n",
            " 'adeel hassan monday brief berni sander dilma rousseff ecuador new york time'\n",
            " 'steve lohr toni fadel step amid tumult nest googl acquisit new york time'\n",
            " 'gabriel cintorino break keef got access dem buy influenc like hillari sell'\n",
            " 'tyler durden deep state split killeri'\n",
            " 'excerpt draft script donald trump q ampa black church pastor new york time'\n",
            " 'patrick heali donald trump safe choic free hillari clinton hand strategist say new york time'\n",
            " 'newsguy top black live matter activist incit riot everywher trump win'\n",
            " 'liz spayd evan gershkovich friday mailbag taunt hoax anonym stealth new york time'\n",
            " 'jane e brodi need give alcohol lose weight necessarili new york time'\n",
            " 'michel moon trump budget defund plan parenthood breitbart'\n",
            " 'ann carrn time side come credit debt new york time'\n",
            " 'kati mchugh exclus gov tom ridg opioid suppli demand problem attack breitbart'\n",
            " 'pomegran pistachio pancak david avocado wolf davidwolf com'\n",
            " 'lintaylor vitrifi master jackass sean hanniti inadvert teach valuabl grammar lesson'\n",
            " 'niraj chokshi vermont governor pardon marijuana convict new york time'\n",
            " 'charl duhigg form healthi habit new york time'\n",
            " 'ron nixon peopl travel ban nation pose increas terror risk report say new york time'\n",
            " 'alien contact nasa never disclos ufo'\n",
            " 'two us citizen arrest tunisia tie daesh'\n",
            " 'yve smith farm credit system chang american think credit'\n",
            " 'dan riehl joe manchin pro life life born pro life'\n",
            " 'alex william hayden boy girl post gender babi name rise new york time'\n",
            " 'patricia cohen slower growth job report may give fed paus interest rate new york time'\n",
            " 'author jesu shirt spark school uproar'\n",
            " 'ann barnard hwaida saad first day syria peac talk quickli descend quarrel new york time'\n",
            " 'kevin gosztola happen person note young chicago cub fan'\n",
            " 'nina siegal new evid van gogh ear continu debat painter mental state new york time'\n",
            " 'guest children need donat beat hmrc receipt soon'\n",
            " 'pakalert illuminati documentari skull bone'\n",
            " 'sen ted cruz r tx exclus ted cruz school choic week let unleash american exception everi child breitbart'\n",
            " 'charl hugh smith blast point hillari campaign deep state precis'\n",
            " 'chri tomlinson drug traffick increasingli involv migrant smuggl'\n",
            " 'daniel greenfield obamacar great need punish peopl use'\n",
            " 'jerom hudson rosi donnel lead anti trump protest outsid white hous'\n",
            " 'mitch smith richard p rez pe milwauke offic charg shoot set riot new york time'\n",
            " 'simon romero anna jean kaiser see anti women backlash ouster brazil presid new york time'\n",
            " 'ann barnard hwaida saad ben hubbard aleppo evacu halt amid confus concern kill new york time'\n",
            " 'staff writer obama push illeg immigr vote u elect call illeg citizen'\n",
            " 'sean moran trump favor end obamacar subsidi breitbart'\n",
            " 'c sar rea rea lo grand cambio en el transport mar timo negocio portuario por c sar rea rea'\n",
            " 'michel moon ca high speed rail budget behind schedul breitbart'\n",
            " 'jonathan white'\n",
            " 'michael cbd infus cannabi milk sooth anxieti hit store soon'\n",
            " 'admin mission accomplish rt crew find refuge still jungl camp despit success evict'\n",
            " 'south front syrian war report novemb syrian militari deploy advanc battl tank aleppo'\n",
            " 'jeff poor pelosi think press accomplic undermin elect breitbart'\n",
            " 'simon kent aussi muslim demand safe space follow vent extremist view'\n",
            " 'heather callaghan johnson johnson lose yet anoth multimillion dollar case babi powder'\n",
            " 'author prof cano reek genocid white privileg'\n",
            " 'charl mcdermid australia libya north korea morn brief new york time'\n",
            " 'fed boom math show trump would beaten obama romney obama elect percentfedup com'\n",
            " 'aaron klein guardian opinion writer trump bannon count terrorist massacr'\n",
            " 'edjenn trump support got nut msnbc report cover anti trump rioter video'\n",
            " 'admin britain join biggest european militari buildup sinc cold war'\n",
            " 'shae weatheral crimin minion caught push voter fraud get hillari elect'\n",
            " 'alessandra stanley guy shut light sander campaign new york time'\n",
            " 'ann coulter ann coulter health care plan simpl even republican understand breitbart'\n",
            " 'new york time basebal slow fix new york time'\n",
            " 'norepli blogger com alexand light jay z beyonc member aleist crowley satan cult oto'\n",
            " 'ken klukowski schiff threaten violat constitut twice independ counsel'\n",
            " 'michael shear reshap live without congress new york time'\n",
            " 'robot advanc mar ancient alien'\n",
            " 'john carney win consum confid boom highest level year breitbart'\n",
            " 'zachari woolf anthoni tommasini michael cooper corinna da fonseca wollheim david allen met opera struggl fill empti seat new york time'\n",
            " 'thoma william ph pope franci choos abort save figur idolatri'\n",
            " 'free thought project hillari entir obama administr expos use privat email avoid foia request'\n",
            " 'john hayward assad america deep state trump blew airbas syria'\n",
            " 'j hey bundi ranch occupi acquit count challeng corrupt bureau land manag'\n",
            " 'new studi suggest religi peopl less understand world'\n",
            " 'sean moran hous republican unveil bullet point obamacar repeal breitbart'\n",
            " 'harri potter nippl pump cultur minist consid ban'\n",
            " 'nick corasan corey lewandowski ex campaign manag donald trump join cnn new york time'\n",
            " 'carol adl two power earthquak strike central itali'\n",
            " 'pam key feinstein believ russia interf alter outcom presidenti elect breitbart'\n",
            " 'jan hoffman watch surgeon cut knee new york time'\n",
            " 'breitbart tech far cri offici announc trailer breitbart'\n",
            " 'nate church purdu professor develop instantli recharg batteri tech breitbart'\n",
            " 'zach cartwright trump twitter privileg revok obama respons priceless'\n",
            " 'alex jone show hillari real christian say michael moor'\n",
            " 'timmi comment pm water cooler timmi'\n",
            " 'grayrid feder govern overreach ahead' ''\n",
            " 'john hayward japanes pm shinzo abe prepar tweetabl figur trump'\n",
            " 'jeff poor paul ryan go live obamacar forese futur breitbart'\n",
            " 'opp german magazin use isi propaganda video show well mosul'\n",
            " 'lisa beach'\n",
            " 'daniel nussbaum roseann barr everi attack trump realli disguis attack american voter'\n",
            " 'gillian sociopath behavior cure'\n",
            " 'isabel kershner israel approv addit fund settlement west bank new york time'\n",
            " 'breitbart news hill breitbart white hous'\n",
            " 'oliv jj lane polic helicopt deploy karaok machin confisc song mock bin laden play parti'\n",
            " 'dave hodg readi aftermath elect elect'\n",
            " 'break hillari sent mark classifi info nonsecur huma abedin account truthfe'\n",
            " 'seapost'\n",
            " 'jonathan martin debat stage virginia racial scar tissu backdrop new york time'\n",
            " 'charli spier ethic offic releas page donald trump financi disclosur report'\n",
            " 'ian hanchett fmr clinton spox develop call question legitimaci trump win everi day breitbart'\n",
            " 'oliv jj lane tori dup govern deal expect wednesday good discuss breitbart'\n",
            " 'china immor treatment africa must stop'\n",
            " 'awr hawkin arm citizen threw wallet distract suspect lit breitbart'\n",
            " 'fernanda santo bilingu invit arizona mayor draw angri repli english new york time'\n",
            " 'jerom hudson former rockett inaugur perform unit america'\n",
            " 'ariana million later north dakota polic afford pipelin protest'\n",
            " 'jerom hudson michael moor anti trump ralli vow end trump carnag'\n",
            " 'ben kenigsberg review bad santa work mommi issu new york time'\n",
            " 'tyler durden emot f king piss media blow embargo lash trump f ck'\n",
            " 'breitbart news breitbart news daili gorsuch scotu breitbart'\n",
            " 'kaitlyn stegal venezuela crisi enter danger phase maduro foe go milit'\n",
            " 'jew world war open border aladdinsmiraclelamp comment six million jew jew world war open border aladdinsmiraclelamp'\n",
            " 'lanc schuttler tesla made money quarter u oil compani made last year'\n",
            " 'breitbart news wapo jare kushner focu russia investig breitbart'\n",
            " 'pcr fbi time review email'\n",
            " 'jerom hudson hollywood freak trump repugn temporari refuge ban breitbart'\n",
            " 'clair bernish dapl protest proven right largest ga pipelin u experi massiv deadli explos'\n",
            " 'mani american still tri decid shiniest turd'\n",
            " 'daniel greenfield muslim terror hindu wednesday'\n",
            " 'para kazanmak comment fascin thing quantum physic natur para kazanmak'\n",
            " 'turkish gov decre caus major polic chief reshuffl across countri'\n",
            " 'methepeopl comment friday funni methepeopl'\n",
            " 'rachel l swarn word obama father still wait read son new york time'\n",
            " 'gillian way natur rais vibrat'\n",
            " 'brandon turbevil former ambassador andrew young call end water fluorid civil right issu'\n",
            " 'life life luxuri elton john favorit shark pictur stare long transcontinent flight'\n",
            " 'activist post china airport secur robot deliv electroshock'\n",
            " 'glen ford hillari big tent obama grand bargain steroid'\n",
            " 'break obama betray america massiv move leav offic media silent endingf news network'\n",
            " 'sabrina tavernis toilet proper plumb realiti u home new york time'\n",
            " 'pam key cotton gop health care plan go work bring premium breitbart'\n",
            " 'catherin porter dan levin ian austen lose hope u migrant make ici cross canada new york time'\n",
            " 'robert spencer splc libel new report anti muslim extremist'\n",
            " 'glenn kenni fandor stream rabbit hole worth fall new york time'\n",
            " 'jame wagner met said sign yoeni cesped four year million new york time'\n",
            " 'kate bennett donald trump use beauti scissor cut ribbon new c hotel'\n",
            " 'penni starr presid trump call immedi investig chuck schumer tie russia vladimir putin breitbart'\n",
            " 'christoph mele maci cut job poor holiday sale new york time'\n",
            " 'christoph mele dylann roof attack fellow inmat offici say new york time'\n",
            " 'ken klukowski sever state sue trump new immigr execut order breitbart'\n",
            " 'michael greger faclm wakam seawe salad may lower blood pressur'\n",
            " 'snowflak colbert want write joke trump win daili wire'\n",
            " 'dan comment mob angri student surround student want particip blm movement dan'\n",
            " 'brandon turbevil fema open loan window red cross tri shut shelter'\n",
            " 'traci blake tomb jesu reveal'\n",
            " 'aider le migrant et aller en prison la vie en europ est complex'\n",
            " 'michael snyder barack obama delay suspend elect hillari forc new fbi email investig'\n",
            " 'jafe arnoldski norepli blogger com aleppo offens syrian troop close liber eastern aleppo video'\n",
            " 'michael paulson keep great comet parti go broadway dish pierogi add josh groban new york time'\n",
            " 'dave hodg day thing want surviv fallout hillari new indict elect defeat'\n",
            " 'eddi lavin cop versu two inform teen refus submit unlaw detain'\n",
            " 'admin updat hillari clinton crime misdemeanor video min' 'david schultz'\n",
            " 'amanda hess cute whale click doom new york time'\n",
            " 'awr hawkin gop rep introduc nation conceal carri reciproc day one new congress breitbart'\n",
            " 'shivani vora way take self care vacat new york time'\n",
            " 'awr hawkin david frum nra member task repel tyrant breitbart'\n",
            " 'amanda froelich anonym issu warn nd governor dapl watch'\n",
            " 'eddi lavin nypd hillari clinton child sex scandal break'\n",
            " 'joshua hammer egypt activist becam gener jail new york time'\n",
            " 'andrew anglin year old smdh child'\n",
            " 'matthew brunwass serbia prime minist project win presid consolid control new york time'\n",
            " 'anonym coward uid sonic eat popcorn chicken ask anyth'\n",
            " 'john derbyshir radio derb air leonardo brazil miss bum bum pageant etc'\n",
            " 'jim dwyer donald trump got wrong stop frisk new york time'\n",
            " 'brianna acuesta tini home ban u citi govern take back control citizen'\n",
            " 'barenakedislam canadian taxpay know fund welfar polygam muslim migrant famili wive countless children'\n",
            " 'suresh subrahmanyan origin unreleas transcript sonia gandhi interview rajdeep sardesai obtain'\n",
            " 'karen workman sandra stevenson donald trump iran joe mcknight tuesday even brief new york time'\n",
            " 'egypt court uphold life sentenc brotherhood leader badi'\n",
            " 'photo week presid let citigroup staff cabinet call solidar voter'\n",
            " 'barenakedislam pat condel america last chanc'\n",
            " 'jerom hudson black student univers michigan demand segreg space'\n",
            " 'robert rich video idiot destroy trump hollywood star get bad news second later'\n",
            " 'daniel greenfield bundi verdict anoth defeat obama'\n",
            " 'wall street journal call opec cartel whiff marathon talk deal'\n",
            " 'hiroko tabuchi clair rigbi jeremi white amazon deforest tame come roar back new york time'\n",
            " 'michael shear presidenti elect live donald trump victori new york time'\n",
            " 'news miss opportun presid obama found allow sleep white hous year live hotel near reagan airport'\n",
            " 'editor flash mob medit occur vote station elect'\n",
            " 'beno morenn franc identifi nd man attack church kill priest new york time'\n",
            " 'davidswanson michael moor owe'\n",
            " 'jame petra us public opinion speak anti militar elector vote warmong'\n",
            " 'pcr stake elect paul craig robert' 'anonym'\n",
            " 'dan bilefski c chief warn donald trump tear iran nuclear deal new york time'\n",
            " 'jona e alexi vladimir putin unit state continu sleep al nusra'\n",
            " 'marc santora last call puls nightclub shot rang new york time'\n",
            " 'tz huma abedin anti american muslim brotherhood tie expos'\n",
            " 'tennesse dan' 'glp forum godlik product'\n",
            " 'isaac davi clinton addict privileg financi whistleblow explain happen economi'\n",
            " 'sean adl tabatabai video evid biggest elect fraud u histori'\n",
            " 'richard c paddock philippin leader shift drug war offici meet resist approv new york time'\n",
            " 'editor heard scientist grow human ear appl'\n",
            " 'steven broil comment enjoy period posit medit color new book steven broil'\n",
            " 'shivani vora take tax refund vacat new york time'\n",
            " 'jess bidgood small rhode island suddenli big role presidenti primari new york time'\n",
            " 'lela moor lindsey underwood confirm imag u new york time'\n",
            " 'chri tomlinson sex attack violenc plagu austria nye celebr'\n",
            " 'hal apeeno north dakota fail inform public oil spill last two year report'\n",
            " 'dionn searcey uproot war threaten boko haram desper go home new york time'\n",
            " 'karin zakrzewski graziano'\n",
            " 'pam key whoopi trump administr valu realli much differ taliban breitbart'\n",
            " 'jadedandcyn secret messag hidden within spam podesta email'\n",
            " 'sarah lyall hundr pound lighter shed anoth burden past new york time'\n",
            " 'ian greenhalgh victoria gotti king con donald trump take pig self back dump tower'\n",
            " 'gillian conscious part materi world'\n",
            " 'andrea kannapel lisa iaboni u presidenti race north dakota syria weekend brief new york time'\n",
            " 'sydney ember gawker file bankruptci hulk hogan suit sale new york time'\n",
            " 'tass russia suggest joint engin troop drill india'\n",
            " 'selwyn duke kowtow kaepernick may perman damag nfl' ''\n",
            " 'jafe arnoldski norepli blogger com authoritarian west demon strong popular leader'\n",
            " 'jerom hudson alan colm dead'\n",
            " 'sean moran hous republican close obamacar repeal deal breitbart'\n",
            " 'denis gradi patient tumor billion cell equal strike recoveri new york time'\n",
            " 'stephen lendman whose side russia syria'\n",
            " 'rebecca diserio hillari thug identifi homeless woman protect trump star get justic'\n",
            " 'kevin gosztola hubri democrat elit clinton campaign gave us presid trump'\n",
            " 'mike farrel dispatch wolf countri sit cave watch spider spin'\n",
            " 'charl hugh smith hillari ghost waterg'\n",
            " 'rafiq b nai brith histori mount assault academ freedom canadian univers'\n",
            " 'karen zraick sandra stevenson rafael nadal march life friday even brief new york time'\n",
            " 'truth broadcast network hillari clinton elect concess speech new york full stream live'\n",
            " 'trent baker watch lumber releas portion controversi super bowl ad depict immigr border wall breitbart'\n",
            " 'jo coffelt'\n",
            " 'steve jacobson nasti like democrat salli kohn prove littl think women tweet'\n",
            " 'kevin sack alan blinder juror hear dylann roof explain shoot video new york time'\n",
            " 'mr'\n",
            " 'life love enamel pin love etsi shop care enamel pin explod pictur bulldog puppi lose shit amaz look pizza find someth'\n",
            " 'toni lee rick put bullet trump wilson potu support see scalis shoot bless breitbart'\n",
            " 'brandon darbi amp ildefonso ortiz iraqi egyptian nation caught sneak across open border'\n",
            " 'dave philipp decad later sick among airmen hydrogen bomb accid new york time'\n",
            " 'ryan saavedra hug border patrol open fenc minut'\n",
            " 'breitbart news live updat shot fort lauderdal airport breitbart'\n",
            " 'benjamin weiser william k rashbaum preet bharara dismiss stori offic lose top fighter new york time'\n",
            " 'steve eder donald trump agre pay million trump univers settlement new york time'\n",
            " 'jennif medina california senat race tale divers flail g p new york time'\n",
            " 'ami chozick hillari clinton say donald trump qualifi presid new york time'\n",
            " 'paul nachman bill clinton use call illeg alien gasp illeg alien plu sound lot like trump'\n",
            " 'tip interact celebr onion america finest news sourc'\n",
            " 'penni starr white hous ask congress includ obama execut branch abus investig author part russian probe'\n",
            " 'charli nash sxsw focus anti trump rhetor link rise fascism breitbart'\n",
            " 'jason ditz us drone strike afghanistan kill wound sever civilian'\n",
            " 'franc martel iran blame saudi arabia islam state parliament ayatollah shrine rampag breitbart'\n",
            " 'douglass price bret baier throw seriou shade melania trump'\n",
            " 'breitbart jerusalem report syrian student damascu chant death america death israel'\n",
            " 'jason ditz malaysia buy ship china anoth blow us region domin'\n",
            " 'mac slavo quickli escal open warfar govern prepar post elect chao'\n",
            " 'anonym coward uid piss conserv liber'\n",
            " 'dikran arakelian norepli blogger com moringa herb kill cancer stop diabet'\n",
            " 'alan feuer broad challeng trump order may center cleveland doctor new york time'\n",
            " 'activistpost proof obamacar design fail'\n",
            " 'liz alderman wintri blast greec imperil refuge crowd camp new york time'\n",
            " 'neil w mccabe exclus rep kevin bradi clear vote pass ryancar breitbart'\n",
            " 'ian hanchett wapo keef good thing trump took question sever differ outlet want breitbart'\n",
            " 'jack montgomeri german vice chancellor eu break apart longer unthink'\n",
            " 'saker syrian war report octob milit make die attempt break aleppo sieg'\n",
            " 'nyt admit key al qaeda role aleppo'\n",
            " 'reuter pope franci say church apolog gay new york time'\n",
            " 'breitbart tv larri summer paper trump offici navarro ross econom equival creation breitbart'\n",
            " 'mac slavo profit chao elit secretli bank trump victori populist upris'\n",
            " 'samantha schmidt pigeon may predict lead contamin studi find new york time'\n",
            " 'michael barbaro hillari clinton first new york time'\n",
            " 'patrick cockburn happen mosul isi push'\n",
            " 'kimberli morin look donat doj employe went' 'doc chao'\n",
            " 'shorti ope eric zuess reason berni voter vote trump'\n",
            " 'raphael minder itali last bastion catalan languag struggl keep aliv new york time'\n",
            " 'andrew bradford ironi alert first person arrest voter fraud trump support'\n",
            " 'jim rutenberg mike allen politico newslett pioneer hand rein new york time'\n",
            " 'scott cacciola laker shake hand rein magic johnson new york time'\n",
            " 'mike rivero clinton campaign blame fbi director loss trump'\n",
            " 'alan feuer andrew higgin extremist turn leader protect western valu vladimir putin new york time'\n",
            " 'breitbart london million pledg europ anti trump pro abort campaign'\n",
            " 'donald g mcneil jr pam belluck abort pill order rise latin american nation zika alert new york time'\n",
            " 'time hail hillari clinton face testosteron left van badham news comment wikileak reveal clinton tie rothschild occult cabal time hail hillari clinton face testosteron left van badham news'\n",
            " 'amanda froelich kind samaritan pay overdu lunch fee hometown elementari school'\n",
            " 'jekaterina sinelschtschikowa linkedin russland kommt die sperr'\n",
            " 'michael wilson veteran con man work new crowd old trick new york time'\n",
            " 'ariana stand rock protest spray water freez temperatur'\n",
            " 'howard portnoy obama prepar part shot israel presid must bind next'\n",
            " 'jeff poor cruz get health care bill senat go easi breitbart'\n",
            " 'rossi herbert mcauliff fbi clinton payoff stori got whole lot wors'\n",
            " 'dr susan berri princip bar pregnant teen graduat best way love hold account immor breitbart'\n",
            " 'abbi goodnough robert pear thoma kaplan health group denounc g p bill backer scrambl new york time'\n",
            " 'david costa'\n",
            " 'matt flegenheim thoma kaplan paul ryan emerg health care defeat badli damag new york time'\n",
            " 'aaron kesel break stock plummet dow trump project beat clinton live blog'\n",
            " 'west shamelessli whitewash terrorist counterattack aleppo ulson gunnar'\n",
            " 'joel b pollak irvin unveil memori honor fallen hero iraq afghanistan breitbart'\n",
            " 'viralbu brexit mean clusterfuck confirm prime minist newsthump'\n",
            " 'robert j burrow punish violent counterproduct'\n",
            " 'max fisher trump face limit american power new york time'\n",
            " 'jerom hudson singer joy villa see sale spike maga grammi dress'\n",
            " 'ben hubbard damascu bomb near pilgrimag site kill dozen new york time'\n",
            " 'staff writer massiv hillari prison sign held world seri game infuri liber'\n",
            " 'michael full list american eugen societi member research away resourc'\n",
            " 'norepli blogger com der postillon donald willst du mich heiraten clinton hat kampf um wei e hau noch nicht aufgegeben'\n",
            " 'daniel victor meet new glenn blue origin rocket may someday take space new york time'\n",
            " 'azzmador proof god dutert side'\n",
            " 'sam robert larri colburn help stop lai massacr die new york time'\n",
            " 'european union time alt right predict reopen fbi investig sham'\n",
            " 'arnold monteverd norepli blogger com biggest secret reptilian human hybrid run world'\n",
            " 'informationclearinghous info putin derail west inform'\n",
            " 'breitbart jerusalem iran command fire roar missil threaten breitbart'\n",
            " 'eric lipton maggi haberman deni conflict trump famili tri resolv potenti problem new york time'\n",
            " 'robert j marlow time save common sens rule propos golf govern bodi breitbart'\n",
            " 'amanda hous roll thunder motorcyclist return c honor pow mia breitbart'\n",
            " 'beforeitsnew com liter hurt brain read econom idioci emit trumpkin libertarian'\n",
            " 'saudi financ minist al assaf fire royal order'\n",
            " 'neil w mccabe sen joe manchin trump administr get coal reg breitbart'\n",
            " 'michel l dozoi tim herrera cook watch listen weekend new york time'\n",
            " 'tom ciccotta trump econom advisor gari cohn say white hous push one cohes tax plan year breitbart'\n",
            " 'anonym'\n",
            " 'joel b pollak john kerri defend iran deal san francisco soro back group breitbart'\n",
            " 'erdogan want reviv dream ottoman empir support saudi arabia'\n",
            " 'internet erupt mockeri sarah palin post someth monument stupid tweet'\n",
            " 'breitbart news nytim session bannon depart justif'\n",
            " 'oliv jj lane moroccan migrant arrest woman push onto subway track'\n",
            " 'maggi haberman woman new york primari day last new york time'\n",
            " 'zahra nader mujib mashal matter son afghan fighter reunit famili new york time'\n",
            " 'admin next us presid psycho lesbian plu break news video'\n",
            " 'clair bernish break fbi make stun revers reopen clinton investig discoveri new document'\n",
            " 'arnaldo rodger meet militari veteran run congress'\n",
            " 'kevin queali margot sanger katz confus quinoa nutrit american new york time'\n",
            " 'mark landler g obama tri smooth thing turkey new york time'\n",
            " 'emili steel michael schmidt troubl fox news ail face new sexual claim reilli lose two advertis new york time'\n",
            " 'frank bruni scope orlando carnag new york time'\n",
            " 'floyd whaley ian austen philippin confirm kill robert hall canadian hostag abu sayyaf new york time'\n",
            " 'barenakedislam hillari islam america alreadi muslim go zone pop michiganistan'\n",
            " 'joe drape marc traci major agre rape stanford footbal player enough new york time'\n",
            " 'virgil virgil make america great establish target trump top strategist'\n",
            " 'michael shear maggi haberman trump mar lago facebook nation secur crisi open new york time'\n",
            " 'stevew pacif island may dna unknown human speci'\n",
            " 'david e sanger biden hint u respons russia cyberattack new york time'\n",
            " 'mark landler ashley parker donald trump lay foreign polici promis coher new york time'\n",
            " 'daniel mcadam memo congress bring back earmark'\n",
            " 'bob price fed seiz million drug border day'\n",
            " 'tom fuent donald trump el primer president naranja de lo estado unido'\n",
            " 'georg zapo volunt succeed elimin food wast hunger'\n",
            " 'polic across countri equip christian facial recognit camera'\n",
            " 'ami chozick patrick heali anthoni weiner huma abedin separ latest sext scandal new york time'\n",
            " 'corbett newsbud roundtabl elect vs realiti'\n",
            " 'inessa norepli blogger com european futur putin migrant crisi video'\n",
            " 'rebecca r ruiz rio drug test lab suspend antidop regul new york time'\n",
            " 'andrew anglin scientist say signal space probabl alien'\n",
            " 'john carney cnbc survey american overwhelmingli approv trump agenda infrastructur tax cut trade'\n",
            " 'michael snyder happen vote machin switch vote donald trump hillari clinton'\n",
            " 'ann barnard andrew e kramer iran revok russia use air base say moscow betray trust new york time'\n",
            " 'michael grynbaum hasan minhaj perform white hous correspond associ dinner new york time'\n",
            " 'matthew rosenberg obama loosen restrict u forc fight taliban afghanistan new york time'\n",
            " 'michael krieger happen hillari support mit professor decid analyz email'\n",
            " 'iwb itali threaten veto eu budget refuge'\n",
            " 'patricia cohen retail payrol sustain new blow shop habit shift new york time'\n",
            " 'starkman astronom think discov messag sent alien'\n",
            " 'jack montgomeri top trump advis uk u deal could readi six month'\n",
            " 'gordon duff senior editor admir kuznetsov carrier group save syria us cruis missil strike'\n",
            " 'chri tomlinson erdogan soon european walk safe street'\n",
            " 'misti insur use california assist suicid law deni treatment termin patient'\n",
            " 'gareth porter bolton threat trump middl east polici'\n",
            " 'wikileak warn launch phase three elect coverag'\n",
            " 'patrick heali jonathan martin victori california hillari clinton turn toward donald trump new york time'\n",
            " 'starkman end game close clinton massiv damn evid bring clinton crime famili forev'\n",
            " 'john leland showgirl pastrami candor gloria steinem new york new york time'\n",
            " 'victor mather colin kaepernick unemploy arm knee new york time'\n",
            " 'pcr black femal attorney demolish anti trump white tv anchor' 'anonym'\n",
            " 'dan riehl immigr expert krikorian white hous surrend budget deal betray peopl support trump'\n",
            " 'andrew keh rio crowd goe crazi whatev new york time'\n",
            " 'poke staff german footbal impress keepi uppi chew gum'\n",
            " 'wesley morri muhammad ali evolv blockbust fighter countri conscienc new york time'\n",
            " 'alison mitchel understand clinton moment consid came year ferraro new york time'\n",
            " 'tom ciccotta milo judg jeanin donald trump withdraw fund berkeley breitbart'\n",
            " 'geoffrey grider fear tomorrow wikileak bombshel clinton campaign begin deni releas'\n",
            " 'pam key msnbc hunt sen warren mcconnel sexist breitbart'\n",
            " 'admin us suprem court justic grope femal lawyer report'\n",
            " 'michael shear carl huls michael schmidt list prioriti trump kri kobach tip hand new york time'\n",
            " 'emili steel dish network viacom sign deal end standoff new york time'\n",
            " 'pam key rand paul ryan obamacar lite premium continu rise breitbart'\n",
            " 'sausag machin bit sick burn wife via grave stone'\n",
            " 'melissa clark veget tart noth dainti new york time'\n",
            " 'jason ditz turkey rivalri kurd like complic raqqa invas'\n",
            " 'edjenn biggest loser donald trump stun victori'\n",
            " 'elisabetta povoledo gaia pianigiani rukmini callimachi hunt berlin suspect end gunfir italian plaza new york time'\n",
            " 'sen rand paul r ky paul gop congress ever balanc budget breitbart'\n",
            " 'hillari clinton tie isi support osmanisnin comment award win american journalist expos true origin isi war terror hillari clinton tie isi support osmanisnin'\n",
            " 'fair media roll welcom mat humanitarian war syria'\n",
            " 'awr hawkin trump deputi assist sebastian gorka reveal death threat'\n",
            " 'kati roger diver recount encount cage break great white shark new york time'\n",
            " 'michel moon san diego school district push cair assist anti islamophobia plan breitbart'\n",
            " 'tfpp writer hillari hypocrisi sexual assault brutal expos federalist paper'\n",
            " 'subvet celebr deplor suck'\n",
            " 'starkman vote machin shocker video proof elect rig'\n",
            " 'wmw admin iraqi armi discov us made missil isi militari base mosul'\n",
            " 'emili badger long vote line could long term consequ new york time'\n",
            " 'kaitlyn stegal half russian fear syria could spark world war iii'\n",
            " 'ian hanchett brook trump lash extrem disturb way project mental stabil breitbart'\n",
            " 'javi ramo televisi n lo visto ayer'\n",
            " 'north korea threaten sacr nuclear war israel countri continu support isi'\n",
            " 'john carney trump execut order target trade abus amid nafta intrigu breitbart'\n",
            " 'daili sheepl new biometr id system implement us airport'\n",
            " 'vicki batt lift weight could ward dementia make smarter'\n",
            " 'chri matthew sound alarm trump presid chill warn american video new centuri time'\n",
            " 'infowar com bill clinton son danney william youtub channel restor'\n",
            " 'grant stern feder judg order rnc reveal voter fraud pact trump'\n",
            " 'azam ahm mexico presid cancel meet trump wall new york time'\n",
            " 'andrew bradford watch trump advisor hissi fit ask white supremacist support'\n",
            " 'admin republican congress readi hillari prepar new probe clinton foundat'\n",
            " 'sean colarossi trump new defens strategi access hollywood tape blame microphon'\n",
            " 'dan bilefski ban head scarv work legal e u court rule new york time'\n",
            " 'daniel nussbaum jerri seinfeld get big deal kathi griffin photo bad joke'\n",
            " 'ben rothenberg concern zika top tenni player skip olymp new york time'\n",
            " 'robert mcfadden morley safer mainstay minut dead new york time'\n",
            " 'patrick j buchanan trump forev chang american polit'\n",
            " 'gerri mcbride mike penc head irish matern hospit fact find mission'\n",
            " 'wmw admin russia call washington bluff move finish syrian war'\n",
            " 'mark guay practic direct compass'\n",
            " 'jerom hudson jame franco spiral depress trump victori'\n",
            " 'dylan gwinn former anthem protestor brandon marshal time kaepernick get sign better everi quarterback free agenc breitbart'\n",
            " 'penni starr georg soro back climat march bring celeb nation mall swelter saturday breitbart'\n",
            " 'onan coca facebook censor strike liber fascism rear ugli head'\n",
            " 'comey reopen hillari investig real reason'\n",
            " 'intern back libyan forc attack daesh posit sirt'\n",
            " 'gillian hilarion messag octob novemb'\n",
            " 'ian mason weiner rise white hous alli disgrac ex congressman hire breitbart'\n",
            " 'putin congratul trump reset us russian relat inevit'\n",
            " 'david barstow trump unreal show echo busi past new york time'\n",
            " 'adel nazarian elizabeth warren presid trump donald seen nasti yet breitbart'\n",
            " 'piper mcgowin nyt trump support threaten violent revolut hillari win'\n",
            " 'pakalert germani form eu super armi prepar world war russia'\n",
            " 'aurelien breeden graft alleg grow fran oi fillon french presidenti hope new york time'\n",
            " 'elisabeth malkin remark event el salvador day without murder new york time'\n",
            " 'bob price border patrol agent arrest two illeg worker ben amp jerri protest'\n",
            " 'sinead shea ireland prime minist crisi case polic whistl blower new york time'\n",
            " 'thoma fuller san francisco torn see street behavior worsen new york time'\n",
            " 'sopan deb meryl streep pledg stand brownshirt tirad trump new york time'\n",
            " 'merril hope texa teacher admit three way sex high schooler say polic'\n",
            " 'grand prix du br sil romain grosjean obtient le meilleur temp dan la lign droit de stand le gorafi'\n",
            " 'anonym'\n",
            " 'margot sanger katz keep popular part obamacar work new york time'\n",
            " 'marc traci kenneth starr resign chancellor baylor new york time'\n",
            " 'brexit argument settl per cent third quarter growth'\n",
            " 'ian lovett california today ye still count presidenti primari vote new york time'\n",
            " 'fifth varshavyanka submarin join russia navi russia india report'\n",
            " 'matt flegenheim hillari clinton site lincoln speech lament g p turn donald trump new york time'\n",
            " 'lee roger rig elect video iv democrat oper will accept illeg foreign donat'\n",
            " 'chri tomlinson swedish journo sweden collaps without illeg migrant'\n",
            " 'iran defeat saudi arabia afc u tournament bahrain'\n",
            " 'bruce dixon keith ellison dnc chair anoth high place anoth empti black face'\n",
            " 'michael paulson want see hamilton citi near buy subscript wait two year new york time'\n",
            " 'nick hallett uk conserv hire senior obama aid help elect campaign'\n",
            " 'rig primari media candid american rig system'\n",
            " 'dakota access versu american way'\n",
            " 'sapna maheshwari market tv set invalu pair eye new york time'\n",
            " 'liber diseas' 'redlist renegad'\n",
            " 'nelson schwartz bill vlasic announc new job corpor help new york time'\n",
            " 'breitbart london report manchest bomber father former al qaeda affili member claim second son arrest uk breitbart'\n",
            " 'pam key gingrich mueller hire bad peopl trump breitbart'\n",
            " 'sam robert han rosl swedish doctor pop star statistician die new york time'\n",
            " 'isabel kershner embolden trump israel approv wave west bank settlement expans new york time']\n",
            "[0 1 1 0 0 0 1 1 1 0 0 0 1 0 0 1 0 1 0 0 0 1 0 0 0 1 1 1 1 0 1 0 0 1 0 1 0\n",
            " 0 1 1 0 0 1 1 0 0 1 0 0 0 0 0 1 1 0 0 0 1 1 1 0 0 0 1 0 1 0 1 1 0 1 0 1 0\n",
            " 0 0 0 1 0 1 0 1 1 1 1 0 0 1 1 0 1 0 1 1 1 0 0 0 1 0 0 1 0 0 0 1 0 1 1 0 1\n",
            " 0 1 0 0 0 0 1 1 1 1 1 0 0 1 1 0 1 0 0 0 1 1 1 0 0 0 0 1 0 0 0 1 0 0 1 0 1\n",
            " 1 1 0 1 0 1 1 1 1 1 1 0 1 1 1 1 1 1 0 0 0 1 0 0 1 0 0 0 0 1 1 1 1 1 1 1 1\n",
            " 0 1 1 1 1 0 0 0 0 1 1 0 1 0 1 1 0 1 1 1 0 1 1 1 0 1 1 1 0 0 1 1 0 1 1 1 1\n",
            " 0 1 0 1 1 1 1 1 0 1 1 0 0 0 0 1 0 1 0 1 0 1 1 0 0 1 1 1 1 0 0 0 1 1 1 1 1\n",
            " 1 0 1 0 1 1 0 1 1 0 0 0 0 0 0 0 0 0 1 1 0 0 1 0 1 0 1 1 1 1 0 1 0 0 0 0 1\n",
            " 1 0 0 1 0 0 1 1 1 1 0 1 0 0 1 0 0 0 1 1 1 0 1 1 0 1 0 0 1 0 1 1 0 1 1 0 0\n",
            " 0 1 1 1 0 1 0 1 1 1 0 0 0 0 1 1 0 0 0 1 0 1 1 0 0 0 0 1 1 1 0 0 0 0 0 1 0\n",
            " 0 0 1 0 0 1 0 1 1 1 0 1 1 0 1 0 1 0 0 0 1 1 0 1 0 1 0 1 1 1 0 1 0 0 1 1 0\n",
            " 0 1 0 0 0 1 0 1 0 0 0 1 0 1 1 0 0 1 1 0 0 0 1 1 1 1 0 1 0 1 1 0 1 1 1 1 1\n",
            " 0 1 1 1 0 0 0 0 1 1 1 1 0 0 0 1 1 1 1 0 1 0 0 1 1 0 0 0 0 0 0 0 1 1 0 0 1\n",
            " 0 1 0 1 0 1 1 0 0 1 1 0 1 1 0 0 0 0 0]\n"
          ]
        }
      ]
    },
    {
      "cell_type": "code",
      "source": [
        "Y.shape"
      ],
      "metadata": {
        "id": "rw6sMoExAQm8",
        "colab": {
          "base_uri": "https://localhost:8080/"
        },
        "outputId": "8441ee25-2bcd-4819-ecc2-137f746c0425"
      },
      "execution_count": null,
      "outputs": [
        {
          "output_type": "execute_result",
          "data": {
            "text/plain": [
              "(500,)"
            ]
          },
          "metadata": {},
          "execution_count": 56
        }
      ]
    },
    {
      "cell_type": "markdown",
      "source": [
        "# **Vectorizing**"
      ],
      "metadata": {
        "id": "eqyFAv8vmKON"
      }
    },
    {
      "cell_type": "code",
      "source": [
        "# converting the textual data to numerical data\n",
        "vectorizer = TfidfVectorizer()\n",
        "vectorizer.fit(X)\n",
        "\n",
        "X = vectorizer.transform(X)\n",
        "print(X)"
      ],
      "metadata": {
        "id": "KsVX4JE1AYAw",
        "colab": {
          "base_uri": "https://localhost:8080/"
        },
        "outputId": "0f95ce62-ff5d-4b08-bc2d-69b8e027d35f"
      },
      "execution_count": 16,
      "outputs": [
        {
          "output_type": "stream",
          "name": "stdout",
          "text": [
            "  (0, 2517)\t0.11637353269129307\n",
            "  (0, 2438)\t0.337885166553049\n",
            "  (0, 2287)\t0.11425914114141969\n",
            "  (0, 1873)\t0.30198333082409373\n",
            "  (0, 1589)\t0.337885166553049\n",
            "  (0, 1522)\t0.111567865660644\n",
            "  (0, 1365)\t0.337885166553049\n",
            "  (0, 994)\t0.337885166553049\n",
            "  (0, 802)\t0.31688393894455924\n",
            "  (0, 631)\t0.337885166553049\n",
            "  (0, 597)\t0.29042552124491217\n",
            "  (0, 538)\t0.337885166553049\n",
            "  (2, 2505)\t0.3237647758623605\n",
            "  (2, 2292)\t0.30854061504056696\n",
            "  (2, 1807)\t0.34522202539082814\n",
            "  (2, 1640)\t0.34522202539082814\n",
            "  (2, 1558)\t0.22608346348230057\n",
            "  (2, 1296)\t0.34522202539082814\n",
            "  (2, 1116)\t0.2656261159836316\n",
            "  (2, 1062)\t0.34522202539082814\n",
            "  (2, 168)\t0.28708336551209934\n",
            "  (2, 121)\t0.34522202539082814\n",
            "  (3, 2517)\t0.1063975162899569\n",
            "  (3, 2287)\t0.10446437905360804\n",
            "  (3, 2215)\t0.28971934834459157\n",
            "  :\t:\n",
            "  (498, 2221)\t0.3136018907052814\n",
            "  (498, 2153)\t0.33438560321242305\n",
            "  (498, 2147)\t0.29885561200526184\n",
            "  (498, 1949)\t0.3136018907052814\n",
            "  (498, 1917)\t0.33438560321242305\n",
            "  (498, 1899)\t0.2470020194276257\n",
            "  (498, 1704)\t0.3136018907052814\n",
            "  (498, 1522)\t0.1104123286578186\n",
            "  (498, 974)\t0.33438560321242305\n",
            "  (498, 626)\t0.3136018907052814\n",
            "  (498, 595)\t0.2874175096245757\n",
            "  (499, 2517)\t0.11590785600324473\n",
            "  (499, 2465)\t0.2798577340209916\n",
            "  (499, 2449)\t0.3365330958402136\n",
            "  (499, 2330)\t0.13902061699734913\n",
            "  (499, 2287)\t0.11380192533645543\n",
            "  (499, 2029)\t0.3007749237740387\n",
            "  (499, 1522)\t0.11112141917945577\n",
            "  (499, 1215)\t0.3007749237740387\n",
            "  (499, 1130)\t0.2798577340209916\n",
            "  (499, 1124)\t0.3007749237740387\n",
            "  (499, 752)\t0.3365330958402136\n",
            "  (499, 697)\t0.3365330958402136\n",
            "  (499, 178)\t0.3007749237740387\n",
            "  (499, 116)\t0.2892633635641205\n"
          ]
        }
      ]
    },
    {
      "cell_type": "code",
      "source": [
        "X_train, X_test, Y_train, Y_test = train_test_split(X, Y, test_size = 0.2, stratify=Y, random_state=2)\n",
        "print(Y_test)"
      ],
      "metadata": {
        "id": "eZ7UGziCAere",
        "colab": {
          "base_uri": "https://localhost:8080/"
        },
        "outputId": "cb824c7f-1f41-47b6-d737-9c79ac924e17"
      },
      "execution_count": 17,
      "outputs": [
        {
          "output_type": "stream",
          "name": "stdout",
          "text": [
            "[1 0 1 1 1 1 0 1 0 1 1 1 0 0 1 1 1 0 0 1 1 1 0 0 0 0 1 0 0 0 1 1 0 0 1 1 0\n",
            " 1 1 1 0 0 1 0 0 1 0 1 0 1 0 1 1 0 0 0 1 0 0 0 0 1 0 0 0 0 0 0 1 0 1 1 0 0\n",
            " 1 1 0 1 0 0 0 0 0 1 1 1 1 1 0 0 0 1 1 0 1 1 1 1 1 1]\n"
          ]
        }
      ]
    },
    {
      "cell_type": "markdown",
      "source": [
        "# **With Package Implementation**"
      ],
      "metadata": {
        "id": "cakW2Aimk3sG"
      }
    },
    {
      "cell_type": "code",
      "source": [
        "from sklearn.ensemble import RandomForestClassifier\n",
        "from sklearn.metrics import classification_report\n",
        "rfc=RandomForestClassifier()\n",
        "rfc.fit(X_train,Y_train)\n",
        "rfc_pred=rfc.predict(X_test)\n",
        "print(classification_report(Y_test,rfc_pred))\n"
      ],
      "metadata": {
        "colab": {
          "base_uri": "https://localhost:8080/"
        },
        "id": "6v1ahQFUGshH",
        "outputId": "e521aaab-26e3-407d-993f-79784651588f"
      },
      "execution_count": 18,
      "outputs": [
        {
          "output_type": "stream",
          "name": "stdout",
          "text": [
            "              precision    recall  f1-score   support\n",
            "\n",
            "           0       0.98      0.92      0.95        50\n",
            "           1       0.92      0.98      0.95        50\n",
            "\n",
            "    accuracy                           0.95       100\n",
            "   macro avg       0.95      0.95      0.95       100\n",
            "weighted avg       0.95      0.95      0.95       100\n",
            "\n"
          ]
        }
      ]
    },
    {
      "cell_type": "code",
      "source": [
        "from sklearn.metrics import confusion_matrix\n",
        "cm = confusion_matrix(Y_test,rfc_pred)\n",
        "print(\"Confusion Matrix:\\n\", cm)\n",
        "\n",
        "# Plot confusion matrix\n",
        "plt.figure(figsize=(8, 6))\n",
        "sns.heatmap(cm, annot=True, fmt='d', cmap='Blues', xticklabels=['Negative', 'Positive'], yticklabels=['Negative', 'Positive'])\n",
        "plt.xlabel('Predicted')\n",
        "plt.ylabel('Actual')\n",
        "plt.title('Confusion Matrix')\n",
        "plt.show()"
      ],
      "metadata": {
        "colab": {
          "base_uri": "https://localhost:8080/",
          "height": 616
        },
        "id": "ddlwtGIDeK_n",
        "outputId": "38ce5078-6ebe-46bd-ffbe-249107243a45"
      },
      "execution_count": 29,
      "outputs": [
        {
          "output_type": "stream",
          "name": "stdout",
          "text": [
            "Confusion Matrix:\n",
            " [[46  4]\n",
            " [ 1 49]]\n"
          ]
        },
        {
          "output_type": "display_data",
          "data": {
            "text/plain": [
              "<Figure size 800x600 with 2 Axes>"
            ],
            "image/png": "[encoded data removed]"
          },
          "metadata": {}
        }
      ]
    },
    {
      "cell_type": "markdown",
      "source": [
        "# **Without Package Implementation**"
      ],
      "metadata": {
        "id": "buSIzh2QlGEk"
      }
    },
    {
      "cell_type": "code",
      "source": [
        "import numpy as np\n",
        "from collections import Counter\n",
        "\n",
        "class Node:\n",
        "    def __init__(self, feature=None, threshold=None, left=None, right=None,*,value=None):\n",
        "        self.feature = feature\n",
        "        self.threshold = threshold\n",
        "        self.left = left\n",
        "        self.right = right\n",
        "        self.value = value\n",
        "\n",
        "    def is_leaf_node(self):\n",
        "        return self.value is not None\n",
        "\n",
        "\n",
        "class DecisionTree:\n",
        "    def __init__(self, min_samples_split=2, max_depth=100, n_features=None):\n",
        "        self.min_samples_split=min_samples_split\n",
        "        self.max_depth=max_depth\n",
        "        self.n_features=n_features\n",
        "        self.root=None\n",
        "\n",
        "    def fit(self, X, y):\n",
        "        self.n_features = X.shape[1] if not self.n_features else min(X.shape[1],self.n_features)\n",
        "        self.root = self._grow_tree(X, y)\n",
        "\n",
        "    def _grow_tree(self, X, y, depth=0):\n",
        "        n_samples, n_feats = X.shape\n",
        "        n_labels = len(np.unique(y))\n",
        "\n",
        "        # check the stopping criteria\n",
        "        if (depth>=self.max_depth or n_labels==1 or n_samples<self.min_samples_split):\n",
        "            leaf_value = self._most_common_label(y)\n",
        "            return Node(value=leaf_value)\n",
        "\n",
        "        feat_idxs = np.random.choice(n_feats, self.n_features, replace=False)\n",
        "\n",
        "        # find the best split\n",
        "        best_feature, best_thresh = self._best_split(X, y, feat_idxs)\n",
        "\n",
        "        # create child nodes\n",
        "        left_idxs, right_idxs = self._split(X[:, best_feature], best_thresh)\n",
        "        left = self._grow_tree(X[left_idxs, :], y[left_idxs], depth+1)\n",
        "        right = self._grow_tree(X[right_idxs, :], y[right_idxs], depth+1)\n",
        "        return Node(best_feature, best_thresh, left, right)\n",
        "\n",
        "\n",
        "    def _best_split(self, X, y, feat_idxs):\n",
        "        best_gain = -1\n",
        "        split_idx, split_threshold = None, None\n",
        "\n",
        "        for feat_idx in feat_idxs:\n",
        "            X_column = X[:, feat_idx]\n",
        "            thresholds = np.unique(X_column)\n",
        "\n",
        "            for thr in thresholds:\n",
        "                # calculate the information gain\n",
        "                gain = self._information_gain(y, X_column, thr)\n",
        "\n",
        "                if gain > best_gain:\n",
        "                    best_gain = gain\n",
        "                    split_idx = feat_idx\n",
        "                    split_threshold = thr\n",
        "\n",
        "        return split_idx, split_threshold\n",
        "\n",
        "\n",
        "    def _information_gain(self, y, X_column, threshold):\n",
        "        # parent entropy\n",
        "        parent_entropy = self._entropy(y)\n",
        "\n",
        "        # create children\n",
        "        left_idxs, right_idxs = self._split(X_column, threshold)\n",
        "\n",
        "        if len(left_idxs) == 0 or len(right_idxs) == 0:\n",
        "            return 0\n",
        "\n",
        "        # calculate the weighted avg. entropy of children\n",
        "        n = len(y)\n",
        "        n_l, n_r = len(left_idxs), len(right_idxs)\n",
        "        e_l, e_r = self._entropy(y[left_idxs]), self._entropy(y[right_idxs])\n",
        "        child_entropy = (n_l/n) * e_l + (n_r/n) * e_r\n",
        "\n",
        "        # calculate the IG\n",
        "        information_gain = parent_entropy - child_entropy\n",
        "        return information_gain\n",
        "\n",
        "    def _split(self, X_column, split_thresh):\n",
        "        left_idxs = np.argwhere(X_column <= split_thresh).flatten()\n",
        "        right_idxs = np.argwhere(X_column > split_thresh).flatten()\n",
        "        return left_idxs, right_idxs\n",
        "\n",
        "    def _entropy(self, y):\n",
        "        hist = np.bincount(y)\n",
        "        ps = hist / len(y)\n",
        "        return -np.sum([p * np.log(p) for p in ps if p>0])\n",
        "\n",
        "\n",
        "    def _most_common_label(self, y):\n",
        "        counter = Counter(y)\n",
        "        value = counter.most_common(1)[0][0]\n",
        "        return value\n",
        "\n",
        "    def predict(self, X):\n",
        "        return np.array([self._traverse_tree(x, self.root) for x in X])\n",
        "\n",
        "    def _traverse_tree(self, x, node):\n",
        "        if node.is_leaf_node():\n",
        "            return node.value\n",
        "\n",
        "        if x[node.feature] <= node.threshold:\n",
        "            return self._traverse_tree(x, node.left)\n",
        "        return self._traverse_tree(x, node.right)\n",
        "\n",
        "\n"
      ],
      "metadata": {
        "id": "B5e_5UXKSdil"
      },
      "execution_count": 21,
      "outputs": []
    },
    {
      "cell_type": "code",
      "source": [
        "# from DecisionTree import DecisionTree\n",
        "# import numpy as np\n",
        "# from collections import Counter\n",
        "\n",
        "class RandomForest:\n",
        "    def __init__(self, n_trees=10, max_depth=10, min_samples_split=2, n_feature=None):\n",
        "        self.n_trees = n_trees\n",
        "        self.max_depth=max_depth\n",
        "        self.min_samples_split=min_samples_split\n",
        "        self.n_features=n_feature\n",
        "        self.trees = []\n",
        "\n",
        "    def fit(self, X, y):\n",
        "        self.trees = []\n",
        "        for _ in range(self.n_trees):\n",
        "            tree = DecisionTree(max_depth=self.max_depth,\n",
        "                            min_samples_split=self.min_samples_split,\n",
        "                            n_features=self.n_features)\n",
        "            X_sample, y_sample = self._bootstrap_samples(X, y)\n",
        "            tree.fit(X_sample, y_sample)\n",
        "            self.trees.append(tree)\n",
        "\n",
        "    def _bootstrap_samples(self, X, y):\n",
        "        n_samples = X.shape[0]\n",
        "        idxs = np.random.choice(n_samples, n_samples, replace=True)\n",
        "        return X[idxs], y[idxs]\n",
        "\n",
        "    def _most_common_label(self, y):\n",
        "        counter = Counter(y)\n",
        "        most_common = counter.most_common(1)[0][0]\n",
        "        return most_common\n",
        "\n",
        "    def predict(self, X):\n",
        "        predictions = np.array([tree.predict(X) for tree in self.trees])\n",
        "        tree_preds = np.swapaxes(predictions, 0, 1)\n",
        "        predictions = np.array([self._most_common_label(pred) for pred in tree_preds])\n",
        "        return predictions"
      ],
      "metadata": {
        "id": "02FqFCEzVL5v"
      },
      "execution_count": 22,
      "outputs": []
    },
    {
      "cell_type": "code",
      "source": [
        "X1_train, X1_test, y1_train, y1_test = train_test_split(X, Y, test_size=0.2, random_state=1234)\n",
        "#print(X1_train)\n",
        "#converting sparse matrix (csr_matrix) to array\n",
        "X1_train = X1_train.toarray()\n",
        "X1_test = X1_test.toarray()\n",
        "print(X1_train)"
      ],
      "metadata": {
        "colab": {
          "base_uri": "https://localhost:8080/"
        },
        "id": "ugmBpZHzYz1C",
        "outputId": "d0244ba6-e52a-4e4c-deee-6698d537b68c"
      },
      "execution_count": 23,
      "outputs": [
        {
          "output_type": "stream",
          "name": "stdout",
          "text": [
            "[[0. 0. 0. ... 0. 0. 0.]\n",
            " [0. 0. 0. ... 0. 0. 0.]\n",
            " [0. 0. 0. ... 0. 0. 0.]\n",
            " ...\n",
            " [0. 0. 0. ... 0. 0. 0.]\n",
            " [0. 0. 0. ... 0. 0. 0.]\n",
            " [0. 0. 0. ... 0. 0. 0.]]\n"
          ]
        }
      ]
    },
    {
      "cell_type": "code",
      "source": [
        "import numpy as np\n",
        "from sklearn.model_selection import train_test_split\n",
        "from sklearn import datasets\n",
        "import matplotlib.pyplot as plt\n",
        "def accuracy(y_true, y_pred):\n",
        "    accuracy = np.sum(y_true == y_pred) / len(y_true)\n",
        "    return accuracy\n",
        "\n",
        "clf = RandomForest(n_trees=20)\n",
        "clf.fit(X1_train, y1_train)\n",
        "predictions = clf.predict(X1_test)\n",
        "\n",
        "acc =  accuracy(predictions,y1_test)\n",
        "print(acc)"
      ],
      "metadata": {
        "colab": {
          "base_uri": "https://localhost:8080/"
        },
        "id": "ZC4v_vGtY2Ve",
        "outputId": "a17a7dbc-68df-4bb7-9bda-4a15fb6ec25e"
      },
      "execution_count": 24,
      "outputs": [
        {
          "output_type": "stream",
          "name": "stdout",
          "text": [
            "0.95\n"
          ]
        }
      ]
    },
    {
      "cell_type": "code",
      "source": [
        "from sklearn.metrics import confusion_matrix\n",
        "cm = confusion_matrix(y1_test, predictions)\n",
        "print(\"Confusion Matrix:\\n\", cm)\n",
        "\n",
        "# Plot confusion matrix\n",
        "plt.figure(figsize=(8, 6))\n",
        "sns.heatmap(cm, annot=True, fmt='d', cmap='Blues', xticklabels=['Negative', 'Positive'], yticklabels=['Negative', 'Positive'])\n",
        "plt.xlabel('Predicted')\n",
        "plt.ylabel('Actual')\n",
        "plt.title('Confusion Matrix')\n",
        "plt.show()"
      ],
      "metadata": {
        "colab": {
          "base_uri": "https://localhost:8080/",
          "height": 616
        },
        "id": "71eQMDfIeYog",
        "outputId": "96d888ca-68dd-4cf9-c3c5-05e53116c23c"
      },
      "execution_count": 25,
      "outputs": [
        {
          "output_type": "stream",
          "name": "stdout",
          "text": [
            "Confusion Matrix:\n",
            " [[44  4]\n",
            " [ 1 51]]\n"
          ]
        },
        {
          "output_type": "display_data",
          "data": {
            "text/plain": [
              "<Figure size 800x600 with 2 Axes>"
            ],
            "image/png": "[encoded data removed]"
          },
          "metadata": {}
        }
      ]
    },
    {
      "cell_type": "code",
      "source": [
        "print(predictions)"
      ],
      "metadata": {
        "colab": {
          "base_uri": "https://localhost:8080/"
        },
        "id": "svj1NntgZPkI",
        "outputId": "f2865c44-4df3-46db-c36e-f221b222b98c"
      },
      "execution_count": null,
      "outputs": [
        {
          "output_type": "stream",
          "name": "stdout",
          "text": [
            "[1 1 1 1 0 1 0 1 0 1 0 1 1 1 1 0 0 1 1 1 1 1 1 1 1 1 1 0 1 0 1 1 1 1 1 0 1\n",
            " 1 0 1 1 0 0 0 1 1 0 0 1 0 0 1 1 1 0 0 0 1 1 1 1 1 1 0 1 1 1 1 1 1 0 0 1 0\n",
            " 1 1 1 1 1 0 1 1 0 1 0 1 0 1 1 1 0 1 0 1 0 0 1 1 1 1]\n"
          ]
        }
      ]
    },
    {
      "cell_type": "markdown",
      "source": [
        "# **Manual Testing**"
      ],
      "metadata": {
        "id": "wey7pS2rlRBr"
      }
    },
    {
      "cell_type": "code",
      "source": [
        "def manual_forest_prediction():\n",
        "    # Taking input of any news in form of text\n",
        "    X = input(\"ENTER A NEWS FOR PREDICTION: \")\n",
        "    # Apply stemming to the input text\n",
        "    X_new = stemming(X)\n",
        "\n",
        "    # Vectorize the stemmed textvectorizer.fit(X)\n",
        "    X = vectorizer.transform([X_new])\n",
        "    X = X.toarray()\n",
        "\n",
        "    # Make the prediction\n",
        "    prediction = clf.predict(X)\n",
        "    if (prediction==0):\n",
        "     print('The news is Real '+prediction)\n",
        "    else:\n",
        "     print('The news is Fake',prediction)\n",
        "\n",
        "# Example usage\n",
        "manual_forest_prediction()"
      ],
      "metadata": {
        "colab": {
          "base_uri": "https://localhost:8080/"
        },
        "id": "l3UiJHWsbMVM",
        "outputId": "c2d89bfe-519d-4ed1-bc4d-c83dcce45ec6"
      },
      "execution_count": 27,
      "outputs": [
        {
          "output_type": "stream",
          "name": "stdout",
          "text": [
            "ENTER A NEWS FOR PREDICTION: dakota did not access versu american way\n",
            "The news is Fake [1]\n"
          ]
        }
      ]
    }
  ]
}