{
  "cells": [
    {
      "cell_type": "markdown",
      "metadata": {
        "id": "k399dHafvL5N"
      },
      "source": [
        "Importing the Dependencies"
      ]
    },
    {
      "cell_type": "code",
      "execution_count": 1,
      "metadata": {
        "id": "-fetC5yqkPVe"
      },
      "outputs": [],
      "source": [
        "import numpy as np\n",
        "import pandas as pd\n",
        "import re\n",
        "import matplotlib.pyplot as plt\n",
        "import seaborn as sns\n",
        "from nltk.corpus import stopwords\n",
        "from nltk.stem.porter import PorterStemmer\n",
        "from sklearn.feature_extraction.text import TfidfVectorizer\n",
        "from sklearn.model_selection import train_test_split\n",
        "from sklearn.linear_model import LogisticRegression\n",
        "from sklearn.metrics import accuracy_score"
      ]
    },
    {
      "cell_type": "code",
      "execution_count": 2,
      "metadata": {
        "colab": {
          "base_uri": "https://localhost:8080/"
        },
        "id": "1AC1YpmGwIDw",
        "outputId": "d726f6f2-2aae-4146-ae10-4776179d07d8"
      },
      "outputs": [
        {
          "name": "stderr",
          "output_type": "stream",
          "text": [
            "[nltk_data] Downloading package stopwords to\n",
            "[nltk_data]     C:\\Users\\CW\\AppData\\Roaming\\nltk_data...\n",
            "[nltk_data]   Package stopwords is already up-to-date!\n"
          ]
        },
        {
          "data": {
            "text/plain": [
              "True"
            ]
          },
          "execution_count": 2,
          "metadata": {},
          "output_type": "execute_result"
        }
      ],
      "source": [
        "import nltk\n",
        "nltk.download('stopwords')"
      ]
    },
    {
      "cell_type": "code",
      "execution_count": 3,
      "metadata": {
        "colab": {
          "base_uri": "https://localhost:8080/"
        },
        "id": "dxIOt3DowpUR",
        "outputId": "b3cf98ca-97a7-4635-aaa1-d6454a8759e0"
      },
      "outputs": [
        {
          "name": "stdout",
          "output_type": "stream",
          "text": [
            "['i', 'me', 'my', 'myself', 'we', 'our', 'ours', 'ourselves', 'you', \"you're\", \"you've\", \"you'll\", \"you'd\", 'your', 'yours', 'yourself', 'yourselves', 'he', 'him', 'his', 'himself', 'she', \"she's\", 'her', 'hers', 'herself', 'it', \"it's\", 'its', 'itself', 'they', 'them', 'their', 'theirs', 'themselves', 'what', 'which', 'who', 'whom', 'this', 'that', \"that'll\", 'these', 'those', 'am', 'is', 'are', 'was', 'were', 'be', 'been', 'being', 'have', 'has', 'had', 'having', 'do', 'does', 'did', 'doing', 'a', 'an', 'the', 'and', 'but', 'if', 'or', 'because', 'as', 'until', 'while', 'of', 'at', 'by', 'for', 'with', 'about', 'against', 'between', 'into', 'through', 'during', 'before', 'after', 'above', 'below', 'to', 'from', 'up', 'down', 'in', 'out', 'on', 'off', 'over', 'under', 'again', 'further', 'then', 'once', 'here', 'there', 'when', 'where', 'why', 'how', 'all', 'any', 'both', 'each', 'few', 'more', 'most', 'other', 'some', 'such', 'no', 'nor', 'not', 'only', 'own', 'same', 'so', 'than', 'too', 'very', 's', 't', 'can', 'will', 'just', 'don', \"don't\", 'should', \"should've\", 'now', 'd', 'll', 'm', 'o', 're', 've', 'y', 'ain', 'aren', \"aren't\", 'couldn', \"couldn't\", 'didn', \"didn't\", 'doesn', \"doesn't\", 'hadn', \"hadn't\", 'hasn', \"hasn't\", 'haven', \"haven't\", 'isn', \"isn't\", 'ma', 'mightn', \"mightn't\", 'mustn', \"mustn't\", 'needn', \"needn't\", 'shan', \"shan't\", 'shouldn', \"shouldn't\", 'wasn', \"wasn't\", 'weren', \"weren't\", 'won', \"won't\", 'wouldn', \"wouldn't\"]\n"
          ]
        }
      ],
      "source": [
        "# printing the stopwords in English\n",
        "print(stopwords.words('english'))"
      ]
    },
    {
      "cell_type": "markdown",
      "metadata": {
        "id": "NjeGd1CLw_6R"
      },
      "source": [
        "Data Pre-processing"
      ]
    },
    {
      "cell_type": "code",
      "execution_count": 4,
      "metadata": {
        "id": "nCGcpu_1wzLw"
      },
      "outputs": [],
      "source": [
        "# loading the dataset to a pandas DataFrame\n",
        "news_dataset = pd.read_csv('train.csv')"
      ]
    },
    {
      "cell_type": "code",
      "execution_count": 5,
      "metadata": {
        "colab": {
          "base_uri": "https://localhost:8080/"
        },
        "id": "aRgmbYSbxV4-",
        "outputId": "82bafe4f-211d-47b8-f4ed-a61b77370bc0"
      },
      "outputs": [
        {
          "data": {
            "text/plain": [
              "(20800, 5)"
            ]
          },
          "execution_count": 5,
          "metadata": {},
          "output_type": "execute_result"
        }
      ],
      "source": [
        "news_dataset.shape"
      ]
    },
    {
      "cell_type": "code",
      "execution_count": 6,
      "metadata": {
        "colab": {
          "base_uri": "https://localhost:8080/",
          "height": 198
        },
        "id": "jjJ1eB6RxZaS",
        "outputId": "9bb0c756-30e5-4919-a8e0-a688127261eb"
      },
      "outputs": [
        {
          "data": {
            "text/html": [
              "<div>\n",
              "<style scoped>\n",
              "    .dataframe tbody tr th:only-of-type {\n",
              "        vertical-align: middle;\n",
              "    }\n",
              "\n",
              "    .dataframe tbody tr th {\n",
              "        vertical-align: top;\n",
              "    }\n",
              "\n",
              "    .dataframe thead th {\n",
              "        text-align: right;\n",
              "    }\n",
              "</style>\n",
              "<table border=\"1\" class=\"dataframe\">\n",
              "  <thead>\n",
              "    <tr style=\"text-align: right;\">\n",
              "      <th></th>\n",
              "      <th>id</th>\n",
              "      <th>title</th>\n",
              "      <th>author</th>\n",
              "      <th>text</th>\n",
              "      <th>label</th>\n",
              "    </tr>\n",
              "  </thead>\n",
              "  <tbody>\n",
              "    <tr>\n",
              "      <th>0</th>\n",
              "      <td>0</td>\n",
              "      <td>House Dem Aide: We Didn’t Even See Comey’s Let...</td>\n",
              "      <td>Darrell Lucus</td>\n",
              "      <td>House Dem Aide: We Didn’t Even See Comey’s Let...</td>\n",
              "      <td>1</td>\n",
              "    </tr>\n",
              "    <tr>\n",
              "      <th>1</th>\n",
              "      <td>1</td>\n",
              "      <td>FLYNN: Hillary Clinton, Big Woman on Campus - ...</td>\n",
              "      <td>Daniel J. Flynn</td>\n",
              "      <td>Ever get the feeling your life circles the rou...</td>\n",
              "      <td>0</td>\n",
              "    </tr>\n",
              "    <tr>\n",
              "      <th>2</th>\n",
              "      <td>2</td>\n",
              "      <td>Why the Truth Might Get You Fired</td>\n",
              "      <td>Consortiumnews.com</td>\n",
              "      <td>Why the Truth Might Get You Fired October 29, ...</td>\n",
              "      <td>1</td>\n",
              "    </tr>\n",
              "    <tr>\n",
              "      <th>3</th>\n",
              "      <td>3</td>\n",
              "      <td>15 Civilians Killed In Single US Airstrike Hav...</td>\n",
              "      <td>Jessica Purkiss</td>\n",
              "      <td>Videos 15 Civilians Killed In Single US Airstr...</td>\n",
              "      <td>1</td>\n",
              "    </tr>\n",
              "    <tr>\n",
              "      <th>4</th>\n",
              "      <td>4</td>\n",
              "      <td>Iranian woman jailed for fictional unpublished...</td>\n",
              "      <td>Howard Portnoy</td>\n",
              "      <td>Print \\nAn Iranian woman has been sentenced to...</td>\n",
              "      <td>1</td>\n",
              "    </tr>\n",
              "  </tbody>\n",
              "</table>\n",
              "</div>"
            ],
            "text/plain": [
              "   id                                              title              author  \\\n",
              "0   0  House Dem Aide: We Didn’t Even See Comey’s Let...       Darrell Lucus   \n",
              "1   1  FLYNN: Hillary Clinton, Big Woman on Campus - ...     Daniel J. Flynn   \n",
              "2   2                  Why the Truth Might Get You Fired  Consortiumnews.com   \n",
              "3   3  15 Civilians Killed In Single US Airstrike Hav...     Jessica Purkiss   \n",
              "4   4  Iranian woman jailed for fictional unpublished...      Howard Portnoy   \n",
              "\n",
              "                                                text  label  \n",
              "0  House Dem Aide: We Didn’t Even See Comey’s Let...      1  \n",
              "1  Ever get the feeling your life circles the rou...      0  \n",
              "2  Why the Truth Might Get You Fired October 29, ...      1  \n",
              "3  Videos 15 Civilians Killed In Single US Airstr...      1  \n",
              "4  Print \\nAn Iranian woman has been sentenced to...      1  "
            ]
          },
          "execution_count": 6,
          "metadata": {},
          "output_type": "execute_result"
        }
      ],
      "source": [
        "# print the first 5 rows of the dataframe\n",
        "news_dataset.head()"
      ]
    },
    {
      "cell_type": "code",
      "execution_count": 7,
      "metadata": {},
      "outputs": [
        {
          "name": "stderr",
          "output_type": "stream",
          "text": [
            "C:\\Users\\CW\\AppData\\Local\\Temp\\ipykernel_7488\\1529447720.py:2: FutureWarning: \n",
            "\n",
            "Passing `palette` without assigning `hue` is deprecated and will be removed in v0.14.0. Assign the `x` variable to `hue` and set `legend=False` for the same effect.\n",
            "\n",
            "  sns.countplot(x='label', data = news_dataset, palette = 'mako',saturation = 1)\n"
          ]
        },
        {
          "data": {
            "image/png": "[encoded data removed]",
            "text/plain": [
              "<Figure size 600x400 with 1 Axes>"
            ]
          },
          "metadata": {},
          "output_type": "display_data"
        }
      ],
      "source": [
        "plt.figure(figsize = (6,4))\n",
        "sns.countplot(x='label', data = news_dataset, palette = 'mako',saturation = 1)\n",
        "plt.title(\"Real Vs. Fake News count\", fontsize = 12)\n",
        "plt.show()"
      ]
    },
    {
      "cell_type": "code",
      "execution_count": 8,
      "metadata": {
        "colab": {
          "base_uri": "https://localhost:8080/"
        },
        "id": "QYkDi4SwxlKi",
        "outputId": "204c4b11-2d09-4c3e-ff1f-4ee9d3c5bc92"
      },
      "outputs": [
        {
          "data": {
            "text/plain": [
              "id           0\n",
              "title      558\n",
              "author    1957\n",
              "text        39\n",
              "label        0\n",
              "dtype: int64"
            ]
          },
          "execution_count": 8,
          "metadata": {},
          "output_type": "execute_result"
        }
      ],
      "source": [
        "# counting the number of missing values in the dataset\n",
        "news_dataset.isnull().sum()"
      ]
    },
    {
      "cell_type": "code",
      "execution_count": 9,
      "metadata": {
        "id": "Mc04lQrhx57m"
      },
      "outputs": [],
      "source": [
        "# replacing the null values with empty string\n",
        "news_dataset = news_dataset.fillna('')"
      ]
    },
    {
      "cell_type": "code",
      "execution_count": 10,
      "metadata": {
        "id": "H7TZgHszygxj"
      },
      "outputs": [],
      "source": [
        "# merging the author name and news title\n",
        "news_dataset['content'] = news_dataset['author']+' '+news_dataset['title']"
      ]
    },
    {
      "cell_type": "code",
      "execution_count": 11,
      "metadata": {
        "colab": {
          "base_uri": "https://localhost:8080/"
        },
        "id": "cbF6GBBpzBey",
        "outputId": "f7776d4b-ab23-468c-8aa7-2ecbb67d7487"
      },
      "outputs": [
        {
          "name": "stdout",
          "output_type": "stream",
          "text": [
            "0        Darrell Lucus House Dem Aide: We Didn’t Even S...\n",
            "1        Daniel J. Flynn FLYNN: Hillary Clinton, Big Wo...\n",
            "2        Consortiumnews.com Why the Truth Might Get You...\n",
            "3        Jessica Purkiss 15 Civilians Killed In Single ...\n",
            "4        Howard Portnoy Iranian woman jailed for fictio...\n",
            "                               ...                        \n",
            "20795    Jerome Hudson Rapper T.I.: Trump a ’Poster Chi...\n",
            "20796    Benjamin Hoffman N.F.L. Playoffs: Schedule, Ma...\n",
            "20797    Michael J. de la Merced and Rachel Abrams Macy...\n",
            "20798    Alex Ansary NATO, Russia To Hold Parallel Exer...\n",
            "20799              David Swanson What Keeps the F-35 Alive\n",
            "Name: content, Length: 20800, dtype: object\n"
          ]
        }
      ],
      "source": [
        "print(news_dataset['content'])"
      ]
    },
    {
      "cell_type": "code",
      "execution_count": 12,
      "metadata": {
        "id": "LfBtAvLtzEo6"
      },
      "outputs": [],
      "source": [
        "# separating the data & label\n",
        "news_dataset = news_dataset.sample(n=500)\n",
        "X = news_dataset.drop(columns='label', axis=1)\n",
        "Y = news_dataset['label']"
      ]
    },
    {
      "cell_type": "code",
      "execution_count": 13,
      "metadata": {
        "colab": {
          "base_uri": "https://localhost:8080/"
        },
        "id": "oHPBr540zl1h",
        "outputId": "45a8b684-6d35-43d4-f24f-8a8a091b69ad"
      },
      "outputs": [
        {
          "name": "stdout",
          "output_type": "stream",
          "text": [
            "          id                                              title  \\\n",
            "20448  20448  Asteroid Warning System Found ‘City-Killer’ Ob...   \n",
            "10172  10172  #NoDAPL: Angry Man Fires 7 Shots Into Air Near...   \n",
            "11619  11619  A New Era of Internet Attacks Powered by Every...   \n",
            "4908    4908  Jesse Watters: Under Armour Should ’Rip Up’ St...   \n",
            "3531    3531  Studies Examine Racial Bias in Pollution, Deva...   \n",
            "...      ...                                                ...   \n",
            "14608  14608  Ted Cruz: Trump’s Cabinet Conservative ’All St...   \n",
            "11441  11441  House Republicans Unveil Bullet Points for Oba...   \n",
            "3598    3598  BLM Activist & Daughter of 'Can't Breathe' Vic...   \n",
            "9403    9403  3 Remedies From Medieval Europe To Heal The Co...   \n",
            "20300  20300  Kenya’s Collective ‘Uh-Oh’: Another Election I...   \n",
            "\n",
            "                                    author  \\\n",
            "20448                          Alex Ansary   \n",
            "10172              Truth Broadcast Network   \n",
            "11619  David E. Sanger and Nicole Perlroth   \n",
            "4908                           Trent Baker   \n",
            "3531                           Henry Wolff   \n",
            "...                                    ...   \n",
            "14608                       Joel B. Pollak   \n",
            "11441                           Sean Moran   \n",
            "3598                        Virginia Kruta   \n",
            "9403                           Chris Black   \n",
            "20300                    Jeffrey Gettleman   \n",
            "\n",
            "                                                    text  \\\n",
            "20448  Asteroid Warning System Found ‘City-Killer’ Ob...   \n",
            "10172  16 mins ago 2 Views 0 Comments 0 Likes   New Z...   \n",
            "11619  WASHINGTON  —   When surveillance cameras bega...   \n",
            "4908   .@jessebwatters: If I were in charge at Under ...   \n",
            "3531   Studies Examine Racial Bias in Pollution, Deva...   \n",
            "...                                                  ...   \n",
            "14608  Sen. Ted Cruz ( ) commended   Donald Trump’s c...   \n",
            "11441  House Republican leaders previewed parts of an...   \n",
            "3598   Getty - Andrew Burton \\nSince the 2014 NYPD of...   \n",
            "9403   Chris Black November 9, 2016 3 Remedies From M...   \n",
            "20300  NAIROBI, Kenya  —   By 9 a. m. on Monday, clou...   \n",
            "\n",
            "                                                 content  \n",
            "20448  Alex Ansary Asteroid Warning System Found ‘Cit...  \n",
            "10172  Truth Broadcast Network #NoDAPL: Angry Man Fir...  \n",
            "11619  David E. Sanger and Nicole Perlroth A New Era ...  \n",
            "4908   Trent Baker Jesse Watters: Under Armour Should...  \n",
            "3531   Henry Wolff Studies Examine Racial Bias in Pol...  \n",
            "...                                                  ...  \n",
            "14608  Joel B. Pollak Ted Cruz: Trump’s Cabinet Conse...  \n",
            "11441  Sean Moran House Republicans Unveil Bullet Poi...  \n",
            "3598   Virginia Kruta BLM Activist & Daughter of 'Can...  \n",
            "9403   Chris Black 3 Remedies From Medieval Europe To...  \n",
            "20300  Jeffrey Gettleman Kenya’s Collective ‘Uh-Oh’: ...  \n",
            "\n",
            "[500 rows x 5 columns]\n",
            "20448    1\n",
            "10172    1\n",
            "11619    0\n",
            "4908     0\n",
            "3531     1\n",
            "        ..\n",
            "14608    0\n",
            "11441    0\n",
            "3598     1\n",
            "9403     1\n",
            "20300    0\n",
            "Name: label, Length: 500, dtype: int64\n"
          ]
        }
      ],
      "source": [
        "print(X)\n",
        "print(Y)"
      ]
    },
    {
      "cell_type": "markdown",
      "metadata": {
        "id": "0NwFcpqcz37a"
      },
      "source": [
        "Stemming:\n",
        "\n",
        "Stemming is the process of reducing a word to its Root word\n",
        "\n",
        "example:\n",
        "actor, actress, acting --> act"
      ]
    },
    {
      "cell_type": "code",
      "execution_count": 14,
      "metadata": {
        "id": "Ga_DaZxhzoWM"
      },
      "outputs": [],
      "source": [
        "port_stem = PorterStemmer()"
      ]
    },
    {
      "cell_type": "code",
      "execution_count": 15,
      "metadata": {
        "id": "zY-n0dCh0e-y"
      },
      "outputs": [],
      "source": [
        "def stemming(content):\n",
        "    stemmed_content = re.sub('[^a-zA-Z]',' ',content)\n",
        "    stemmed_content = stemmed_content.lower()\n",
        "    stemmed_content = stemmed_content.split()\n",
        "    stemmed_content = [port_stem.stem(word) for word in stemmed_content if not word in stopwords.words('english')]\n",
        "    stemmed_content = ' '.join(stemmed_content)\n",
        "    return stemmed_content"
      ]
    },
    {
      "cell_type": "code",
      "execution_count": 16,
      "metadata": {
        "id": "MBUIk4c94yTL"
      },
      "outputs": [],
      "source": [
        "news_dataset['content'] = news_dataset['content'].apply(stemming)"
      ]
    },
    {
      "cell_type": "code",
      "execution_count": 17,
      "metadata": {
        "colab": {
          "base_uri": "https://localhost:8080/"
        },
        "id": "xmwK-zyO5Stg",
        "outputId": "61de12b9-b9fa-486f-8c91-a5aec48d7fe6"
      },
      "outputs": [
        {
          "name": "stdout",
          "output_type": "stream",
          "text": [
            "20448    alex ansari asteroid warn system found citi ki...\n",
            "10172    truth broadcast network nodapl angri man fire ...\n",
            "11619    david e sanger nicol perlroth new era internet...\n",
            "4908     trent baker jess watter armour rip steph curri...\n",
            "3531     henri wolff studi examin racial bia pollut dev...\n",
            "                               ...                        \n",
            "14608    joel b pollak ted cruz trump cabinet conserv s...\n",
            "11441    sean moran hous republican unveil bullet point...\n",
            "3598     virginia kruta blm activist daughter breath vi...\n",
            "9403       chri black remedi mediev europ heal common cold\n",
            "20300    jeffrey gettleman kenya collect uh oh anoth el...\n",
            "Name: content, Length: 500, dtype: object\n"
          ]
        }
      ],
      "source": [
        "print(news_dataset['content'])"
      ]
    },
    {
      "cell_type": "code",
      "execution_count": 18,
      "metadata": {
        "id": "5ZIidnta5k5h"
      },
      "outputs": [],
      "source": [
        "#separating the data and label\n",
        "X = news_dataset['content'].values\n",
        "Y = news_dataset['label'].values"
      ]
    },
    {
      "cell_type": "code",
      "execution_count": 19,
      "metadata": {
        "colab": {
          "base_uri": "https://localhost:8080/"
        },
        "id": "3nA_SBZX6BeH",
        "outputId": "3990e651-a18a-4191-c361-6854aa327caa"
      },
      "outputs": [
        {
          "name": "stdout",
          "output_type": "stream",
          "text": [
            "['alex ansari asteroid warn system found citi killer object head toward earth'\n",
            " 'truth broadcast network nodapl angri man fire shot air near stand rock water protector'\n",
            " 'david e sanger nicol perlroth new era internet attack power everyday devic new york time'\n",
            " 'trent baker jess watter armour rip steph curri contract critic compani trump support breitbart'\n",
            " 'henri wolff studi examin racial bia pollut devalu black commun'\n",
            " 'activist post voter arkansa north dakota legal medic marijuana despit feder prohibit'\n",
            " 'robert j marlow nba coach gregg popovich still trigger trump win breitbart'\n",
            " 'angel nyc shot reportedli fire arrest dakota access pipelin protest'\n",
            " 'joel b pollak california may allow communist work openli state govern breitbart'\n",
            " 'penni starr ny time haberman report bannon neuter fake news'\n",
            " 'steve sailer nyt talent report scrambl match stori intern often call narr unz review'\n",
            " 'last day john kirbi hapless state rep get own throw towel video russia news'\n",
            " 'mike mcphate california today million tech money bay area art new york time'\n",
            " 'queen get reimburs brexit despit treasuri bn financi black hole'\n",
            " 'eric odom dear america let unit flood nation optim'\n",
            " 'arnaldo rodger st loui rank low list best citi veteran'\n",
            " 'jame p pinkerton pinkerton money life fight obamacar vs fight medic cure'\n",
            " 'pam key feinstein trump split america apart blizzard execut order breitbart'\n",
            " 'xcathdra scientist say weird signal space probabl alien'\n",
            " 'gillian world crisi ignit mass global awaken'\n",
            " 'andrew anglin franceinfo chang text websit year old ethiopian refuge tear'\n",
            " 'jame petra us public opinion speak anti militar elector vote warmong'\n",
            " 'cartel chronicl cartel robberi continu along mexican border state highway'\n",
            " 'breitbart news breitbart news daili trump saudi arabia breitbart'\n",
            " 'hiroko tabuchi stake trump propos e p cut new york time'\n",
            " 'rod nordland jawad sukhanyar afghan offici say least die attack hospit new york time'\n",
            " 'carl herman interview socrat anoth day life empir near endgam fool ever hope chang'\n",
            " 'lela moor lindsey underwood confirm imag u new york time'\n",
            " 'mac slavo trump lose grab musket former congressman readi go full revolut'\n",
            " 'nicola clark cockpit record retriev egyptair flight investig new york time'\n",
            " 'chri buckley china suggest place weapon disput spratli island south china sea new york time'\n",
            " 'paul craig robert american peopl defeat oligarchi rule'\n",
            " 'kevin queali margot sanger katz confus quinoa nutrit american new york time'\n",
            " 'charli spier sean spicer trump famili made clear think kathi griffin'\n",
            " 'simon romero riot drug gang brazil prison leav least dead new york time'\n",
            " 'jason easley doj complaint file fbi director jame comey interf presidenti elect'\n",
            " 'sydney ember new york time co declin print advertis temper digit gain new york time'\n",
            " 'aaron kesel wikileak email show clinton collus state depart doj'\n",
            " 'russian theatr cancel jesu christ superstar blasphemi accus'\n",
            " 'elizabeth maddock dillon long hamilton brouhaha theater anyth polit new york time'\n",
            " 'penni starr mark levin first day measur stick congress breitbart'\n",
            " 'david mcaninch gasconi delici corner franc new york time'\n",
            " 'choe sang hun north korea fire ballist missil challeng trump new york time'\n",
            " 'conserv millenni john podesta hillari act like retard smell like boil cabbag urin fart truth'\n",
            " 'vanessa friedman riccardo tisci leav givenchi mean new york time'\n",
            " 'michael shear trump take gambl cut program base reli new york time'\n",
            " 'mike mcintir easi target taken trump brand new york time'\n",
            " 'eddi lavin product make men grow breast get cancer prostat liver'\n",
            " 'keith bradsher trade stanc toward china clinton trump signal chill new york time'\n",
            " 'yve smith state local tax dollar paid privat equiti firm tpg elton john apper'\n",
            " 'trent baker bronco wr demaryiu thoma f tom bradi breitbart'\n",
            " 'nate church legend zelda breath wild review creativ master open world adventur breitbart'\n",
            " 'daniel greenfield hillari clinton seek even unfit secretari state'\n",
            " 'joel b pollak blue state blue trump first day histor perspect breitbart'\n",
            " 'amanda hess look smiley moma acquir origin emoji new york time'\n",
            " 'joanna klein lake turn pink australia one new york time'\n",
            " 'ian hanchett penc bossert bannon demot continu play import polici role breitbart'\n",
            " 'activist post johnson johnson lose yet anoth multimillion dollar case babi powder'\n",
            " 'kenneth chang daniel victor u realli get astronaut mar new york time'\n",
            " 'john schwartz exxon mobil fraud inquiri said focu futur past new york time'\n",
            " 'alan rappeport donald trump interrupt call flint pastor cut nervou mess new york time'\n",
            " 'declan walsh abroad america deciph presidenti race new york time'\n",
            " 'nichola fando trump call press dishonest utter falsehood new york time'\n",
            " 'panda photo contest celebr sino belgian tie'\n",
            " 'p pb stand plutocrat pentagon'\n",
            " 'eisegesi obamacar meant fail order usher govern run socialist health care'\n",
            " 'trent baker trump must realiz full potenti women economi breitbart'\n",
            " 'gillian proof obamacar design fail video'\n",
            " 'choe sang hun blow prosecutor south korean court block arrest samsung group leader new york time'\n",
            " 'nicol higman arbi go sell venison sandwich state call risk worth take'\n",
            " 'luke' 'activistpost want injustic distribut evenli rather'\n",
            " 'mike mcphate california today captur firefal yosemit new york time'\n",
            " 'max fisher trump taiwan china controversi explain new york time'\n",
            " 'nick wingfield mike isaac kati benner googl facebook take aim fake news site new york time'\n",
            " 'ir n reitera que el mundo internacion debe respetar al contenido de jcpoa us viewer'\n",
            " 'ben protess year later jon corzin may avoid trial million settlement new york time'\n",
            " 'virgil virgil left whip climat violenc prime target donald trump'\n",
            " 'king world news investor intellig say key turnaround gold silver'\n",
            " 'laura holson donald trump jr kind trump new york time'\n",
            " 'arnold monteverd norepli blogger com hiv cure almost complet scientist remov viru dna live tissu'\n",
            " 'tyler durden hillari clear fbi fold inform'\n",
            " 'franc martel fbi found jihadi content ft lauderdal shooter social media'\n",
            " 'carol adl wild buffalo appear site stand rock protest'\n",
            " 'ok watch mari berri challeng great british bake contest make victoria beckham sandwich'\n",
            " 'western oper baghdadi announc arriv terrorist around mosul russia news'\n",
            " 'thoma fuller loneli black san francisco new york time'\n",
            " 'ben kew hous democrat conceal elect autopsi public breitbart'\n",
            " 'richard p rez pe justic nightmar year texa prison convict void new york time'\n",
            " 'rowan wolf doubt machin insid koch brother war climat scienc'\n",
            " 'israel shamir erdogan consolid power'\n",
            " 'adam liptak suprem court vacat ex virginia governor graft convict new york time'\n",
            " 'ashwin kumar newshour anchor dubsmash arnab goswami voic combat sink trp'\n",
            " 'wmw admin furiou parent slam damag bbc sex chang show aim six year old'\n",
            " 'j e dyer african migrant venic reject pasta demand design cloth' 'teel'\n",
            " 'richard c paddock rodrigo dutert push split u counter philippin deep tie new york time'\n",
            " 'cartel chronicl lo zeta cartel leader arrest mexican border state'\n",
            " 'norepli blogger com der postillon brige wrestler berlegen wann sie tim wies endlich sagen sollen dass all abgesprochen ist'\n",
            " 'headli westerfield friday fox folli megyn murdoch money'\n",
            " 'starkman nostradamu predict trump victori apocalyps'\n",
            " 'pcr michel obama promot lewd rapper'\n",
            " 'nick corasan donald trump refus endors paul ryan john mccain new york time'\n",
            " 'breitbart news georg amal clooney welcom twin boy girl'\n",
            " 'thoma erdbrink clifford krauss iran race clinch oil deal donald trump take offic new york time'\n",
            " 'katherin rodriguez man accus use armi medic kit remov transgend testicl'\n",
            " 'bill pennington u g regret distract rule dustin johnson new york time'\n",
            " 'peopl cube news'\n",
            " 'michael cbd infus cannabi milk sooth anxieti hit store soon'\n",
            " 'jack montgomeri polic constabl armi veteran keith palmer everi inch hero'\n",
            " 'david e sanger iranian spi saga end year later execut new york time'\n",
            " 'venezuela armi save nation chao'\n",
            " 'jason ditz us offici see link trump russia'\n",
            " 'sausag machin attack clone translat chines back english make hilari subtitl'\n",
            " 'jeff poor trump mother bomb know send messag north korea breitbart'\n",
            " 'breitbart news report tamron hall leav nbc news megyn kelli breitbart'\n",
            " 'pam key jake tapper tom price battl medicaid broken promis breitbart'\n",
            " 'brianna acuesta thousand organ beauti product found contain ban chemic'\n",
            " 'john l dorman damien chazel la la land director california allur new york time'\n",
            " 'thefinereport com hillari laugh factori part loser'\n",
            " 'author cia brainwash mayhem full swing eu new eastern outlook'\n",
            " 'michael krieger watch world seri big news broke'\n",
            " 'rt en espa ol un exfutbolista brasil pasar nuev os en prisi n por transportar kilo de marihuana'\n",
            " 'henri wolff go back claim home kansa lawmak tell protest'\n",
            " 'elizabeth paton chatsworth hous tale five centuri new york time'\n",
            " 'trent baker pelosi gop anti woman agenda lgbt agenda breitbart' 'xl'\n",
            " 'outrag may real idea brexit goldman sach speech leak'\n",
            " 'admin bomsbhel clinton fixer prove hillari secret affair end murder lover'\n",
            " 'mind unleash today rise beauti short film like love poem heart soul'\n",
            " 'chriss w street orovil dam spillway wide open heatwav may caus rapid snowmelt breitbart'\n",
            " 'jack hadfield washington post correct racist anti semit smear milo breitbart'\n",
            " 'trent baker ge ceo jeff immelt recal trump hole one seen magic breitbart'\n",
            " 'michael schmidt japanes leader offer condol visit pearl harbor new york time'\n",
            " 'peter baker isabel kershner jare kushner cast potenti player israel littl known new york time'\n",
            " 'drrichard' 'trump mock biden dare take behind gym'\n",
            " 'cara buckley golden globe afterparti star applaud meryl streep new york time'\n",
            " ''\n",
            " 'andrew e kramer assassin kill ukrain rebel chief whose order new york time'\n",
            " 'joe cochran runoff like jakarta elect seen test toler indonesia new york time'\n",
            " 'gordon duff senior editor admir kuznetsov carrier group save syria us cruis missil strike'\n",
            " 'tom ciccotta sen tim scott destroy twitter user call n word breitbart'\n",
            " 'lu staff f cking insan wikileak email show team clinton go ballist privat email'\n",
            " 'gpd western firm prime cash syria oil ga frontier' 'jame richard tyrer'\n",
            " 'doug mill chang w lee karen crous golden reaction simon manuel histor moment look like new york time'\n",
            " 'karen crous rori mcilroy say attend olymp zika concern new york time'\n",
            " 'top trump twitter poster ban'\n",
            " 'hiroko tabuchi clifford krauss new debat price risk climat chang new york time'\n",
            " 'claudia dreifu neanderth leav modern human surpris new york time'\n",
            " 'daisuk wakabayashi rail cross warn sought map app new york time'\n",
            " 'dylan gwinn espn pitch ncaa bracket show featur presid trump make pick breitbart'\n",
            " 'doc googl trend reveal hillari'\n",
            " 'christoph mele nasa fema rehears unthink asteroid strike lo angel new york time'\n",
            " '' 'arnaldo rodger veteran underrepres congress'\n",
            " 'tom ciccotta univers georgia socialist group polic investig call behead republican breitbart'\n",
            " 'john koblin stephen colbert final found elus groov new york time'\n",
            " 'bob price nm state capit thumb nose trump sanctuari citi threat'\n",
            " 'voteforno comment link voteforno'\n",
            " 'tom tancredo tancredo iowa congressman steve king target globalist assassin breitbart'\n",
            " 'ariana first ever hindu woman elect congress'\n",
            " 'richard p rez pe jack heali jennif medina shoot scare show nation quick fear worst new york time'\n",
            " 'eco activist filmmak josh fox oppos polit revolut corpor parti'\n",
            " 'matt flegenheim earthquak aftershock elect new york time'\n",
            " 'charl isherwood must see show new york month new york time'\n",
            " 'poll percent voter say elect could stolen'\n",
            " 'isabel kershner israel buri soldier mourn mar discord new york time'\n",
            " 'saker russian media love campaign demon putin'\n",
            " 'michael schmidt nick corasan matt flegenheim inaugur protest polic clash washington street new york time'\n",
            " 'neil w mccabe sen rand paul oppos trump airstrik syria unit state attack breitbart'\n",
            " 'guy pill hour chat hand girl told talk hand wundergroundmus com'\n",
            " 'ok woman photobomb rat turn rat woman' 'gari north invent chang live'\n",
            " 'admin explos assang pilger interview us elect expect riot hillari win'\n",
            " 'lizett alvarez corner everglad way life ebb new york time'\n",
            " 'breitbart tech nier automata glori mankind trailer breitbart'\n",
            " 'brandon turbevil u state dept say assad prevent peac syria u proxi war nusra caus worri'\n",
            " 'pam key kellyann conway blast hater sexist critic breitbart'\n",
            " 'isabel kershner israel parliament draw line short hemlin new york time'\n",
            " 'john hayward chines govern concern tough talk trump cabinet breitbart'\n",
            " 'arnold monteverd norepli blogger com putin begin ban clinton cabal russia'\n",
            " 'sausag machin pokemon go player inadvert stop peopl commit suicid japan'\n",
            " 'dikran arakelian norepli blogger com hillari clinton email must destroy syria israel'\n",
            " 'arnold monteverd norepli blogger com secret home super secret societi'\n",
            " 'donna rachel edmund watch delingpol take apart nation trust politicis britain heritag'\n",
            " 'bob reinhard earthquak strike japan tsunami alert issu guardian liberti voic'\n",
            " 'edjenn media go insan trump everi way trust'\n",
            " 'ann carrn new car expens typic famili studi find new york time'\n",
            " 'kill zombi argument comment brilliant takedown femin old man kill zombi argument'\n",
            " 'mac slavo assassin attempt donald trump rush stage reno secret servic protest flash gun'\n",
            " 'virginia hale norway move toward third gender option passport breitbart'\n",
            " 'brett cole john key new zealand prime minist say step new york time'\n",
            " 'nichola casey colombia sign peac agreement farc decad war new york time'\n",
            " 'four simpl reason global elit hate russia globalintelhub'\n",
            " 'life know take photoshop bald donald trump stretch face wide nobodi recogn'\n",
            " 'ami harmon activist rush save govern scienc data find new york time'\n",
            " 'lizett alvarez jess bidgood mitch smith sabrina tavernis today act like politician voter reaction trump speech new york time'\n",
            " 'frank litski ed templ track coach produc olympian nation titl die new york time'\n",
            " 'peter baker matthew rosenberg trump tri deflect russia scrutini cite crook scheme obama new york time'\n",
            " 'theresa crous surviv pharmaci way use ginger health'\n",
            " 'tim arango rick gladston turkey unrest see extrem version post america new york time'\n",
            " 'charli nash bill gate call robot tax offset job lost autom breitbart'\n",
            " 'daniel e slotnik toni rosato saturday night live cast die new york time'\n",
            " 'doc break wikileak bombshel reveal collus clinton campaign doj peter kadzik'\n",
            " 'kashai hyperloop one'\n",
            " 'dr patrick slatteri clinton polici syria would lead ww iii trump'\n",
            " 'susann craig jo becker jess drucker jare kushner trump law advis chase chines deal new york time'\n",
            " 'european union time leak document reveal expans soro fund manipul elect'\n",
            " 'ben kew herd stamped wild boar kill three islam state jihadist breitbart'\n",
            " 'andrew ross sorkin trump take corpor tax rate could look much like obama new york time'\n",
            " 'john w whitehead path total dictatorship america shadow govern silent coup'\n",
            " 'patriotris video compil pundit politician insist donald trump cannot win elect'\n",
            " 'marc santora william k rashbaum al baker adam goldman manhattan bomb provid trove clue f b question peopl new york time'\n",
            " 'gillian usa elect' 'elect endgam vote'\n",
            " 'zach schonbrun south carolina stun baylor reach round eight new york time'\n",
            " 'andrea kannapel sandra stevenson charlott yahoo u presidenti race thursday even brief new york time'\n",
            " 'ivan nechepurenko russia mount search plane crash say terror unlik new york time'\n",
            " 'charli spier trump china go solv north korea'\n",
            " 'tom ciccotta studi extrem protest tactic reduc support caus breitbart'\n",
            " 'ell met en fuit un braqueur en lui jetant de invendu de livr du gorafi le gorafi'\n",
            " 'deborah danan trump natur talent kushner broker mideast peac'\n",
            " 'gortex imag reveal crash schiaparelli mar lander'\n",
            " 'katherin rodriguez studi frack contamin groundwat breitbart'\n",
            " 'jennif miller find common ground interfaith marriag new york time'\n",
            " 'administr wikileak hillari admit clinton foundat donor fund isi'\n",
            " 'morgana le fay'\n",
            " 'kim smith break clinton fixer reveal sick smear hillari order monica'\n",
            " 'ken klukowski suprem court hear case fatal border shoot breitbart'\n",
            " 'norepli blogger com der postillon radikal vorhaben die donald trump sofort nach amtsantritt durchsetzen wird'\n",
            " 'edwin mora spicer truth report trump restructur u spi agenc'\n",
            " 'milli weaver daughter holocaust survivor run senat support nd amend'\n",
            " 'russian govern realiti disconnect'\n",
            " 'christina sarich flawless zen lesson gratitud'\n",
            " 'voltairenet org polityka zagraniczna usa thierri meyssan'\n",
            " 'charli spier donald trump invit conserv media white hous exclus brief breitbart'\n",
            " 'johnsmith'\n",
            " 'usapoliticsnow admin break florida elect employe caught fake stolen absente ballot massiv voter fraud scheme usapoliticsnow'\n",
            " 'raheem kassam kellyann conway prais london assembl intl women day'\n",
            " 'ben kew five juvenil charg throw object trump motorcad breitbart'\n",
            " 'beforeitsnew com expert speechless numer peopl miracul reliev seriou ill fatal diseas must see video altern'\n",
            " 'farag act go trump nearest domino'\n",
            " 'maggi haberman ashley parker roger ail advis donald trump ahead presidenti debat new york time'\n",
            " 'us rule daesh involv afghanistan offens'\n",
            " 'kenneth chang spacex launch rocket carri space station cargo new york time'\n",
            " 'patrick heali donald trump say surpris meryl streep golden globe speech new york time'\n",
            " 'mark landler peter baker david e sanger trump embrac pillar obama foreign polici new york time'\n",
            " 'franc robl timothi william million donat go directli orlando kin survivor new york time'\n",
            " 'admin get readi civil unrest survey find american concern elect violenc'\n",
            " 'robert rich bad news jackson famili woman leak star sick k sex secret'\n",
            " 'dikran arakelian norepli blogger com golden eagl land stand rock allow water protector touch'\n",
            " 'thoma sowel elect day pain choic'\n",
            " 'michael schmidt charli savag eric fan confirm secretari armi new york time'\n",
            " 'nwo hatr like concentr camp polic mark dapl protest number lock dog kennel'\n",
            " 'thefitgirl interest fun fact stethoscop'\n",
            " 'carol adl earthquak destroy ancient build itali'\n",
            " 'planet free obamacar architect fix aca avoid rate hike law work design need larger mandat penalti'\n",
            " 'anonym'\n",
            " 'king world news look market see massiv waterfal declin chaotic global trade continu'\n",
            " 'jimmecricket'\n",
            " 'dr patrick slatteri could steal trump win next tuesday elector colleg slatteri shoaf'\n",
            " 'malaysia dump us chines naval vessel'\n",
            " 'mujib mashal jawad sukhanyar coordin bomb kabul kill senior afghan offici defens ministri new york time'\n",
            " 'jon parel bless curs life bon iver new york time'\n",
            " 'robert owe ever meet someon felt eerili familiar one man stori'\n",
            " 'editor putin differ clinton trump'\n",
            " 'jane e brodi turn neg thinker posit one new york time'\n",
            " 'edjenn vote sign point trump victori florida'\n",
            " 'gretchen reynold deep breath may keep us calm new york time'\n",
            " 'charl mcdermid berlin russia narendra modi morn brief new york time' ''\n",
            " 'warner todd huston anthem protest colin kaepernick free agenc goe nowher sport writer search answer breitbart'\n",
            " 'fernando costilla cascot de desidia en una jornada marrullera f rtil'\n",
            " 'robin pogrebin old master relev new york time'\n",
            " 'joe coscarelli john mayer say outtak new york time'\n",
            " 'dudleydooright look like someon think democrat ohio full manur'\n",
            " 'american refuge crash canadian immigr web site'\n",
            " 'yve smith old democrat wall street plu ident polit playbook dead'\n",
            " 'activist post critic decri surveil canadian journalist part horrifi cultur shift'\n",
            " 'b j sabri read jewish zionist control unit state interview franci boyl jame petra kim petersen'\n",
            " 'andrew anglin fashwav friday endgam'\n",
            " 'michael paulson david gell hamilton inc path billion dollar broadway show new york time'\n",
            " 'lisa tanner leaki cellar need know'\n",
            " 'michael snyder barack obama delay suspend elect hillari forc new fbi email investig'\n",
            " 'xuenchen erica garner blast clinton campaign discuss staffer eric garner'\n",
            " 'poke staff man dress th centuri fox shitti flute meme halloween'\n",
            " 'eddi lavin video shock entir world' 'dairi'\n",
            " 'nato declar full combat readi conflict russia'\n",
            " 'lindsay hayward assang confirm depart justic told hillari delet evid conserv daili post'\n",
            " 'breitbart news wapo steve bannon navi servic carter iran hostag crisi shape polit'\n",
            " 'world market ralli glee hillari email dismiss'\n",
            " 'pam key matti noth keep awak night keep peopl awak night breitbart'\n",
            " 'maren' 'admin strang messag come star probabl alien scientist say'\n",
            " 'glen ford hillari big tent obama grand bargain steroid'\n",
            " 'jeff poor cnn misspel chief chyron segment rip trump covfef breitbart'\n",
            " 'saker putin scare cia replac microsoft russian product subtitl'\n",
            " 'ryan banist could latest solar storm warn bring end civil know'\n",
            " 'matt apuzzo michael schmidt adam goldman email warrant new action hillari clinton f b director say new york time'\n",
            " 'ben bowl accord colleg prof cano symbol cultur appropri'\n",
            " 'pamela geller wikileak bill clinton boast hillari work relationship muslim brotherhood'\n",
            " 'sean adl tabatabai scientist told remain silent glyphos cancer find'\n",
            " 'nick wingfield mike isaac pok mon go bring augment realiti mass audienc new york time'\n",
            " 'henri wolff cano reek genocid theft white privileg say canadian professor'\n",
            " 'dan riehl immigr expert krikorian white hous surrend budget deal betray peopl support trump'\n",
            " 'iraqi christian return char church captur isi'\n",
            " 'gpd gener soleimani mosul oper room cut isi retreat syria'\n",
            " 'ami goodrich know cinnamon boost intellig'\n",
            " 'david g brown feminist attack elderli gay man say older women wear yoga pant'\n",
            " 'madonna say give blowjob anyon vote hillari clinton video'\n",
            " 'heather callaghan smart meter case testimoni pennsylvania public util commiss one want acknowledg emf damag'\n",
            " 'brian x chen fend hijack home devic new york time'\n",
            " 'mike youtub reinstat milo livestream morn event breitbart'\n",
            " 'ok pictur three dad feed babi funni cute'\n",
            " 'j biersdorf keep old phone aliv work new york time'\n",
            " 'kati benner airbnb end fight new york citi fine new york time'\n",
            " 'v saxena want proof voter fraud look happen chicago'\n",
            " 'natali dailey watch trump goe full dictat say cancel elect'\n",
            " 'jeddah airport target ansar allah missil set fire'\n",
            " 'ian hanchett gop rep jordan replac plan obamacar differ form tell voter would breitbart'\n",
            " 'patricia cohen presid obama hand strong economi successor new york time'\n",
            " 'michael cutler clinton web decept'\n",
            " 'jupp comm tout le mond test la polic'\n",
            " 'vandita truth america want know war crime syria'\n",
            " 'dr susan berri plan parenthood pinkout turn whole internet plan parenthood pink'\n",
            " 'mikael thalen email got john podesta hack'\n",
            " 'noah gilbert ben sisario led zeppelin steal stairway heaven juri say new york time'\n",
            " 'jon caramanica kim kardashian west kany west reignit feud taylor swift new york time'\n",
            " 'bob price congress mull bill strip fund sanctuari citi'\n",
            " 'bob price michael brown father ferguson riot ask'\n",
            " 'landon thoma jr credit suiss boss face revolt banker strategi shift new york time'\n",
            " 'jonathan white'\n",
            " 'ben kew al pacino play penn state coach joe paterno hbo movi jerri sanduski sex abus scandal'\n",
            " 'lela moor sona patel let woman brave statement peel blinder new york time'\n",
            " 'john hayward peter schweizer busi deal presid trump son law worrisom monitor great intens'\n",
            " 'mujib mashal close afghan pakistani border becom humanitarian crisi new york time'\n",
            " 'guest trump gift farag idaho'\n",
            " 'andrew bradford speaker trump ralli say hope hillari clinton die fieri car crash video'\n",
            " 'luca nolan cnn advertis job list full time fake news report'\n",
            " 'dina kraft earli book prais hitler may written hitler new york time'\n",
            " 'cnn technician rush empti wolf blitzer urin tank midway elect coverag onion america finest news sourc'\n",
            " 'stevew gaiaport interweb gaia energet strengthen'\n",
            " 'onan coca fbi find ten thousand new clinton email dod find'\n",
            " 'robert parri weed warmong'\n",
            " 'ian hanchett abc manchest attack like inflam anti islam sentiment breitbart'\n",
            " 'denis gradi gene test identifi breast cancer patient skip chemotherapi studi say new york time'\n",
            " 'daniel j flynn studi st loui lose job minimum wage increas breitbart'\n",
            " 'harvey araton aaron krickstein report cover open bring closur new york time'\n",
            " 'matthew rosenberg maggi haberman eric schmitt trump fire advis son transit spread fake news new york time'\n",
            " 'hugi celtic cross discov drone grow irish forest'\n",
            " 'got brexit plan call f k suggest europ' 'sucker mc blame everyth'\n",
            " 'luca nolan buzz aldrin retir intern space station fund travel mar breitbart'\n",
            " 'patricia cohen itt educ servic close campus new york time'\n",
            " 'juli hirschfeld davi use air quot white hous walk back wiretap talk new york time'\n",
            " 'michael flint suffer nestl plan dramat expans water privat michigan'\n",
            " 'amanda ripley teenag defianc manipul good new york time'\n",
            " 'campbel robertson roy moor alabama chief justic suspend gay marriag order new york time'\n",
            " 'warner todd huston kellyann conway obama russia sanction meant box donald trump breitbart'\n",
            " 'c e dyer teacher show field trip drunk get grand settlement'\n",
            " 'washingtonsblog first brexit trump next'\n",
            " 'martist mike penc say shalom israel republican'\n",
            " 'selwyn duke say fed michigan town tell obama muslim migrant us'\n",
            " 'blanch benson trump get dump instagram supermodel gisel b ndchen video'\n",
            " 'russian govern realiti disconnect paul craig robert'\n",
            " 'doreen carvaj alison smale nazi art loot return nazi new york time'\n",
            " 'monica davey mani chicago south side obama farewel person new york time'\n",
            " 'adam nagourney henri fountain california forefront climat fight back trump new york time'\n",
            " 'ami moreno break mike penc demand fbi releas email elect day truthfe'\n",
            " 'binyamin appelbaum fed offici say favor prudenc rais interest rate new york time'\n",
            " 'ashley southal knife wield man shot pepper spray fail subdu polic say new york time'\n",
            " 'eddi lavin sweden introduc hour work day'\n",
            " 'contribut author trump deliv obama peopl want major chang still want'\n",
            " 'john carney jami dimon help trump patriot breitbart'\n",
            " 'anonym coward uid nato troop train adazi latvia' 'doc fbi close hillari'\n",
            " 'jameson parker watch exact moment paul ryan commit polit suicid trump ralli video'\n",
            " 'margaret lyon watch weekend night circu new york time'\n",
            " 'fpif hillari clinton hawk wing' ''\n",
            " 'baxter dmitri wikileak podesta disturb beyond disciplin plan leaker'\n",
            " 'allum bokhari nyt mag facebook build global commun manifesto bound consid partisan'\n",
            " 'violat hillari clinton want strong russia wait say'\n",
            " 'carl huls harri reid koch brother wage proxi war nevada senat seat new york time'\n",
            " 'carl richard big life chang plan magic new york time'\n",
            " 'eric striker chapo trap hous new left wing podcast flagrant rip right stuff'\n",
            " 'jame cannon say common sens common'\n",
            " 'pakalert world war hillari clinton mushroom cloud wait happen'\n",
            " 'alan rappeport democrat see open tax overhaul fight trump deduct new york time'\n",
            " 'kati mchugh poll percent adult hope optimist america futur breitbart'\n",
            " 'helen cooper trump aid tri reassur europ mani wari new york time'\n",
            " 'jacob bernstein gather rememb bill cunningham outsid pictur frame new york time'\n",
            " 'admin hillari steal presid atla shrug'\n",
            " 'andrew anglin donald j trump presid unit state america'\n",
            " 'new york time listen new podcast could save life elect day new york time'\n",
            " 'tom ciccotta yale dean apolog call peopl white trash uneduc moron yelp review breitbart'\n",
            " 'contribut author shell shock unpreced elect trump use happen next'\n",
            " 'tass ford soller start serial product car era glonass system'\n",
            " 'thoma erdbrink death iran rafsanjani remov influenti voic hard liner new york time'\n",
            " 'admin sex presidenti citi'\n",
            " 'un must provid proof alleg russian aerial bomb aleppo churkin'\n",
            " 'declan walsh alien angri coal miner see donald trump choic new york time'\n",
            " 'drew stratton prep blog review tip healthi prepper'\n",
            " 'doucyet comment cheaper way find worst peopl elect cost billion doucyet'\n",
            " 'ami chozick steve eder foundat tie bedevil hillari clinton presidenti campaign new york time'\n",
            " 'lanc schuttler slovenia add water constitut fundament right peopl'\n",
            " 'patrick cleburn marketwatch leftist msm blatant anti trump bia may suicid'\n",
            " 'michel higgin get home holiday readi new york time'\n",
            " 'binyamin appelbaum richmond fed presid resign admit violat confidenti new york time'\n",
            " 'ami chozick hillari clinton long gruel quest new york time'\n",
            " 'endang anim guilti poor financi plan'\n",
            " 'david waldstein alex rodriguez peac walk away new york time'\n",
            " 'brendan solar wind spur geomagnet storm may affect power'\n",
            " 'florenc fabric da silvano celebr favorit greenwich villag close year new york time'\n",
            " 'brad pitt shock america tire liber take money vote trump'\n",
            " 'assemblyman tim donnelli jerri brown wish ran presid breitbart'\n",
            " 'drew stratton prep blog review live grid'\n",
            " 'dave itzkoff stand act lesli jone find humor hack new york time'\n",
            " 'steelman trump bollywood ad meant sway indian american voter hilari fail video'\n",
            " 'mac slavo rig deni trump steal state block elector path'\n",
            " 'dave hodg anonym america last hope warn'\n",
            " 'tom tancredo tancredo republ risk deep state oppon seek end trump presid leak sabotag breitbart'\n",
            " 'sleuth journal jim roger time prepar econom financi collaps immin video'\n",
            " 'dave itzkoff carri fisher child hollywood star war royalti die new york time'\n",
            " 'editor die cia agent confirm white hous upcom alien life disclosur interview'\n",
            " 'countrybunkererd' 'wikileak email prove democrat manipul poll'\n",
            " 'aurelien breeden katarina johannsen pari bavaria heavi rain caus deadli flood new york time'\n",
            " 'pam key trump paul ryan get nato pay bill breitbart'\n",
            " 'part poverti crime hire half poor kill half'\n",
            " 'awr hawkin fbi million gun background check new record'\n",
            " 'jerom hudson restaur owner apolog employe sing f ck tha polic cop'\n",
            " 'ben kew milo slam commi sleazebag disruptj breitbart'\n",
            " 'ben kew tim kain son arrest alleg role minnesota anti trump riot'\n",
            " 'geoffrey grider clinton cash chelsea clinton groom buy seat congress nwo handler'\n",
            " 'rebecca r ruiz russia sport minist strive contain damag new york time'\n",
            " 'tammi la gorc tip grace handl rain wed day new york time'\n",
            " 'david stockman chart day ever widen wage gap'\n",
            " 'comey broke stack resign letter furiou fbi agent'\n",
            " 'joel b pollak restor way trump netanyahu improv u israel relat'\n",
            " 'daniel nussbaum emmi win actor bill paxton dead'\n",
            " 'republican leader propos take away senior healthcar blame obama new centuri time'\n",
            " 'andrew anglin germani moslem pull bike masturb white girl polic say noth wrong'\n",
            " 'lin manuel miranda announc new music trump univers'\n",
            " 'ramzi baroud palestinian want sue britain year sinc balfour declar'\n",
            " 'scott cacciola warrior resili home cruis cavali new york time'\n",
            " 'presstv catch glimps spectacular supermoon monday'\n",
            " 'charli spier obama lavish prais josh earnest last white hous press brief breitbart'\n",
            " 'editor scientist find piec non human dna human genom' 'gatorengin'\n",
            " 'oliv jj lane sweden anti mass migrat leader wall street journal trump right'\n",
            " 'jame fulford florida man headlin mean redneck could blm inspir crime'\n",
            " 'jerom hudson meryl streep bash donald trump golden globe speech'\n",
            " 'david streitfeld activ hit even less flashi tech compani new york time'\n",
            " 'jerom hudson scarlett johansson consid futur run polit offic'\n",
            " 'dana canedi darci eveleigh rise black leader pull fake obituari new york time'\n",
            " 'rbc anton feinberg necessari break law improv standard live'\n",
            " 'map wikileak podesta email alphabet index sender version updat'\n",
            " 'wmw admin hillari clinton charg obstruct justic could go prison year'\n",
            " 'phil freeman comment watch aerial footag catch man stop drive thru chase polic phil freeman'\n",
            " 'rt us abstain un vote call end cuban embargo'\n",
            " 'giddi russian seek renam street donald trump make citi great russia news'\n",
            " 'jame wagner met said sign yoeni cesped four year million new york time'\n",
            " 'admin fox news poll clinton lead trump three point'\n",
            " 'activist post presid elect trump new era unpredict await'\n",
            " 'awr hawkin eight pro second amend smackdown nra annual meet breitbart'\n",
            " 'david g brown feder juri find uva rape hoax journalist sabrina rubin erd roll stone liabl defam'\n",
            " 'rt com rt russia test nuclear capabl warhead outsmart us anti missil system'\n",
            " 'prissi holli bust clinton foundat directli tie plot steal elect'\n",
            " 'katherin rodriguez rex tillerson secretari state want job'\n",
            " 'luca nolan silicon valley speak u leav pari accord breitbart'\n",
            " 'john hayward top five media gener non stori trump foreign trip breitbart'\n",
            " 'andrew e kramer kalashnikov maker ak look rebrand new york time'\n",
            " 'us drone strike kill afghan al qaeda command plan us eu attack'\n",
            " 'christin hauser virginia offici request u inquiri inmat death jail new york time'\n",
            " 'leak audio hillari clinton propos rig elect'\n",
            " 'tatiana schlossberg alreadi show record global temperatur new york time'\n",
            " 'karen workman sandra stevenson donald trump marijuana roll stone thursday even brief new york time'\n",
            " 'kristina wong deep state leak highli classifi info washington post smear presid trump breitbart'\n",
            " 'amanda froelich idiot pretend surf turtl back face fine'\n",
            " 'rt denver su homeless sweep vagrant camp return'\n",
            " 'aaron klein jordan blame israel ugli crime kill terrorist midst stab breitbart'\n",
            " 'whitney webb fbi war hillari clinton like lead indict'\n",
            " 'pot decrimin save philadelphia million'\n",
            " 'matthew haag least kill train barrel charter bu biloxi new york time'\n",
            " 'alexand burn maggi haberman ashley parker donald trump confront muslim soldier parent emerg unexpect flash point new york time'\n",
            " 'arnold monteverd norepli blogger com viral nasa photograph show mysteri blue sphere front sun'\n",
            " 'fbi director comey leak memo explain reopen clinton email case'\n",
            " 'amanda taub max fisher referendum democrat seem new york time'\n",
            " 'ken johnson klimt women real canva new york time' 'glorifi violenc'\n",
            " 'anonym' 'joel b pollak ted cruz trump cabinet conserv star breitbart'\n",
            " 'sean moran hous republican unveil bullet point obamacar repeal breitbart'\n",
            " 'virginia kruta blm activist daughter breath victim eric garner read hillari email furiou'\n",
            " 'chri black remedi mediev europ heal common cold'\n",
            " 'jeffrey gettleman kenya collect uh oh anoth elect come new york time']\n"
          ]
        }
      ],
      "source": [
        "print(X)"
      ]
    },
    {
      "cell_type": "code",
      "execution_count": 20,
      "metadata": {
        "colab": {
          "base_uri": "https://localhost:8080/"
        },
        "id": "NgkFGXkg6HS4",
        "outputId": "c01c5aea-ece5-462b-f14f-a448409d0aa7"
      },
      "outputs": [
        {
          "name": "stdout",
          "output_type": "stream",
          "text": [
            "[1 1 0 0 1 1 0 1 0 0 1 1 0 1 1 1 0 0 1 1 1 1 0 0 0 0 1 0 1 0 0 1 0 0 0 1 0\n",
            " 1 1 0 0 0 0 1 0 0 0 1 0 1 0 0 1 0 0 0 0 1 0 0 0 0 0 1 1 1 0 1 0 1 1 1 0 0\n",
            " 0 1 0 0 1 0 1 1 0 1 1 1 0 0 0 1 1 0 1 1 1 1 0 0 1 1 1 1 0 0 0 0 0 1 1 0 0\n",
            " 1 1 1 0 0 0 1 0 1 1 1 1 1 0 0 1 1 1 1 0 0 0 0 0 1 1 0 1 0 0 1 0 1 1 1 0 0\n",
            " 1 0 0 0 0 1 0 1 1 0 0 0 1 0 1 0 1 0 0 1 0 1 0 0 1 1 1 1 0 0 1 0 0 0 1 1 1\n",
            " 1 0 1 1 0 1 1 0 0 0 1 1 0 0 0 0 1 0 0 0 1 1 1 0 1 0 0 1 1 0 1 1 0 0 0 0 0\n",
            " 1 0 1 0 0 1 1 1 0 1 0 1 1 1 1 0 1 1 0 0 1 1 0 1 0 0 0 0 1 1 1 1 0 1 1 1 1\n",
            " 1 1 1 1 1 0 0 1 1 0 1 0 0 1 0 1 0 0 1 1 1 1 1 1 0 1 1 1 1 1 1 1 1 0 1 0 1\n",
            " 1 1 0 1 1 0 1 1 1 0 1 0 1 1 1 1 1 1 0 0 1 0 0 1 1 1 0 0 1 1 1 0 1 0 0 0 0\n",
            " 0 1 0 0 0 0 1 1 0 0 1 1 1 1 0 0 0 0 0 1 1 1 0 0 0 1 0 0 0 1 1 1 1 1 1 0 0\n",
            " 0 1 0 0 1 1 0 1 1 1 0 1 1 1 0 1 0 0 1 1 1 0 0 0 0 1 1 0 0 1 1 0 1 1 0 1 1\n",
            " 0 1 1 0 0 0 1 0 1 0 1 0 1 0 1 1 1 0 1 0 1 1 1 0 0 1 0 0 0 0 1 0 0 1 1 0 0\n",
            " 1 1 1 1 0 1 0 1 1 0 1 0 0 0 0 1 1 1 1 1 1 0 1 1 0 1 1 1 0 0 0 0 1 0 1 0 0\n",
            " 0 1 1 0 1 1 0 0 1 1 0 0 1 1 0 0 1 1 0]\n"
          ]
        }
      ],
      "source": [
        "print(Y)"
      ]
    },
    {
      "cell_type": "code",
      "execution_count": 21,
      "metadata": {
        "colab": {
          "base_uri": "https://localhost:8080/"
        },
        "id": "Iu2ZEBkL6QTm",
        "outputId": "cbb35faa-bd75-4fee-a2ba-f85f874fe068"
      },
      "outputs": [
        {
          "data": {
            "text/plain": [
              "(500,)"
            ]
          },
          "execution_count": 21,
          "metadata": {},
          "output_type": "execute_result"
        }
      ],
      "source": [
        "Y.shape"
      ]
    },
    {
      "cell_type": "code",
      "execution_count": 22,
      "metadata": {
        "id": "BMfepsQZ6TES"
      },
      "outputs": [],
      "source": [
        "# converting the textual data to numerical data\n",
        "vectorizer = TfidfVectorizer()\n",
        "vectorizer.fit(X)\n",
        "\n",
        "X = vectorizer.transform(X)"
      ]
    },
    {
      "cell_type": "code",
      "execution_count": 23,
      "metadata": {
        "colab": {
          "base_uri": "https://localhost:8080/"
        },
        "id": "MJj5esbs7Nzy",
        "outputId": "381f4859-7593-474e-a827-f1f4de5bd894"
      },
      "outputs": [
        {
          "name": "stdout",
          "output_type": "stream",
          "text": [
            "  (0, 60)\t0.2917408977621271\n",
            "  (0, 98)\t0.3110757905844469\n",
            "  (0, 143)\t0.2917408977621271\n",
            "  (0, 412)\t0.24496935539079506\n",
            "  (0, 683)\t0.3110757905844469\n",
            "  (0, 851)\t0.2673818136167773\n",
            "  (0, 1007)\t0.3110757905844469\n",
            "  (0, 1233)\t0.3110757905844469\n",
            "  (0, 1577)\t0.2917408977621271\n",
            "  (0, 2202)\t0.27802257298762095\n",
            "  (0, 2289)\t0.27802257298762095\n",
            "  (0, 2412)\t0.2673818136167773\n",
            "  (1, 49)\t0.27602890730093377\n",
            "  (1, 90)\t0.27602890730093377\n",
            "  (1, 287)\t0.2943225006211173\n",
            "  (1, 819)\t0.24475580296068838\n",
            "  (1, 1360)\t0.22170860103915765\n",
            "  (1, 1524)\t0.27602890730093377\n",
            "  (1, 1534)\t0.2943225006211173\n",
            "  (1, 1551)\t0.2943225006211173\n",
            "  (1, 1781)\t0.27602890730093377\n",
            "  (1, 1915)\t0.2630493962808719\n",
            "  (1, 2032)\t0.2630493962808719\n",
            "  (1, 2122)\t0.24475580296068838\n",
            "  (1, 2316)\t0.252981705379403\n",
            "  :\t:\n",
            "  (497, 1037)\t0.18530621497135444\n",
            "  (497, 1258)\t0.3168304027114803\n",
            "  (497, 1828)\t0.2971378323968003\n",
            "  (497, 2375)\t0.3168304027114803\n",
            "  (497, 2386)\t0.2723281279033904\n",
            "  (498, 221)\t0.3105922395987932\n",
            "  (498, 396)\t0.3502774417421051\n",
            "  (498, 443)\t0.37349179682948147\n",
            "  (498, 461)\t0.3338065946861695\n",
            "  (498, 744)\t0.3338065946861695\n",
            "  (498, 1010)\t0.37349179682948147\n",
            "  (498, 1415)\t0.37349179682948147\n",
            "  (498, 1864)\t0.37349179682948147\n",
            "  (499, 96)\t0.30861090594060453\n",
            "  (499, 447)\t0.345300672951942\n",
            "  (499, 453)\t0.3238385350901135\n",
            "  (499, 706)\t0.20953240185384603\n",
            "  (499, 911)\t0.345300672951942\n",
            "  (499, 1165)\t0.345300672951942\n",
            "  (499, 1226)\t0.345300672951942\n",
            "  (499, 1537)\t0.11503113078826126\n",
            "  (499, 1586)\t0.345300672951942\n",
            "  (499, 2271)\t0.11606566817997176\n",
            "  (499, 2331)\t0.345300672951942\n",
            "  (499, 2489)\t0.11783613907326351\n"
          ]
        }
      ],
      "source": [
        "print(X)"
      ]
    },
    {
      "cell_type": "markdown",
      "metadata": {
        "id": "mKBRGiSQ7YCZ"
      },
      "source": [
        "Splitting the dataset to training & test data"
      ]
    },
    {
      "cell_type": "code",
      "execution_count": 24,
      "metadata": {
        "id": "VjMYwmBo7Pbx"
      },
      "outputs": [
        {
          "name": "stdout",
          "output_type": "stream",
          "text": [
            "[1 0 1 1 1 1 1 1 0 1 1 1 0 0 1 1 1 0 0 1 1 1 0 0 0 0 1 0 0 0 1 1 0 0 1 1 0\n",
            " 1 1 1 0 0 1 0 0 1 0 1 0 1 0 1 1 0 0 0 1 0 0 0 0 1 0 0 0 0 0 0 1 0 1 1 0 0\n",
            " 1 1 0 1 0 1 0 0 0 1 1 1 1 1 0 0 0 1 1 0 1 1 1 1 1 1]\n"
          ]
        }
      ],
      "source": [
        "X_train, X_test, Y_train, Y_test = train_test_split(X, Y, test_size = 0.2, stratify=Y, random_state=2)\n",
        "print(Y_test)"
      ]
    },
    {
      "cell_type": "markdown",
      "metadata": {
        "id": "rxDsQvgO8Oln"
      },
      "source": [
        "Training the Model: Logistic Regression"
      ]
    },
    {
      "cell_type": "code",
      "execution_count": 25,
      "metadata": {
        "id": "HrSItcqc7qAy"
      },
      "outputs": [],
      "source": [
        "model = LogisticRegression()"
      ]
    },
    {
      "cell_type": "code",
      "execution_count": 26,
      "metadata": {
        "colab": {
          "base_uri": "https://localhost:8080/"
        },
        "id": "fdVJ839l8Vgx",
        "outputId": "129fab6a-f9d5-4ef8-eecf-93206f1e1e41"
      },
      "outputs": [
        {
          "data": {
            "text/html": [
              "<style>#sk-container-id-1 {\n",
              "  /* Definition of color scheme common for light and dark mode */\n",
              "  --sklearn-color-text: black;\n",
              "  --sklearn-color-line: gray;\n",
              "  /* Definition of color scheme for unfitted estimators */\n",
              "  --sklearn-color-unfitted-level-0: #fff5e6;\n",
              "  --sklearn-color-unfitted-level-1: #f6e4d2;\n",
              "  --sklearn-color-unfitted-level-2: #ffe0b3;\n",
              "  --sklearn-color-unfitted-level-3: chocolate;\n",
              "  /* Definition of color scheme for fitted estimators */\n",
              "  --sklearn-color-fitted-level-0: #f0f8ff;\n",
              "  --sklearn-color-fitted-level-1: #d4ebff;\n",
              "  --sklearn-color-fitted-level-2: #b3dbfd;\n",
              "  --sklearn-color-fitted-level-3: cornflowerblue;\n",
              "\n",
              "  /* Specific color for light theme */\n",
              "  --sklearn-color-text-on-default-background: var(--sg-text-color, var(--theme-code-foreground, var(--jp-content-font-color1, black)));\n",
              "  --sklearn-color-background: var(--sg-background-color, var(--theme-background, var(--jp-layout-color0, white)));\n",
              "  --sklearn-color-border-box: var(--sg-text-color, var(--theme-code-foreground, var(--jp-content-font-color1, black)));\n",
              "  --sklearn-color-icon: #696969;\n",
              "\n",
              "  @media (prefers-color-scheme: dark) {\n",
              "    /* Redefinition of color scheme for dark theme */\n",
              "    --sklearn-color-text-on-default-background: var(--sg-text-color, var(--theme-code-foreground, var(--jp-content-font-color1, white)));\n",
              "    --sklearn-color-background: var(--sg-background-color, var(--theme-background, var(--jp-layout-color0, #111)));\n",
              "    --sklearn-color-border-box: var(--sg-text-color, var(--theme-code-foreground, var(--jp-content-font-color1, white)));\n",
              "    --sklearn-color-icon: #878787;\n",
              "  }\n",
              "}\n",
              "\n",
              "#sk-container-id-1 {\n",
              "  color: var(--sklearn-color-text);\n",
              "}\n",
              "\n",
              "#sk-container-id-1 pre {\n",
              "  padding: 0;\n",
              "}\n",
              "\n",
              "#sk-container-id-1 input.sk-hidden--visually {\n",
              "  border: 0;\n",
              "  clip: rect(1px 1px 1px 1px);\n",
              "  clip: rect(1px, 1px, 1px, 1px);\n",
              "  height: 1px;\n",
              "  margin: -1px;\n",
              "  overflow: hidden;\n",
              "  padding: 0;\n",
              "  position: absolute;\n",
              "  width: 1px;\n",
              "}\n",
              "\n",
              "#sk-container-id-1 div.sk-dashed-wrapped {\n",
              "  border: 1px dashed var(--sklearn-color-line);\n",
              "  margin: 0 0.4em 0.5em 0.4em;\n",
              "  box-sizing: border-box;\n",
              "  padding-bottom: 0.4em;\n",
              "  background-color: var(--sklearn-color-background);\n",
              "}\n",
              "\n",
              "#sk-container-id-1 div.sk-container {\n",
              "  /* jupyter's `normalize.less` sets `[hidden] { display: none; }`\n",
              "     but bootstrap.min.css set `[hidden] { display: none !important; }`\n",
              "     so we also need the `!important` here to be able to override the\n",
              "     default hidden behavior on the sphinx rendered scikit-learn.org.\n",
              "     See: https://github.com/scikit-learn/scikit-learn/issues/21755 */\n",
              "  display: inline-block !important;\n",
              "  position: relative;\n",
              "}\n",
              "\n",
              "#sk-container-id-1 div.sk-text-repr-fallback {\n",
              "  display: none;\n",
              "}\n",
              "\n",
              "div.sk-parallel-item,\n",
              "div.sk-serial,\n",
              "div.sk-item {\n",
              "  /* draw centered vertical line to link estimators */\n",
              "  background-image: linear-gradient(var(--sklearn-color-text-on-default-background), var(--sklearn-color-text-on-default-background));\n",
              "  background-size: 2px 100%;\n",
              "  background-repeat: no-repeat;\n",
              "  background-position: center center;\n",
              "}\n",
              "\n",
              "/* Parallel-specific style estimator block */\n",
              "\n",
              "#sk-container-id-1 div.sk-parallel-item::after {\n",
              "  content: \"\";\n",
              "  width: 100%;\n",
              "  border-bottom: 2px solid var(--sklearn-color-text-on-default-background);\n",
              "  flex-grow: 1;\n",
              "}\n",
              "\n",
              "#sk-container-id-1 div.sk-parallel {\n",
              "  display: flex;\n",
              "  align-items: stretch;\n",
              "  justify-content: center;\n",
              "  background-color: var(--sklearn-color-background);\n",
              "  position: relative;\n",
              "}\n",
              "\n",
              "#sk-container-id-1 div.sk-parallel-item {\n",
              "  display: flex;\n",
              "  flex-direction: column;\n",
              "}\n",
              "\n",
              "#sk-container-id-1 div.sk-parallel-item:first-child::after {\n",
              "  align-self: flex-end;\n",
              "  width: 50%;\n",
              "}\n",
              "\n",
              "#sk-container-id-1 div.sk-parallel-item:last-child::after {\n",
              "  align-self: flex-start;\n",
              "  width: 50%;\n",
              "}\n",
              "\n",
              "#sk-container-id-1 div.sk-parallel-item:only-child::after {\n",
              "  width: 0;\n",
              "}\n",
              "\n",
              "/* Serial-specific style estimator block */\n",
              "\n",
              "#sk-container-id-1 div.sk-serial {\n",
              "  display: flex;\n",
              "  flex-direction: column;\n",
              "  align-items: center;\n",
              "  background-color: var(--sklearn-color-background);\n",
              "  padding-right: 1em;\n",
              "  padding-left: 1em;\n",
              "}\n",
              "\n",
              "\n",
              "/* Toggleable style: style used for estimator/Pipeline/ColumnTransformer box that is\n",
              "clickable and can be expanded/collapsed.\n",
              "- Pipeline and ColumnTransformer use this feature and define the default style\n",
              "- Estimators will overwrite some part of the style using the `sk-estimator` class\n",
              "*/\n",
              "\n",
              "/* Pipeline and ColumnTransformer style (default) */\n",
              "\n",
              "#sk-container-id-1 div.sk-toggleable {\n",
              "  /* Default theme specific background. It is overwritten whether we have a\n",
              "  specific estimator or a Pipeline/ColumnTransformer */\n",
              "  background-color: var(--sklearn-color-background);\n",
              "}\n",
              "\n",
              "/* Toggleable label */\n",
              "#sk-container-id-1 label.sk-toggleable__label {\n",
              "  cursor: pointer;\n",
              "  display: block;\n",
              "  width: 100%;\n",
              "  margin-bottom: 0;\n",
              "  padding: 0.5em;\n",
              "  box-sizing: border-box;\n",
              "  text-align: center;\n",
              "}\n",
              "\n",
              "#sk-container-id-1 label.sk-toggleable__label-arrow:before {\n",
              "  /* Arrow on the left of the label */\n",
              "  content: \"▸\";\n",
              "  float: left;\n",
              "  margin-right: 0.25em;\n",
              "  color: var(--sklearn-color-icon);\n",
              "}\n",
              "\n",
              "#sk-container-id-1 label.sk-toggleable__label-arrow:hover:before {\n",
              "  color: var(--sklearn-color-text);\n",
              "}\n",
              "\n",
              "/* Toggleable content - dropdown */\n",
              "\n",
              "#sk-container-id-1 div.sk-toggleable__content {\n",
              "  max-height: 0;\n",
              "  max-width: 0;\n",
              "  overflow: hidden;\n",
              "  text-align: left;\n",
              "  /* unfitted */\n",
              "  background-color: var(--sklearn-color-unfitted-level-0);\n",
              "}\n",
              "\n",
              "#sk-container-id-1 div.sk-toggleable__content.fitted {\n",
              "  /* fitted */\n",
              "  background-color: var(--sklearn-color-fitted-level-0);\n",
              "}\n",
              "\n",
              "#sk-container-id-1 div.sk-toggleable__content pre {\n",
              "  margin: 0.2em;\n",
              "  border-radius: 0.25em;\n",
              "  color: var(--sklearn-color-text);\n",
              "  /* unfitted */\n",
              "  background-color: var(--sklearn-color-unfitted-level-0);\n",
              "}\n",
              "\n",
              "#sk-container-id-1 div.sk-toggleable__content.fitted pre {\n",
              "  /* unfitted */\n",
              "  background-color: var(--sklearn-color-fitted-level-0);\n",
              "}\n",
              "\n",
              "#sk-container-id-1 input.sk-toggleable__control:checked~div.sk-toggleable__content {\n",
              "  /* Expand drop-down */\n",
              "  max-height: 200px;\n",
              "  max-width: 100%;\n",
              "  overflow: auto;\n",
              "}\n",
              "\n",
              "#sk-container-id-1 input.sk-toggleable__control:checked~label.sk-toggleable__label-arrow:before {\n",
              "  content: \"▾\";\n",
              "}\n",
              "\n",
              "/* Pipeline/ColumnTransformer-specific style */\n",
              "\n",
              "#sk-container-id-1 div.sk-label input.sk-toggleable__control:checked~label.sk-toggleable__label {\n",
              "  color: var(--sklearn-color-text);\n",
              "  background-color: var(--sklearn-color-unfitted-level-2);\n",
              "}\n",
              "\n",
              "#sk-container-id-1 div.sk-label.fitted input.sk-toggleable__control:checked~label.sk-toggleable__label {\n",
              "  background-color: var(--sklearn-color-fitted-level-2);\n",
              "}\n",
              "\n",
              "/* Estimator-specific style */\n",
              "\n",
              "/* Colorize estimator box */\n",
              "#sk-container-id-1 div.sk-estimator input.sk-toggleable__control:checked~label.sk-toggleable__label {\n",
              "  /* unfitted */\n",
              "  background-color: var(--sklearn-color-unfitted-level-2);\n",
              "}\n",
              "\n",
              "#sk-container-id-1 div.sk-estimator.fitted input.sk-toggleable__control:checked~label.sk-toggleable__label {\n",
              "  /* fitted */\n",
              "  background-color: var(--sklearn-color-fitted-level-2);\n",
              "}\n",
              "\n",
              "#sk-container-id-1 div.sk-label label.sk-toggleable__label,\n",
              "#sk-container-id-1 div.sk-label label {\n",
              "  /* The background is the default theme color */\n",
              "  color: var(--sklearn-color-text-on-default-background);\n",
              "}\n",
              "\n",
              "/* On hover, darken the color of the background */\n",
              "#sk-container-id-1 div.sk-label:hover label.sk-toggleable__label {\n",
              "  color: var(--sklearn-color-text);\n",
              "  background-color: var(--sklearn-color-unfitted-level-2);\n",
              "}\n",
              "\n",
              "/* Label box, darken color on hover, fitted */\n",
              "#sk-container-id-1 div.sk-label.fitted:hover label.sk-toggleable__label.fitted {\n",
              "  color: var(--sklearn-color-text);\n",
              "  background-color: var(--sklearn-color-fitted-level-2);\n",
              "}\n",
              "\n",
              "/* Estimator label */\n",
              "\n",
              "#sk-container-id-1 div.sk-label label {\n",
              "  font-family: monospace;\n",
              "  font-weight: bold;\n",
              "  display: inline-block;\n",
              "  line-height: 1.2em;\n",
              "}\n",
              "\n",
              "#sk-container-id-1 div.sk-label-container {\n",
              "  text-align: center;\n",
              "}\n",
              "\n",
              "/* Estimator-specific */\n",
              "#sk-container-id-1 div.sk-estimator {\n",
              "  font-family: monospace;\n",
              "  border: 1px dotted var(--sklearn-color-border-box);\n",
              "  border-radius: 0.25em;\n",
              "  box-sizing: border-box;\n",
              "  margin-bottom: 0.5em;\n",
              "  /* unfitted */\n",
              "  background-color: var(--sklearn-color-unfitted-level-0);\n",
              "}\n",
              "\n",
              "#sk-container-id-1 div.sk-estimator.fitted {\n",
              "  /* fitted */\n",
              "  background-color: var(--sklearn-color-fitted-level-0);\n",
              "}\n",
              "\n",
              "/* on hover */\n",
              "#sk-container-id-1 div.sk-estimator:hover {\n",
              "  /* unfitted */\n",
              "  background-color: var(--sklearn-color-unfitted-level-2);\n",
              "}\n",
              "\n",
              "#sk-container-id-1 div.sk-estimator.fitted:hover {\n",
              "  /* fitted */\n",
              "  background-color: var(--sklearn-color-fitted-level-2);\n",
              "}\n",
              "\n",
              "/* Specification for estimator info (e.g. \"i\" and \"?\") */\n",
              "\n",
              "/* Common style for \"i\" and \"?\" */\n",
              "\n",
              ".sk-estimator-doc-link,\n",
              "a:link.sk-estimator-doc-link,\n",
              "a:visited.sk-estimator-doc-link {\n",
              "  float: right;\n",
              "  font-size: smaller;\n",
              "  line-height: 1em;\n",
              "  font-family: monospace;\n",
              "  background-color: var(--sklearn-color-background);\n",
              "  border-radius: 1em;\n",
              "  height: 1em;\n",
              "  width: 1em;\n",
              "  text-decoration: none !important;\n",
              "  margin-left: 1ex;\n",
              "  /* unfitted */\n",
              "  border: var(--sklearn-color-unfitted-level-1) 1pt solid;\n",
              "  color: var(--sklearn-color-unfitted-level-1);\n",
              "}\n",
              "\n",
              ".sk-estimator-doc-link.fitted,\n",
              "a:link.sk-estimator-doc-link.fitted,\n",
              "a:visited.sk-estimator-doc-link.fitted {\n",
              "  /* fitted */\n",
              "  border: var(--sklearn-color-fitted-level-1) 1pt solid;\n",
              "  color: var(--sklearn-color-fitted-level-1);\n",
              "}\n",
              "\n",
              "/* On hover */\n",
              "div.sk-estimator:hover .sk-estimator-doc-link:hover,\n",
              ".sk-estimator-doc-link:hover,\n",
              "div.sk-label-container:hover .sk-estimator-doc-link:hover,\n",
              ".sk-estimator-doc-link:hover {\n",
              "  /* unfitted */\n",
              "  background-color: var(--sklearn-color-unfitted-level-3);\n",
              "  color: var(--sklearn-color-background);\n",
              "  text-decoration: none;\n",
              "}\n",
              "\n",
              "div.sk-estimator.fitted:hover .sk-estimator-doc-link.fitted:hover,\n",
              ".sk-estimator-doc-link.fitted:hover,\n",
              "div.sk-label-container:hover .sk-estimator-doc-link.fitted:hover,\n",
              ".sk-estimator-doc-link.fitted:hover {\n",
              "  /* fitted */\n",
              "  background-color: var(--sklearn-color-fitted-level-3);\n",
              "  color: var(--sklearn-color-background);\n",
              "  text-decoration: none;\n",
              "}\n",
              "\n",
              "/* Span, style for the box shown on hovering the info icon */\n",
              ".sk-estimator-doc-link span {\n",
              "  display: none;\n",
              "  z-index: 9999;\n",
              "  position: relative;\n",
              "  font-weight: normal;\n",
              "  right: .2ex;\n",
              "  padding: .5ex;\n",
              "  margin: .5ex;\n",
              "  width: min-content;\n",
              "  min-width: 20ex;\n",
              "  max-width: 50ex;\n",
              "  color: var(--sklearn-color-text);\n",
              "  box-shadow: 2pt 2pt 4pt #999;\n",
              "  /* unfitted */\n",
              "  background: var(--sklearn-color-unfitted-level-0);\n",
              "  border: .5pt solid var(--sklearn-color-unfitted-level-3);\n",
              "}\n",
              "\n",
              ".sk-estimator-doc-link.fitted span {\n",
              "  /* fitted */\n",
              "  background: var(--sklearn-color-fitted-level-0);\n",
              "  border: var(--sklearn-color-fitted-level-3);\n",
              "}\n",
              "\n",
              ".sk-estimator-doc-link:hover span {\n",
              "  display: block;\n",
              "}\n",
              "\n",
              "/* \"?\"-specific style due to the `<a>` HTML tag */\n",
              "\n",
              "#sk-container-id-1 a.estimator_doc_link {\n",
              "  float: right;\n",
              "  font-size: 1rem;\n",
              "  line-height: 1em;\n",
              "  font-family: monospace;\n",
              "  background-color: var(--sklearn-color-background);\n",
              "  border-radius: 1rem;\n",
              "  height: 1rem;\n",
              "  width: 1rem;\n",
              "  text-decoration: none;\n",
              "  /* unfitted */\n",
              "  color: var(--sklearn-color-unfitted-level-1);\n",
              "  border: var(--sklearn-color-unfitted-level-1) 1pt solid;\n",
              "}\n",
              "\n",
              "#sk-container-id-1 a.estimator_doc_link.fitted {\n",
              "  /* fitted */\n",
              "  border: var(--sklearn-color-fitted-level-1) 1pt solid;\n",
              "  color: var(--sklearn-color-fitted-level-1);\n",
              "}\n",
              "\n",
              "/* On hover */\n",
              "#sk-container-id-1 a.estimator_doc_link:hover {\n",
              "  /* unfitted */\n",
              "  background-color: var(--sklearn-color-unfitted-level-3);\n",
              "  color: var(--sklearn-color-background);\n",
              "  text-decoration: none;\n",
              "}\n",
              "\n",
              "#sk-container-id-1 a.estimator_doc_link.fitted:hover {\n",
              "  /* fitted */\n",
              "  background-color: var(--sklearn-color-fitted-level-3);\n",
              "}\n",
              "</style><div id=\"sk-container-id-1\" class=\"sk-top-container\"><div class=\"sk-text-repr-fallback\"><pre>LogisticRegression()</pre><b>In a Jupyter environment, please rerun this cell to show the HTML representation or trust the notebook. <br />On GitHub, the HTML representation is unable to render, please try loading this page with nbviewer.org.</b></div><div class=\"sk-container\" hidden><div class=\"sk-item\"><div class=\"sk-estimator fitted sk-toggleable\"><input class=\"sk-toggleable__control sk-hidden--visually\" id=\"sk-estimator-id-1\" type=\"checkbox\" checked><label for=\"sk-estimator-id-1\" class=\"sk-toggleable__label fitted sk-toggleable__label-arrow fitted\">&nbsp;&nbsp;LogisticRegression<a class=\"sk-estimator-doc-link fitted\" rel=\"noreferrer\" target=\"_blank\" href=\"https://scikit-learn.org/1.5/modules/generated/sklearn.linear_model.LogisticRegression.html\">?<span>Documentation for LogisticRegression</span></a><span class=\"sk-estimator-doc-link fitted\">i<span>Fitted</span></span></label><div class=\"sk-toggleable__content fitted\"><pre>LogisticRegression()</pre></div> </div></div></div></div>"
            ],
            "text/plain": [
              "LogisticRegression()"
            ]
          },
          "execution_count": 26,
          "metadata": {},
          "output_type": "execute_result"
        }
      ],
      "source": [
        "model.fit(X_train, Y_train)"
      ]
    },
    {
      "cell_type": "markdown",
      "metadata": {
        "id": "sbPKIFT89W1C"
      },
      "source": [
        "Evaluation"
      ]
    },
    {
      "cell_type": "markdown",
      "metadata": {
        "id": "YG6gqVty9ZDB"
      },
      "source": [
        "accuracy score"
      ]
    },
    {
      "cell_type": "code",
      "execution_count": 27,
      "metadata": {
        "id": "VgwtWZY59PBw"
      },
      "outputs": [],
      "source": [
        "# accuracy score on the training data\n",
        "X_train_prediction = model.predict(X_train)\n",
        "training_data_accuracy = accuracy_score(X_train_prediction, Y_train)"
      ]
    },
    {
      "cell_type": "code",
      "execution_count": 28,
      "metadata": {
        "colab": {
          "base_uri": "https://localhost:8080/"
        },
        "id": "4L-r5mld-BFn",
        "outputId": "c662ccad-b5be-4f0c-e087-f8785e1a9141"
      },
      "outputs": [
        {
          "name": "stdout",
          "output_type": "stream",
          "text": [
            "Accuracy score of the training data :  0.99\n"
          ]
        }
      ],
      "source": [
        "print('Accuracy score of the training data : ', training_data_accuracy)"
      ]
    },
    {
      "cell_type": "code",
      "execution_count": 29,
      "metadata": {
        "id": "Kgcn13oO-H6e"
      },
      "outputs": [],
      "source": [
        "# accuracy score on the test data\n",
        "X_test_prediction = model.predict(X_test)\n",
        "test_data_accuracy = accuracy_score(X_test_prediction, Y_test)"
      ]
    },
    {
      "cell_type": "code",
      "execution_count": 30,
      "metadata": {
        "colab": {
          "base_uri": "https://localhost:8080/"
        },
        "id": "9TG0Yof1-vg2",
        "outputId": "db5ab627-52bf-487c-df79-8d94647ffbe3"
      },
      "outputs": [
        {
          "name": "stdout",
          "output_type": "stream",
          "text": [
            "Accuracy score of the test data :  0.92\n"
          ]
        }
      ],
      "source": [
        "print('Accuracy score of the test data : ', test_data_accuracy)"
      ]
    },
    {
      "cell_type": "markdown",
      "metadata": {
        "id": "Yun4seaE-6tV"
      },
      "source": [
        "Making a Predictive System"
      ]
    },
    {
      "cell_type": "code",
      "execution_count": 31,
      "metadata": {
        "colab": {
          "base_uri": "https://localhost:8080/"
        },
        "id": "lPjssDL_-zo8",
        "outputId": "b8bcac5b-bab1-426c-ad89-d4791b411e31"
      },
      "outputs": [
        {
          "name": "stdout",
          "output_type": "stream",
          "text": [
            "[1]\n",
            "The news is Fake\n"
          ]
        }
      ],
      "source": [
        "X_new = X_test[3]\n",
        "\n",
        "prediction = model.predict(X_new)\n",
        "print(prediction)\n",
        "\n",
        "if (prediction[0]==0):\n",
        "  print('The news is Real')\n",
        "else:\n",
        "  print('The news is Fake')"
      ]
    },
    {
      "cell_type": "code",
      "execution_count": 32,
      "metadata": {
        "colab": {
          "base_uri": "https://localhost:8080/"
        },
        "id": "8KaWdvDI_eUk",
        "outputId": "49cf7c89-08b0-4ce3-8510-82efa7447d54"
      },
      "outputs": [
        {
          "name": "stdout",
          "output_type": "stream",
          "text": [
            "The news is Fake - 1\n"
          ]
        }
      ],
      "source": [
        "res = Y_test[3]\n",
        "\n",
        "if (res == 0):\n",
        "    print('The news is Real - 0')\n",
        "else:\n",
        "    print('The news is Fake - 1')"
      ]
    },
    {
      "cell_type": "markdown",
      "metadata": {},
      "source": [
        "WITHOUT PYTHON PACKAGE IMPLEMENTATION"
      ]
    },
    {
      "cell_type": "code",
      "execution_count": 33,
      "metadata": {},
      "outputs": [
        {
          "name": "stdout",
          "output_type": "stream",
          "text": [
            "[[0. 0. 0. ... 0. 0. 0.]\n",
            " [0. 0. 0. ... 0. 0. 0.]\n",
            " [0. 0. 0. ... 0. 0. 0.]\n",
            " ...\n",
            " [0. 0. 0. ... 0. 0. 0.]\n",
            " [0. 0. 0. ... 0. 0. 0.]\n",
            " [0. 0. 0. ... 0. 0. 0.]]\n"
          ]
        }
      ],
      "source": [
        "X1_train, X1_test, y1_train, y1_test = train_test_split(X, Y, test_size=0.2, random_state=1234)\n",
        "#print(X1_train)\n",
        "#converting sparse matrix (csr_matrix) to array\n",
        "X1_train = X1_train.toarray()\n",
        "X1_test = X1_test.toarray()\n",
        "print(X1_train)"
      ]
    },
    {
      "cell_type": "code",
      "execution_count": 34,
      "metadata": {},
      "outputs": [],
      "source": [
        "import numpy as np\n",
        "\n",
        "def sigmoid(x):\n",
        "    return 1/(1+np.exp(-x))\n",
        "\n",
        "class logistic_regression():\n",
        "\n",
        "    def __init__(self, lr=0.001, n_iters=1000):\n",
        "        self.lr = lr\n",
        "        self.n_iters = n_iters\n",
        "        self.weights = None\n",
        "        self.bias = None\n",
        "\n",
        "    def fit(self, X, y):\n",
        "        n_samples, n_features = X.shape\n",
        "        self.weights = np.zeros(n_features)\n",
        "        self.bias = 0\n",
        "\n",
        "        for _ in range(self.n_iters):\n",
        "            linear_pred = np.dot(X, self.weights) + self.bias\n",
        "            predictions = sigmoid(linear_pred)\n",
        "\n",
        "            dw = (1/n_samples) * np.dot(X.T, (predictions - y))\n",
        "            db = (1/n_samples) * np.sum(predictions-y)\n",
        "\n",
        "            self.weights = self.weights - self.lr*dw\n",
        "            self.bias = self.bias - self.lr*db\n",
        "\n",
        "\n",
        "    def predict(self, X):\n",
        "        linear_pred = np.dot(X, self.weights) + self.bias\n",
        "        y_pred = sigmoid(linear_pred)\n",
        "        # Convert probabilities to binary predictions\n",
        "        binary_predictions = (y_pred >= 0.5).astype(int)\n",
        "        return binary_predictions"
      ]
    },
    {
      "cell_type": "code",
      "execution_count": 37,
      "metadata": {},
      "outputs": [
        {
          "name": "stdout",
          "output_type": "stream",
          "text": [
            "[1 1 1 1 1 1 1 1 1 1 1 1 1 1 1 1 1 1 1 1 1 1 1 1 1 1 1 1 1 1 1 1 1 1 1 1 1\n",
            " 1 1 1 1 1 1 1 1 1 1 1 1 1 1 1 1 1 1 1 0 1 1 1 1 1 1 1 1 1 1 1 1 1 1 1 1 1\n",
            " 1 1 1 1 1 1 1 1 1 1 1 1 1 1 1 1 1 1 1 1 1 1 1 1 1 1]\n",
            "0.5\n"
          ]
        }
      ],
      "source": [
        "import numpy as np\n",
        "from sklearn.model_selection import train_test_split\n",
        "from sklearn import datasets\n",
        "import matplotlib.pyplot as plt\n",
        "\n",
        "log_r = logistic_regression(lr=0.01)\n",
        "log_r.fit(X1_train,y1_train)\n",
        "y_pred = log_r.predict(X1_test)\n",
        "print(y_pred)\n",
        "\n",
        "def accuracy(y_pred, y_test):\n",
        "    return np.sum(y_pred==y_test)/len(y_test)\n",
        "\n",
        "acc = accuracy(y_pred, y1_test)\n",
        "print(acc)"
      ]
    },
    {
      "cell_type": "code",
      "execution_count": 38,
      "metadata": {},
      "outputs": [
        {
          "name": "stdout",
          "output_type": "stream",
          "text": [
            "1\n"
          ]
        }
      ],
      "source": [
        "X1_new = X1_test[23]\n",
        "\n",
        "prediction = log_r.predict(X1_new)\n",
        "print(prediction)"
      ]
    },
    {
      "cell_type": "markdown",
      "metadata": {},
      "source": [
        "MANUAL TESTING"
      ]
    },
    {
      "cell_type": "code",
      "execution_count": 48,
      "metadata": {},
      "outputs": [
        {
          "name": "stdout",
          "output_type": "stream",
          "text": [
            "The news is Fake [1]\n"
          ]
        }
      ],
      "source": [
        "def manual_logistic_prediction():\n",
        "    # Taking input of any news in form of text\n",
        "    X = input(\"ENTER A NEWS FOR PREDICTION: \")\n",
        "    # Apply stemming to the input text\n",
        "    X_new = stemming(X)\n",
        "\n",
        "    # Vectorize the stemmed textvectorizer.fit(X)\n",
        "    X = vectorizer.transform([X_new])\n",
        "    X = X.toarray()\n",
        "    \n",
        "    # Make the prediction\n",
        "    prediction = log_r.predict(X)\n",
        "    if (prediction==0):\n",
        "     print('The news is Real '+prediction)\n",
        "    else:\n",
        "     print('The news is Fake',prediction)\n",
        "\n",
        "# Example usage\n",
        "manual_logistic_prediction()"
      ]
    }
  ],
  "metadata": {
    "colab": {
      "provenance": []
    },
    "kernelspec": {
      "display_name": "Python 3",
      "name": "python3"
    },
    "language_info": {
      "codemirror_mode": {
        "name": "ipython",
        "version": 3
      },
      "file_extension": ".py",
      "mimetype": "text/x-python",
      "name": "python",
      "nbconvert_exporter": "python",
      "pygments_lexer": "ipython3",
      "version": "3.12.3"
    }
  },
  "nbformat": 4,
  "nbformat_minor": 0
}
